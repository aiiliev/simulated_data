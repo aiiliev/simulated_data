{
  "cells": [
    {
      "metadata": {
        "trusted": true
      },
      "cell_type": "code",
      "source": "!pip install --upgrade pandas",
      "execution_count": 1,
      "outputs": [
        {
          "output_type": "stream",
          "text": "Requirement already up-to-date: pandas in /home/nbuser/anaconda3_420/lib/python3.5/site-packages (0.24.2)\nRequirement already satisfied, skipping upgrade: python-dateutil>=2.5.0 in /home/nbuser/anaconda3_420/lib/python3.5/site-packages (from pandas) (2.7.5)\nRequirement already satisfied, skipping upgrade: numpy>=1.12.0 in /home/nbuser/anaconda3_420/lib/python3.5/site-packages (from pandas) (1.16.3)\nRequirement already satisfied, skipping upgrade: pytz>=2011k in /home/nbuser/anaconda3_420/lib/python3.5/site-packages (from pandas) (2016.6.1)\nRequirement already satisfied, skipping upgrade: six>=1.5 in /home/nbuser/anaconda3_420/lib/python3.5/site-packages (from python-dateutil>=2.5.0->pandas) (1.11.0)\n\u001b[33mWARNING: You are using pip version 19.1, however version 19.1.1 is available.\nYou should consider upgrading via the 'pip install --upgrade pip' command.\u001b[0m\n",
          "name": "stdout"
        }
      ]
    },
    {
      "metadata": {
        "trusted": true
      },
      "cell_type": "code",
      "source": "!pip install pyarrow",
      "execution_count": 2,
      "outputs": [
        {
          "output_type": "stream",
          "text": "Requirement already satisfied: pyarrow in /home/nbuser/anaconda3_420/lib/python3.5/site-packages (0.13.0)\nRequirement already satisfied: numpy>=1.14 in /home/nbuser/anaconda3_420/lib/python3.5/site-packages (from pyarrow) (1.16.3)\nRequirement already satisfied: six>=1.0.0 in /home/nbuser/anaconda3_420/lib/python3.5/site-packages (from pyarrow) (1.11.0)\n\u001b[33mWARNING: You are using pip version 19.1, however version 19.1.1 is available.\nYou should consider upgrading via the 'pip install --upgrade pip' command.\u001b[0m\n",
          "name": "stdout"
        }
      ]
    },
    {
      "metadata": {
        "trusted": true
      },
      "cell_type": "code",
      "source": "import pandas as pd\nimport numpy as np\nfrom numpy import nan as NA\nimport os\nimport gc\nfrom pandas.tseries.offsets import MonthEnd\n\nfrom azure.storage.blob import BlockBlobService\nimport pyarrow.parquet as pq\nfrom io import StringIO\nfrom io import BytesIO",
      "execution_count": 3,
      "outputs": []
    },
    {
      "metadata": {
        "trusted": true
      },
      "cell_type": "code",
      "source": "YearMonth = '2018-06-01'",
      "execution_count": 200,
      "outputs": []
    },
    {
      "metadata": {
        "trusted": true
      },
      "cell_type": "code",
      "source": "#Azure account credentials\nazure_storage_account_name = \"agedatasciencecocstorage\"\nazure_storage_account_key = \"V/FXG+lIWtYc854wbRA8BxGCLGJijS0NDwLvNHfmAxqRopAL3WHWGIQoHxpArG9lZoX+iY+dvtPYoB379w4MIw==\"\n\nif azure_storage_account_name is None or azure_storage_account_key is None:\n    raise Exception(\"You must provide a name and key for an Azure Storage account\")",
      "execution_count": 201,
      "outputs": []
    },
    {
      "metadata": {
        "trusted": true
      },
      "cell_type": "code",
      "source": "# First, we need to connect to our blob via the BlobService\nblob_service = BlockBlobService(azure_storage_account_name, azure_storage_account_key)\n# There are also methods to list containers and blobs\n#containers = blob_service.list_containers()\nblobs = blob_service.list_blobs('banking-dm')",
      "execution_count": 202,
      "outputs": []
    },
    {
      "metadata": {
        "trusted": true
      },
      "cell_type": "code",
      "source": "# List the blobs in the container.\nprint(\"\\nList blobs in the container\")\n#generator = block_blob_service.list_blobs(container_name)\nfor blob in blobs:\n    print(\"\\t Blob name: \" + blob.name)",
      "execution_count": 203,
      "outputs": [
        {
          "output_type": "stream",
          "text": "\nList blobs in the container\n\t Blob name: ailiev/Balances_Master_2018-01-01.parquet.gzip\n\t Blob name: ailiev/Balances_Master_2018-02-01.parquet.gzip\n\t Blob name: ailiev/Balances_Master_2018-03-01.parquet.gzip\n\t Blob name: ailiev/Balances_Master_2018-04-01.parquet.gzip\n\t Blob name: ailiev/Balances_Master_2018-05-01.parquet.gzip\n\t Blob name: ailiev/Balances_Master_2018-06-01.parquet.gzip\n\t Blob name: ailiev/MCIF_2018-01-01.parquet.gzip\n\t Blob name: ailiev/MCIF_2018-02-01.parquet.gzip\n\t Blob name: ailiev/MCIF_2018-03-01.parquet.gzip\n\t Blob name: ailiev/MCIF_2018-04-01.parquet.gzip\n\t Blob name: ailiev/MCIF_2018-05-01.parquet.gzip\n\t Blob name: ailiev/Transactions_Master_2018-01-01.parquet.gzip\n\t Blob name: ailiev/Transactions_Master_2018-02-01.parquet.gzip\n\t Blob name: ailiev/Transactions_Master_2018-03-01.parquet.gzip\n\t Blob name: ailiev/Transactions_Master_2018-04-01.parquet.gzip\n\t Blob name: ailiev/Transactions_Master_2018-05-01.parquet.gzip\n\t Blob name: ailiev/Transactions_Master_2018-06-01.parquet.gzip\n\t Blob name: ailiev/sample.txt\n\t Blob name: data/Customer_economic_sector_lookup.csv\n\t Blob name: data/Customer_information_2018-01-01.parquet.gzip\n\t Blob name: data/Customer_information_2018-02-01.parquet.gzip\n\t Blob name: data/Customer_information_2018-03-01.parquet.gzip\n\t Blob name: data/Customer_information_2018-04-01.parquet.gzip\n\t Blob name: data/Customer_information_2018-05-01.parquet.gzip\n\t Blob name: data/Customer_information_2018-06-01.parquet.gzip\n\t Blob name: data/Monthly_Balance_2018-01-01.parquet.gzip\n\t Blob name: data/Monthly_Balance_2018-02-01.parquet.gzip\n\t Blob name: data/Monthly_Balance_2018-03-01.parquet.gzip\n\t Blob name: data/Monthly_Balance_2018-04-01.parquet.gzip\n\t Blob name: data/Monthly_Balance_2018-05-01.parquet.gzip\n\t Blob name: data/Monthly_Balance_2018-06-01.parquet.gzip\n\t Blob name: data/Ownership_2018-01-01.parquet.gzip\n\t Blob name: data/Ownership_2018-02-01.parquet.gzip\n\t Blob name: data/Ownership_2018-03-01.parquet.gzip\n\t Blob name: data/Ownership_2018-04-01.parquet.gzip\n\t Blob name: data/Ownership_2018-05-01.parquet.gzip\n\t Blob name: data/Ownership_2018-06-01.parquet.gzip\n\t Blob name: data/Product_lookup.csv\n\t Blob name: data/Transactions_2018-01-01.parquet.gzip\n\t Blob name: data/Transactions_2018-02-01.parquet.gzip\n\t Blob name: data/Transactions_2018-03-01.parquet.gzip\n\t Blob name: data/Transactions_2018-04-01.parquet.gzip\n\t Blob name: data/Transactions_2018-05-01.parquet.gzip\n\t Blob name: data/Transactions_2018-06-01.parquet.gzip\n\t Blob name: data/transaction_codes_lookup.csv\n\t Blob name: testdata/Loans2015.csv\n\t Blob name: testdata/Loans2015.parquet.gzip\n",
          "name": "stdout"
        }
      ]
    },
    {
      "metadata": {},
      "cell_type": "markdown",
      "source": "### Read Demographic Data"
    },
    {
      "metadata": {
        "trusted": true
      },
      "cell_type": "code",
      "source": "container_name = \"banking-dm\"\nblob_name_parquet = 'data/Customer_information_' + YearMonth + '.parquet.gzip'\nblob_name = 'data/Customer_economic_sector_lookup.csv'",
      "execution_count": 204,
      "outputs": []
    },
    {
      "metadata": {
        "trusted": true
      },
      "cell_type": "code",
      "source": "byte_stream = BytesIO()\ntry:\n   blob_service.get_blob_to_stream(container_name=container_name, blob_name=blob_name_parquet, stream=byte_stream)\n   cust_info = pq.read_table(source=byte_stream).to_pandas()\n   # Do work on df ...\nfinally:\n   # Add finally block to ensure closure of the stream\n   byte_stream.close()",
      "execution_count": 205,
      "outputs": []
    },
    {
      "metadata": {
        "trusted": true
      },
      "cell_type": "code",
      "source": "cust_info.head()",
      "execution_count": 206,
      "outputs": [
        {
          "output_type": "execute_result",
          "execution_count": 206,
          "data": {
            "text/html": "<div>\n<style scoped>\n    .dataframe tbody tr th:only-of-type {\n        vertical-align: middle;\n    }\n\n    .dataframe tbody tr th {\n        vertical-align: top;\n    }\n\n    .dataframe thead th {\n        text-align: right;\n    }\n</style>\n<table border=\"1\" class=\"dataframe\">\n  <thead>\n    <tr style=\"text-align: right;\">\n      <th></th>\n      <th>Customer_ID</th>\n      <th>YearMonth</th>\n      <th>Birth_date</th>\n      <th>Customer_type</th>\n      <th>Customer_category</th>\n      <th>Gender</th>\n      <th>Marital_Status</th>\n      <th>Company_age</th>\n      <th>Customer_economic_sector</th>\n      <th>Customer_economic_branch</th>\n    </tr>\n  </thead>\n  <tbody>\n    <tr>\n      <th>0</th>\n      <td>1</td>\n      <td>2018-06-01</td>\n      <td>1971-09-10</td>\n      <td>Individual</td>\n      <td>None</td>\n      <td>F</td>\n      <td>Divorced</td>\n      <td>None</td>\n      <td>ECO03</td>\n      <td>BR160</td>\n    </tr>\n    <tr>\n      <th>1</th>\n      <td>2</td>\n      <td>2018-06-01</td>\n      <td>1974-12-01</td>\n      <td>Professional</td>\n      <td>None</td>\n      <td>M</td>\n      <td>Married</td>\n      <td>None</td>\n      <td>ECO06</td>\n      <td>BR09</td>\n    </tr>\n    <tr>\n      <th>2</th>\n      <td>3</td>\n      <td>2018-06-01</td>\n      <td>1992-05-21</td>\n      <td>Individual</td>\n      <td>None</td>\n      <td>M</td>\n      <td>Married</td>\n      <td>None</td>\n      <td>ECO13</td>\n      <td>BR145</td>\n    </tr>\n    <tr>\n      <th>3</th>\n      <td>4</td>\n      <td>2018-06-01</td>\n      <td>None</td>\n      <td>Small Business</td>\n      <td>Retail</td>\n      <td>None</td>\n      <td>None</td>\n      <td>1977-11-08</td>\n      <td>ECO08</td>\n      <td>BR14</td>\n    </tr>\n    <tr>\n      <th>4</th>\n      <td>5</td>\n      <td>2018-06-01</td>\n      <td>1978-06-05</td>\n      <td>Individual</td>\n      <td>None</td>\n      <td>M</td>\n      <td>Single</td>\n      <td>None</td>\n      <td>ECO02</td>\n      <td>BR171</td>\n    </tr>\n  </tbody>\n</table>\n</div>",
            "text/plain": "   Customer_ID   YearMonth  Birth_date   Customer_type Customer_category  \\\n0            1  2018-06-01  1971-09-10      Individual              None   \n1            2  2018-06-01  1974-12-01    Professional              None   \n2            3  2018-06-01  1992-05-21      Individual              None   \n3            4  2018-06-01        None  Small Business            Retail   \n4            5  2018-06-01  1978-06-05      Individual              None   \n\n  Gender Marital_Status Company_age Customer_economic_sector  \\\n0      F       Divorced        None                    ECO03   \n1      M        Married        None                    ECO06   \n2      M        Married        None                    ECO13   \n3   None           None  1977-11-08                    ECO08   \n4      M         Single        None                    ECO02   \n\n  Customer_economic_branch  \n0                    BR160  \n1                     BR09  \n2                    BR145  \n3                     BR14  \n4                    BR171  "
          },
          "metadata": {}
        }
      ]
    },
    {
      "metadata": {
        "trusted": true
      },
      "cell_type": "code",
      "source": "cust_info.shape",
      "execution_count": 207,
      "outputs": [
        {
          "output_type": "execute_result",
          "execution_count": 207,
          "data": {
            "text/plain": "(100733, 10)"
          },
          "metadata": {}
        }
      ]
    },
    {
      "metadata": {
        "trusted": true
      },
      "cell_type": "code",
      "source": "pd.value_counts(cust_info['Gender'], dropna=False)",
      "execution_count": 208,
      "outputs": [
        {
          "output_type": "execute_result",
          "execution_count": 208,
          "data": {
            "text/plain": "M      44343\nF      40900\nNaN    15490\nName: Gender, dtype: int64"
          },
          "metadata": {}
        }
      ]
    },
    {
      "metadata": {
        "trusted": true
      },
      "cell_type": "code",
      "source": "#read csv file\nblobstring = blob_service.get_blob_to_text(container_name, blob_name).content\neco_sector = pd.read_csv(StringIO(blobstring), header=0, sep=';')",
      "execution_count": 209,
      "outputs": []
    },
    {
      "metadata": {
        "trusted": true
      },
      "cell_type": "code",
      "source": "demographics = cust_info.merge(eco_sector, how='left', left_on='Customer_economic_sector', right_on='Customer_economic_sector_code')",
      "execution_count": 210,
      "outputs": []
    },
    {
      "metadata": {
        "trusted": true
      },
      "cell_type": "code",
      "source": "del demographics['Customer_economic_sector']\ndel demographics['Customer_economic_sector_code']",
      "execution_count": 211,
      "outputs": []
    },
    {
      "metadata": {
        "trusted": true
      },
      "cell_type": "code",
      "source": "demographics['YearMonth'] = pd.to_datetime(demographics['YearMonth'], format=\"%Y-%m-%d\")  + MonthEnd(0)\ndemographics['Birth_date'] = pd.to_datetime(demographics['Birth_date'])\ndemographics['Company_age'] = pd.to_datetime(demographics['Company_age'])",
      "execution_count": 212,
      "outputs": []
    },
    {
      "metadata": {
        "trusted": true
      },
      "cell_type": "code",
      "source": "demographics['Age_Months'] = np.where(pd.notnull(demographics['Birth_date']), \n                         (demographics['YearMonth'] - demographics['Birth_date'])/np.timedelta64(1,'M'),\n                        (demographics['YearMonth'] - demographics['Company_age'])/np.timedelta64(1,'M'))",
      "execution_count": 213,
      "outputs": []
    },
    {
      "metadata": {
        "trusted": true
      },
      "cell_type": "code",
      "source": "demographics['Age_Months'] = demographics['Age_Months'].astype('int')",
      "execution_count": 214,
      "outputs": []
    },
    {
      "metadata": {
        "trusted": true
      },
      "cell_type": "code",
      "source": "del demographics['Birth_date']\ndel demographics['Company_age']\ndel demographics['YearMonth']\ndemographics['YearMonth'] = YearMonth",
      "execution_count": 215,
      "outputs": []
    },
    {
      "metadata": {
        "trusted": true
      },
      "cell_type": "code",
      "source": "demographics = demographics[['YearMonth', 'Customer_ID', 'Customer_type', 'Customer_category', 'Gender',\n       'Marital_Status', 'Customer_economic_branch', 'Sector', 'Age_Months']]",
      "execution_count": 216,
      "outputs": []
    },
    {
      "metadata": {
        "trusted": true
      },
      "cell_type": "code",
      "source": "demographics.columns = ['YearMonth', 'Customer_ID', 'CUSTOMER_TYPE', 'CUSTOMER_CATEGORY', 'GENDER',\n       'MARITAL_STATUS', 'CUSTOMER_ECO_BRANCH', 'SECTOR', 'AGE_MONTHS']",
      "execution_count": 217,
      "outputs": []
    },
    {
      "metadata": {
        "trusted": true
      },
      "cell_type": "code",
      "source": "demographics.head()",
      "execution_count": 218,
      "outputs": [
        {
          "output_type": "execute_result",
          "execution_count": 218,
          "data": {
            "text/html": "<div>\n<style scoped>\n    .dataframe tbody tr th:only-of-type {\n        vertical-align: middle;\n    }\n\n    .dataframe tbody tr th {\n        vertical-align: top;\n    }\n\n    .dataframe thead th {\n        text-align: right;\n    }\n</style>\n<table border=\"1\" class=\"dataframe\">\n  <thead>\n    <tr style=\"text-align: right;\">\n      <th></th>\n      <th>YearMonth</th>\n      <th>Customer_ID</th>\n      <th>CUSTOMER_TYPE</th>\n      <th>CUSTOMER_CATEGORY</th>\n      <th>GENDER</th>\n      <th>MARITAL_STATUS</th>\n      <th>CUSTOMER_ECO_BRANCH</th>\n      <th>SECTOR</th>\n      <th>AGE_MONTHS</th>\n    </tr>\n  </thead>\n  <tbody>\n    <tr>\n      <th>0</th>\n      <td>2018-06-01</td>\n      <td>1</td>\n      <td>Individual</td>\n      <td>None</td>\n      <td>F</td>\n      <td>Divorced</td>\n      <td>BR160</td>\n      <td>Arts and Communications</td>\n      <td>561</td>\n    </tr>\n    <tr>\n      <th>1</th>\n      <td>2018-06-01</td>\n      <td>2</td>\n      <td>Professional</td>\n      <td>None</td>\n      <td>M</td>\n      <td>Married</td>\n      <td>BR09</td>\n      <td>Finance</td>\n      <td>522</td>\n    </tr>\n    <tr>\n      <th>2</th>\n      <td>2018-06-01</td>\n      <td>3</td>\n      <td>Individual</td>\n      <td>None</td>\n      <td>M</td>\n      <td>Married</td>\n      <td>BR145</td>\n      <td>Manufacturing</td>\n      <td>313</td>\n    </tr>\n    <tr>\n      <th>3</th>\n      <td>2018-06-01</td>\n      <td>4</td>\n      <td>Small Business</td>\n      <td>Retail</td>\n      <td>None</td>\n      <td>None</td>\n      <td>BR14</td>\n      <td>Health and Science</td>\n      <td>487</td>\n    </tr>\n    <tr>\n      <th>4</th>\n      <td>2018-06-01</td>\n      <td>5</td>\n      <td>Individual</td>\n      <td>None</td>\n      <td>M</td>\n      <td>Single</td>\n      <td>BR171</td>\n      <td>Agriculture and Food</td>\n      <td>480</td>\n    </tr>\n  </tbody>\n</table>\n</div>",
            "text/plain": "    YearMonth  Customer_ID   CUSTOMER_TYPE CUSTOMER_CATEGORY GENDER  \\\n0  2018-06-01            1      Individual              None      F   \n1  2018-06-01            2    Professional              None      M   \n2  2018-06-01            3      Individual              None      M   \n3  2018-06-01            4  Small Business            Retail   None   \n4  2018-06-01            5      Individual              None      M   \n\n  MARITAL_STATUS CUSTOMER_ECO_BRANCH                   SECTOR  AGE_MONTHS  \n0       Divorced               BR160  Arts and Communications         561  \n1        Married                BR09                  Finance         522  \n2        Married               BR145            Manufacturing         313  \n3           None                BR14       Health and Science         487  \n4         Single               BR171     Agriculture and Food         480  "
          },
          "metadata": {}
        }
      ]
    },
    {
      "metadata": {},
      "cell_type": "markdown",
      "source": "### Read Balances Data"
    },
    {
      "metadata": {
        "trusted": true
      },
      "cell_type": "code",
      "source": "blob_name_parquet_bm = 'ailiev/Balances_Master_' + YearMonth + '.parquet.gzip'",
      "execution_count": 219,
      "outputs": []
    },
    {
      "metadata": {
        "trusted": true
      },
      "cell_type": "code",
      "source": "byte_stream = BytesIO()\ntry:\n   blob_service.get_blob_to_stream(container_name=container_name, blob_name=blob_name_parquet_bm, stream=byte_stream)\n   bal_master = pq.read_table(source=byte_stream).to_pandas()\n   # Do work on df ...\nfinally:\n   # Add finally block to ensure closure of the stream\n   byte_stream.close()",
      "execution_count": 220,
      "outputs": []
    },
    {
      "metadata": {
        "trusted": true
      },
      "cell_type": "code",
      "source": "mcif = demographics.merge(bal_master, how='left', on=[ 'YearMonth', 'Customer_ID'])",
      "execution_count": 221,
      "outputs": []
    },
    {
      "metadata": {
        "trusted": true
      },
      "cell_type": "code",
      "source": "mcif.head()",
      "execution_count": 222,
      "outputs": [
        {
          "output_type": "execute_result",
          "execution_count": 222,
          "data": {
            "text/html": "<div>\n<style scoped>\n    .dataframe tbody tr th:only-of-type {\n        vertical-align: middle;\n    }\n\n    .dataframe tbody tr th {\n        vertical-align: top;\n    }\n\n    .dataframe thead th {\n        text-align: right;\n    }\n</style>\n<table border=\"1\" class=\"dataframe\">\n  <thead>\n    <tr style=\"text-align: right;\">\n      <th></th>\n      <th>YearMonth</th>\n      <th>Customer_ID</th>\n      <th>CUSTOMER_TYPE</th>\n      <th>CUSTOMER_CATEGORY</th>\n      <th>GENDER</th>\n      <th>MARITAL_STATUS</th>\n      <th>CUSTOMER_ECO_BRANCH</th>\n      <th>SECTOR</th>\n      <th>AGE_MONTHS</th>\n      <th>CNT_AL_PROMOTION</th>\n      <th>...</th>\n      <th>PCT_VISA_PLATINUM_CNT</th>\n      <th>PCT_NEW_HOUSE_CNT</th>\n      <th>PCT_RENOVATION_CNT</th>\n      <th>PCT_OVD_CNT</th>\n      <th>PCT_PL_F_NON_SEC_CNT</th>\n      <th>PCT_PL_F_SEC_CNT</th>\n      <th>PCT_PL_V_CNT</th>\n      <th>PCT_SA_CNT</th>\n      <th>PCT_TD_LT_CNT</th>\n      <th>PCT_TD_ST_CNT</th>\n    </tr>\n  </thead>\n  <tbody>\n    <tr>\n      <th>0</th>\n      <td>2018-06-01</td>\n      <td>1</td>\n      <td>Individual</td>\n      <td>None</td>\n      <td>F</td>\n      <td>Divorced</td>\n      <td>BR160</td>\n      <td>Arts and Communications</td>\n      <td>561</td>\n      <td>NaN</td>\n      <td>...</td>\n      <td>NaN</td>\n      <td>NaN</td>\n      <td>NaN</td>\n      <td>0.50</td>\n      <td>NaN</td>\n      <td>NaN</td>\n      <td>NaN</td>\n      <td>NaN</td>\n      <td>NaN</td>\n      <td>NaN</td>\n    </tr>\n    <tr>\n      <th>1</th>\n      <td>2018-06-01</td>\n      <td>2</td>\n      <td>Professional</td>\n      <td>None</td>\n      <td>M</td>\n      <td>Married</td>\n      <td>BR09</td>\n      <td>Finance</td>\n      <td>522</td>\n      <td>NaN</td>\n      <td>...</td>\n      <td>NaN</td>\n      <td>NaN</td>\n      <td>NaN</td>\n      <td>NaN</td>\n      <td>NaN</td>\n      <td>NaN</td>\n      <td>NaN</td>\n      <td>NaN</td>\n      <td>NaN</td>\n      <td>NaN</td>\n    </tr>\n    <tr>\n      <th>2</th>\n      <td>2018-06-01</td>\n      <td>3</td>\n      <td>Individual</td>\n      <td>None</td>\n      <td>M</td>\n      <td>Married</td>\n      <td>BR145</td>\n      <td>Manufacturing</td>\n      <td>313</td>\n      <td>NaN</td>\n      <td>...</td>\n      <td>NaN</td>\n      <td>NaN</td>\n      <td>NaN</td>\n      <td>NaN</td>\n      <td>NaN</td>\n      <td>NaN</td>\n      <td>NaN</td>\n      <td>NaN</td>\n      <td>NaN</td>\n      <td>NaN</td>\n    </tr>\n    <tr>\n      <th>3</th>\n      <td>2018-06-01</td>\n      <td>4</td>\n      <td>Small Business</td>\n      <td>Retail</td>\n      <td>None</td>\n      <td>None</td>\n      <td>BR14</td>\n      <td>Health and Science</td>\n      <td>487</td>\n      <td>NaN</td>\n      <td>...</td>\n      <td>NaN</td>\n      <td>NaN</td>\n      <td>NaN</td>\n      <td>0.25</td>\n      <td>NaN</td>\n      <td>NaN</td>\n      <td>NaN</td>\n      <td>NaN</td>\n      <td>NaN</td>\n      <td>NaN</td>\n    </tr>\n    <tr>\n      <th>4</th>\n      <td>2018-06-01</td>\n      <td>5</td>\n      <td>Individual</td>\n      <td>None</td>\n      <td>M</td>\n      <td>Single</td>\n      <td>BR171</td>\n      <td>Agriculture and Food</td>\n      <td>480</td>\n      <td>NaN</td>\n      <td>...</td>\n      <td>NaN</td>\n      <td>NaN</td>\n      <td>NaN</td>\n      <td>NaN</td>\n      <td>NaN</td>\n      <td>NaN</td>\n      <td>NaN</td>\n      <td>NaN</td>\n      <td>NaN</td>\n      <td>NaN</td>\n    </tr>\n  </tbody>\n</table>\n<p>5 rows × 207 columns</p>\n</div>",
            "text/plain": "    YearMonth  Customer_ID   CUSTOMER_TYPE CUSTOMER_CATEGORY GENDER  \\\n0  2018-06-01            1      Individual              None      F   \n1  2018-06-01            2    Professional              None      M   \n2  2018-06-01            3      Individual              None      M   \n3  2018-06-01            4  Small Business            Retail   None   \n4  2018-06-01            5      Individual              None      M   \n\n  MARITAL_STATUS CUSTOMER_ECO_BRANCH                   SECTOR  AGE_MONTHS  \\\n0       Divorced               BR160  Arts and Communications         561   \n1        Married                BR09                  Finance         522   \n2        Married               BR145            Manufacturing         313   \n3           None                BR14       Health and Science         487   \n4         Single               BR171     Agriculture and Food         480   \n\n   CNT_AL_PROMOTION  ...  PCT_VISA_PLATINUM_CNT  PCT_NEW_HOUSE_CNT  \\\n0               NaN  ...                    NaN                NaN   \n1               NaN  ...                    NaN                NaN   \n2               NaN  ...                    NaN                NaN   \n3               NaN  ...                    NaN                NaN   \n4               NaN  ...                    NaN                NaN   \n\n   PCT_RENOVATION_CNT  PCT_OVD_CNT  PCT_PL_F_NON_SEC_CNT  PCT_PL_F_SEC_CNT  \\\n0                 NaN         0.50                   NaN               NaN   \n1                 NaN          NaN                   NaN               NaN   \n2                 NaN          NaN                   NaN               NaN   \n3                 NaN         0.25                   NaN               NaN   \n4                 NaN          NaN                   NaN               NaN   \n\n   PCT_PL_V_CNT  PCT_SA_CNT  PCT_TD_LT_CNT  PCT_TD_ST_CNT  \n0           NaN         NaN            NaN            NaN  \n1           NaN         NaN            NaN            NaN  \n2           NaN         NaN            NaN            NaN  \n3           NaN         NaN            NaN            NaN  \n4           NaN         NaN            NaN            NaN  \n\n[5 rows x 207 columns]"
          },
          "metadata": {}
        }
      ]
    },
    {
      "metadata": {
        "trusted": true
      },
      "cell_type": "code",
      "source": "del demographics, bal_master\ngc.collect()",
      "execution_count": 223,
      "outputs": [
        {
          "output_type": "execute_result",
          "execution_count": 223,
          "data": {
            "text/plain": "59"
          },
          "metadata": {}
        }
      ]
    },
    {
      "metadata": {},
      "cell_type": "markdown",
      "source": "### Read Transactions Data"
    },
    {
      "metadata": {
        "trusted": true
      },
      "cell_type": "code",
      "source": "blob_name_parquet_tr = 'ailiev/Transactions_Master_' + YearMonth + '.parquet.gzip'",
      "execution_count": 224,
      "outputs": []
    },
    {
      "metadata": {
        "trusted": true
      },
      "cell_type": "code",
      "source": "byte_stream = BytesIO()\ntry:\n   blob_service.get_blob_to_stream(container_name=container_name, blob_name=blob_name_parquet_tr, stream=byte_stream)\n   transactions_master = pq.read_table(source=byte_stream).to_pandas()\n   # Do work on df ...\nfinally:\n   # Add finally block to ensure closure of the stream\n   byte_stream.close()",
      "execution_count": 225,
      "outputs": []
    },
    {
      "metadata": {
        "trusted": true
      },
      "cell_type": "code",
      "source": "mcif = mcif.merge(transactions_master, how='left', on=[ 'YearMonth', 'Customer_ID'])",
      "execution_count": 226,
      "outputs": []
    },
    {
      "metadata": {
        "trusted": true
      },
      "cell_type": "code",
      "source": "mcif.head()",
      "execution_count": 227,
      "outputs": [
        {
          "output_type": "execute_result",
          "execution_count": 227,
          "data": {
            "text/html": "<div>\n<style scoped>\n    .dataframe tbody tr th:only-of-type {\n        vertical-align: middle;\n    }\n\n    .dataframe tbody tr th {\n        vertical-align: top;\n    }\n\n    .dataframe thead th {\n        text-align: right;\n    }\n</style>\n<table border=\"1\" class=\"dataframe\">\n  <thead>\n    <tr style=\"text-align: right;\">\n      <th></th>\n      <th>YearMonth</th>\n      <th>Customer_ID</th>\n      <th>CUSTOMER_TYPE</th>\n      <th>CUSTOMER_CATEGORY</th>\n      <th>GENDER</th>\n      <th>MARITAL_STATUS</th>\n      <th>CUSTOMER_ECO_BRANCH</th>\n      <th>SECTOR</th>\n      <th>AGE_MONTHS</th>\n      <th>CNT_AL_PROMOTION</th>\n      <th>...</th>\n      <th>PCT_TNAM_DT</th>\n      <th>PCT_NUTN_CC</th>\n      <th>PCT_NUTN_DC</th>\n      <th>PCT_NUTN_LD</th>\n      <th>PCT_TNAM_CC</th>\n      <th>PCT_TNAM_DC</th>\n      <th>PCT_TNAM_LD</th>\n      <th>PCT_DAYS_TR_CC</th>\n      <th>PCT_DAYS_TR_DC</th>\n      <th>PCT_DAYS_TR_LD</th>\n    </tr>\n  </thead>\n  <tbody>\n    <tr>\n      <th>0</th>\n      <td>2018-06-01</td>\n      <td>1</td>\n      <td>Individual</td>\n      <td>None</td>\n      <td>F</td>\n      <td>Divorced</td>\n      <td>BR160</td>\n      <td>Arts and Communications</td>\n      <td>561</td>\n      <td>NaN</td>\n      <td>...</td>\n      <td>NaN</td>\n      <td>NaN</td>\n      <td>NaN</td>\n      <td>NaN</td>\n      <td>NaN</td>\n      <td>NaN</td>\n      <td>NaN</td>\n      <td>NaN</td>\n      <td>NaN</td>\n      <td>NaN</td>\n    </tr>\n    <tr>\n      <th>1</th>\n      <td>2018-06-01</td>\n      <td>2</td>\n      <td>Professional</td>\n      <td>None</td>\n      <td>M</td>\n      <td>Married</td>\n      <td>BR09</td>\n      <td>Finance</td>\n      <td>522</td>\n      <td>NaN</td>\n      <td>...</td>\n      <td>NaN</td>\n      <td>NaN</td>\n      <td>1.000000</td>\n      <td>NaN</td>\n      <td>NaN</td>\n      <td>NaN</td>\n      <td>NaN</td>\n      <td>NaN</td>\n      <td>1.0</td>\n      <td>NaN</td>\n    </tr>\n    <tr>\n      <th>2</th>\n      <td>2018-06-01</td>\n      <td>3</td>\n      <td>Individual</td>\n      <td>None</td>\n      <td>M</td>\n      <td>Married</td>\n      <td>BR145</td>\n      <td>Manufacturing</td>\n      <td>313</td>\n      <td>NaN</td>\n      <td>...</td>\n      <td>0.950897</td>\n      <td>NaN</td>\n      <td>0.393939</td>\n      <td>0.606061</td>\n      <td>NaN</td>\n      <td>0.210289</td>\n      <td>0.789711</td>\n      <td>NaN</td>\n      <td>0.5</td>\n      <td>0.700000</td>\n    </tr>\n    <tr>\n      <th>3</th>\n      <td>2018-06-01</td>\n      <td>4</td>\n      <td>Small Business</td>\n      <td>Retail</td>\n      <td>None</td>\n      <td>None</td>\n      <td>BR14</td>\n      <td>Health and Science</td>\n      <td>487</td>\n      <td>NaN</td>\n      <td>...</td>\n      <td>0.711657</td>\n      <td>0.954545</td>\n      <td>NaN</td>\n      <td>0.045455</td>\n      <td>0.711657</td>\n      <td>NaN</td>\n      <td>0.288343</td>\n      <td>0.956522</td>\n      <td>NaN</td>\n      <td>0.086957</td>\n    </tr>\n    <tr>\n      <th>4</th>\n      <td>2018-06-01</td>\n      <td>5</td>\n      <td>Individual</td>\n      <td>None</td>\n      <td>M</td>\n      <td>Single</td>\n      <td>BR171</td>\n      <td>Agriculture and Food</td>\n      <td>480</td>\n      <td>NaN</td>\n      <td>...</td>\n      <td>0.788336</td>\n      <td>0.928571</td>\n      <td>NaN</td>\n      <td>0.071429</td>\n      <td>0.788336</td>\n      <td>NaN</td>\n      <td>0.211664</td>\n      <td>0.944444</td>\n      <td>NaN</td>\n      <td>0.111111</td>\n    </tr>\n  </tbody>\n</table>\n<p>5 rows × 278 columns</p>\n</div>",
            "text/plain": "    YearMonth  Customer_ID   CUSTOMER_TYPE CUSTOMER_CATEGORY GENDER  \\\n0  2018-06-01            1      Individual              None      F   \n1  2018-06-01            2    Professional              None      M   \n2  2018-06-01            3      Individual              None      M   \n3  2018-06-01            4  Small Business            Retail   None   \n4  2018-06-01            5      Individual              None      M   \n\n  MARITAL_STATUS CUSTOMER_ECO_BRANCH                   SECTOR  AGE_MONTHS  \\\n0       Divorced               BR160  Arts and Communications         561   \n1        Married                BR09                  Finance         522   \n2        Married               BR145            Manufacturing         313   \n3           None                BR14       Health and Science         487   \n4         Single               BR171     Agriculture and Food         480   \n\n   CNT_AL_PROMOTION  ...  PCT_TNAM_DT  PCT_NUTN_CC  PCT_NUTN_DC  PCT_NUTN_LD  \\\n0               NaN  ...          NaN          NaN          NaN          NaN   \n1               NaN  ...          NaN          NaN     1.000000          NaN   \n2               NaN  ...     0.950897          NaN     0.393939     0.606061   \n3               NaN  ...     0.711657     0.954545          NaN     0.045455   \n4               NaN  ...     0.788336     0.928571          NaN     0.071429   \n\n   PCT_TNAM_CC  PCT_TNAM_DC  PCT_TNAM_LD  PCT_DAYS_TR_CC  PCT_DAYS_TR_DC  \\\n0          NaN          NaN          NaN             NaN             NaN   \n1          NaN          NaN          NaN             NaN             1.0   \n2          NaN     0.210289     0.789711             NaN             0.5   \n3     0.711657          NaN     0.288343        0.956522             NaN   \n4     0.788336          NaN     0.211664        0.944444             NaN   \n\n   PCT_DAYS_TR_LD  \n0             NaN  \n1             NaN  \n2        0.700000  \n3        0.086957  \n4        0.111111  \n\n[5 rows x 278 columns]"
          },
          "metadata": {}
        }
      ]
    },
    {
      "metadata": {
        "trusted": true
      },
      "cell_type": "code",
      "source": "def write_pandas_dataframe_to_blob(blob_service, df, container_name, blob_name):\n    \"\"\" Write Pandas dataframe to blob storage \"\"\"\n    buffer = BytesIO()\n    df.to_parquet(buffer)\n    blob_service.create_blob_from_bytes(\n        container_name=container_name, blob_name=blob_name, blob=buffer.getvalue()\n    )",
      "execution_count": 228,
      "outputs": []
    },
    {
      "metadata": {
        "trusted": true
      },
      "cell_type": "code",
      "source": "write_to_blob_parquet = 'ailiev/MCIF_' + YearMonth + '.parquet.gzip'",
      "execution_count": 229,
      "outputs": []
    },
    {
      "metadata": {
        "trusted": true
      },
      "cell_type": "code",
      "source": "# Write to blob using pyarrow\nwrite_pandas_dataframe_to_blob(blob_service, mcif, 'banking-dm', write_to_blob_parquet)",
      "execution_count": 230,
      "outputs": []
    },
    {
      "metadata": {
        "trusted": true
      },
      "cell_type": "code",
      "source": "del transactions_master, mcif\ngc.collect()",
      "execution_count": 231,
      "outputs": [
        {
          "output_type": "execute_result",
          "execution_count": 231,
          "data": {
            "text/plain": "16"
          },
          "metadata": {}
        }
      ]
    },
    {
      "metadata": {
        "trusted": true
      },
      "cell_type": "code",
      "source": "",
      "execution_count": null,
      "outputs": []
    }
  ],
  "metadata": {
    "kernelspec": {
      "name": "python3",
      "display_name": "Python 3",
      "language": "python"
    },
    "language_info": {
      "mimetype": "text/x-python",
      "nbconvert_exporter": "python",
      "name": "python",
      "pygments_lexer": "ipython3",
      "version": "3.5.4",
      "file_extension": ".py",
      "codemirror_mode": {
        "version": 3,
        "name": "ipython"
      }
    }
  },
  "nbformat": 4,
  "nbformat_minor": 2
}