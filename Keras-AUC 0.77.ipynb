{
  "cells": [
    {
      "metadata": {
        "trusted": true
      },
      "cell_type": "code",
      "source": "# !pip install --upgrade pandas",
      "execution_count": 1,
      "outputs": []
    },
    {
      "metadata": {
        "trusted": true
      },
      "cell_type": "code",
      "source": "!pip install pyarrow",
      "execution_count": 2,
      "outputs": [
        {
          "output_type": "stream",
          "text": "Requirement already satisfied: pyarrow in /home/nbuser/anaconda3_501/lib/python3.6/site-packages (0.13.0)\nRequirement already satisfied: six>=1.0.0 in /home/nbuser/anaconda3_501/lib/python3.6/site-packages (from pyarrow) (1.11.0)\nRequirement already satisfied: numpy>=1.14 in /home/nbuser/anaconda3_501/lib/python3.6/site-packages (from pyarrow) (1.16.2)\n\u001b[33mWARNING: You are using pip version 19.2.2, however version 19.2.3 is available.\nYou should consider upgrading via the 'pip install --upgrade pip' command.\u001b[0m\n",
          "name": "stdout"
        }
      ]
    },
    {
      "metadata": {
        "trusted": true
      },
      "cell_type": "code",
      "source": "!pip install scikit-plot",
      "execution_count": 3,
      "outputs": [
        {
          "output_type": "stream",
          "text": "Collecting scikit-plot\n  Downloading https://files.pythonhosted.org/packages/7c/47/32520e259340c140a4ad27c1b97050dd3254fdc517b1d59974d47037510e/scikit_plot-0.3.7-py3-none-any.whl\nRequirement already satisfied: scipy>=0.9 in /home/nbuser/anaconda3_501/lib/python3.6/site-packages (from scikit-plot) (1.1.0)\nRequirement already satisfied: matplotlib>=1.4.0 in /home/nbuser/anaconda3_501/lib/python3.6/site-packages (from scikit-plot) (3.0.0)\nRequirement already satisfied: scikit-learn>=0.18 in /home/nbuser/anaconda3_501/lib/python3.6/site-packages (from scikit-plot) (0.20.3)\nRequirement already satisfied: joblib>=0.10 in /home/nbuser/anaconda3_501/lib/python3.6/site-packages (from scikit-plot) (0.13.2)\nRequirement already satisfied: numpy>=1.10.0 in /home/nbuser/anaconda3_501/lib/python3.6/site-packages (from matplotlib>=1.4.0->scikit-plot) (1.16.2)\nRequirement already satisfied: cycler>=0.10 in /home/nbuser/anaconda3_501/lib/python3.6/site-packages (from matplotlib>=1.4.0->scikit-plot) (0.10.0)\nRequirement already satisfied: kiwisolver>=1.0.1 in /home/nbuser/anaconda3_501/lib/python3.6/site-packages (from matplotlib>=1.4.0->scikit-plot) (1.0.1)\nRequirement already satisfied: pyparsing!=2.0.4,!=2.1.2,!=2.1.6,>=2.0.1 in /home/nbuser/anaconda3_501/lib/python3.6/site-packages (from matplotlib>=1.4.0->scikit-plot) (2.3.0)\nRequirement already satisfied: python-dateutil>=2.1 in /home/nbuser/anaconda3_501/lib/python3.6/site-packages (from matplotlib>=1.4.0->scikit-plot) (2.8.0)\nRequirement already satisfied: six in /home/nbuser/anaconda3_501/lib/python3.6/site-packages (from cycler>=0.10->matplotlib>=1.4.0->scikit-plot) (1.11.0)\nRequirement already satisfied: setuptools in /home/nbuser/anaconda3_501/lib/python3.6/site-packages (from kiwisolver>=1.0.1->matplotlib>=1.4.0->scikit-plot) (41.1.0)\nInstalling collected packages: scikit-plot\nSuccessfully installed scikit-plot-0.3.7\n\u001b[33mWARNING: You are using pip version 19.2.2, however version 19.2.3 is available.\nYou should consider upgrading via the 'pip install --upgrade pip' command.\u001b[0m\n",
          "name": "stdout"
        }
      ]
    },
    {
      "metadata": {
        "trusted": true
      },
      "cell_type": "code",
      "source": "import pandas as pd\nimport numpy as np\n#from numpy import nan as NA\nimport os\nimport gc\nfrom sklearn.model_selection import train_test_split\n#from sklearn.tree import DecisionTreeClassifier\nfrom sklearn.linear_model import LogisticRegression\nfrom sklearn import metrics\nimport matplotlib.pyplot as plt\n\nfrom azure.storage.blob import BlockBlobService\nimport pyarrow.parquet as pq\nfrom io import StringIO\nfrom io import BytesIO\n\n%matplotlib inline",
      "execution_count": 4,
      "outputs": []
    },
    {
      "metadata": {
        "trusted": true
      },
      "cell_type": "code",
      "source": "#!pip install Keras",
      "execution_count": 5,
      "outputs": []
    },
    {
      "metadata": {
        "trusted": true
      },
      "cell_type": "code",
      "source": "from keras.models import Sequential\nfrom keras.layers import Dense, Dropout, Activation\n#ModelCheckpoint",
      "execution_count": 6,
      "outputs": [
        {
          "output_type": "stream",
          "text": "Using TensorFlow backend.\n",
          "name": "stderr"
        }
      ]
    },
    {
      "metadata": {
        "trusted": true
      },
      "cell_type": "code",
      "source": "import scikitplot as skplt",
      "execution_count": 7,
      "outputs": []
    },
    {
      "metadata": {
        "trusted": true
      },
      "cell_type": "code",
      "source": "#Azure account credentials\nazure_storage_account_name = \"agedatasciencecocstorage\"\nazure_storage_account_key = \"V/FXG+lIWtYc854wbRA8BxGCLGJijS0NDwLvNHfmAxqRopAL3WHWGIQoHxpArG9lZoX+iY+dvtPYoB379w4MIw==\"\n\nif azure_storage_account_name is None or azure_storage_account_key is None:\n    raise Exception(\"You must provide a name and key for an Azure Storage account\")",
      "execution_count": 8,
      "outputs": []
    },
    {
      "metadata": {
        "trusted": true
      },
      "cell_type": "code",
      "source": "# First, we need to connect to our blob via the BlobService\nblob_service = BlockBlobService(azure_storage_account_name, azure_storage_account_key)\n# There are also methods to list containers and blobs\n#containers = blob_service.list_containers()\nblobs = blob_service.list_blobs('banking-dm')",
      "execution_count": 9,
      "outputs": []
    },
    {
      "metadata": {
        "trusted": true
      },
      "cell_type": "code",
      "source": "# # List the blobs in the container.\n# print(\"\\nList blobs in the container\")\n# #generator = block_blob_service.list_blobs(container_name)\n# for blob in blobs:\n#     print(\"\\t Blob name: \" + blob.name)",
      "execution_count": 10,
      "outputs": []
    },
    {
      "metadata": {},
      "cell_type": "markdown",
      "source": "### Read Data"
    },
    {
      "metadata": {
        "trusted": true
      },
      "cell_type": "code",
      "source": "container_name = \"banking-dm\"",
      "execution_count": 11,
      "outputs": []
    },
    {
      "metadata": {
        "trusted": true
      },
      "cell_type": "code",
      "source": "blob_name_parquet = 'ailiev/3M_AVG_MCIF_2018-01__2018-03.parquet.gzip' \nbyte_stream = BytesIO()\ntry:\n    blob_service.get_blob_to_stream(container_name=container_name, blob_name=blob_name_parquet, stream=byte_stream)\n    df = pq.read_table(source=byte_stream).to_pandas()\n    # Do work on df ...\nfinally:\n    # Add finally block to ensure closure of the stream\n    byte_stream.close()",
      "execution_count": 12,
      "outputs": []
    },
    {
      "metadata": {
        "trusted": true
      },
      "cell_type": "code",
      "source": "df.shape",
      "execution_count": 13,
      "outputs": [
        {
          "output_type": "execute_result",
          "execution_count": 13,
          "data": {
            "text/plain": "(100215, 278)"
          },
          "metadata": {}
        }
      ]
    },
    {
      "metadata": {
        "trusted": true
      },
      "cell_type": "code",
      "source": "df.head()",
      "execution_count": 14,
      "outputs": [
        {
          "output_type": "execute_result",
          "execution_count": 14,
          "data": {
            "text/html": "<div>\n<style scoped>\n    .dataframe tbody tr th:only-of-type {\n        vertical-align: middle;\n    }\n\n    .dataframe tbody tr th {\n        vertical-align: top;\n    }\n\n    .dataframe thead th {\n        text-align: right;\n    }\n</style>\n<table border=\"1\" class=\"dataframe\">\n  <thead>\n    <tr style=\"text-align: right;\">\n      <th></th>\n      <th>Customer_ID</th>\n      <th>AGE_MONTHS</th>\n      <th>SECTOR</th>\n      <th>CUSTOMER_ECO_BRANCH</th>\n      <th>MARITAL_STATUS</th>\n      <th>GENDER</th>\n      <th>CUSTOMER_CATEGORY</th>\n      <th>CUSTOMER_TYPE</th>\n      <th>AT_LEAST_ONE_ACTIVE</th>\n      <th>AVG_DEPOSITS_minus_LOANS</th>\n      <th>...</th>\n      <th>TOTAL_SAVING_BAL</th>\n      <th>TOTAL_SAVING_CNT</th>\n      <th>TOTAL_TNAM</th>\n      <th>CLOSED_MONTHS_MIN</th>\n      <th>DC_MATURE_MONTHS_MAX</th>\n      <th>MATURE_MONTHS_MAX</th>\n      <th>MATURE_MONTHS_MIN</th>\n      <th>MONTHS_TILL_EXP_MAX</th>\n      <th>MONTHS_TILL_EXP_MIN</th>\n      <th>AVG_PERIOD</th>\n    </tr>\n  </thead>\n  <tbody>\n    <tr>\n      <th>0</th>\n      <td>1</td>\n      <td>558</td>\n      <td>Arts and Communications</td>\n      <td>BR160</td>\n      <td>Divorced</td>\n      <td>F</td>\n      <td>None</td>\n      <td>Individual</td>\n      <td>0.666667</td>\n      <td>157.725083</td>\n      <td>...</td>\n      <td>37.805250</td>\n      <td>1.0</td>\n      <td>1026.335000</td>\n      <td>-1</td>\n      <td>-1</td>\n      <td>54</td>\n      <td>0</td>\n      <td>-1</td>\n      <td>-1</td>\n      <td>2018-01--2018-03</td>\n    </tr>\n    <tr>\n      <th>1</th>\n      <td>2</td>\n      <td>519</td>\n      <td>Finance</td>\n      <td>BR09</td>\n      <td>Married</td>\n      <td>M</td>\n      <td>None</td>\n      <td>Professional</td>\n      <td>1.000000</td>\n      <td>0.000000</td>\n      <td>...</td>\n      <td>0.000000</td>\n      <td>1.0</td>\n      <td>161.413333</td>\n      <td>-1</td>\n      <td>59</td>\n      <td>215</td>\n      <td>213</td>\n      <td>-1</td>\n      <td>-1</td>\n      <td>2018-01--2018-03</td>\n    </tr>\n    <tr>\n      <th>2</th>\n      <td>3</td>\n      <td>310</td>\n      <td>Manufacturing</td>\n      <td>BR145</td>\n      <td>Married</td>\n      <td>M</td>\n      <td>None</td>\n      <td>Individual</td>\n      <td>1.000000</td>\n      <td>1616.158533</td>\n      <td>...</td>\n      <td>1616.158533</td>\n      <td>1.0</td>\n      <td>3606.596667</td>\n      <td>-1</td>\n      <td>-1</td>\n      <td>229</td>\n      <td>227</td>\n      <td>-1</td>\n      <td>-1</td>\n      <td>2018-01--2018-03</td>\n    </tr>\n    <tr>\n      <th>3</th>\n      <td>4</td>\n      <td>484</td>\n      <td>Health and Science</td>\n      <td>BR14</td>\n      <td>None</td>\n      <td>None</td>\n      <td>Retail</td>\n      <td>Small Business</td>\n      <td>1.000000</td>\n      <td>-271.317717</td>\n      <td>...</td>\n      <td>208.618900</td>\n      <td>1.0</td>\n      <td>3869.115000</td>\n      <td>-1</td>\n      <td>93</td>\n      <td>120</td>\n      <td>0</td>\n      <td>17</td>\n      <td>-18</td>\n      <td>2018-01--2018-03</td>\n    </tr>\n    <tr>\n      <th>4</th>\n      <td>5</td>\n      <td>477</td>\n      <td>Agriculture and Food</td>\n      <td>BR171</td>\n      <td>Single</td>\n      <td>M</td>\n      <td>None</td>\n      <td>Individual</td>\n      <td>1.000000</td>\n      <td>-836.073333</td>\n      <td>...</td>\n      <td>0.000000</td>\n      <td>1.0</td>\n      <td>1923.821667</td>\n      <td>-1</td>\n      <td>-1</td>\n      <td>171</td>\n      <td>68</td>\n      <td>2</td>\n      <td>-1</td>\n      <td>2018-01--2018-03</td>\n    </tr>\n  </tbody>\n</table>\n<p>5 rows × 278 columns</p>\n</div>",
            "text/plain": "   Customer_ID  AGE_MONTHS                   SECTOR CUSTOMER_ECO_BRANCH  \\\n0            1         558  Arts and Communications               BR160   \n1            2         519                  Finance                BR09   \n2            3         310            Manufacturing               BR145   \n3            4         484       Health and Science                BR14   \n4            5         477     Agriculture and Food               BR171   \n\n  MARITAL_STATUS GENDER CUSTOMER_CATEGORY   CUSTOMER_TYPE  \\\n0       Divorced      F              None      Individual   \n1        Married      M              None    Professional   \n2        Married      M              None      Individual   \n3           None   None            Retail  Small Business   \n4         Single      M              None      Individual   \n\n   AT_LEAST_ONE_ACTIVE  AVG_DEPOSITS_minus_LOANS        ...         \\\n0             0.666667                157.725083        ...          \n1             1.000000                  0.000000        ...          \n2             1.000000               1616.158533        ...          \n3             1.000000               -271.317717        ...          \n4             1.000000               -836.073333        ...          \n\n   TOTAL_SAVING_BAL  TOTAL_SAVING_CNT   TOTAL_TNAM  CLOSED_MONTHS_MIN  \\\n0         37.805250               1.0  1026.335000                 -1   \n1          0.000000               1.0   161.413333                 -1   \n2       1616.158533               1.0  3606.596667                 -1   \n3        208.618900               1.0  3869.115000                 -1   \n4          0.000000               1.0  1923.821667                 -1   \n\n   DC_MATURE_MONTHS_MAX  MATURE_MONTHS_MAX  MATURE_MONTHS_MIN  \\\n0                    -1                 54                  0   \n1                    59                215                213   \n2                    -1                229                227   \n3                    93                120                  0   \n4                    -1                171                 68   \n\n   MONTHS_TILL_EXP_MAX  MONTHS_TILL_EXP_MIN        AVG_PERIOD  \n0                   -1                   -1  2018-01--2018-03  \n1                   -1                   -1  2018-01--2018-03  \n2                   -1                   -1  2018-01--2018-03  \n3                   17                  -18  2018-01--2018-03  \n4                    2                   -1  2018-01--2018-03  \n\n[5 rows x 278 columns]"
          },
          "metadata": {}
        }
      ]
    },
    {
      "metadata": {
        "trusted": true
      },
      "cell_type": "code",
      "source": "pd.value_counts(df['CUSTOMER_TYPE'])",
      "execution_count": 15,
      "outputs": [
        {
          "output_type": "execute_result",
          "execution_count": 15,
          "data": {
            "text/plain": "Individual        84302\nSmall Business    15410\nProfessional        503\nName: CUSTOMER_TYPE, dtype: int64"
          },
          "metadata": {}
        }
      ]
    },
    {
      "metadata": {
        "trusted": true
      },
      "cell_type": "code",
      "source": "#remove SBBs\ndf = df[df['CUSTOMER_TYPE']==\"Individual\"]",
      "execution_count": 16,
      "outputs": []
    },
    {
      "metadata": {
        "trusted": true
      },
      "cell_type": "code",
      "source": "df.shape",
      "execution_count": 17,
      "outputs": [
        {
          "output_type": "execute_result",
          "execution_count": 17,
          "data": {
            "text/plain": "(84302, 278)"
          },
          "metadata": {}
        }
      ]
    },
    {
      "metadata": {
        "trusted": true
      },
      "cell_type": "code",
      "source": "blob_name_parquet_label = 'ailiev/MG_Offer_5.parquet.gzip'\nbyte_stream = BytesIO()\ntry:\n    blob_service.get_blob_to_stream(container_name=container_name, blob_name=blob_name_parquet_label, stream=byte_stream)\n    label = pq.read_table(source=byte_stream).to_pandas()\n    # Do work on df ...\nfinally:\n    # Add finally block to ensure closure of the stream\n    byte_stream.close()",
      "execution_count": 18,
      "outputs": []
    },
    {
      "metadata": {
        "trusted": true
      },
      "cell_type": "code",
      "source": "",
      "execution_count": null,
      "outputs": []
    },
    {
      "metadata": {
        "trusted": true
      },
      "cell_type": "code",
      "source": "label.shape",
      "execution_count": 19,
      "outputs": [
        {
          "output_type": "execute_result",
          "execution_count": 19,
          "data": {
            "text/plain": "(84302, 2)"
          },
          "metadata": {}
        }
      ]
    },
    {
      "metadata": {
        "trusted": true
      },
      "cell_type": "code",
      "source": "#label.head()",
      "execution_count": 20,
      "outputs": []
    },
    {
      "metadata": {
        "trusted": true
      },
      "cell_type": "code",
      "source": "df = df.merge(label, on=\"Customer_ID\")",
      "execution_count": 21,
      "outputs": []
    },
    {
      "metadata": {
        "trusted": true
      },
      "cell_type": "code",
      "source": "#df.head()",
      "execution_count": 22,
      "outputs": []
    },
    {
      "metadata": {
        "trusted": true
      },
      "cell_type": "code",
      "source": "df.shape",
      "execution_count": 23,
      "outputs": [
        {
          "output_type": "execute_result",
          "execution_count": 23,
          "data": {
            "text/plain": "(84302, 279)"
          },
          "metadata": {}
        }
      ]
    },
    {
      "metadata": {},
      "cell_type": "markdown",
      "source": "### Analysis"
    },
    {
      "metadata": {
        "trusted": true
      },
      "cell_type": "code",
      "source": "del df['AVG_PERIOD']",
      "execution_count": 24,
      "outputs": []
    },
    {
      "metadata": {
        "trusted": true
      },
      "cell_type": "code",
      "source": "demographic_columns = ['Customer_ID', 'CUSTOMER_TYPE', 'CUSTOMER_CATEGORY', 'GENDER', 'MARITAL_STATUS', 'CUSTOMER_ECO_BRANCH', 'SECTOR', 'AGE_MONTHS', \n                      'MG_OFFER']",
      "execution_count": 25,
      "outputs": []
    },
    {
      "metadata": {
        "trusted": true
      },
      "cell_type": "code",
      "source": "indep_columns = [col for col in df.columns if col not in demographic_columns]",
      "execution_count": 26,
      "outputs": []
    },
    {
      "metadata": {
        "trusted": true
      },
      "cell_type": "code",
      "source": "len(indep_columns)",
      "execution_count": 27,
      "outputs": [
        {
          "output_type": "execute_result",
          "execution_count": 27,
          "data": {
            "text/plain": "269"
          },
          "metadata": {}
        }
      ]
    },
    {
      "metadata": {
        "trusted": true
      },
      "cell_type": "code",
      "source": "#replaces inf with nan\ndf.replace( -np.inf, np.nan, inplace=True)",
      "execution_count": 28,
      "outputs": []
    },
    {
      "metadata": {
        "trusted": true
      },
      "cell_type": "code",
      "source": "df.fillna(0, inplace=True)",
      "execution_count": 29,
      "outputs": []
    },
    {
      "metadata": {
        "trusted": true
      },
      "cell_type": "code",
      "source": "# Create independent and target sets\nindependents = df[indep_columns].values\ntarget = df['MG_OFFER'].values",
      "execution_count": 30,
      "outputs": []
    },
    {
      "metadata": {
        "trusted": true
      },
      "cell_type": "code",
      "source": "X_train, X_test, y_train, y_test = train_test_split(independents, target, test_size=0.25, random_state=13579)",
      "execution_count": 31,
      "outputs": []
    },
    {
      "metadata": {
        "trusted": true
      },
      "cell_type": "code",
      "source": "independents.shape",
      "execution_count": 32,
      "outputs": [
        {
          "output_type": "execute_result",
          "execution_count": 32,
          "data": {
            "text/plain": "(84302, 269)"
          },
          "metadata": {}
        }
      ]
    },
    {
      "metadata": {
        "trusted": true
      },
      "cell_type": "code",
      "source": "from sklearn.preprocessing import StandardScaler\nscaler = StandardScaler()",
      "execution_count": 33,
      "outputs": []
    },
    {
      "metadata": {
        "trusted": true
      },
      "cell_type": "code",
      "source": "scaler.fit(X_train)",
      "execution_count": 34,
      "outputs": [
        {
          "output_type": "execute_result",
          "execution_count": 34,
          "data": {
            "text/plain": "StandardScaler(copy=True, with_mean=True, with_std=True)"
          },
          "metadata": {}
        }
      ]
    },
    {
      "metadata": {
        "trusted": true
      },
      "cell_type": "code",
      "source": "X_train = scaler.transform(X_train)\nX_test = scaler.transform(X_test)",
      "execution_count": 35,
      "outputs": []
    },
    {
      "metadata": {
        "trusted": true
      },
      "cell_type": "markdown",
      "source": "# Keras Sequential"
    },
    {
      "metadata": {
        "trusted": true
      },
      "cell_type": "code",
      "source": "classifier = Sequential()\nclassifier.add(Dense(units=20, activation='relu', input_dim = 269))\nclassifier.add(Dense(units=20, activation='relu'))\n# classifier.add(Dense(units=10, activation='relu'))\nclassifier.add(Dense(units=1, activation='sigmoid'))",
      "execution_count": null,
      "outputs": []
    },
    {
      "metadata": {
        "trusted": true
      },
      "cell_type": "code",
      "source": "classifier.compile(optimizer='rmsprop', loss='binary_crossentropy', metrics=['accuracy'])",
      "execution_count": null,
      "outputs": []
    },
    {
      "metadata": {
        "trusted": true
      },
      "cell_type": "code",
      "source": "classifier.fit(X_train, y_train, batch_size=50, epochs=10)",
      "execution_count": null,
      "outputs": []
    },
    {
      "metadata": {
        "trusted": true
      },
      "cell_type": "code",
      "source": "classifier.summary()",
      "execution_count": null,
      "outputs": []
    },
    {
      "metadata": {
        "trusted": true
      },
      "cell_type": "code",
      "source": "prob_y = classifier.predict(X_test)\nprob_y = [1 if y>=0.5 else 0 for y in prob_y]",
      "execution_count": null,
      "outputs": []
    },
    {
      "metadata": {
        "trusted": true
      },
      "cell_type": "code",
      "source": "print(metrics.classification_report(y_test, prob_y,target_names=[\"False\", \"True\"]))",
      "execution_count": null,
      "outputs": []
    },
    {
      "metadata": {
        "trusted": true
      },
      "cell_type": "code",
      "source": "confusion = metrics.confusion_matrix(y_test, prob_y)\nprint(\"Confusion matrix:\\n{}\".format(confusion))",
      "execution_count": null,
      "outputs": []
    },
    {
      "metadata": {
        "trusted": true
      },
      "cell_type": "code",
      "source": "",
      "execution_count": null,
      "outputs": []
    },
    {
      "metadata": {
        "trusted": true
      },
      "cell_type": "code",
      "source": "#predicted_probas[1,0]\npredicted_probas = classifier.predict_proba(X_test)\npredicted_probas=[p[0] for p in predicted_probas]",
      "execution_count": null,
      "outputs": []
    },
    {
      "metadata": {
        "trusted": true
      },
      "cell_type": "code",
      "source": "probas = pd.DataFrame(predicted_probas)\nprobas[1] = 1 - probas[0]\nprobas = probas[[1, 0]]",
      "execution_count": null,
      "outputs": []
    },
    {
      "metadata": {
        "trusted": true
      },
      "cell_type": "code",
      "source": "plt.rcParams[\"figure.figsize\"] = (12,6)\nskplt.metrics.plot_cumulative_gain(y_test, probas.values)\nplt.show()",
      "execution_count": null,
      "outputs": []
    },
    {
      "metadata": {},
      "cell_type": "markdown",
      "source": "# NEW APPROACH"
    },
    {
      "metadata": {
        "trusted": true
      },
      "cell_type": "code",
      "source": "# For custom metrics\nimport keras.backend as K\n\ndef mean_pred(y_true, y_pred):\n    return K.mean(y_pred)",
      "execution_count": 36,
      "outputs": []
    },
    {
      "metadata": {
        "trusted": true
      },
      "cell_type": "code",
      "source": "import tensorflow as tf\nfrom sklearn.metrics import roc_auc_score\n\ndef auc(y_true, y_pred):\n    auc = tf.metrics.auc(y_true, y_pred)[1]\n    K.get_session().run(tf.local_variables_initializer())\n    return auc",
      "execution_count": 37,
      "outputs": []
    },
    {
      "metadata": {
        "trusted": true
      },
      "cell_type": "code",
      "source": "def build_model():\n    model = Sequential([\n        Dense(units=60, activation='relu', input_dim =X_train.shape[1]),\n#         Dropout(0.3),\n#         Dense(units=10, activation='relu'),\n#         Dropout(0.5),\n        Dense(units=20, activation='relu'),\n#         Dropout(0.5),\n        Dense(units=10, activation='relu'),\n        Dense(units=1, activation='sigmoid')\n        ])\n    model.compile(optimizer='rmsprop', # optimizer='sgd',\n                loss='binary_crossentropy', \n                metrics=['accuracy', mean_pred, auc])\n    return model",
      "execution_count": 78,
      "outputs": []
    },
    {
      "metadata": {
        "trusted": true
      },
      "cell_type": "code",
      "source": "model = build_model()",
      "execution_count": 79,
      "outputs": []
    },
    {
      "metadata": {
        "trusted": true
      },
      "cell_type": "code",
      "source": "model.summary()",
      "execution_count": 80,
      "outputs": [
        {
          "output_type": "stream",
          "text": "_________________________________________________________________\nLayer (type)                 Output Shape              Param #   \n=================================================================\ndense_13 (Dense)             (None, 60)                16200     \n_________________________________________________________________\ndense_14 (Dense)             (None, 20)                1220      \n_________________________________________________________________\ndense_15 (Dense)             (None, 10)                210       \n_________________________________________________________________\ndense_16 (Dense)             (None, 1)                 11        \n=================================================================\nTotal params: 17,641\nTrainable params: 17,641\nNon-trainable params: 0\n_________________________________________________________________\n",
          "name": "stdout"
        }
      ]
    },
    {
      "metadata": {
        "trusted": true
      },
      "cell_type": "code",
      "source": "example_batch = X_train[:10]\nexample_result = model.predict(example_batch)\nexample_result",
      "execution_count": null,
      "outputs": []
    },
    {
      "metadata": {
        "trusted": true
      },
      "cell_type": "code",
      "source": "from keras.callbacks import Callback\nfrom keras.callbacks import EarlyStopping",
      "execution_count": 41,
      "outputs": []
    },
    {
      "metadata": {
        "trusted": true
      },
      "cell_type": "code",
      "source": "# The patience parameter is the amount of epochs to check for improvement\nearly_stop = EarlyStopping(monitor='auc', patience=5, mode='max')",
      "execution_count": 67,
      "outputs": []
    },
    {
      "metadata": {
        "trusted": true
      },
      "cell_type": "code",
      "source": "# !pip install h5py\n# from keras.callbacks import ModelCheckpoint",
      "execution_count": null,
      "outputs": []
    },
    {
      "metadata": {
        "trusted": true
      },
      "cell_type": "code",
      "source": "#model_checkpoint = ModelCheckpoint('best_model.h5', monitor='val_acc', mode='max', verbose=1, save_best_only=True)",
      "execution_count": null,
      "outputs": []
    },
    {
      "metadata": {
        "trusted": true
      },
      "cell_type": "code",
      "source": "# import tensorflow as tf",
      "execution_count": null,
      "outputs": []
    },
    {
      "metadata": {
        "trusted": true
      },
      "cell_type": "code",
      "source": "# print(tf.__version__)",
      "execution_count": null,
      "outputs": []
    },
    {
      "metadata": {
        "trusted": true
      },
      "cell_type": "code",
      "source": "# Display training progress by printing a single dot for each completed epoch\nclass PrintDot(Callback):\n    def on_epoch_end(self, epoch, logs):\n        if epoch % 100 == 0: print('')\n        print(epoch+1, end=' ')\n\nEPOCHS = 200\n\nhistory = model.fit(\n    X_train, y_train,\n    epochs=EPOCHS, validation_split = 0.2, verbose=0, batch_size=100,\n    callbacks=[early_stop, PrintDot()])\n#   callbacks=[early_stop, model_checkpoint, PrintDot()])",
      "execution_count": 99,
      "outputs": [
        {
          "output_type": "stream",
          "text": "\n1 2 3 4 5 6 7 8 9 10 11 12 13 14 15 16 17 ",
          "name": "stdout"
        }
      ]
    },
    {
      "metadata": {
        "trusted": true
      },
      "cell_type": "code",
      "source": "hist = pd.DataFrame(history.history)\nhist['epoch'] = history.epoch\nhist.tail(10)",
      "execution_count": 100,
      "outputs": [
        {
          "output_type": "execute_result",
          "execution_count": 100,
          "data": {
            "text/html": "<div>\n<style scoped>\n    .dataframe tbody tr th:only-of-type {\n        vertical-align: middle;\n    }\n\n    .dataframe tbody tr th {\n        vertical-align: top;\n    }\n\n    .dataframe thead th {\n        text-align: right;\n    }\n</style>\n<table border=\"1\" class=\"dataframe\">\n  <thead>\n    <tr style=\"text-align: right;\">\n      <th></th>\n      <th>val_loss</th>\n      <th>val_acc</th>\n      <th>val_mean_pred</th>\n      <th>val_auc</th>\n      <th>loss</th>\n      <th>acc</th>\n      <th>mean_pred</th>\n      <th>auc</th>\n      <th>epoch</th>\n    </tr>\n  </thead>\n  <tbody>\n    <tr>\n      <th>7</th>\n      <td>0.409501</td>\n      <td>0.895303</td>\n      <td>0.076244</td>\n      <td>0.771873</td>\n      <td>0.257488</td>\n      <td>0.919237</td>\n      <td>0.092962</td>\n      <td>0.771875</td>\n      <td>7</td>\n    </tr>\n    <tr>\n      <th>8</th>\n      <td>0.375966</td>\n      <td>0.896094</td>\n      <td>0.099228</td>\n      <td>0.771874</td>\n      <td>0.258099</td>\n      <td>0.918861</td>\n      <td>0.093386</td>\n      <td>0.771869</td>\n      <td>8</td>\n    </tr>\n    <tr>\n      <th>9</th>\n      <td>0.407960</td>\n      <td>0.887870</td>\n      <td>0.104938</td>\n      <td>0.771878</td>\n      <td>0.262767</td>\n      <td>0.919514</td>\n      <td>0.093165</td>\n      <td>0.771877</td>\n      <td>9</td>\n    </tr>\n    <tr>\n      <th>10</th>\n      <td>0.408435</td>\n      <td>0.889214</td>\n      <td>0.104506</td>\n      <td>0.771882</td>\n      <td>0.265679</td>\n      <td>0.919316</td>\n      <td>0.093008</td>\n      <td>0.771882</td>\n      <td>10</td>\n    </tr>\n    <tr>\n      <th>11</th>\n      <td>0.408045</td>\n      <td>0.895856</td>\n      <td>0.073708</td>\n      <td>0.771879</td>\n      <td>0.263230</td>\n      <td>0.919771</td>\n      <td>0.093317</td>\n      <td>0.771885</td>\n      <td>11</td>\n    </tr>\n    <tr>\n      <th>12</th>\n      <td>0.414370</td>\n      <td>0.895382</td>\n      <td>0.075250</td>\n      <td>0.771868</td>\n      <td>0.261621</td>\n      <td>0.919949</td>\n      <td>0.093283</td>\n      <td>0.771873</td>\n      <td>12</td>\n    </tr>\n    <tr>\n      <th>13</th>\n      <td>0.411827</td>\n      <td>0.891191</td>\n      <td>0.107978</td>\n      <td>0.771866</td>\n      <td>0.264149</td>\n      <td>0.920087</td>\n      <td>0.092789</td>\n      <td>0.771863</td>\n      <td>13</td>\n    </tr>\n    <tr>\n      <th>14</th>\n      <td>0.425793</td>\n      <td>0.888344</td>\n      <td>0.102031</td>\n      <td>0.771870</td>\n      <td>0.271634</td>\n      <td>0.919988</td>\n      <td>0.092540</td>\n      <td>0.771871</td>\n      <td>14</td>\n    </tr>\n    <tr>\n      <th>15</th>\n      <td>0.404109</td>\n      <td>0.893484</td>\n      <td>0.097272</td>\n      <td>0.771872</td>\n      <td>0.269538</td>\n      <td>0.919751</td>\n      <td>0.092212</td>\n      <td>0.771873</td>\n      <td>15</td>\n    </tr>\n    <tr>\n      <th>16</th>\n      <td>0.427928</td>\n      <td>0.886446</td>\n      <td>0.112456</td>\n      <td>0.771873</td>\n      <td>0.274083</td>\n      <td>0.919949</td>\n      <td>0.092209</td>\n      <td>0.771875</td>\n      <td>16</td>\n    </tr>\n  </tbody>\n</table>\n</div>",
            "text/plain": "    val_loss   val_acc  val_mean_pred   val_auc      loss       acc  \\\n7   0.409501  0.895303       0.076244  0.771873  0.257488  0.919237   \n8   0.375966  0.896094       0.099228  0.771874  0.258099  0.918861   \n9   0.407960  0.887870       0.104938  0.771878  0.262767  0.919514   \n10  0.408435  0.889214       0.104506  0.771882  0.265679  0.919316   \n11  0.408045  0.895856       0.073708  0.771879  0.263230  0.919771   \n12  0.414370  0.895382       0.075250  0.771868  0.261621  0.919949   \n13  0.411827  0.891191       0.107978  0.771866  0.264149  0.920087   \n14  0.425793  0.888344       0.102031  0.771870  0.271634  0.919988   \n15  0.404109  0.893484       0.097272  0.771872  0.269538  0.919751   \n16  0.427928  0.886446       0.112456  0.771873  0.274083  0.919949   \n\n    mean_pred       auc  epoch  \n7    0.092962  0.771875      7  \n8    0.093386  0.771869      8  \n9    0.093165  0.771877      9  \n10   0.093008  0.771882     10  \n11   0.093317  0.771885     11  \n12   0.093283  0.771873     12  \n13   0.092789  0.771863     13  \n14   0.092540  0.771871     14  \n15   0.092212  0.771873     15  \n16   0.092209  0.771875     16  "
          },
          "metadata": {}
        }
      ]
    },
    {
      "metadata": {
        "trusted": true
      },
      "cell_type": "code",
      "source": "# hist.head(20)",
      "execution_count": 101,
      "outputs": []
    },
    {
      "metadata": {
        "trusted": true
      },
      "cell_type": "code",
      "source": "def plot_history(history):\n    hist = pd.DataFrame(history.history)\n    hist['epoch'] = history.epoch\n\n    plt.figure()\n    plt.xlabel('Epoch')\n    plt.ylabel('mean_pred')\n    plt.plot(hist['epoch'], hist['mean_pred'],\n             label='Train Error')\n    plt.plot(hist['epoch'], hist['val_mean_pred'],\n             label = 'Val Error')\n    plt.ylim([0.05,0.15])\n    plt.legend()\n\n    plt.figure()\n    plt.xlabel('Epoch')\n    plt.ylabel('AUC')\n    plt.plot(hist['epoch'], hist['auc'],\n             label='Train AUC')\n    plt.plot(hist['epoch'], hist['val_auc'],\n             label = 'Val AUC')\n    plt.ylim([0.68, 0.78])\n    plt.legend()\n    plt.show()",
      "execution_count": 102,
      "outputs": []
    },
    {
      "metadata": {
        "trusted": true
      },
      "cell_type": "code",
      "source": "plt.rcParams[\"figure.figsize\"] = (12,6)\nplot_history(history)",
      "execution_count": 103,
      "outputs": [
        {
          "output_type": "display_data",
          "data": {
            "image/png": "[encoded data removed]",
            "text/plain": "<Figure size 864x432 with 1 Axes>"
          },
          "metadata": {
            "needs_background": "light"
          }
        },
        {
          "output_type": "display_data",
          "data": {
            "image/png": "[encoded data removed]",
            "text/plain": "<Figure size 864x432 with 1 Axes>"
          },
          "metadata": {
            "needs_background": "light"
          }
        }
      ]
    },
    {
      "metadata": {
        "trusted": true
      },
      "cell_type": "code",
      "source": "loss, accuracy, m_pred, auroc = model.evaluate(X_test, y_test, verbose=0)\n\nprint(\"Testing set Accuracy: {:5.2f} \".format(accuracy))\nprint(\"Testing set Mean Pred: {:5.4f} \".format(m_pred))\nprint(\"Testing set AUC: {:5.4f} \".format(auroc))",
      "execution_count": 104,
      "outputs": [
        {
          "output_type": "stream",
          "text": "Testing set Accuracy:  0.88 \nTesting set Mean Pred: 0.1152 \nTesting set AUC: 0.7718 \n",
          "name": "stdout"
        }
      ]
    },
    {
      "metadata": {
        "trusted": true
      },
      "cell_type": "code",
      "source": "#predicted_probas[1,0]\npredicted_probas = model.predict_proba(X_test)\npredicted_probas=[p[0] for p in predicted_probas]",
      "execution_count": 105,
      "outputs": []
    },
    {
      "metadata": {
        "trusted": true
      },
      "cell_type": "code",
      "source": "probas = pd.DataFrame(predicted_probas)\nprobas[1] = 1 - probas[0]\nprobas = probas[[1, 0]]",
      "execution_count": 106,
      "outputs": []
    },
    {
      "metadata": {
        "trusted": true
      },
      "cell_type": "code",
      "source": "#plt.rcParams[\"figure.figsize\"] = (12,6)\nskplt.metrics.plot_cumulative_gain(y_test, probas.values)\nplt.show()",
      "execution_count": 107,
      "outputs": [
        {
          "output_type": "display_data",
          "data": {
            "image/png": "[encoded data removed]",
            "text/plain": "<Figure size 864x432 with 1 Axes>"
          },
          "metadata": {
            "needs_background": "light"
          }
        }
      ]
    },
    {
      "metadata": {
        "trusted": true
      },
      "cell_type": "code",
      "source": "del model",
      "execution_count": 77,
      "outputs": []
    },
    {
      "metadata": {
        "trusted": true
      },
      "cell_type": "code",
      "source": "",
      "execution_count": null,
      "outputs": []
    }
  ],
  "metadata": {
    "kernelspec": {
      "name": "python36",
      "display_name": "Python 3.6",
      "language": "python"
    },
    "language_info": {
      "mimetype": "text/x-python",
      "nbconvert_exporter": "python",
      "name": "python",
      "pygments_lexer": "ipython3",
      "version": "3.6.6",
      "file_extension": ".py",
      "codemirror_mode": {
        "version": 3,
        "name": "ipython"
      }
    }
  },
  "nbformat": 4,
  "nbformat_minor": 2
}