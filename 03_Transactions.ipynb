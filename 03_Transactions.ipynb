{
  "cells": [
    {
      "metadata": {
        "trusted": true
      },
      "cell_type": "code",
      "source": "!pip install --upgrade pandas",
      "execution_count": 1,
      "outputs": [
        {
          "output_type": "stream",
          "text": "Collecting pandas\n\u001b[?25l  Downloading https://files.pythonhosted.org/packages/74/24/0cdbf8907e1e3bc5a8da03345c23cbed7044330bb8f73bb12e711a640a00/pandas-0.24.2-cp35-cp35m-manylinux1_x86_64.whl (10.0MB)\n\u001b[K     |████████████████████████████████| 10.0MB 3.5MB/s eta 0:00:01\n\u001b[?25hRequirement already satisfied, skipping upgrade: pytz>=2011k in /home/nbuser/anaconda3_420/lib/python3.5/site-packages (from pandas) (2016.6.1)\nRequirement already satisfied, skipping upgrade: python-dateutil>=2.5.0 in /home/nbuser/anaconda3_420/lib/python3.5/site-packages (from pandas) (2.7.5)\nRequirement already satisfied, skipping upgrade: numpy>=1.12.0 in /home/nbuser/anaconda3_420/lib/python3.5/site-packages (from pandas) (1.16.3)\nRequirement already satisfied, skipping upgrade: six>=1.5 in /home/nbuser/anaconda3_420/lib/python3.5/site-packages (from python-dateutil>=2.5.0->pandas) (1.11.0)\nInstalling collected packages: pandas\n  Found existing installation: pandas 0.19.2\n    Uninstalling pandas-0.19.2:\n      Successfully uninstalled pandas-0.19.2\nSuccessfully installed pandas-0.24.2\n\u001b[33mWARNING: You are using pip version 19.1, however version 19.1.1 is available.\nYou should consider upgrading via the 'pip install --upgrade pip' command.\u001b[0m\n",
          "name": "stdout"
        }
      ]
    },
    {
      "metadata": {
        "trusted": true
      },
      "cell_type": "code",
      "source": "!pip install pyarrow",
      "execution_count": 2,
      "outputs": [
        {
          "output_type": "stream",
          "text": "Requirement already satisfied: pyarrow in /home/nbuser/anaconda3_420/lib/python3.5/site-packages (0.13.0)\nRequirement already satisfied: numpy>=1.14 in /home/nbuser/anaconda3_420/lib/python3.5/site-packages (from pyarrow) (1.16.3)\nRequirement already satisfied: six>=1.0.0 in /home/nbuser/anaconda3_420/lib/python3.5/site-packages (from pyarrow) (1.11.0)\n\u001b[33mWARNING: You are using pip version 19.1, however version 19.1.1 is available.\nYou should consider upgrading via the 'pip install --upgrade pip' command.\u001b[0m\n",
          "name": "stdout"
        }
      ]
    },
    {
      "metadata": {
        "trusted": true
      },
      "cell_type": "code",
      "source": "import pandas as pd\nimport numpy as np\nfrom numpy import nan as NA\n\nfrom io import StringIO\nfrom azure.storage.blob import BlockBlobService",
      "execution_count": 3,
      "outputs": []
    },
    {
      "metadata": {
        "trusted": true
      },
      "cell_type": "code",
      "source": "import pyarrow.parquet as pq\nfrom io import BytesIO",
      "execution_count": 4,
      "outputs": []
    },
    {
      "metadata": {
        "trusted": true
      },
      "cell_type": "code",
      "source": "YearMonth = '2018-06-01'",
      "execution_count": 156,
      "outputs": []
    },
    {
      "metadata": {
        "trusted": true
      },
      "cell_type": "code",
      "source": "#Azure account credentials\nazure_storage_account_name = \"agedatasciencecocstorage\"\nazure_storage_account_key = \"V/FXG+lIWtYc854wbRA8BxGCLGJijS0NDwLvNHfmAxqRopAL3WHWGIQoHxpArG9lZoX+iY+dvtPYoB379w4MIw==\"\n\nif azure_storage_account_name is None or azure_storage_account_key is None:\n    raise Exception(\"You must provide a name and key for an Azure Storage account\")",
      "execution_count": 157,
      "outputs": []
    },
    {
      "metadata": {
        "trusted": true
      },
      "cell_type": "code",
      "source": "# First, we need to connect to our blob via the BlobService\nblob_service = BlockBlobService(azure_storage_account_name, azure_storage_account_key)\n# There are also methods to list containers and blobs\n#containers = blob_service.list_containers()\nblobs = blob_service.list_blobs('banking-dm')",
      "execution_count": 158,
      "outputs": []
    },
    {
      "metadata": {
        "trusted": true
      },
      "cell_type": "code",
      "source": "# List the blobs in the container.\nprint(\"\\nList blobs in the container\")\n#generator = block_blob_service.list_blobs(container_name)\nfor blob in blobs:\n    print(\"\\t Blob name: \" + blob.name)",
      "execution_count": 159,
      "outputs": [
        {
          "output_type": "stream",
          "text": "\nList blobs in the container\n\t Blob name: ailiev/Transactions_Master_2018-01-01.parquet.gzip\n\t Blob name: ailiev/Transactions_Master_2018-02-01.parquet.gzip\n\t Blob name: ailiev/Transactions_Master_2018-03-01.parquet.gzip\n\t Blob name: ailiev/Transactions_Master_2018-04-01.parquet.gzip\n\t Blob name: ailiev/Transactions_Master_2018-05-01.parquet.gzip\n\t Blob name: ailiev/sample.txt\n\t Blob name: data/Customer_economic_sector_lookup.csv\n\t Blob name: data/Customer_information_2018-01-01.parquet.gzip\n\t Blob name: data/Customer_information_2018-02-01.parquet.gzip\n\t Blob name: data/Customer_information_2018-03-01.parquet.gzip\n\t Blob name: data/Customer_information_2018-04-01.parquet.gzip\n\t Blob name: data/Customer_information_2018-05-01.parquet.gzip\n\t Blob name: data/Customer_information_2018-06-01.parquet.gzip\n\t Blob name: data/Monthly_Balance_2018-01-01.parquet.gzip\n\t Blob name: data/Monthly_Balance_2018-02-01.parquet.gzip\n\t Blob name: data/Monthly_Balance_2018-03-01.parquet.gzip\n\t Blob name: data/Monthly_Balance_2018-04-01.parquet.gzip\n\t Blob name: data/Monthly_Balance_2018-05-01.parquet.gzip\n\t Blob name: data/Monthly_Balance_2018-06-01.parquet.gzip\n\t Blob name: data/Ownership_2018-01-01.parquet.gzip\n\t Blob name: data/Ownership_2018-02-01.parquet.gzip\n\t Blob name: data/Ownership_2018-03-01.parquet.gzip\n\t Blob name: data/Ownership_2018-04-01.parquet.gzip\n\t Blob name: data/Ownership_2018-05-01.parquet.gzip\n\t Blob name: data/Ownership_2018-06-01.parquet.gzip\n\t Blob name: data/Product_lookup.csv\n\t Blob name: data/Transactions_2018-01-01.parquet.gzip\n\t Blob name: data/Transactions_2018-02-01.parquet.gzip\n\t Blob name: data/Transactions_2018-03-01.parquet.gzip\n\t Blob name: data/Transactions_2018-04-01.parquet.gzip\n\t Blob name: data/Transactions_2018-05-01.parquet.gzip\n\t Blob name: data/Transactions_2018-06-01.parquet.gzip\n\t Blob name: data/transaction_codes_lookup.csv\n\t Blob name: testdata/Loans2015.csv\n\t Blob name: testdata/Loans2015.parquet.gzip\n",
          "name": "stdout"
        }
      ]
    },
    {
      "metadata": {
        "trusted": true
      },
      "cell_type": "code",
      "source": "# Insider a container we can create other containers or a blob\nblob_service.create_blob_from_text('banking-dm', 'ailiev/sample.txt', 'Develop Data Mart by using the data folder files as input.')",
      "execution_count": 160,
      "outputs": [
        {
          "output_type": "execute_result",
          "execution_count": 160,
          "data": {
            "text/plain": "<azure.storage.blob.models.ResourceProperties at 0x7fdfaa7d6be0>"
          },
          "metadata": {}
        }
      ]
    },
    {
      "metadata": {
        "trusted": true
      },
      "cell_type": "code",
      "source": "# We can also read our blob from azure and get the text.\nblob_service.get_blob_to_path('banking-dm', 'ailiev/sample.txt', 'sample.txt')\n\n!cat sample.txt",
      "execution_count": 161,
      "outputs": [
        {
          "output_type": "stream",
          "text": "Develop Data Mart by using the data folder files as input.",
          "name": "stdout"
        }
      ]
    },
    {
      "metadata": {},
      "cell_type": "markdown",
      "source": "### Read Data"
    },
    {
      "metadata": {
        "trusted": true
      },
      "cell_type": "code",
      "source": "container_name = \"banking-dm\"\nblob_name_parquet = 'data/Transactions_' + YearMonth + '.parquet.gzip'\nblob_name = 'data/transaction_codes_lookup.csv'",
      "execution_count": 162,
      "outputs": []
    },
    {
      "metadata": {
        "trusted": true
      },
      "cell_type": "code",
      "source": "",
      "execution_count": null,
      "outputs": []
    },
    {
      "metadata": {
        "trusted": true
      },
      "cell_type": "code",
      "source": "byte_stream = BytesIO()\ntry:\n   blob_service.get_blob_to_stream(container_name=container_name, blob_name=blob_name_parquet, stream=byte_stream)\n   transactions = pq.read_table(source=byte_stream).to_pandas()\n   # Do work on df ...\nfinally:\n   # Add finally block to ensure closure of the stream\n   byte_stream.close()",
      "execution_count": 163,
      "outputs": []
    },
    {
      "metadata": {
        "trusted": true
      },
      "cell_type": "code",
      "source": "",
      "execution_count": null,
      "outputs": []
    },
    {
      "metadata": {
        "trusted": true
      },
      "cell_type": "code",
      "source": "#path where files are read in from\n#input_path = 'C:/Users/Aleksandar.Iliev/Desktop/Projects/Data Science CoC/Banking_Data_Mart/Data/25022019/'",
      "execution_count": 164,
      "outputs": []
    },
    {
      "metadata": {
        "trusted": true
      },
      "cell_type": "code",
      "source": "#path where output is written in \n#output_path = input_path + 'xls/'",
      "execution_count": 165,
      "outputs": []
    },
    {
      "metadata": {
        "trusted": true
      },
      "cell_type": "code",
      "source": "",
      "execution_count": null,
      "outputs": []
    },
    {
      "metadata": {
        "trusted": true
      },
      "cell_type": "code",
      "source": "#read in csv file\n#transactions = pd.read_csv(str(input_path + 'Transactions.csv'), header=0, low_memory=False)",
      "execution_count": 166,
      "outputs": []
    },
    {
      "metadata": {
        "trusted": true
      },
      "cell_type": "code",
      "source": "transactions.shape",
      "execution_count": 167,
      "outputs": [
        {
          "output_type": "execute_result",
          "execution_count": 167,
          "data": {
            "text/plain": "(2481352, 8)"
          },
          "metadata": {}
        }
      ]
    },
    {
      "metadata": {
        "trusted": true
      },
      "cell_type": "code",
      "source": "blobstring = blob_service.get_blob_to_text(container_name, blob_name).content\ncodes = pd.read_csv(StringIO(blobstring), header=0, sep=';')",
      "execution_count": 168,
      "outputs": []
    },
    {
      "metadata": {
        "trusted": true
      },
      "cell_type": "code",
      "source": "",
      "execution_count": null,
      "outputs": []
    },
    {
      "metadata": {
        "trusted": true
      },
      "cell_type": "code",
      "source": "#codes = pd.read_csv(str(input_path + 'transaction_codes_lookup.csv'), header=0, sep=';')",
      "execution_count": 169,
      "outputs": []
    },
    {
      "metadata": {
        "trusted": true
      },
      "cell_type": "code",
      "source": "codes['Card'] = np.where(codes['Code'].isin([\"TRA05\", 'TRA11']), \"DC\", \n                        np.where(codes['Code'].isin([\"TRA06\", 'TRA12']), \"CC\", \"LD\"))",
      "execution_count": 170,
      "outputs": []
    },
    {
      "metadata": {
        "trusted": true
      },
      "cell_type": "code",
      "source": "codes",
      "execution_count": 171,
      "outputs": [
        {
          "output_type": "execute_result",
          "execution_count": 171,
          "data": {
            "text/html": "<div>\n<style scoped>\n    .dataframe tbody tr th:only-of-type {\n        vertical-align: middle;\n    }\n\n    .dataframe tbody tr th {\n        vertical-align: top;\n    }\n\n    .dataframe thead th {\n        text-align: right;\n    }\n</style>\n<table border=\"1\" class=\"dataframe\">\n  <thead>\n    <tr style=\"text-align: right;\">\n      <th></th>\n      <th>Channel</th>\n      <th>Transaction Type</th>\n      <th>Flag</th>\n      <th>Code</th>\n      <th>Card</th>\n    </tr>\n  </thead>\n  <tbody>\n    <tr>\n      <th>0</th>\n      <td>Branch</td>\n      <td>Deposits</td>\n      <td>Credit</td>\n      <td>TRA01</td>\n      <td>LD</td>\n    </tr>\n    <tr>\n      <th>1</th>\n      <td>Branch</td>\n      <td>Cash Withdrawals</td>\n      <td>Debit</td>\n      <td>TRA02</td>\n      <td>LD</td>\n    </tr>\n    <tr>\n      <th>2</th>\n      <td>Branch</td>\n      <td>Transfers</td>\n      <td>Debit</td>\n      <td>TRA03</td>\n      <td>LD</td>\n    </tr>\n    <tr>\n      <th>3</th>\n      <td>ATM</td>\n      <td>Deposits</td>\n      <td>Credit</td>\n      <td>TRA04</td>\n      <td>LD</td>\n    </tr>\n    <tr>\n      <th>4</th>\n      <td>ATM</td>\n      <td>Cash Withdrawals</td>\n      <td>Debit</td>\n      <td>TRA05</td>\n      <td>DC</td>\n    </tr>\n    <tr>\n      <th>5</th>\n      <td>ATM</td>\n      <td>Cash Withdrawals</td>\n      <td>Debit</td>\n      <td>TRA06</td>\n      <td>CC</td>\n    </tr>\n    <tr>\n      <th>6</th>\n      <td>Internet</td>\n      <td>Transfers</td>\n      <td>Debit</td>\n      <td>TRA07</td>\n      <td>LD</td>\n    </tr>\n    <tr>\n      <th>7</th>\n      <td>Other</td>\n      <td>Deposits</td>\n      <td>Credit</td>\n      <td>TRA08</td>\n      <td>LD</td>\n    </tr>\n    <tr>\n      <th>8</th>\n      <td>Other</td>\n      <td>Cash Withdrawals</td>\n      <td>Debit</td>\n      <td>TRA09</td>\n      <td>LD</td>\n    </tr>\n    <tr>\n      <th>9</th>\n      <td>Other</td>\n      <td>Transfers</td>\n      <td>Debit</td>\n      <td>TRA10</td>\n      <td>LD</td>\n    </tr>\n    <tr>\n      <th>10</th>\n      <td>POS</td>\n      <td>Cash Withdrawals</td>\n      <td>Debit</td>\n      <td>TRA11</td>\n      <td>DC</td>\n    </tr>\n    <tr>\n      <th>11</th>\n      <td>POS</td>\n      <td>Cash Withdrawals</td>\n      <td>Debit</td>\n      <td>TRA12</td>\n      <td>CC</td>\n    </tr>\n  </tbody>\n</table>\n</div>",
            "text/plain": "     Channel  Transaction Type    Flag   Code Card\n0     Branch          Deposits  Credit  TRA01   LD\n1     Branch  Cash Withdrawals   Debit  TRA02   LD\n2     Branch         Transfers   Debit  TRA03   LD\n3        ATM          Deposits  Credit  TRA04   LD\n4        ATM  Cash Withdrawals   Debit  TRA05   DC\n5        ATM  Cash Withdrawals   Debit  TRA06   CC\n6   Internet         Transfers   Debit  TRA07   LD\n7      Other          Deposits  Credit  TRA08   LD\n8      Other  Cash Withdrawals   Debit  TRA09   LD\n9      Other         Transfers   Debit  TRA10   LD\n10       POS  Cash Withdrawals   Debit  TRA11   DC\n11       POS  Cash Withdrawals   Debit  TRA12   CC"
          },
          "metadata": {}
        }
      ]
    },
    {
      "metadata": {
        "trusted": true
      },
      "cell_type": "code",
      "source": "trans_codes = transactions.merge(codes, how='left', left_on='Transaction_code', right_on='Code')",
      "execution_count": 172,
      "outputs": []
    },
    {
      "metadata": {
        "trusted": true
      },
      "cell_type": "code",
      "source": "trans_codes.shape",
      "execution_count": 173,
      "outputs": [
        {
          "output_type": "execute_result",
          "execution_count": 173,
          "data": {
            "text/plain": "(2481352, 13)"
          },
          "metadata": {}
        }
      ]
    },
    {
      "metadata": {
        "trusted": true
      },
      "cell_type": "code",
      "source": "trans_codes.head()",
      "execution_count": 174,
      "outputs": [
        {
          "output_type": "execute_result",
          "execution_count": 174,
          "data": {
            "text/html": "<div>\n<style scoped>\n    .dataframe tbody tr th:only-of-type {\n        vertical-align: middle;\n    }\n\n    .dataframe tbody tr th {\n        vertical-align: top;\n    }\n\n    .dataframe thead th {\n        text-align: right;\n    }\n</style>\n<table border=\"1\" class=\"dataframe\">\n  <thead>\n    <tr style=\"text-align: right;\">\n      <th></th>\n      <th>YearMonth</th>\n      <th>Customer_ID</th>\n      <th>Product_code</th>\n      <th>Account_ID</th>\n      <th>Transaction_date</th>\n      <th>Transaction_code</th>\n      <th>Transaction_amount</th>\n      <th>Bordero_number</th>\n      <th>Channel</th>\n      <th>Transaction Type</th>\n      <th>Flag</th>\n      <th>Code</th>\n      <th>Card</th>\n    </tr>\n  </thead>\n  <tbody>\n    <tr>\n      <th>0</th>\n      <td>2018-06-01</td>\n      <td>47178</td>\n      <td>PRO09</td>\n      <td>100011</td>\n      <td>2018-05-05</td>\n      <td>TRA08</td>\n      <td>619.16</td>\n      <td>47178100011PRO0912018-05-05</td>\n      <td>Other</td>\n      <td>Deposits</td>\n      <td>Credit</td>\n      <td>TRA08</td>\n      <td>LD</td>\n    </tr>\n    <tr>\n      <th>1</th>\n      <td>2018-06-01</td>\n      <td>77103</td>\n      <td>PRO10</td>\n      <td>100029</td>\n      <td>2018-05-04</td>\n      <td>TRA01</td>\n      <td>233.96</td>\n      <td>77103100029PRO1022018-05-04</td>\n      <td>Branch</td>\n      <td>Deposits</td>\n      <td>Credit</td>\n      <td>TRA01</td>\n      <td>LD</td>\n    </tr>\n    <tr>\n      <th>2</th>\n      <td>2018-06-01</td>\n      <td>77868</td>\n      <td>PRO09</td>\n      <td>100079</td>\n      <td>2018-01-02</td>\n      <td>TRA01</td>\n      <td>203.99</td>\n      <td>77868100079PRO0932018-01-02</td>\n      <td>Branch</td>\n      <td>Deposits</td>\n      <td>Credit</td>\n      <td>TRA01</td>\n      <td>LD</td>\n    </tr>\n    <tr>\n      <th>3</th>\n      <td>2018-06-01</td>\n      <td>90122</td>\n      <td>PRO09</td>\n      <td>100085</td>\n      <td>2018-05-04</td>\n      <td>TRA08</td>\n      <td>257.99</td>\n      <td>90122100085PRO0942018-05-04</td>\n      <td>Other</td>\n      <td>Deposits</td>\n      <td>Credit</td>\n      <td>TRA08</td>\n      <td>LD</td>\n    </tr>\n    <tr>\n      <th>4</th>\n      <td>2018-06-01</td>\n      <td>18818</td>\n      <td>PRO09</td>\n      <td>100094</td>\n      <td>2018-06-07</td>\n      <td>TRA01</td>\n      <td>491.68</td>\n      <td>18818100094PRO0952018-06-07</td>\n      <td>Branch</td>\n      <td>Deposits</td>\n      <td>Credit</td>\n      <td>TRA01</td>\n      <td>LD</td>\n    </tr>\n  </tbody>\n</table>\n</div>",
            "text/plain": "    YearMonth  Customer_ID Product_code Account_ID Transaction_date  \\\n0  2018-06-01        47178        PRO09     100011       2018-05-05   \n1  2018-06-01        77103        PRO10     100029       2018-05-04   \n2  2018-06-01        77868        PRO09     100079       2018-01-02   \n3  2018-06-01        90122        PRO09     100085       2018-05-04   \n4  2018-06-01        18818        PRO09     100094       2018-06-07   \n\n  Transaction_code  Transaction_amount               Bordero_number Channel  \\\n0            TRA08              619.16  47178100011PRO0912018-05-05   Other   \n1            TRA01              233.96  77103100029PRO1022018-05-04  Branch   \n2            TRA01              203.99  77868100079PRO0932018-01-02  Branch   \n3            TRA08              257.99  90122100085PRO0942018-05-04   Other   \n4            TRA01              491.68  18818100094PRO0952018-06-07  Branch   \n\n  Transaction Type    Flag   Code Card  \n0         Deposits  Credit  TRA08   LD  \n1         Deposits  Credit  TRA01   LD  \n2         Deposits  Credit  TRA01   LD  \n3         Deposits  Credit  TRA08   LD  \n4         Deposits  Credit  TRA01   LD  "
          },
          "metadata": {}
        }
      ]
    },
    {
      "metadata": {
        "trusted": true
      },
      "cell_type": "code",
      "source": "pd.value_counts(trans_codes.Channel)",
      "execution_count": 175,
      "outputs": [
        {
          "output_type": "execute_result",
          "execution_count": 175,
          "data": {
            "text/plain": "ATM         931336\nPOS         890115\nOther       277548\nBranch      273732\nInternet    108621\nName: Channel, dtype: int64"
          },
          "metadata": {}
        }
      ]
    },
    {
      "metadata": {
        "trusted": true
      },
      "cell_type": "code",
      "source": "",
      "execution_count": null,
      "outputs": []
    },
    {
      "metadata": {},
      "cell_type": "markdown",
      "source": "Aggregations"
    },
    {
      "metadata": {
        "trusted": true
      },
      "cell_type": "code",
      "source": "def aggregated_index(df, dic):\n    arr = []\n    for val in df.columns.values:\n        arr.append([dic.get(n, n) for n in val])\n    columns = pd.Index(\"_\".join(i) for i in arr)\n    columns = [x.upper() for x in columns]\n    return columns",
      "execution_count": 176,
      "outputs": []
    },
    {
      "metadata": {
        "trusted": true
      },
      "cell_type": "code",
      "source": "aggreg_channel = pd.pivot_table(trans_codes, values=['Transaction_amount'], index=['Customer_ID'], columns=['Card', 'Channel'], \n                             aggfunc={'Transaction_amount': [sum, len]})",
      "execution_count": 177,
      "outputs": []
    },
    {
      "metadata": {
        "trusted": true
      },
      "cell_type": "code",
      "source": "dic_channel = {'Transaction_amount':'', 'len':'NUTN', 'sum':'TNAM'}",
      "execution_count": 178,
      "outputs": []
    },
    {
      "metadata": {
        "trusted": true
      },
      "cell_type": "code",
      "source": "col_agg_channel = aggregated_index(aggreg_channel, dic_channel)\ncol_agg_channel = [item[1:] for item in col_agg_channel]\naggreg_channel.columns = col_agg_channel\naggreg_channel.reset_index(inplace=True)",
      "execution_count": 179,
      "outputs": []
    },
    {
      "metadata": {
        "trusted": true
      },
      "cell_type": "code",
      "source": "aggreg_channel.head(10)",
      "execution_count": 180,
      "outputs": [
        {
          "output_type": "execute_result",
          "execution_count": 180,
          "data": {
            "text/html": "<div>\n<style scoped>\n    .dataframe tbody tr th:only-of-type {\n        vertical-align: middle;\n    }\n\n    .dataframe tbody tr th {\n        vertical-align: top;\n    }\n\n    .dataframe thead th {\n        text-align: right;\n    }\n</style>\n<table border=\"1\" class=\"dataframe\">\n  <thead>\n    <tr style=\"text-align: right;\">\n      <th></th>\n      <th>Customer_ID</th>\n      <th>NUTN_CC_ATM</th>\n      <th>NUTN_CC_POS</th>\n      <th>NUTN_DC_ATM</th>\n      <th>NUTN_DC_POS</th>\n      <th>NUTN_LD_ATM</th>\n      <th>NUTN_LD_BRANCH</th>\n      <th>NUTN_LD_INTERNET</th>\n      <th>NUTN_LD_OTHER</th>\n      <th>TNAM_CC_ATM</th>\n      <th>TNAM_CC_POS</th>\n      <th>TNAM_DC_ATM</th>\n      <th>TNAM_DC_POS</th>\n      <th>TNAM_LD_ATM</th>\n      <th>TNAM_LD_BRANCH</th>\n      <th>TNAM_LD_INTERNET</th>\n      <th>TNAM_LD_OTHER</th>\n    </tr>\n  </thead>\n  <tbody>\n    <tr>\n      <th>0</th>\n      <td>2</td>\n      <td>NaN</td>\n      <td>NaN</td>\n      <td>NaN</td>\n      <td>1.0</td>\n      <td>NaN</td>\n      <td>NaN</td>\n      <td>NaN</td>\n      <td>NaN</td>\n      <td>NaN</td>\n      <td>NaN</td>\n      <td>NaN</td>\n      <td>0.00</td>\n      <td>NaN</td>\n      <td>NaN</td>\n      <td>NaN</td>\n      <td>NaN</td>\n    </tr>\n    <tr>\n      <th>1</th>\n      <td>3</td>\n      <td>NaN</td>\n      <td>NaN</td>\n      <td>5.0</td>\n      <td>8.0</td>\n      <td>1.0</td>\n      <td>5.0</td>\n      <td>7.0</td>\n      <td>7.0</td>\n      <td>NaN</td>\n      <td>NaN</td>\n      <td>1986.40</td>\n      <td>1662.42</td>\n      <td>426.0</td>\n      <td>2261.47</td>\n      <td>9087.46</td>\n      <td>1927.70</td>\n    </tr>\n    <tr>\n      <th>2</th>\n      <td>4</td>\n      <td>24.0</td>\n      <td>18.0</td>\n      <td>NaN</td>\n      <td>NaN</td>\n      <td>2.0</td>\n      <td>NaN</td>\n      <td>NaN</td>\n      <td>NaN</td>\n      <td>2002.91</td>\n      <td>633.01</td>\n      <td>NaN</td>\n      <td>NaN</td>\n      <td>1068.0</td>\n      <td>NaN</td>\n      <td>NaN</td>\n      <td>NaN</td>\n    </tr>\n    <tr>\n      <th>3</th>\n      <td>5</td>\n      <td>15.0</td>\n      <td>11.0</td>\n      <td>NaN</td>\n      <td>NaN</td>\n      <td>NaN</td>\n      <td>NaN</td>\n      <td>NaN</td>\n      <td>2.0</td>\n      <td>707.46</td>\n      <td>469.47</td>\n      <td>NaN</td>\n      <td>NaN</td>\n      <td>NaN</td>\n      <td>NaN</td>\n      <td>NaN</td>\n      <td>316.00</td>\n    </tr>\n    <tr>\n      <th>4</th>\n      <td>6</td>\n      <td>24.0</td>\n      <td>17.0</td>\n      <td>NaN</td>\n      <td>NaN</td>\n      <td>1.0</td>\n      <td>2.0</td>\n      <td>NaN</td>\n      <td>5.0</td>\n      <td>4933.99</td>\n      <td>1270.44</td>\n      <td>NaN</td>\n      <td>NaN</td>\n      <td>238.0</td>\n      <td>761.00</td>\n      <td>NaN</td>\n      <td>2045.00</td>\n    </tr>\n    <tr>\n      <th>5</th>\n      <td>7</td>\n      <td>NaN</td>\n      <td>NaN</td>\n      <td>12.0</td>\n      <td>8.0</td>\n      <td>NaN</td>\n      <td>NaN</td>\n      <td>NaN</td>\n      <td>NaN</td>\n      <td>NaN</td>\n      <td>NaN</td>\n      <td>81944.57</td>\n      <td>3564.54</td>\n      <td>NaN</td>\n      <td>NaN</td>\n      <td>NaN</td>\n      <td>NaN</td>\n    </tr>\n    <tr>\n      <th>6</th>\n      <td>8</td>\n      <td>1.0</td>\n      <td>4.0</td>\n      <td>NaN</td>\n      <td>NaN</td>\n      <td>NaN</td>\n      <td>NaN</td>\n      <td>NaN</td>\n      <td>NaN</td>\n      <td>17.77</td>\n      <td>285.70</td>\n      <td>NaN</td>\n      <td>NaN</td>\n      <td>NaN</td>\n      <td>NaN</td>\n      <td>NaN</td>\n      <td>NaN</td>\n    </tr>\n    <tr>\n      <th>7</th>\n      <td>11</td>\n      <td>NaN</td>\n      <td>NaN</td>\n      <td>NaN</td>\n      <td>NaN</td>\n      <td>NaN</td>\n      <td>NaN</td>\n      <td>NaN</td>\n      <td>1.0</td>\n      <td>NaN</td>\n      <td>NaN</td>\n      <td>NaN</td>\n      <td>NaN</td>\n      <td>NaN</td>\n      <td>NaN</td>\n      <td>NaN</td>\n      <td>42.46</td>\n    </tr>\n    <tr>\n      <th>8</th>\n      <td>12</td>\n      <td>NaN</td>\n      <td>NaN</td>\n      <td>NaN</td>\n      <td>NaN</td>\n      <td>NaN</td>\n      <td>5.0</td>\n      <td>2.0</td>\n      <td>2.0</td>\n      <td>NaN</td>\n      <td>NaN</td>\n      <td>NaN</td>\n      <td>NaN</td>\n      <td>NaN</td>\n      <td>1690.00</td>\n      <td>100.00</td>\n      <td>140.00</td>\n    </tr>\n    <tr>\n      <th>9</th>\n      <td>14</td>\n      <td>40.0</td>\n      <td>47.0</td>\n      <td>NaN</td>\n      <td>NaN</td>\n      <td>1.0</td>\n      <td>NaN</td>\n      <td>NaN</td>\n      <td>NaN</td>\n      <td>2596.98</td>\n      <td>2516.29</td>\n      <td>NaN</td>\n      <td>NaN</td>\n      <td>366.0</td>\n      <td>NaN</td>\n      <td>NaN</td>\n      <td>NaN</td>\n    </tr>\n  </tbody>\n</table>\n</div>",
            "text/plain": "   Customer_ID  NUTN_CC_ATM  NUTN_CC_POS  NUTN_DC_ATM  NUTN_DC_POS  \\\n0            2          NaN          NaN          NaN          1.0   \n1            3          NaN          NaN          5.0          8.0   \n2            4         24.0         18.0          NaN          NaN   \n3            5         15.0         11.0          NaN          NaN   \n4            6         24.0         17.0          NaN          NaN   \n5            7          NaN          NaN         12.0          8.0   \n6            8          1.0          4.0          NaN          NaN   \n7           11          NaN          NaN          NaN          NaN   \n8           12          NaN          NaN          NaN          NaN   \n9           14         40.0         47.0          NaN          NaN   \n\n   NUTN_LD_ATM  NUTN_LD_BRANCH  NUTN_LD_INTERNET  NUTN_LD_OTHER  TNAM_CC_ATM  \\\n0          NaN             NaN               NaN            NaN          NaN   \n1          1.0             5.0               7.0            7.0          NaN   \n2          2.0             NaN               NaN            NaN      2002.91   \n3          NaN             NaN               NaN            2.0       707.46   \n4          1.0             2.0               NaN            5.0      4933.99   \n5          NaN             NaN               NaN            NaN          NaN   \n6          NaN             NaN               NaN            NaN        17.77   \n7          NaN             NaN               NaN            1.0          NaN   \n8          NaN             5.0               2.0            2.0          NaN   \n9          1.0             NaN               NaN            NaN      2596.98   \n\n   TNAM_CC_POS  TNAM_DC_ATM  TNAM_DC_POS  TNAM_LD_ATM  TNAM_LD_BRANCH  \\\n0          NaN          NaN         0.00          NaN             NaN   \n1          NaN      1986.40      1662.42        426.0         2261.47   \n2       633.01          NaN          NaN       1068.0             NaN   \n3       469.47          NaN          NaN          NaN             NaN   \n4      1270.44          NaN          NaN        238.0          761.00   \n5          NaN     81944.57      3564.54          NaN             NaN   \n6       285.70          NaN          NaN          NaN             NaN   \n7          NaN          NaN          NaN          NaN             NaN   \n8          NaN          NaN          NaN          NaN         1690.00   \n9      2516.29          NaN          NaN        366.0             NaN   \n\n   TNAM_LD_INTERNET  TNAM_LD_OTHER  \n0               NaN            NaN  \n1           9087.46        1927.70  \n2               NaN            NaN  \n3               NaN         316.00  \n4               NaN        2045.00  \n5               NaN            NaN  \n6               NaN            NaN  \n7               NaN          42.46  \n8            100.00         140.00  \n9               NaN            NaN  "
          },
          "metadata": {}
        }
      ]
    },
    {
      "metadata": {
        "trusted": true
      },
      "cell_type": "code",
      "source": "aggreg_channel.shape",
      "execution_count": 181,
      "outputs": [
        {
          "output_type": "execute_result",
          "execution_count": 181,
          "data": {
            "text/plain": "(75417, 17)"
          },
          "metadata": {}
        }
      ]
    },
    {
      "metadata": {
        "trusted": true
      },
      "cell_type": "code",
      "source": "",
      "execution_count": null,
      "outputs": []
    },
    {
      "metadata": {
        "trusted": true
      },
      "cell_type": "code",
      "source": "aggreg_type = pd.pivot_table(trans_codes, values=['Transaction_amount'], index=['Customer_ID'], columns=['Card', 'Channel', 'Flag'], \n                             aggfunc={'Transaction_amount': [sum, len]})",
      "execution_count": 182,
      "outputs": []
    },
    {
      "metadata": {
        "trusted": true
      },
      "cell_type": "code",
      "source": "dic_type = {'Transaction_amount':'', 'len':'NUTN', 'sum':'TNAM', 'Debit':'DT', 'Credit':'CT'}",
      "execution_count": 183,
      "outputs": []
    },
    {
      "metadata": {
        "trusted": true
      },
      "cell_type": "code",
      "source": "col_agg_type = aggregated_index(aggreg_type, dic_type)\ncol_agg_type = [item[1:] for item in col_agg_type]\naggreg_type.columns = col_agg_type\naggreg_type.reset_index(inplace=True)",
      "execution_count": 184,
      "outputs": []
    },
    {
      "metadata": {
        "trusted": true
      },
      "cell_type": "code",
      "source": "aggreg_type.head()",
      "execution_count": 185,
      "outputs": [
        {
          "output_type": "execute_result",
          "execution_count": 185,
          "data": {
            "text/html": "<div>\n<style scoped>\n    .dataframe tbody tr th:only-of-type {\n        vertical-align: middle;\n    }\n\n    .dataframe tbody tr th {\n        vertical-align: top;\n    }\n\n    .dataframe thead th {\n        text-align: right;\n    }\n</style>\n<table border=\"1\" class=\"dataframe\">\n  <thead>\n    <tr style=\"text-align: right;\">\n      <th></th>\n      <th>Customer_ID</th>\n      <th>NUTN_CC_ATM_DT</th>\n      <th>NUTN_CC_POS_DT</th>\n      <th>NUTN_DC_ATM_DT</th>\n      <th>NUTN_DC_POS_DT</th>\n      <th>NUTN_LD_ATM_CT</th>\n      <th>NUTN_LD_BRANCH_CT</th>\n      <th>NUTN_LD_BRANCH_DT</th>\n      <th>NUTN_LD_INTERNET_DT</th>\n      <th>NUTN_LD_OTHER_CT</th>\n      <th>...</th>\n      <th>TNAM_CC_ATM_DT</th>\n      <th>TNAM_CC_POS_DT</th>\n      <th>TNAM_DC_ATM_DT</th>\n      <th>TNAM_DC_POS_DT</th>\n      <th>TNAM_LD_ATM_CT</th>\n      <th>TNAM_LD_BRANCH_CT</th>\n      <th>TNAM_LD_BRANCH_DT</th>\n      <th>TNAM_LD_INTERNET_DT</th>\n      <th>TNAM_LD_OTHER_CT</th>\n      <th>TNAM_LD_OTHER_DT</th>\n    </tr>\n  </thead>\n  <tbody>\n    <tr>\n      <th>0</th>\n      <td>2</td>\n      <td>NaN</td>\n      <td>NaN</td>\n      <td>NaN</td>\n      <td>1.0</td>\n      <td>NaN</td>\n      <td>NaN</td>\n      <td>NaN</td>\n      <td>NaN</td>\n      <td>NaN</td>\n      <td>...</td>\n      <td>NaN</td>\n      <td>NaN</td>\n      <td>NaN</td>\n      <td>0.00</td>\n      <td>NaN</td>\n      <td>NaN</td>\n      <td>NaN</td>\n      <td>NaN</td>\n      <td>NaN</td>\n      <td>NaN</td>\n    </tr>\n    <tr>\n      <th>1</th>\n      <td>3</td>\n      <td>NaN</td>\n      <td>NaN</td>\n      <td>5.0</td>\n      <td>8.0</td>\n      <td>1.0</td>\n      <td>NaN</td>\n      <td>5.0</td>\n      <td>7.0</td>\n      <td>1.0</td>\n      <td>...</td>\n      <td>NaN</td>\n      <td>NaN</td>\n      <td>1986.4</td>\n      <td>1662.42</td>\n      <td>426.0</td>\n      <td>NaN</td>\n      <td>2261.47</td>\n      <td>9087.46</td>\n      <td>426.0</td>\n      <td>1501.7</td>\n    </tr>\n    <tr>\n      <th>2</th>\n      <td>4</td>\n      <td>24.0</td>\n      <td>18.0</td>\n      <td>NaN</td>\n      <td>NaN</td>\n      <td>2.0</td>\n      <td>NaN</td>\n      <td>NaN</td>\n      <td>NaN</td>\n      <td>NaN</td>\n      <td>...</td>\n      <td>2002.91</td>\n      <td>633.01</td>\n      <td>NaN</td>\n      <td>NaN</td>\n      <td>1068.0</td>\n      <td>NaN</td>\n      <td>NaN</td>\n      <td>NaN</td>\n      <td>NaN</td>\n      <td>NaN</td>\n    </tr>\n    <tr>\n      <th>3</th>\n      <td>5</td>\n      <td>15.0</td>\n      <td>11.0</td>\n      <td>NaN</td>\n      <td>NaN</td>\n      <td>NaN</td>\n      <td>NaN</td>\n      <td>NaN</td>\n      <td>NaN</td>\n      <td>2.0</td>\n      <td>...</td>\n      <td>707.46</td>\n      <td>469.47</td>\n      <td>NaN</td>\n      <td>NaN</td>\n      <td>NaN</td>\n      <td>NaN</td>\n      <td>NaN</td>\n      <td>NaN</td>\n      <td>316.0</td>\n      <td>NaN</td>\n    </tr>\n    <tr>\n      <th>4</th>\n      <td>6</td>\n      <td>24.0</td>\n      <td>17.0</td>\n      <td>NaN</td>\n      <td>NaN</td>\n      <td>1.0</td>\n      <td>2.0</td>\n      <td>NaN</td>\n      <td>NaN</td>\n      <td>5.0</td>\n      <td>...</td>\n      <td>4933.99</td>\n      <td>1270.44</td>\n      <td>NaN</td>\n      <td>NaN</td>\n      <td>238.0</td>\n      <td>761.0</td>\n      <td>NaN</td>\n      <td>NaN</td>\n      <td>2045.0</td>\n      <td>NaN</td>\n    </tr>\n  </tbody>\n</table>\n<p>5 rows × 21 columns</p>\n</div>",
            "text/plain": "   Customer_ID  NUTN_CC_ATM_DT  NUTN_CC_POS_DT  NUTN_DC_ATM_DT  \\\n0            2             NaN             NaN             NaN   \n1            3             NaN             NaN             5.0   \n2            4            24.0            18.0             NaN   \n3            5            15.0            11.0             NaN   \n4            6            24.0            17.0             NaN   \n\n   NUTN_DC_POS_DT  NUTN_LD_ATM_CT  NUTN_LD_BRANCH_CT  NUTN_LD_BRANCH_DT  \\\n0             1.0             NaN                NaN                NaN   \n1             8.0             1.0                NaN                5.0   \n2             NaN             2.0                NaN                NaN   \n3             NaN             NaN                NaN                NaN   \n4             NaN             1.0                2.0                NaN   \n\n   NUTN_LD_INTERNET_DT  NUTN_LD_OTHER_CT  ...  TNAM_CC_ATM_DT  TNAM_CC_POS_DT  \\\n0                  NaN               NaN  ...             NaN             NaN   \n1                  7.0               1.0  ...             NaN             NaN   \n2                  NaN               NaN  ...         2002.91          633.01   \n3                  NaN               2.0  ...          707.46          469.47   \n4                  NaN               5.0  ...         4933.99         1270.44   \n\n   TNAM_DC_ATM_DT  TNAM_DC_POS_DT  TNAM_LD_ATM_CT  TNAM_LD_BRANCH_CT  \\\n0             NaN            0.00             NaN                NaN   \n1          1986.4         1662.42           426.0                NaN   \n2             NaN             NaN          1068.0                NaN   \n3             NaN             NaN             NaN                NaN   \n4             NaN             NaN           238.0              761.0   \n\n   TNAM_LD_BRANCH_DT  TNAM_LD_INTERNET_DT  TNAM_LD_OTHER_CT  TNAM_LD_OTHER_DT  \n0                NaN                  NaN               NaN               NaN  \n1            2261.47              9087.46             426.0            1501.7  \n2                NaN                  NaN               NaN               NaN  \n3                NaN                  NaN             316.0               NaN  \n4                NaN                  NaN            2045.0               NaN  \n\n[5 rows x 21 columns]"
          },
          "metadata": {}
        }
      ]
    },
    {
      "metadata": {
        "trusted": true
      },
      "cell_type": "code",
      "source": "ld_trans = trans_codes[trans_codes['Card']=='LD']",
      "execution_count": 186,
      "outputs": []
    },
    {
      "metadata": {
        "trusted": true
      },
      "cell_type": "code",
      "source": "trans_codes.shape",
      "execution_count": 187,
      "outputs": [
        {
          "output_type": "execute_result",
          "execution_count": 187,
          "data": {
            "text/plain": "(2481352, 13)"
          },
          "metadata": {}
        }
      ]
    },
    {
      "metadata": {
        "trusted": true
      },
      "cell_type": "code",
      "source": "ld_trans.shape",
      "execution_count": 188,
      "outputs": [
        {
          "output_type": "execute_result",
          "execution_count": 188,
          "data": {
            "text/plain": "(699573, 13)"
          },
          "metadata": {}
        }
      ]
    },
    {
      "metadata": {
        "trusted": true
      },
      "cell_type": "code",
      "source": "#only Loan & Deposits transactions\naggreg_ld_type = pd.pivot_table(ld_trans, values=['Transaction_amount'], index=['Customer_ID'], columns=['Card', 'Transaction Type'], \n                             aggfunc={'Transaction_amount': [sum, len]})",
      "execution_count": 189,
      "outputs": []
    },
    {
      "metadata": {
        "trusted": true
      },
      "cell_type": "code",
      "source": "dic_ld_type  = {'Transaction_amount':'', 'Transaction Type':'TYPE', 'len':'NUTN', 'sum':'TNAM', 'Debit':'DT', 'Credit':'CT',\n      'Cash Withdrawals':'Withdrawals'}",
      "execution_count": 190,
      "outputs": []
    },
    {
      "metadata": {
        "trusted": true
      },
      "cell_type": "code",
      "source": "col_ld_type = aggregated_index(aggreg_ld_type, dic_ld_type)\ncol_ld_type = [item[1:] for item in col_ld_type]\naggreg_ld_type.columns = col_ld_type\naggreg_ld_type.reset_index(inplace=True)",
      "execution_count": 191,
      "outputs": []
    },
    {
      "metadata": {
        "trusted": true
      },
      "cell_type": "code",
      "source": "aggreg_ld_type.head()",
      "execution_count": 192,
      "outputs": [
        {
          "output_type": "execute_result",
          "execution_count": 192,
          "data": {
            "text/html": "<div>\n<style scoped>\n    .dataframe tbody tr th:only-of-type {\n        vertical-align: middle;\n    }\n\n    .dataframe tbody tr th {\n        vertical-align: top;\n    }\n\n    .dataframe thead th {\n        text-align: right;\n    }\n</style>\n<table border=\"1\" class=\"dataframe\">\n  <thead>\n    <tr style=\"text-align: right;\">\n      <th></th>\n      <th>Customer_ID</th>\n      <th>NUTN_LD_WITHDRAWALS</th>\n      <th>NUTN_LD_DEPOSITS</th>\n      <th>NUTN_LD_TRANSFERS</th>\n      <th>TNAM_LD_WITHDRAWALS</th>\n      <th>TNAM_LD_DEPOSITS</th>\n      <th>TNAM_LD_TRANSFERS</th>\n    </tr>\n  </thead>\n  <tbody>\n    <tr>\n      <th>0</th>\n      <td>3</td>\n      <td>5.0</td>\n      <td>2.0</td>\n      <td>13.0</td>\n      <td>1925.85</td>\n      <td>852.00</td>\n      <td>10924.78</td>\n    </tr>\n    <tr>\n      <th>1</th>\n      <td>4</td>\n      <td>NaN</td>\n      <td>2.0</td>\n      <td>NaN</td>\n      <td>NaN</td>\n      <td>1068.00</td>\n      <td>NaN</td>\n    </tr>\n    <tr>\n      <th>2</th>\n      <td>5</td>\n      <td>NaN</td>\n      <td>2.0</td>\n      <td>NaN</td>\n      <td>NaN</td>\n      <td>316.00</td>\n      <td>NaN</td>\n    </tr>\n    <tr>\n      <th>3</th>\n      <td>6</td>\n      <td>NaN</td>\n      <td>8.0</td>\n      <td>NaN</td>\n      <td>NaN</td>\n      <td>3044.00</td>\n      <td>NaN</td>\n    </tr>\n    <tr>\n      <th>4</th>\n      <td>11</td>\n      <td>NaN</td>\n      <td>1.0</td>\n      <td>NaN</td>\n      <td>NaN</td>\n      <td>42.46</td>\n      <td>NaN</td>\n    </tr>\n  </tbody>\n</table>\n</div>",
            "text/plain": "   Customer_ID  NUTN_LD_WITHDRAWALS  NUTN_LD_DEPOSITS  NUTN_LD_TRANSFERS  \\\n0            3                  5.0               2.0               13.0   \n1            4                  NaN               2.0                NaN   \n2            5                  NaN               2.0                NaN   \n3            6                  NaN               8.0                NaN   \n4           11                  NaN               1.0                NaN   \n\n   TNAM_LD_WITHDRAWALS  TNAM_LD_DEPOSITS  TNAM_LD_TRANSFERS  \n0              1925.85            852.00           10924.78  \n1                  NaN           1068.00                NaN  \n2                  NaN            316.00                NaN  \n3                  NaN           3044.00                NaN  \n4                  NaN             42.46                NaN  "
          },
          "metadata": {}
        }
      ]
    },
    {
      "metadata": {
        "trusted": true
      },
      "cell_type": "code",
      "source": "",
      "execution_count": null,
      "outputs": []
    },
    {
      "metadata": {
        "trusted": true
      },
      "cell_type": "code",
      "source": "",
      "execution_count": null,
      "outputs": []
    },
    {
      "metadata": {
        "trusted": true
      },
      "cell_type": "code",
      "source": "aggreg_days = pd.pivot_table(trans_codes, values=['Transaction_date'], index=['Customer_ID'], columns=['Card'],\n                             aggfunc={'Transaction_date': [lambda x: len(x.unique())]})",
      "execution_count": 193,
      "outputs": []
    },
    {
      "metadata": {
        "trusted": true
      },
      "cell_type": "code",
      "source": "dic_days = {'Transaction_date':'DIFF_DAYS', 'Transaction Type':'TYPE', '<lambda>':'TR', 'sum':'TNAM', 'Debit':'DT', 'Credit':'CT',\n      'Cash Withdrawals':'Withdrawals'}",
      "execution_count": 194,
      "outputs": []
    },
    {
      "metadata": {
        "trusted": true
      },
      "cell_type": "code",
      "source": "col_days = aggregated_index(aggreg_days, dic_days)\n#col_days = [item[1:] for item in col_ld_type]\naggreg_days.columns = col_days\naggreg_days.reset_index(inplace=True)",
      "execution_count": 195,
      "outputs": []
    },
    {
      "metadata": {
        "trusted": true
      },
      "cell_type": "code",
      "source": "aggreg_days.head()",
      "execution_count": 196,
      "outputs": [
        {
          "output_type": "execute_result",
          "execution_count": 196,
          "data": {
            "text/html": "<div>\n<style scoped>\n    .dataframe tbody tr th:only-of-type {\n        vertical-align: middle;\n    }\n\n    .dataframe tbody tr th {\n        vertical-align: top;\n    }\n\n    .dataframe thead th {\n        text-align: right;\n    }\n</style>\n<table border=\"1\" class=\"dataframe\">\n  <thead>\n    <tr style=\"text-align: right;\">\n      <th></th>\n      <th>Customer_ID</th>\n      <th>DIFF_DAYS_TR_CC</th>\n      <th>DIFF_DAYS_TR_DC</th>\n      <th>DIFF_DAYS_TR_LD</th>\n    </tr>\n  </thead>\n  <tbody>\n    <tr>\n      <th>0</th>\n      <td>2</td>\n      <td>NaN</td>\n      <td>1.0</td>\n      <td>NaN</td>\n    </tr>\n    <tr>\n      <th>1</th>\n      <td>3</td>\n      <td>NaN</td>\n      <td>10.0</td>\n      <td>14.0</td>\n    </tr>\n    <tr>\n      <th>2</th>\n      <td>4</td>\n      <td>22.0</td>\n      <td>NaN</td>\n      <td>2.0</td>\n    </tr>\n    <tr>\n      <th>3</th>\n      <td>5</td>\n      <td>17.0</td>\n      <td>NaN</td>\n      <td>2.0</td>\n    </tr>\n    <tr>\n      <th>4</th>\n      <td>6</td>\n      <td>21.0</td>\n      <td>NaN</td>\n      <td>7.0</td>\n    </tr>\n  </tbody>\n</table>\n</div>",
            "text/plain": "   Customer_ID  DIFF_DAYS_TR_CC  DIFF_DAYS_TR_DC  DIFF_DAYS_TR_LD\n0            2              NaN              1.0              NaN\n1            3              NaN             10.0             14.0\n2            4             22.0              NaN              2.0\n3            5             17.0              NaN              2.0\n4            6             21.0              NaN              7.0"
          },
          "metadata": {}
        }
      ]
    },
    {
      "metadata": {
        "trusted": true
      },
      "cell_type": "code",
      "source": "",
      "execution_count": null,
      "outputs": []
    },
    {
      "metadata": {
        "trusted": true
      },
      "cell_type": "code",
      "source": "aggreg_days_any = pd.pivot_table(trans_codes, values=['Transaction_date'], index=['Customer_ID'],\n                             aggfunc={'Transaction_date': [lambda x: len(x.unique())]})",
      "execution_count": 197,
      "outputs": []
    },
    {
      "metadata": {
        "trusted": true
      },
      "cell_type": "code",
      "source": "col_days_any = aggregated_index(aggreg_days_any, dic_days)\n#col_days = [item[1:] for item in col_ld_type]\naggreg_days_any.columns = col_days_any\naggreg_days_any.reset_index(inplace=True)",
      "execution_count": 198,
      "outputs": []
    },
    {
      "metadata": {
        "trusted": true
      },
      "cell_type": "code",
      "source": "aggreg_days_any.head()",
      "execution_count": 199,
      "outputs": [
        {
          "output_type": "execute_result",
          "execution_count": 199,
          "data": {
            "text/html": "<div>\n<style scoped>\n    .dataframe tbody tr th:only-of-type {\n        vertical-align: middle;\n    }\n\n    .dataframe tbody tr th {\n        vertical-align: top;\n    }\n\n    .dataframe thead th {\n        text-align: right;\n    }\n</style>\n<table border=\"1\" class=\"dataframe\">\n  <thead>\n    <tr style=\"text-align: right;\">\n      <th></th>\n      <th>Customer_ID</th>\n      <th>DIFF_DAYS_TR</th>\n    </tr>\n  </thead>\n  <tbody>\n    <tr>\n      <th>0</th>\n      <td>2</td>\n      <td>1</td>\n    </tr>\n    <tr>\n      <th>1</th>\n      <td>3</td>\n      <td>20</td>\n    </tr>\n    <tr>\n      <th>2</th>\n      <td>4</td>\n      <td>23</td>\n    </tr>\n    <tr>\n      <th>3</th>\n      <td>5</td>\n      <td>18</td>\n    </tr>\n    <tr>\n      <th>4</th>\n      <td>6</td>\n      <td>22</td>\n    </tr>\n  </tbody>\n</table>\n</div>",
            "text/plain": "   Customer_ID  DIFF_DAYS_TR\n0            2             1\n1            3            20\n2            4            23\n3            5            18\n4            6            22"
          },
          "metadata": {}
        }
      ]
    },
    {
      "metadata": {
        "trusted": true
      },
      "cell_type": "code",
      "source": "",
      "execution_count": null,
      "outputs": []
    },
    {
      "metadata": {
        "trusted": true
      },
      "cell_type": "code",
      "source": "aggreg_dt_ct = pd.pivot_table(trans_codes, values=['Transaction_amount'], index=['Customer_ID'], columns=['Flag'], \n                             aggfunc={'Transaction_amount': [sum, len]})",
      "execution_count": 200,
      "outputs": []
    },
    {
      "metadata": {
        "trusted": true
      },
      "cell_type": "code",
      "source": "dic_dt_ct = {'Transaction_amount':'', 'len':'NUTN', 'sum':'TNAM','Debit':'DT', 'Credit':'CT'}",
      "execution_count": 201,
      "outputs": []
    },
    {
      "metadata": {
        "trusted": true
      },
      "cell_type": "code",
      "source": "col_agg_dt_ct = aggregated_index(aggreg_dt_ct, dic_dt_ct)\ncol_agg_dt_ct = [item[1:] for item in col_agg_dt_ct]\naggreg_dt_ct.columns = col_agg_dt_ct\naggreg_dt_ct.reset_index(inplace=True)",
      "execution_count": 202,
      "outputs": []
    },
    {
      "metadata": {
        "trusted": true
      },
      "cell_type": "code",
      "source": "aggreg_dt_ct.head()",
      "execution_count": 203,
      "outputs": [
        {
          "output_type": "execute_result",
          "execution_count": 203,
          "data": {
            "text/html": "<div>\n<style scoped>\n    .dataframe tbody tr th:only-of-type {\n        vertical-align: middle;\n    }\n\n    .dataframe tbody tr th {\n        vertical-align: top;\n    }\n\n    .dataframe thead th {\n        text-align: right;\n    }\n</style>\n<table border=\"1\" class=\"dataframe\">\n  <thead>\n    <tr style=\"text-align: right;\">\n      <th></th>\n      <th>Customer_ID</th>\n      <th>NUTN_CT</th>\n      <th>NUTN_DT</th>\n      <th>TNAM_CT</th>\n      <th>TNAM_DT</th>\n    </tr>\n  </thead>\n  <tbody>\n    <tr>\n      <th>0</th>\n      <td>2</td>\n      <td>NaN</td>\n      <td>1.0</td>\n      <td>NaN</td>\n      <td>0.00</td>\n    </tr>\n    <tr>\n      <th>1</th>\n      <td>3</td>\n      <td>2.0</td>\n      <td>31.0</td>\n      <td>852.0</td>\n      <td>16499.45</td>\n    </tr>\n    <tr>\n      <th>2</th>\n      <td>4</td>\n      <td>2.0</td>\n      <td>42.0</td>\n      <td>1068.0</td>\n      <td>2635.92</td>\n    </tr>\n    <tr>\n      <th>3</th>\n      <td>5</td>\n      <td>2.0</td>\n      <td>26.0</td>\n      <td>316.0</td>\n      <td>1176.93</td>\n    </tr>\n    <tr>\n      <th>4</th>\n      <td>6</td>\n      <td>8.0</td>\n      <td>41.0</td>\n      <td>3044.0</td>\n      <td>6204.43</td>\n    </tr>\n  </tbody>\n</table>\n</div>",
            "text/plain": "   Customer_ID  NUTN_CT  NUTN_DT  TNAM_CT   TNAM_DT\n0            2      NaN      1.0      NaN      0.00\n1            3      2.0     31.0    852.0  16499.45\n2            4      2.0     42.0   1068.0   2635.92\n3            5      2.0     26.0    316.0   1176.93\n4            6      8.0     41.0   3044.0   6204.43"
          },
          "metadata": {}
        }
      ]
    },
    {
      "metadata": {
        "trusted": true
      },
      "cell_type": "code",
      "source": "aggreg_card = pd.pivot_table(trans_codes, values=['Transaction_amount'], index=['Customer_ID'], columns=['Card'], \n                             aggfunc={'Transaction_amount': [sum, len]})",
      "execution_count": 204,
      "outputs": []
    },
    {
      "metadata": {
        "trusted": true
      },
      "cell_type": "code",
      "source": "dic_card = {'Transaction_amount':'', 'len':'NUTN', 'sum':'TNAM'}",
      "execution_count": 205,
      "outputs": []
    },
    {
      "metadata": {
        "trusted": true
      },
      "cell_type": "code",
      "source": "col_agg_card = aggregated_index(aggreg_card, dic_dt_ct)\ncol_agg_card = [item[1:] for item in col_agg_card]\naggreg_card.columns = col_agg_card\naggreg_card.reset_index(inplace=True)",
      "execution_count": 206,
      "outputs": []
    },
    {
      "metadata": {
        "trusted": true
      },
      "cell_type": "code",
      "source": "aggreg_card.head()",
      "execution_count": 207,
      "outputs": [
        {
          "output_type": "execute_result",
          "execution_count": 207,
          "data": {
            "text/html": "<div>\n<style scoped>\n    .dataframe tbody tr th:only-of-type {\n        vertical-align: middle;\n    }\n\n    .dataframe tbody tr th {\n        vertical-align: top;\n    }\n\n    .dataframe thead th {\n        text-align: right;\n    }\n</style>\n<table border=\"1\" class=\"dataframe\">\n  <thead>\n    <tr style=\"text-align: right;\">\n      <th></th>\n      <th>Customer_ID</th>\n      <th>NUTN_CC</th>\n      <th>NUTN_DC</th>\n      <th>NUTN_LD</th>\n      <th>TNAM_CC</th>\n      <th>TNAM_DC</th>\n      <th>TNAM_LD</th>\n    </tr>\n  </thead>\n  <tbody>\n    <tr>\n      <th>0</th>\n      <td>2</td>\n      <td>NaN</td>\n      <td>1.0</td>\n      <td>NaN</td>\n      <td>NaN</td>\n      <td>0.00</td>\n      <td>NaN</td>\n    </tr>\n    <tr>\n      <th>1</th>\n      <td>3</td>\n      <td>NaN</td>\n      <td>13.0</td>\n      <td>20.0</td>\n      <td>NaN</td>\n      <td>3648.82</td>\n      <td>13702.63</td>\n    </tr>\n    <tr>\n      <th>2</th>\n      <td>4</td>\n      <td>42.0</td>\n      <td>NaN</td>\n      <td>2.0</td>\n      <td>2635.92</td>\n      <td>NaN</td>\n      <td>1068.00</td>\n    </tr>\n    <tr>\n      <th>3</th>\n      <td>5</td>\n      <td>26.0</td>\n      <td>NaN</td>\n      <td>2.0</td>\n      <td>1176.93</td>\n      <td>NaN</td>\n      <td>316.00</td>\n    </tr>\n    <tr>\n      <th>4</th>\n      <td>6</td>\n      <td>41.0</td>\n      <td>NaN</td>\n      <td>8.0</td>\n      <td>6204.43</td>\n      <td>NaN</td>\n      <td>3044.00</td>\n    </tr>\n  </tbody>\n</table>\n</div>",
            "text/plain": "   Customer_ID  NUTN_CC  NUTN_DC  NUTN_LD  TNAM_CC  TNAM_DC   TNAM_LD\n0            2      NaN      1.0      NaN      NaN     0.00       NaN\n1            3      NaN     13.0     20.0      NaN  3648.82  13702.63\n2            4     42.0      NaN      2.0  2635.92      NaN   1068.00\n3            5     26.0      NaN      2.0  1176.93      NaN    316.00\n4            6     41.0      NaN      8.0  6204.43      NaN   3044.00"
          },
          "metadata": {}
        }
      ]
    },
    {
      "metadata": {
        "trusted": true
      },
      "cell_type": "code",
      "source": "aggreg_total = pd.pivot_table(trans_codes, values=['Transaction_amount'], index=['Customer_ID'], \n                             aggfunc={'Transaction_amount': [sum, len]})",
      "execution_count": 208,
      "outputs": []
    },
    {
      "metadata": {
        "trusted": true
      },
      "cell_type": "code",
      "source": "dic_total = {'Transaction_amount':'TOTAL', 'len':'NUTN', 'sum':'TNAM'}",
      "execution_count": 209,
      "outputs": []
    },
    {
      "metadata": {
        "trusted": true
      },
      "cell_type": "code",
      "source": "col_total = aggregated_index(aggreg_total, dic_total)\naggreg_total.columns = col_total\naggreg_total.reset_index(inplace=True)",
      "execution_count": 210,
      "outputs": []
    },
    {
      "metadata": {
        "trusted": true
      },
      "cell_type": "code",
      "source": "aggreg_total.head()",
      "execution_count": 211,
      "outputs": [
        {
          "output_type": "execute_result",
          "execution_count": 211,
          "data": {
            "text/html": "<div>\n<style scoped>\n    .dataframe tbody tr th:only-of-type {\n        vertical-align: middle;\n    }\n\n    .dataframe tbody tr th {\n        vertical-align: top;\n    }\n\n    .dataframe thead th {\n        text-align: right;\n    }\n</style>\n<table border=\"1\" class=\"dataframe\">\n  <thead>\n    <tr style=\"text-align: right;\">\n      <th></th>\n      <th>Customer_ID</th>\n      <th>TOTAL_NUTN</th>\n      <th>TOTAL_TNAM</th>\n    </tr>\n  </thead>\n  <tbody>\n    <tr>\n      <th>0</th>\n      <td>2</td>\n      <td>1.0</td>\n      <td>0.00</td>\n    </tr>\n    <tr>\n      <th>1</th>\n      <td>3</td>\n      <td>33.0</td>\n      <td>17351.45</td>\n    </tr>\n    <tr>\n      <th>2</th>\n      <td>4</td>\n      <td>44.0</td>\n      <td>3703.92</td>\n    </tr>\n    <tr>\n      <th>3</th>\n      <td>5</td>\n      <td>28.0</td>\n      <td>1492.93</td>\n    </tr>\n    <tr>\n      <th>4</th>\n      <td>6</td>\n      <td>49.0</td>\n      <td>9248.43</td>\n    </tr>\n  </tbody>\n</table>\n</div>",
            "text/plain": "   Customer_ID  TOTAL_NUTN  TOTAL_TNAM\n0            2         1.0        0.00\n1            3        33.0    17351.45\n2            4        44.0     3703.92\n3            5        28.0     1492.93\n4            6        49.0     9248.43"
          },
          "metadata": {}
        }
      ]
    },
    {
      "metadata": {
        "trusted": true
      },
      "cell_type": "code",
      "source": "",
      "execution_count": null,
      "outputs": []
    },
    {
      "metadata": {
        "trusted": true
      },
      "cell_type": "code",
      "source": "trans_agg_all = aggreg_channel.merge(aggreg_type,how='outer', on='Customer_ID')\ntrans_agg_all.shape",
      "execution_count": 212,
      "outputs": [
        {
          "output_type": "execute_result",
          "execution_count": 212,
          "data": {
            "text/plain": "(75417, 37)"
          },
          "metadata": {}
        }
      ]
    },
    {
      "metadata": {
        "trusted": true
      },
      "cell_type": "code",
      "source": "trans_agg_all = trans_agg_all.merge(aggreg_ld_type,how='outer', on='Customer_ID')\ntrans_agg_all.shape",
      "execution_count": 213,
      "outputs": [
        {
          "output_type": "execute_result",
          "execution_count": 213,
          "data": {
            "text/plain": "(75417, 43)"
          },
          "metadata": {}
        }
      ]
    },
    {
      "metadata": {
        "trusted": true
      },
      "cell_type": "code",
      "source": "trans_agg_all = trans_agg_all.merge(aggreg_days_any,how='outer', on='Customer_ID')\ntrans_agg_all.shape",
      "execution_count": 214,
      "outputs": [
        {
          "output_type": "execute_result",
          "execution_count": 214,
          "data": {
            "text/plain": "(75417, 44)"
          },
          "metadata": {}
        }
      ]
    },
    {
      "metadata": {
        "trusted": true
      },
      "cell_type": "code",
      "source": "trans_agg_all = trans_agg_all.merge(aggreg_days,how='outer', on='Customer_ID')\ntrans_agg_all.shape",
      "execution_count": 215,
      "outputs": [
        {
          "output_type": "execute_result",
          "execution_count": 215,
          "data": {
            "text/plain": "(75417, 47)"
          },
          "metadata": {}
        }
      ]
    },
    {
      "metadata": {
        "trusted": true
      },
      "cell_type": "code",
      "source": "trans_agg_all = trans_agg_all.merge(aggreg_dt_ct,how='outer', on='Customer_ID')\ntrans_agg_all.shape",
      "execution_count": 216,
      "outputs": [
        {
          "output_type": "execute_result",
          "execution_count": 216,
          "data": {
            "text/plain": "(75417, 51)"
          },
          "metadata": {}
        }
      ]
    },
    {
      "metadata": {
        "trusted": true
      },
      "cell_type": "code",
      "source": "trans_agg_all = trans_agg_all.merge(aggreg_card,how='outer', on='Customer_ID')\ntrans_agg_all.shape",
      "execution_count": 217,
      "outputs": [
        {
          "output_type": "execute_result",
          "execution_count": 217,
          "data": {
            "text/plain": "(75417, 57)"
          },
          "metadata": {}
        }
      ]
    },
    {
      "metadata": {
        "trusted": true
      },
      "cell_type": "code",
      "source": "trans_agg_all = trans_agg_all.merge(aggreg_total,how='outer', on='Customer_ID')\ntrans_agg_all.shape",
      "execution_count": 218,
      "outputs": [
        {
          "output_type": "execute_result",
          "execution_count": 218,
          "data": {
            "text/plain": "(75417, 59)"
          },
          "metadata": {}
        }
      ]
    },
    {
      "metadata": {
        "trusted": true
      },
      "cell_type": "code",
      "source": "",
      "execution_count": null,
      "outputs": []
    },
    {
      "metadata": {},
      "cell_type": "markdown",
      "source": "Additional KPIs"
    },
    {
      "metadata": {
        "trusted": true
      },
      "cell_type": "code",
      "source": "#PCT\ntrans_agg_all['PCT_NUTN_CT'] = trans_agg_all['NUTN_CT']/trans_agg_all['TOTAL_NUTN']\ntrans_agg_all['PCT_NUTN_DT'] = trans_agg_all['NUTN_DT']/trans_agg_all['TOTAL_NUTN']\ntrans_agg_all['PCT_TNAM_CT'] = trans_agg_all['TNAM_CT']/trans_agg_all['TOTAL_TNAM']\ntrans_agg_all['PCT_TNAM_DT'] = trans_agg_all['TNAM_DT']/trans_agg_all['TOTAL_TNAM']\n\ntrans_agg_all['PCT_NUTN_CC'] = trans_agg_all['NUTN_CC']/trans_agg_all['TOTAL_NUTN']\ntrans_agg_all['PCT_NUTN_DC'] = trans_agg_all['NUTN_DC']/trans_agg_all['TOTAL_NUTN']\ntrans_agg_all['PCT_NUTN_LD'] = trans_agg_all['NUTN_LD']/trans_agg_all['TOTAL_NUTN']\n\ntrans_agg_all['PCT_TNAM_CC'] = trans_agg_all['TNAM_CC']/trans_agg_all['TOTAL_TNAM']\ntrans_agg_all['PCT_TNAM_DC'] = trans_agg_all['TNAM_DC']/trans_agg_all['TOTAL_TNAM']\ntrans_agg_all['PCT_TNAM_LD'] = trans_agg_all['TNAM_LD']/trans_agg_all['TOTAL_TNAM']",
      "execution_count": 219,
      "outputs": []
    },
    {
      "metadata": {
        "trusted": true
      },
      "cell_type": "code",
      "source": "trans_agg_all['PCT_DAYS_TR_CC'] = trans_agg_all['DIFF_DAYS_TR_CC']/trans_agg_all['DIFF_DAYS_TR']\ntrans_agg_all['PCT_DAYS_TR_DC'] = trans_agg_all['DIFF_DAYS_TR_DC']/trans_agg_all['DIFF_DAYS_TR']\ntrans_agg_all['PCT_DAYS_TR_LD'] = trans_agg_all['DIFF_DAYS_TR_LD']/trans_agg_all['DIFF_DAYS_TR']",
      "execution_count": 220,
      "outputs": []
    },
    {
      "metadata": {
        "trusted": true
      },
      "cell_type": "code",
      "source": "",
      "execution_count": null,
      "outputs": []
    },
    {
      "metadata": {
        "trusted": true
      },
      "cell_type": "code",
      "source": "trans_agg_all['YearMonth'] = YearMonth",
      "execution_count": 221,
      "outputs": []
    },
    {
      "metadata": {
        "trusted": true
      },
      "cell_type": "code",
      "source": "trans_agg_all.head()",
      "execution_count": 222,
      "outputs": [
        {
          "output_type": "execute_result",
          "execution_count": 222,
          "data": {
            "text/html": "<div>\n<style scoped>\n    .dataframe tbody tr th:only-of-type {\n        vertical-align: middle;\n    }\n\n    .dataframe tbody tr th {\n        vertical-align: top;\n    }\n\n    .dataframe thead th {\n        text-align: right;\n    }\n</style>\n<table border=\"1\" class=\"dataframe\">\n  <thead>\n    <tr style=\"text-align: right;\">\n      <th></th>\n      <th>Customer_ID</th>\n      <th>NUTN_CC_ATM</th>\n      <th>NUTN_CC_POS</th>\n      <th>NUTN_DC_ATM</th>\n      <th>NUTN_DC_POS</th>\n      <th>NUTN_LD_ATM</th>\n      <th>NUTN_LD_BRANCH</th>\n      <th>NUTN_LD_INTERNET</th>\n      <th>NUTN_LD_OTHER</th>\n      <th>TNAM_CC_ATM</th>\n      <th>...</th>\n      <th>PCT_NUTN_CC</th>\n      <th>PCT_NUTN_DC</th>\n      <th>PCT_NUTN_LD</th>\n      <th>PCT_TNAM_CC</th>\n      <th>PCT_TNAM_DC</th>\n      <th>PCT_TNAM_LD</th>\n      <th>PCT_DAYS_TR_CC</th>\n      <th>PCT_DAYS_TR_DC</th>\n      <th>PCT_DAYS_TR_LD</th>\n      <th>YearMonth</th>\n    </tr>\n  </thead>\n  <tbody>\n    <tr>\n      <th>0</th>\n      <td>2</td>\n      <td>NaN</td>\n      <td>NaN</td>\n      <td>NaN</td>\n      <td>1.0</td>\n      <td>NaN</td>\n      <td>NaN</td>\n      <td>NaN</td>\n      <td>NaN</td>\n      <td>NaN</td>\n      <td>...</td>\n      <td>NaN</td>\n      <td>1.000000</td>\n      <td>NaN</td>\n      <td>NaN</td>\n      <td>NaN</td>\n      <td>NaN</td>\n      <td>NaN</td>\n      <td>1.0</td>\n      <td>NaN</td>\n      <td>2018-06-01</td>\n    </tr>\n    <tr>\n      <th>1</th>\n      <td>3</td>\n      <td>NaN</td>\n      <td>NaN</td>\n      <td>5.0</td>\n      <td>8.0</td>\n      <td>1.0</td>\n      <td>5.0</td>\n      <td>7.0</td>\n      <td>7.0</td>\n      <td>NaN</td>\n      <td>...</td>\n      <td>NaN</td>\n      <td>0.393939</td>\n      <td>0.606061</td>\n      <td>NaN</td>\n      <td>0.210289</td>\n      <td>0.789711</td>\n      <td>NaN</td>\n      <td>0.5</td>\n      <td>0.700000</td>\n      <td>2018-06-01</td>\n    </tr>\n    <tr>\n      <th>2</th>\n      <td>4</td>\n      <td>24.0</td>\n      <td>18.0</td>\n      <td>NaN</td>\n      <td>NaN</td>\n      <td>2.0</td>\n      <td>NaN</td>\n      <td>NaN</td>\n      <td>NaN</td>\n      <td>2002.91</td>\n      <td>...</td>\n      <td>0.954545</td>\n      <td>NaN</td>\n      <td>0.045455</td>\n      <td>0.711657</td>\n      <td>NaN</td>\n      <td>0.288343</td>\n      <td>0.956522</td>\n      <td>NaN</td>\n      <td>0.086957</td>\n      <td>2018-06-01</td>\n    </tr>\n    <tr>\n      <th>3</th>\n      <td>5</td>\n      <td>15.0</td>\n      <td>11.0</td>\n      <td>NaN</td>\n      <td>NaN</td>\n      <td>NaN</td>\n      <td>NaN</td>\n      <td>NaN</td>\n      <td>2.0</td>\n      <td>707.46</td>\n      <td>...</td>\n      <td>0.928571</td>\n      <td>NaN</td>\n      <td>0.071429</td>\n      <td>0.788336</td>\n      <td>NaN</td>\n      <td>0.211664</td>\n      <td>0.944444</td>\n      <td>NaN</td>\n      <td>0.111111</td>\n      <td>2018-06-01</td>\n    </tr>\n    <tr>\n      <th>4</th>\n      <td>6</td>\n      <td>24.0</td>\n      <td>17.0</td>\n      <td>NaN</td>\n      <td>NaN</td>\n      <td>1.0</td>\n      <td>2.0</td>\n      <td>NaN</td>\n      <td>5.0</td>\n      <td>4933.99</td>\n      <td>...</td>\n      <td>0.836735</td>\n      <td>NaN</td>\n      <td>0.163265</td>\n      <td>0.670863</td>\n      <td>NaN</td>\n      <td>0.329137</td>\n      <td>0.954545</td>\n      <td>NaN</td>\n      <td>0.318182</td>\n      <td>2018-06-01</td>\n    </tr>\n  </tbody>\n</table>\n<p>5 rows × 73 columns</p>\n</div>",
            "text/plain": "   Customer_ID  NUTN_CC_ATM  NUTN_CC_POS  NUTN_DC_ATM  NUTN_DC_POS  \\\n0            2          NaN          NaN          NaN          1.0   \n1            3          NaN          NaN          5.0          8.0   \n2            4         24.0         18.0          NaN          NaN   \n3            5         15.0         11.0          NaN          NaN   \n4            6         24.0         17.0          NaN          NaN   \n\n   NUTN_LD_ATM  NUTN_LD_BRANCH  NUTN_LD_INTERNET  NUTN_LD_OTHER  TNAM_CC_ATM  \\\n0          NaN             NaN               NaN            NaN          NaN   \n1          1.0             5.0               7.0            7.0          NaN   \n2          2.0             NaN               NaN            NaN      2002.91   \n3          NaN             NaN               NaN            2.0       707.46   \n4          1.0             2.0               NaN            5.0      4933.99   \n\n   ...  PCT_NUTN_CC  PCT_NUTN_DC  PCT_NUTN_LD  PCT_TNAM_CC  PCT_TNAM_DC  \\\n0  ...          NaN     1.000000          NaN          NaN          NaN   \n1  ...          NaN     0.393939     0.606061          NaN     0.210289   \n2  ...     0.954545          NaN     0.045455     0.711657          NaN   \n3  ...     0.928571          NaN     0.071429     0.788336          NaN   \n4  ...     0.836735          NaN     0.163265     0.670863          NaN   \n\n   PCT_TNAM_LD  PCT_DAYS_TR_CC  PCT_DAYS_TR_DC  PCT_DAYS_TR_LD   YearMonth  \n0          NaN             NaN             1.0             NaN  2018-06-01  \n1     0.789711             NaN             0.5        0.700000  2018-06-01  \n2     0.288343        0.956522             NaN        0.086957  2018-06-01  \n3     0.211664        0.944444             NaN        0.111111  2018-06-01  \n4     0.329137        0.954545             NaN        0.318182  2018-06-01  \n\n[5 rows x 73 columns]"
          },
          "metadata": {}
        }
      ]
    },
    {
      "metadata": {
        "trusted": true
      },
      "cell_type": "code",
      "source": "",
      "execution_count": null,
      "outputs": []
    },
    {
      "metadata": {
        "trusted": true
      },
      "cell_type": "code",
      "source": "#!pip install --upgrade pandas",
      "execution_count": 223,
      "outputs": []
    },
    {
      "metadata": {
        "trusted": true
      },
      "cell_type": "code",
      "source": "def write_pandas_dataframe_to_blob(blob_service, df, container_name, blob_name):\n    \"\"\" Write Pandas dataframe to blob storage \"\"\"\n    buffer = BytesIO()\n    df.to_parquet(buffer)\n    blob_service.create_blob_from_bytes(\n        container_name=container_name, blob_name=blob_name, blob=buffer.getvalue()\n    )",
      "execution_count": 224,
      "outputs": []
    },
    {
      "metadata": {
        "trusted": true
      },
      "cell_type": "code",
      "source": "write_to_blob_parquet = 'ailiev/Transactions_Master_' + YearMonth + '.parquet.gzip' #Transactions_Master_2018-01-01.parquet.gzip",
      "execution_count": 225,
      "outputs": []
    },
    {
      "metadata": {
        "trusted": true
      },
      "cell_type": "code",
      "source": "# Write to blob using pyarrow\nwrite_pandas_dataframe_to_blob(blob_service, trans_agg_all, 'banking-dm', write_to_blob_parquet)",
      "execution_count": 226,
      "outputs": []
    },
    {
      "metadata": {
        "trusted": true
      },
      "cell_type": "code",
      "source": "",
      "execution_count": null,
      "outputs": []
    },
    {
      "metadata": {
        "trusted": true
      },
      "cell_type": "code",
      "source": "",
      "execution_count": null,
      "outputs": []
    },
    {
      "metadata": {
        "trusted": true
      },
      "cell_type": "code",
      "source": "#!pip list#",
      "execution_count": 227,
      "outputs": []
    },
    {
      "metadata": {
        "trusted": true
      },
      "cell_type": "code",
      "source": "#check#",
      "execution_count": 228,
      "outputs": []
    },
    {
      "metadata": {
        "trusted": true
      },
      "cell_type": "code",
      "source": "#read in csv file\n#byte_stream = BytesIO()\n#try:\n#   blob_service.get_blob_to_stream(container_name=container_name, blob_name='ailiev/Transactions_Master.parquet.gzip', stream=byte_stream)\n#   check = pq.read_table(source=byte_stream).to_pandas()\n   # Do work on df ...\n#finally:\n   # Add finally block to ensure closure of the stream\n#   byte_stream.close()",
      "execution_count": 229,
      "outputs": []
    },
    {
      "metadata": {
        "trusted": true
      },
      "cell_type": "code",
      "source": "#check.head()",
      "execution_count": 230,
      "outputs": []
    },
    {
      "metadata": {
        "trusted": true
      },
      "cell_type": "code",
      "source": "",
      "execution_count": null,
      "outputs": []
    }
  ],
  "metadata": {
    "kernelspec": {
      "name": "python3",
      "display_name": "Python 3",
      "language": "python"
    },
    "language_info": {
      "mimetype": "text/x-python",
      "nbconvert_exporter": "python",
      "name": "python",
      "pygments_lexer": "ipython3",
      "version": "3.5.4",
      "file_extension": ".py",
      "codemirror_mode": {
        "version": 3,
        "name": "ipython"
      }
    }
  },
  "nbformat": 4,
  "nbformat_minor": 2
}