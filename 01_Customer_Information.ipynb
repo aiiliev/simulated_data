{
  "cells": [
    {
      "metadata": {
        "trusted": true
      },
      "cell_type": "code",
      "source": "!pip install --upgrade pandas",
      "execution_count": 1,
      "outputs": [
        {
          "output_type": "stream",
          "text": "Collecting pandas\n\u001b[?25l  Downloading https://files.pythonhosted.org/packages/74/24/0cdbf8907e1e3bc5a8da03345c23cbed7044330bb8f73bb12e711a640a00/pandas-0.24.2-cp35-cp35m-manylinux1_x86_64.whl (10.0MB)\n\u001b[K     |████████████████████████████████| 10.0MB 3.5MB/s eta 0:00:01    |█████████████▎                  | 4.2MB 3.5MB/s eta 0:00:02\n\u001b[?25hRequirement already satisfied, skipping upgrade: numpy>=1.12.0 in /home/nbuser/anaconda3_420/lib/python3.5/site-packages (from pandas) (1.16.3)\nRequirement already satisfied, skipping upgrade: pytz>=2011k in /home/nbuser/anaconda3_420/lib/python3.5/site-packages (from pandas) (2016.6.1)\nRequirement already satisfied, skipping upgrade: python-dateutil>=2.5.0 in /home/nbuser/anaconda3_420/lib/python3.5/site-packages (from pandas) (2.7.5)\nRequirement already satisfied, skipping upgrade: six>=1.5 in /home/nbuser/anaconda3_420/lib/python3.5/site-packages (from python-dateutil>=2.5.0->pandas) (1.11.0)\nInstalling collected packages: pandas\n  Found existing installation: pandas 0.19.2\n    Uninstalling pandas-0.19.2:\n      Successfully uninstalled pandas-0.19.2\nSuccessfully installed pandas-0.24.2\n\u001b[33mWARNING: You are using pip version 19.1, however version 19.1.1 is available.\nYou should consider upgrading via the 'pip install --upgrade pip' command.\u001b[0m\n",
          "name": "stdout"
        }
      ]
    },
    {
      "metadata": {
        "trusted": true
      },
      "cell_type": "code",
      "source": "!pip install pyarrow",
      "execution_count": 2,
      "outputs": [
        {
          "output_type": "stream",
          "text": "Requirement already satisfied: pyarrow in /home/nbuser/anaconda3_420/lib/python3.5/site-packages (0.13.0)\nRequirement already satisfied: six>=1.0.0 in /home/nbuser/anaconda3_420/lib/python3.5/site-packages (from pyarrow) (1.11.0)\nRequirement already satisfied: numpy>=1.14 in /home/nbuser/anaconda3_420/lib/python3.5/site-packages (from pyarrow) (1.16.3)\n\u001b[33mWARNING: You are using pip version 19.1, however version 19.1.1 is available.\nYou should consider upgrading via the 'pip install --upgrade pip' command.\u001b[0m\n",
          "name": "stdout"
        }
      ]
    },
    {
      "metadata": {
        "trusted": true
      },
      "cell_type": "code",
      "source": "import pandas as pd\nimport numpy as np\nfrom numpy import nan as NA\nimport os\nimport gc\nfrom pandas.tseries.offsets import MonthEnd\n\nfrom azure.storage.blob import BlockBlobService\nimport pyarrow.parquet as pq\nfrom io import StringIO\nfrom io import BytesIO",
      "execution_count": 3,
      "outputs": []
    },
    {
      "metadata": {
        "trusted": true
      },
      "cell_type": "code",
      "source": "YearMonth = '2018-01-01'",
      "execution_count": 4,
      "outputs": []
    },
    {
      "metadata": {
        "trusted": true
      },
      "cell_type": "code",
      "source": "#Azure account credentials\nazure_storage_account_name = \"agedatasciencecocstorage\"\nazure_storage_account_key = \"V/FXG+lIWtYc854wbRA8BxGCLGJijS0NDwLvNHfmAxqRopAL3WHWGIQoHxpArG9lZoX+iY+dvtPYoB379w4MIw==\"\n\nif azure_storage_account_name is None or azure_storage_account_key is None:\n    raise Exception(\"You must provide a name and key for an Azure Storage account\")",
      "execution_count": 5,
      "outputs": []
    },
    {
      "metadata": {
        "trusted": true
      },
      "cell_type": "code",
      "source": "# First, we need to connect to our blob via the BlobService\nblob_service = BlockBlobService(azure_storage_account_name, azure_storage_account_key)\n# There are also methods to list containers and blobs\n#containers = blob_service.list_containers()\nblobs = blob_service.list_blobs('banking-dm')",
      "execution_count": 6,
      "outputs": []
    },
    {
      "metadata": {
        "trusted": true
      },
      "cell_type": "code",
      "source": "# List the blobs in the container.\nprint(\"\\nList blobs in the container\")\n#generator = block_blob_service.list_blobs(container_name)\nfor blob in blobs:\n    print(\"\\t Blob name: \" + blob.name)",
      "execution_count": 7,
      "outputs": [
        {
          "output_type": "stream",
          "text": "\nList blobs in the container\n\t Blob name: ailiev/Balances_Master_2018-01-01.parquet.gzip\n\t Blob name: ailiev/Balances_Master_2018-02-01.parquet.gzip\n\t Blob name: ailiev/Balances_Master_2018-03-01.parquet.gzip\n\t Blob name: ailiev/Balances_Master_2018-04-01.parquet.gzip\n\t Blob name: ailiev/Balances_Master_2018-05-01.parquet.gzip\n\t Blob name: ailiev/Balances_Master_2018-06-01.parquet.gzip\n\t Blob name: ailiev/Transactions_Master_2018-01-01.parquet.gzip\n\t Blob name: ailiev/Transactions_Master_2018-02-01.parquet.gzip\n\t Blob name: ailiev/Transactions_Master_2018-03-01.parquet.gzip\n\t Blob name: ailiev/Transactions_Master_2018-04-01.parquet.gzip\n\t Blob name: ailiev/Transactions_Master_2018-05-01.parquet.gzip\n\t Blob name: ailiev/Transactions_Master_2018-06-01.parquet.gzip\n\t Blob name: ailiev/sample.txt\n\t Blob name: data/Customer_economic_sector_lookup.csv\n\t Blob name: data/Customer_information_2018-01-01.parquet.gzip\n\t Blob name: data/Customer_information_2018-02-01.parquet.gzip\n\t Blob name: data/Customer_information_2018-03-01.parquet.gzip\n\t Blob name: data/Customer_information_2018-04-01.parquet.gzip\n\t Blob name: data/Customer_information_2018-05-01.parquet.gzip\n\t Blob name: data/Customer_information_2018-06-01.parquet.gzip\n\t Blob name: data/Monthly_Balance_2018-01-01.parquet.gzip\n\t Blob name: data/Monthly_Balance_2018-02-01.parquet.gzip\n\t Blob name: data/Monthly_Balance_2018-03-01.parquet.gzip\n\t Blob name: data/Monthly_Balance_2018-04-01.parquet.gzip\n\t Blob name: data/Monthly_Balance_2018-05-01.parquet.gzip\n\t Blob name: data/Monthly_Balance_2018-06-01.parquet.gzip\n\t Blob name: data/Ownership_2018-01-01.parquet.gzip\n\t Blob name: data/Ownership_2018-02-01.parquet.gzip\n\t Blob name: data/Ownership_2018-03-01.parquet.gzip\n\t Blob name: data/Ownership_2018-04-01.parquet.gzip\n\t Blob name: data/Ownership_2018-05-01.parquet.gzip\n\t Blob name: data/Ownership_2018-06-01.parquet.gzip\n\t Blob name: data/Product_lookup.csv\n\t Blob name: data/Transactions_2018-01-01.parquet.gzip\n\t Blob name: data/Transactions_2018-02-01.parquet.gzip\n\t Blob name: data/Transactions_2018-03-01.parquet.gzip\n\t Blob name: data/Transactions_2018-04-01.parquet.gzip\n\t Blob name: data/Transactions_2018-05-01.parquet.gzip\n\t Blob name: data/Transactions_2018-06-01.parquet.gzip\n\t Blob name: data/transaction_codes_lookup.csv\n\t Blob name: testdata/Loans2015.csv\n\t Blob name: testdata/Loans2015.parquet.gzip\n",
          "name": "stdout"
        }
      ]
    },
    {
      "metadata": {},
      "cell_type": "markdown",
      "source": "### Read Data"
    },
    {
      "metadata": {
        "trusted": true
      },
      "cell_type": "code",
      "source": "container_name = \"banking-dm\"\nblob_name_parquet = 'data/Customer_information_' + YearMonth + '.parquet.gzip'\nblob_name = 'data/Customer_economic_sector_lookup.csv'",
      "execution_count": 8,
      "outputs": []
    },
    {
      "metadata": {
        "trusted": true
      },
      "cell_type": "code",
      "source": "byte_stream = BytesIO()\ntry:\n   blob_service.get_blob_to_stream(container_name=container_name, blob_name=blob_name_parquet, stream=byte_stream)\n   cust_info = pq.read_table(source=byte_stream).to_pandas()\n   # Do work on df ...\nfinally:\n   # Add finally block to ensure closure of the stream\n   byte_stream.close()",
      "execution_count": 9,
      "outputs": []
    },
    {
      "metadata": {
        "trusted": true
      },
      "cell_type": "code",
      "source": "cust_info.head()",
      "execution_count": 10,
      "outputs": [
        {
          "output_type": "execute_result",
          "execution_count": 10,
          "data": {
            "text/html": "<div>\n<style scoped>\n    .dataframe tbody tr th:only-of-type {\n        vertical-align: middle;\n    }\n\n    .dataframe tbody tr th {\n        vertical-align: top;\n    }\n\n    .dataframe thead th {\n        text-align: right;\n    }\n</style>\n<table border=\"1\" class=\"dataframe\">\n  <thead>\n    <tr style=\"text-align: right;\">\n      <th></th>\n      <th>Customer_ID</th>\n      <th>YearMonth</th>\n      <th>Birth_date</th>\n      <th>Customer_type</th>\n      <th>Customer_category</th>\n      <th>Gender</th>\n      <th>Marital_Status</th>\n      <th>Company_age</th>\n      <th>Customer_economic_sector</th>\n      <th>Customer_economic_branch</th>\n    </tr>\n  </thead>\n  <tbody>\n    <tr>\n      <th>0</th>\n      <td>1</td>\n      <td>2018-01-01</td>\n      <td>1971-09-10</td>\n      <td>Individual</td>\n      <td>None</td>\n      <td>F</td>\n      <td>Divorced</td>\n      <td>None</td>\n      <td>ECO03</td>\n      <td>BR160</td>\n    </tr>\n    <tr>\n      <th>1</th>\n      <td>2</td>\n      <td>2018-01-01</td>\n      <td>1974-12-01</td>\n      <td>Professional</td>\n      <td>None</td>\n      <td>M</td>\n      <td>Married</td>\n      <td>None</td>\n      <td>ECO06</td>\n      <td>BR09</td>\n    </tr>\n    <tr>\n      <th>2</th>\n      <td>3</td>\n      <td>2018-01-01</td>\n      <td>1992-05-21</td>\n      <td>Individual</td>\n      <td>None</td>\n      <td>M</td>\n      <td>Married</td>\n      <td>None</td>\n      <td>ECO13</td>\n      <td>BR145</td>\n    </tr>\n    <tr>\n      <th>3</th>\n      <td>4</td>\n      <td>2018-01-01</td>\n      <td>None</td>\n      <td>Small Business</td>\n      <td>Retail</td>\n      <td>None</td>\n      <td>None</td>\n      <td>1977-11-08</td>\n      <td>ECO08</td>\n      <td>BR14</td>\n    </tr>\n    <tr>\n      <th>4</th>\n      <td>5</td>\n      <td>2018-01-01</td>\n      <td>1978-06-05</td>\n      <td>Individual</td>\n      <td>None</td>\n      <td>M</td>\n      <td>Single</td>\n      <td>None</td>\n      <td>ECO02</td>\n      <td>BR171</td>\n    </tr>\n  </tbody>\n</table>\n</div>",
            "text/plain": "   Customer_ID   YearMonth  Birth_date   Customer_type Customer_category  \\\n0            1  2018-01-01  1971-09-10      Individual              None   \n1            2  2018-01-01  1974-12-01    Professional              None   \n2            3  2018-01-01  1992-05-21      Individual              None   \n3            4  2018-01-01        None  Small Business            Retail   \n4            5  2018-01-01  1978-06-05      Individual              None   \n\n  Gender Marital_Status Company_age Customer_economic_sector  \\\n0      F       Divorced        None                    ECO03   \n1      M        Married        None                    ECO06   \n2      M        Married        None                    ECO13   \n3   None           None  1977-11-08                    ECO08   \n4      M         Single        None                    ECO02   \n\n  Customer_economic_branch  \n0                    BR160  \n1                     BR09  \n2                    BR145  \n3                     BR14  \n4                    BR171  "
          },
          "metadata": {}
        }
      ]
    },
    {
      "metadata": {
        "trusted": true
      },
      "cell_type": "code",
      "source": "cust_info.shape",
      "execution_count": 11,
      "outputs": [
        {
          "output_type": "execute_result",
          "execution_count": 11,
          "data": {
            "text/plain": "(100000, 10)"
          },
          "metadata": {}
        }
      ]
    },
    {
      "metadata": {
        "trusted": true
      },
      "cell_type": "code",
      "source": "pd.value_counts(cust_info['Gender'], dropna=False)",
      "execution_count": 12,
      "outputs": [
        {
          "output_type": "execute_result",
          "execution_count": 12,
          "data": {
            "text/plain": "M      44022\nF      40602\nNaN    15376\nName: Gender, dtype: int64"
          },
          "metadata": {}
        }
      ]
    },
    {
      "metadata": {
        "trusted": true
      },
      "cell_type": "code",
      "source": "#Data Audit\n#Count + Unique Count + Missing values by column; Statistic summary for numeric variables; Frequencies for non-numeric variables\ndef data_audit(df, excel_name = 'Data_Audit.xlsx'):\n    #open excel writer\n    writer = pd.ExcelWriter(str(output_path + excel_name))\n    #sum up the missing values by columns\n    missing = pd.Series(df.isnull().sum(), name='missing')\n    #use describe function on all columns, transpose it and join the missings summary from above\n    describe = df.describe(include='all').T.join(missing)[['count', 'unique', 'missing']]\n    #write to excel\n    describe.to_excel(writer, sheet_name=\"Summary\", na_rep='NA')\n    #find categorical/numerical columns\n    categorical_columns = [col for col in df.columns if df[col].dtype == 'O']\n    numerical_columns = [col for col in df.columns if df[col].dtype != 'O']\n    #export describe statistics only for numeric variables\n    missing_num = pd.Series(df[numerical_columns].isnull().sum(), name='missing')\n    df[numerical_columns].describe(include='all').T.join(missing_num).to_excel(writer, sheet_name=\"Numeric\", na_rep='NA')\n    #loop all categorical variables, value counts, append Total and export to excel sheet\n    for value in categorical_columns:\n        dictionary = {}\n        dictionary = {'Total': df[value].value_counts(dropna=False).sum()}\n        df[value].value_counts(dropna=False).append(pd.Series(dictionary)).to_excel(writer, sheet_name=value, na_rep='NA')\n    #close excel writer\n    writer.save()\n    del missing, describe, missing_num\n    gc.collect()",
      "execution_count": null,
      "outputs": []
    },
    {
      "metadata": {
        "trusted": true
      },
      "cell_type": "code",
      "source": "#data_audit(cust_info, 'Cust_Info_Data_Audit.xlsx')",
      "execution_count": null,
      "outputs": []
    },
    {
      "metadata": {
        "trusted": true
      },
      "cell_type": "code",
      "source": "#read csv file\nblobstring = blob_service.get_blob_to_text(container_name, blob_name).content\neco_sector = pd.read_csv(StringIO(blobstring), header=0, sep=';')",
      "execution_count": 13,
      "outputs": []
    },
    {
      "metadata": {
        "trusted": true
      },
      "cell_type": "code",
      "source": "eco_sector",
      "execution_count": 14,
      "outputs": [
        {
          "output_type": "execute_result",
          "execution_count": 14,
          "data": {
            "text/html": "<div>\n<style scoped>\n    .dataframe tbody tr th:only-of-type {\n        vertical-align: middle;\n    }\n\n    .dataframe tbody tr th {\n        vertical-align: top;\n    }\n\n    .dataframe thead th {\n        text-align: right;\n    }\n</style>\n<table border=\"1\" class=\"dataframe\">\n  <thead>\n    <tr style=\"text-align: right;\">\n      <th></th>\n      <th>Sector</th>\n      <th>Customer_economic_sector_code</th>\n    </tr>\n  </thead>\n  <tbody>\n    <tr>\n      <th>0</th>\n      <td>Architecture and Construction</td>\n      <td>ECO01</td>\n    </tr>\n    <tr>\n      <th>1</th>\n      <td>Agriculture and Food</td>\n      <td>ECO02</td>\n    </tr>\n    <tr>\n      <th>2</th>\n      <td>Arts and Communications</td>\n      <td>ECO03</td>\n    </tr>\n    <tr>\n      <th>3</th>\n      <td>Business Administration</td>\n      <td>ECO04</td>\n    </tr>\n    <tr>\n      <th>4</th>\n      <td>Education and Training</td>\n      <td>ECO05</td>\n    </tr>\n    <tr>\n      <th>5</th>\n      <td>Finance</td>\n      <td>ECO06</td>\n    </tr>\n    <tr>\n      <th>6</th>\n      <td>Government and Public</td>\n      <td>ECO07</td>\n    </tr>\n    <tr>\n      <th>7</th>\n      <td>Health and Science</td>\n      <td>ECO08</td>\n    </tr>\n    <tr>\n      <th>8</th>\n      <td>Hospitality and Tourism</td>\n      <td>ECO09</td>\n    </tr>\n    <tr>\n      <th>9</th>\n      <td>Human Services</td>\n      <td>ECO10</td>\n    </tr>\n    <tr>\n      <th>10</th>\n      <td>IT</td>\n      <td>ECO11</td>\n    </tr>\n    <tr>\n      <th>11</th>\n      <td>Law</td>\n      <td>ECO12</td>\n    </tr>\n    <tr>\n      <th>12</th>\n      <td>Manufacturing</td>\n      <td>ECO13</td>\n    </tr>\n    <tr>\n      <th>13</th>\n      <td>Marketing and Sales</td>\n      <td>ECO14</td>\n    </tr>\n    <tr>\n      <th>14</th>\n      <td>Science Technology</td>\n      <td>ECO15</td>\n    </tr>\n    <tr>\n      <th>15</th>\n      <td>Distribution and Logistics</td>\n      <td>ECO16</td>\n    </tr>\n  </tbody>\n</table>\n</div>",
            "text/plain": "                           Sector Customer_economic_sector_code\n0   Architecture and Construction                         ECO01\n1            Agriculture and Food                         ECO02\n2         Arts and Communications                         ECO03\n3         Business Administration                         ECO04\n4          Education and Training                         ECO05\n5                         Finance                         ECO06\n6           Government and Public                         ECO07\n7              Health and Science                         ECO08\n8         Hospitality and Tourism                         ECO09\n9                  Human Services                         ECO10\n10                             IT                         ECO11\n11                            Law                         ECO12\n12                  Manufacturing                         ECO13\n13            Marketing and Sales                         ECO14\n14             Science Technology                         ECO15\n15     Distribution and Logistics                         ECO16"
          },
          "metadata": {}
        }
      ]
    },
    {
      "metadata": {
        "trusted": true
      },
      "cell_type": "code",
      "source": "merged = cust_info.merge(eco_sector, how='left', left_on='Customer_economic_sector', right_on='Customer_economic_sector_code')",
      "execution_count": 15,
      "outputs": []
    },
    {
      "metadata": {
        "trusted": true
      },
      "cell_type": "code",
      "source": "merged.head()",
      "execution_count": 16,
      "outputs": [
        {
          "output_type": "execute_result",
          "execution_count": 16,
          "data": {
            "text/html": "<div>\n<style scoped>\n    .dataframe tbody tr th:only-of-type {\n        vertical-align: middle;\n    }\n\n    .dataframe tbody tr th {\n        vertical-align: top;\n    }\n\n    .dataframe thead th {\n        text-align: right;\n    }\n</style>\n<table border=\"1\" class=\"dataframe\">\n  <thead>\n    <tr style=\"text-align: right;\">\n      <th></th>\n      <th>Customer_ID</th>\n      <th>YearMonth</th>\n      <th>Birth_date</th>\n      <th>Customer_type</th>\n      <th>Customer_category</th>\n      <th>Gender</th>\n      <th>Marital_Status</th>\n      <th>Company_age</th>\n      <th>Customer_economic_sector</th>\n      <th>Customer_economic_branch</th>\n      <th>Sector</th>\n      <th>Customer_economic_sector_code</th>\n    </tr>\n  </thead>\n  <tbody>\n    <tr>\n      <th>0</th>\n      <td>1</td>\n      <td>2018-01-01</td>\n      <td>1971-09-10</td>\n      <td>Individual</td>\n      <td>None</td>\n      <td>F</td>\n      <td>Divorced</td>\n      <td>None</td>\n      <td>ECO03</td>\n      <td>BR160</td>\n      <td>Arts and Communications</td>\n      <td>ECO03</td>\n    </tr>\n    <tr>\n      <th>1</th>\n      <td>2</td>\n      <td>2018-01-01</td>\n      <td>1974-12-01</td>\n      <td>Professional</td>\n      <td>None</td>\n      <td>M</td>\n      <td>Married</td>\n      <td>None</td>\n      <td>ECO06</td>\n      <td>BR09</td>\n      <td>Finance</td>\n      <td>ECO06</td>\n    </tr>\n    <tr>\n      <th>2</th>\n      <td>3</td>\n      <td>2018-01-01</td>\n      <td>1992-05-21</td>\n      <td>Individual</td>\n      <td>None</td>\n      <td>M</td>\n      <td>Married</td>\n      <td>None</td>\n      <td>ECO13</td>\n      <td>BR145</td>\n      <td>Manufacturing</td>\n      <td>ECO13</td>\n    </tr>\n    <tr>\n      <th>3</th>\n      <td>4</td>\n      <td>2018-01-01</td>\n      <td>None</td>\n      <td>Small Business</td>\n      <td>Retail</td>\n      <td>None</td>\n      <td>None</td>\n      <td>1977-11-08</td>\n      <td>ECO08</td>\n      <td>BR14</td>\n      <td>Health and Science</td>\n      <td>ECO08</td>\n    </tr>\n    <tr>\n      <th>4</th>\n      <td>5</td>\n      <td>2018-01-01</td>\n      <td>1978-06-05</td>\n      <td>Individual</td>\n      <td>None</td>\n      <td>M</td>\n      <td>Single</td>\n      <td>None</td>\n      <td>ECO02</td>\n      <td>BR171</td>\n      <td>Agriculture and Food</td>\n      <td>ECO02</td>\n    </tr>\n  </tbody>\n</table>\n</div>",
            "text/plain": "   Customer_ID   YearMonth  Birth_date   Customer_type Customer_category  \\\n0            1  2018-01-01  1971-09-10      Individual              None   \n1            2  2018-01-01  1974-12-01    Professional              None   \n2            3  2018-01-01  1992-05-21      Individual              None   \n3            4  2018-01-01        None  Small Business            Retail   \n4            5  2018-01-01  1978-06-05      Individual              None   \n\n  Gender Marital_Status Company_age Customer_economic_sector  \\\n0      F       Divorced        None                    ECO03   \n1      M        Married        None                    ECO06   \n2      M        Married        None                    ECO13   \n3   None           None  1977-11-08                    ECO08   \n4      M         Single        None                    ECO02   \n\n  Customer_economic_branch                   Sector  \\\n0                    BR160  Arts and Communications   \n1                     BR09                  Finance   \n2                    BR145            Manufacturing   \n3                     BR14       Health and Science   \n4                    BR171     Agriculture and Food   \n\n  Customer_economic_sector_code  \n0                         ECO03  \n1                         ECO06  \n2                         ECO13  \n3                         ECO08  \n4                         ECO02  "
          },
          "metadata": {}
        }
      ]
    },
    {
      "metadata": {
        "trusted": true
      },
      "cell_type": "code",
      "source": "del merged['Customer_economic_sector']\ndel merged['Customer_economic_sector_code']",
      "execution_count": 17,
      "outputs": []
    },
    {
      "metadata": {
        "trusted": true
      },
      "cell_type": "code",
      "source": "merged.head()",
      "execution_count": 18,
      "outputs": [
        {
          "output_type": "execute_result",
          "execution_count": 18,
          "data": {
            "text/html": "<div>\n<style scoped>\n    .dataframe tbody tr th:only-of-type {\n        vertical-align: middle;\n    }\n\n    .dataframe tbody tr th {\n        vertical-align: top;\n    }\n\n    .dataframe thead th {\n        text-align: right;\n    }\n</style>\n<table border=\"1\" class=\"dataframe\">\n  <thead>\n    <tr style=\"text-align: right;\">\n      <th></th>\n      <th>Customer_ID</th>\n      <th>YearMonth</th>\n      <th>Birth_date</th>\n      <th>Customer_type</th>\n      <th>Customer_category</th>\n      <th>Gender</th>\n      <th>Marital_Status</th>\n      <th>Company_age</th>\n      <th>Customer_economic_branch</th>\n      <th>Sector</th>\n    </tr>\n  </thead>\n  <tbody>\n    <tr>\n      <th>0</th>\n      <td>1</td>\n      <td>2018-01-01</td>\n      <td>1971-09-10</td>\n      <td>Individual</td>\n      <td>None</td>\n      <td>F</td>\n      <td>Divorced</td>\n      <td>None</td>\n      <td>BR160</td>\n      <td>Arts and Communications</td>\n    </tr>\n    <tr>\n      <th>1</th>\n      <td>2</td>\n      <td>2018-01-01</td>\n      <td>1974-12-01</td>\n      <td>Professional</td>\n      <td>None</td>\n      <td>M</td>\n      <td>Married</td>\n      <td>None</td>\n      <td>BR09</td>\n      <td>Finance</td>\n    </tr>\n    <tr>\n      <th>2</th>\n      <td>3</td>\n      <td>2018-01-01</td>\n      <td>1992-05-21</td>\n      <td>Individual</td>\n      <td>None</td>\n      <td>M</td>\n      <td>Married</td>\n      <td>None</td>\n      <td>BR145</td>\n      <td>Manufacturing</td>\n    </tr>\n    <tr>\n      <th>3</th>\n      <td>4</td>\n      <td>2018-01-01</td>\n      <td>None</td>\n      <td>Small Business</td>\n      <td>Retail</td>\n      <td>None</td>\n      <td>None</td>\n      <td>1977-11-08</td>\n      <td>BR14</td>\n      <td>Health and Science</td>\n    </tr>\n    <tr>\n      <th>4</th>\n      <td>5</td>\n      <td>2018-01-01</td>\n      <td>1978-06-05</td>\n      <td>Individual</td>\n      <td>None</td>\n      <td>M</td>\n      <td>Single</td>\n      <td>None</td>\n      <td>BR171</td>\n      <td>Agriculture and Food</td>\n    </tr>\n  </tbody>\n</table>\n</div>",
            "text/plain": "   Customer_ID   YearMonth  Birth_date   Customer_type Customer_category  \\\n0            1  2018-01-01  1971-09-10      Individual              None   \n1            2  2018-01-01  1974-12-01    Professional              None   \n2            3  2018-01-01  1992-05-21      Individual              None   \n3            4  2018-01-01        None  Small Business            Retail   \n4            5  2018-01-01  1978-06-05      Individual              None   \n\n  Gender Marital_Status Company_age Customer_economic_branch  \\\n0      F       Divorced        None                    BR160   \n1      M        Married        None                     BR09   \n2      M        Married        None                    BR145   \n3   None           None  1977-11-08                     BR14   \n4      M         Single        None                    BR171   \n\n                    Sector  \n0  Arts and Communications  \n1                  Finance  \n2            Manufacturing  \n3       Health and Science  \n4     Agriculture and Food  "
          },
          "metadata": {}
        }
      ]
    },
    {
      "metadata": {
        "trusted": true
      },
      "cell_type": "code",
      "source": "pd.value_counts(merged['YearMonth'], dropna=False)",
      "execution_count": null,
      "outputs": []
    },
    {
      "metadata": {
        "trusted": true
      },
      "cell_type": "code",
      "source": "merged.dtypes",
      "execution_count": null,
      "outputs": []
    },
    {
      "metadata": {
        "trusted": true
      },
      "cell_type": "code",
      "source": "#merged['YearMonth'] = pd.to_datetime(merged['YearMonth'], format=\"%Y-%m-%d\") + MonthEnd(1)\nmerged['YearMonth'] = pd.to_datetime(merged['YearMonth'], format=\"%Y-%m-%d\")  + MonthEnd(0)\nmerged['Birth_date'] = pd.to_datetime(merged['Birth_date'])\nmerged['Company_age'] = pd.to_datetime(merged['Company_age'])",
      "execution_count": 19,
      "outputs": []
    },
    {
      "metadata": {
        "trusted": true
      },
      "cell_type": "code",
      "source": "merged['Age_Months'] = np.where(pd.notnull(merged['Birth_date']), \n                         (merged['YearMonth'] - merged['Birth_date'])/np.timedelta64(1,'M'),\n                        (merged['YearMonth'] - merged['Company_age'])/np.timedelta64(1,'M'))",
      "execution_count": 21,
      "outputs": []
    },
    {
      "metadata": {
        "trusted": true
      },
      "cell_type": "code",
      "source": "merged['Age_Months'] = merged['Age_Months'].astype('int')",
      "execution_count": 22,
      "outputs": []
    },
    {
      "metadata": {
        "trusted": true
      },
      "cell_type": "code",
      "source": "del merged['Birth_date']\ndel merged['Company_age']",
      "execution_count": 23,
      "outputs": []
    },
    {
      "metadata": {
        "trusted": true
      },
      "cell_type": "code",
      "source": "merged.head()",
      "execution_count": 24,
      "outputs": [
        {
          "output_type": "execute_result",
          "execution_count": 24,
          "data": {
            "text/html": "<div>\n<style scoped>\n    .dataframe tbody tr th:only-of-type {\n        vertical-align: middle;\n    }\n\n    .dataframe tbody tr th {\n        vertical-align: top;\n    }\n\n    .dataframe thead th {\n        text-align: right;\n    }\n</style>\n<table border=\"1\" class=\"dataframe\">\n  <thead>\n    <tr style=\"text-align: right;\">\n      <th></th>\n      <th>Customer_ID</th>\n      <th>YearMonth</th>\n      <th>Customer_type</th>\n      <th>Customer_category</th>\n      <th>Gender</th>\n      <th>Marital_Status</th>\n      <th>Customer_economic_branch</th>\n      <th>Sector</th>\n      <th>Age_Months</th>\n    </tr>\n  </thead>\n  <tbody>\n    <tr>\n      <th>0</th>\n      <td>1</td>\n      <td>2018-01-31</td>\n      <td>Individual</td>\n      <td>None</td>\n      <td>F</td>\n      <td>Divorced</td>\n      <td>BR160</td>\n      <td>Arts and Communications</td>\n      <td>556</td>\n    </tr>\n    <tr>\n      <th>1</th>\n      <td>2</td>\n      <td>2018-01-31</td>\n      <td>Professional</td>\n      <td>None</td>\n      <td>M</td>\n      <td>Married</td>\n      <td>BR09</td>\n      <td>Finance</td>\n      <td>518</td>\n    </tr>\n    <tr>\n      <th>2</th>\n      <td>3</td>\n      <td>2018-01-31</td>\n      <td>Individual</td>\n      <td>None</td>\n      <td>M</td>\n      <td>Married</td>\n      <td>BR145</td>\n      <td>Manufacturing</td>\n      <td>308</td>\n    </tr>\n    <tr>\n      <th>3</th>\n      <td>4</td>\n      <td>2018-01-31</td>\n      <td>Small Business</td>\n      <td>Retail</td>\n      <td>None</td>\n      <td>None</td>\n      <td>BR14</td>\n      <td>Health and Science</td>\n      <td>482</td>\n    </tr>\n    <tr>\n      <th>4</th>\n      <td>5</td>\n      <td>2018-01-31</td>\n      <td>Individual</td>\n      <td>None</td>\n      <td>M</td>\n      <td>Single</td>\n      <td>BR171</td>\n      <td>Agriculture and Food</td>\n      <td>475</td>\n    </tr>\n  </tbody>\n</table>\n</div>",
            "text/plain": "   Customer_ID  YearMonth   Customer_type Customer_category Gender  \\\n0            1 2018-01-31      Individual              None      F   \n1            2 2018-01-31    Professional              None      M   \n2            3 2018-01-31      Individual              None      M   \n3            4 2018-01-31  Small Business            Retail   None   \n4            5 2018-01-31      Individual              None      M   \n\n  Marital_Status Customer_economic_branch                   Sector  Age_Months  \n0       Divorced                    BR160  Arts and Communications         556  \n1        Married                     BR09                  Finance         518  \n2        Married                    BR145            Manufacturing         308  \n3           None                     BR14       Health and Science         482  \n4         Single                    BR171     Agriculture and Food         475  "
          },
          "metadata": {}
        }
      ]
    },
    {
      "metadata": {
        "trusted": true
      },
      "cell_type": "code",
      "source": "pd.value_counts(merged['Gender'], dropna=False)",
      "execution_count": 26,
      "outputs": [
        {
          "output_type": "execute_result",
          "execution_count": 26,
          "data": {
            "text/plain": "M      44022\nF      40602\nNaN    15376\nName: Gender, dtype: int64"
          },
          "metadata": {}
        }
      ]
    },
    {
      "metadata": {
        "trusted": true
      },
      "cell_type": "code",
      "source": "pd.value_counts(merged[merged['Customer_type']=='Individual']['Customer_type'], dropna=False)",
      "execution_count": 27,
      "outputs": [
        {
          "output_type": "execute_result",
          "execution_count": 27,
          "data": {
            "text/plain": "Individual    84121\nName: Customer_type, dtype: int64"
          },
          "metadata": {}
        }
      ]
    },
    {
      "metadata": {
        "trusted": true
      },
      "cell_type": "code",
      "source": "merged = merged[merged['Customer_type']=='Individual']",
      "execution_count": 28,
      "outputs": []
    },
    {
      "metadata": {
        "trusted": true
      },
      "cell_type": "code",
      "source": "merged.head()",
      "execution_count": 29,
      "outputs": [
        {
          "output_type": "execute_result",
          "execution_count": 29,
          "data": {
            "text/html": "<div>\n<style scoped>\n    .dataframe tbody tr th:only-of-type {\n        vertical-align: middle;\n    }\n\n    .dataframe tbody tr th {\n        vertical-align: top;\n    }\n\n    .dataframe thead th {\n        text-align: right;\n    }\n</style>\n<table border=\"1\" class=\"dataframe\">\n  <thead>\n    <tr style=\"text-align: right;\">\n      <th></th>\n      <th>Customer_ID</th>\n      <th>YearMonth</th>\n      <th>Customer_type</th>\n      <th>Customer_category</th>\n      <th>Gender</th>\n      <th>Marital_Status</th>\n      <th>Customer_economic_branch</th>\n      <th>Sector</th>\n      <th>Age_Months</th>\n    </tr>\n  </thead>\n  <tbody>\n    <tr>\n      <th>0</th>\n      <td>1</td>\n      <td>2018-01-31</td>\n      <td>Individual</td>\n      <td>None</td>\n      <td>F</td>\n      <td>Divorced</td>\n      <td>BR160</td>\n      <td>Arts and Communications</td>\n      <td>556</td>\n    </tr>\n    <tr>\n      <th>2</th>\n      <td>3</td>\n      <td>2018-01-31</td>\n      <td>Individual</td>\n      <td>None</td>\n      <td>M</td>\n      <td>Married</td>\n      <td>BR145</td>\n      <td>Manufacturing</td>\n      <td>308</td>\n    </tr>\n    <tr>\n      <th>4</th>\n      <td>5</td>\n      <td>2018-01-31</td>\n      <td>Individual</td>\n      <td>None</td>\n      <td>M</td>\n      <td>Single</td>\n      <td>BR171</td>\n      <td>Agriculture and Food</td>\n      <td>475</td>\n    </tr>\n    <tr>\n      <th>5</th>\n      <td>6</td>\n      <td>2018-01-31</td>\n      <td>Individual</td>\n      <td>None</td>\n      <td>M</td>\n      <td>Married</td>\n      <td>BR67</td>\n      <td>Hospitality and Tourism</td>\n      <td>290</td>\n    </tr>\n    <tr>\n      <th>6</th>\n      <td>7</td>\n      <td>2018-01-31</td>\n      <td>Individual</td>\n      <td>None</td>\n      <td>M</td>\n      <td>Other</td>\n      <td>BR152</td>\n      <td>Health and Science</td>\n      <td>437</td>\n    </tr>\n  </tbody>\n</table>\n</div>",
            "text/plain": "   Customer_ID  YearMonth Customer_type Customer_category Gender  \\\n0            1 2018-01-31    Individual              None      F   \n2            3 2018-01-31    Individual              None      M   \n4            5 2018-01-31    Individual              None      M   \n5            6 2018-01-31    Individual              None      M   \n6            7 2018-01-31    Individual              None      M   \n\n  Marital_Status Customer_economic_branch                   Sector  Age_Months  \n0       Divorced                    BR160  Arts and Communications         556  \n2        Married                    BR145            Manufacturing         308  \n4         Single                    BR171     Agriculture and Food         475  \n5        Married                     BR67  Hospitality and Tourism         290  \n6          Other                    BR152       Health and Science         437  "
          },
          "metadata": {}
        }
      ]
    },
    {
      "metadata": {
        "trusted": true
      },
      "cell_type": "code",
      "source": "pd.value_counts(merged['Customer_category'], dropna=False)",
      "execution_count": 30,
      "outputs": [
        {
          "output_type": "execute_result",
          "execution_count": 30,
          "data": {
            "text/plain": "NaN    84121\nName: Customer_category, dtype: int64"
          },
          "metadata": {}
        }
      ]
    },
    {
      "metadata": {
        "trusted": true
      },
      "cell_type": "code",
      "source": "",
      "execution_count": null,
      "outputs": []
    }
  ],
  "metadata": {
    "kernelspec": {
      "name": "python3",
      "display_name": "Python 3",
      "language": "python"
    },
    "language_info": {
      "mimetype": "text/x-python",
      "nbconvert_exporter": "python",
      "name": "python",
      "pygments_lexer": "ipython3",
      "version": "3.5.4",
      "file_extension": ".py",
      "codemirror_mode": {
        "version": 3,
        "name": "ipython"
      }
    }
  },
  "nbformat": 4,
  "nbformat_minor": 2
}