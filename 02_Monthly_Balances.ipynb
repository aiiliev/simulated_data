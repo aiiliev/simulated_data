{
  "cells": [
    {
      "metadata": {
        "trusted": true
      },
      "cell_type": "code",
      "source": "!pip install --upgrade pandas",
      "execution_count": 1,
      "outputs": [
        {
          "output_type": "stream",
          "text": "Collecting pandas\n\u001b[?25l  Downloading https://files.pythonhosted.org/packages/74/24/0cdbf8907e1e3bc5a8da03345c23cbed7044330bb8f73bb12e711a640a00/pandas-0.24.2-cp35-cp35m-manylinux1_x86_64.whl (10.0MB)\n\u001b[K     |████████████████████████████████| 10.0MB 100kB/s eta 0:00:01\n\u001b[?25hRequirement already satisfied, skipping upgrade: pytz>=2011k in /home/nbuser/anaconda3_420/lib/python3.5/site-packages (from pandas) (2016.6.1)\nRequirement already satisfied, skipping upgrade: numpy>=1.12.0 in /home/nbuser/anaconda3_420/lib/python3.5/site-packages (from pandas) (1.16.3)\nRequirement already satisfied, skipping upgrade: python-dateutil>=2.5.0 in /home/nbuser/anaconda3_420/lib/python3.5/site-packages (from pandas) (2.7.5)\nRequirement already satisfied, skipping upgrade: six>=1.5 in /home/nbuser/anaconda3_420/lib/python3.5/site-packages (from python-dateutil>=2.5.0->pandas) (1.11.0)\nInstalling collected packages: pandas\n  Found existing installation: pandas 0.19.2\n    Uninstalling pandas-0.19.2:\n      Successfully uninstalled pandas-0.19.2\nSuccessfully installed pandas-0.24.2\n\u001b[33mWARNING: You are using pip version 19.1, however version 19.1.1 is available.\nYou should consider upgrading via the 'pip install --upgrade pip' command.\u001b[0m\n",
          "name": "stdout"
        }
      ]
    },
    {
      "metadata": {
        "trusted": true
      },
      "cell_type": "code",
      "source": "!pip install pyarrow",
      "execution_count": 2,
      "outputs": [
        {
          "output_type": "stream",
          "text": "Collecting pyarrow\n\u001b[?25l  Downloading https://files.pythonhosted.org/packages/0e/ee/71955f715d65afa1fc319b33dfe1976cd09a1a349af7756b232dbae85409/pyarrow-0.13.0-cp35-cp35m-manylinux1_x86_64.whl (48.5MB)\n\u001b[K     |████████████████████████████████| 48.5MB 36kB/s s eta 0:00:01     |███████████████████████▋        | 35.7MB 28.8MB/s eta 0:00:01\n\u001b[?25hRequirement already satisfied: numpy>=1.14 in /home/nbuser/anaconda3_420/lib/python3.5/site-packages (from pyarrow) (1.16.3)\nRequirement already satisfied: six>=1.0.0 in /home/nbuser/anaconda3_420/lib/python3.5/site-packages (from pyarrow) (1.11.0)\nInstalling collected packages: pyarrow\nSuccessfully installed pyarrow-0.13.0\n\u001b[33mWARNING: You are using pip version 19.1, however version 19.1.1 is available.\nYou should consider upgrading via the 'pip install --upgrade pip' command.\u001b[0m\n",
          "name": "stdout"
        }
      ]
    },
    {
      "metadata": {
        "trusted": true
      },
      "cell_type": "code",
      "source": "import pandas as pd\nimport numpy as np\nfrom numpy import nan as NA\nimport os\nimport gc\nfrom pandas.tseries.offsets import MonthEnd\n\nfrom azure.storage.blob import BlockBlobService\nimport pyarrow.parquet as pq\nfrom io import StringIO\nfrom io import BytesIO",
      "execution_count": 3,
      "outputs": []
    },
    {
      "metadata": {
        "trusted": true
      },
      "cell_type": "code",
      "source": "YearMonth = '2018-06-01'",
      "execution_count": 723,
      "outputs": []
    },
    {
      "metadata": {
        "trusted": true
      },
      "cell_type": "code",
      "source": "#Azure account credentials\nazure_storage_account_name = \"agedatasciencecocstorage\"\nazure_storage_account_key = \"V/FXG+lIWtYc854wbRA8BxGCLGJijS0NDwLvNHfmAxqRopAL3WHWGIQoHxpArG9lZoX+iY+dvtPYoB379w4MIw==\"\n\nif azure_storage_account_name is None or azure_storage_account_key is None:\n    raise Exception(\"You must provide a name and key for an Azure Storage account\")",
      "execution_count": 724,
      "outputs": []
    },
    {
      "metadata": {
        "trusted": true
      },
      "cell_type": "code",
      "source": "# First, we need to connect to our blob via the BlobService\nblob_service = BlockBlobService(azure_storage_account_name, azure_storage_account_key)\n# There are also methods to list containers and blobs\n#containers = blob_service.list_containers()\nblobs = blob_service.list_blobs('banking-dm')",
      "execution_count": 725,
      "outputs": []
    },
    {
      "metadata": {
        "trusted": true
      },
      "cell_type": "code",
      "source": "# List the blobs in the container.\nprint(\"\\nList blobs in the container\")\n#generator = block_blob_service.list_blobs(container_name)\nfor blob in blobs:\n    print(\"\\t Blob name: \" + blob.name)",
      "execution_count": 726,
      "outputs": [
        {
          "output_type": "stream",
          "text": "\nList blobs in the container\n\t Blob name: ailiev/Balances_Master_2018-01-01.parquet.gzip\n\t Blob name: ailiev/Balances_Master_2018-02-01.parquet.gzip\n\t Blob name: ailiev/Balances_Master_2018-03-01.parquet.gzip\n\t Blob name: ailiev/Balances_Master_2018-04-01.parquet.gzip\n\t Blob name: ailiev/Balances_Master_2018-06-01.parquet.gzip\n\t Blob name: ailiev/Transactions_Master_2018-01-01.parquet.gzip\n\t Blob name: ailiev/Transactions_Master_2018-02-01.parquet.gzip\n\t Blob name: ailiev/Transactions_Master_2018-03-01.parquet.gzip\n\t Blob name: ailiev/Transactions_Master_2018-04-01.parquet.gzip\n\t Blob name: ailiev/Transactions_Master_2018-05-01.parquet.gzip\n\t Blob name: ailiev/Transactions_Master_2018-06-01.parquet.gzip\n\t Blob name: ailiev/sample.txt\n\t Blob name: data/Customer_economic_sector_lookup.csv\n\t Blob name: data/Customer_information_2018-01-01.parquet.gzip\n\t Blob name: data/Customer_information_2018-02-01.parquet.gzip\n\t Blob name: data/Customer_information_2018-03-01.parquet.gzip\n\t Blob name: data/Customer_information_2018-04-01.parquet.gzip\n\t Blob name: data/Customer_information_2018-05-01.parquet.gzip\n\t Blob name: data/Customer_information_2018-06-01.parquet.gzip\n\t Blob name: data/Monthly_Balance_2018-01-01.parquet.gzip\n\t Blob name: data/Monthly_Balance_2018-02-01.parquet.gzip\n\t Blob name: data/Monthly_Balance_2018-03-01.parquet.gzip\n\t Blob name: data/Monthly_Balance_2018-04-01.parquet.gzip\n\t Blob name: data/Monthly_Balance_2018-05-01.parquet.gzip\n\t Blob name: data/Monthly_Balance_2018-06-01.parquet.gzip\n\t Blob name: data/Ownership_2018-01-01.parquet.gzip\n\t Blob name: data/Ownership_2018-02-01.parquet.gzip\n\t Blob name: data/Ownership_2018-03-01.parquet.gzip\n\t Blob name: data/Ownership_2018-04-01.parquet.gzip\n\t Blob name: data/Ownership_2018-05-01.parquet.gzip\n\t Blob name: data/Ownership_2018-06-01.parquet.gzip\n\t Blob name: data/Product_lookup.csv\n\t Blob name: data/Transactions_2018-01-01.parquet.gzip\n\t Blob name: data/Transactions_2018-02-01.parquet.gzip\n\t Blob name: data/Transactions_2018-03-01.parquet.gzip\n\t Blob name: data/Transactions_2018-04-01.parquet.gzip\n\t Blob name: data/Transactions_2018-05-01.parquet.gzip\n\t Blob name: data/Transactions_2018-06-01.parquet.gzip\n\t Blob name: data/transaction_codes_lookup.csv\n\t Blob name: testdata/Loans2015.csv\n\t Blob name: testdata/Loans2015.parquet.gzip\n",
          "name": "stdout"
        }
      ]
    },
    {
      "metadata": {},
      "cell_type": "markdown",
      "source": "### Read Data"
    },
    {
      "metadata": {
        "trusted": true
      },
      "cell_type": "code",
      "source": "container_name = \"banking-dm\"\nblob_name_parquet = 'data/Monthly_Balance_' + YearMonth + '.parquet.gzip'\nblob_name = 'data/Product_lookup.csv'",
      "execution_count": 727,
      "outputs": []
    },
    {
      "metadata": {
        "trusted": true
      },
      "cell_type": "code",
      "source": "byte_stream = BytesIO()\ntry:\n   blob_service.get_blob_to_stream(container_name=container_name, blob_name=blob_name_parquet, stream=byte_stream)\n   balances = pq.read_table(source=byte_stream).to_pandas()\n   # Do work on df ...\nfinally:\n   # Add finally block to ensure closure of the stream\n   byte_stream.close()",
      "execution_count": 728,
      "outputs": []
    },
    {
      "metadata": {
        "trusted": true
      },
      "cell_type": "code",
      "source": "",
      "execution_count": null,
      "outputs": []
    },
    {
      "metadata": {
        "trusted": true
      },
      "cell_type": "code",
      "source": "#balances = pd.read_csv(str(input_path + 'Monthly_updated.csv'), header=0)",
      "execution_count": 729,
      "outputs": []
    },
    {
      "metadata": {
        "trusted": true
      },
      "cell_type": "code",
      "source": "balances.head(5)",
      "execution_count": 730,
      "outputs": [
        {
          "output_type": "execute_result",
          "execution_count": 730,
          "data": {
            "text/plain": "    YearMonth  Customer_ID   Account_ID  Primary_flag Activity_flag  \\\n0  2018-05-01          1.0       175610             1    Not Active   \n1  2018-05-01          1.0  175610PRO14             1    Not Active   \n2  2018-05-01          2.0        32365             1        Active   \n3  2018-05-01          3.0        27354             1        Active   \n4  2018-05-01          4.0       121835             1        Active   \n\n  Product_code  Credit_limit Deal_currency  Used_amount  Installment_amount  \\\n0        PRO02           NaN           EUR          NaN                 NaN   \n1        PRO14           NaN           EUR          NaN                 NaN   \n2        PRO03           NaN           EUR          NaN                 NaN   \n3        PRO02           NaN           EUR          NaN                 NaN   \n4        PRO17        1200.0           EUR        600.0                 NaN   \n\n   Credit_auto_PMT_PCT Credit_card_status Balance_type  Actual_interest_rate  \\\n0                  NaN               None        Debit                   NaN   \n1                  NaN               None       Credit                   NaN   \n2                  NaN               None        Debit                   NaN   \n3                  NaN               None        Debit                   NaN   \n4                 0.06            Blocked       Credit                  0.27   \n\n   EOM_balance  AVG_balance  \n0          NaN          NaN  \n1          NaN          NaN  \n2         0.00       0.0000  \n3     14454.53   12575.4411  \n4       747.00     903.8700  ",
            "text/html": "<div>\n<style scoped>\n    .dataframe tbody tr th:only-of-type {\n        vertical-align: middle;\n    }\n\n    .dataframe tbody tr th {\n        vertical-align: top;\n    }\n\n    .dataframe thead th {\n        text-align: right;\n    }\n</style>\n<table border=\"1\" class=\"dataframe\">\n  <thead>\n    <tr style=\"text-align: right;\">\n      <th></th>\n      <th>YearMonth</th>\n      <th>Customer_ID</th>\n      <th>Account_ID</th>\n      <th>Primary_flag</th>\n      <th>Activity_flag</th>\n      <th>Product_code</th>\n      <th>Credit_limit</th>\n      <th>Deal_currency</th>\n      <th>Used_amount</th>\n      <th>Installment_amount</th>\n      <th>Credit_auto_PMT_PCT</th>\n      <th>Credit_card_status</th>\n      <th>Balance_type</th>\n      <th>Actual_interest_rate</th>\n      <th>EOM_balance</th>\n      <th>AVG_balance</th>\n    </tr>\n  </thead>\n  <tbody>\n    <tr>\n      <th>0</th>\n      <td>2018-05-01</td>\n      <td>1.0</td>\n      <td>175610</td>\n      <td>1</td>\n      <td>Not Active</td>\n      <td>PRO02</td>\n      <td>NaN</td>\n      <td>EUR</td>\n      <td>NaN</td>\n      <td>NaN</td>\n      <td>NaN</td>\n      <td>None</td>\n      <td>Debit</td>\n      <td>NaN</td>\n      <td>NaN</td>\n      <td>NaN</td>\n    </tr>\n    <tr>\n      <th>1</th>\n      <td>2018-05-01</td>\n      <td>1.0</td>\n      <td>175610PRO14</td>\n      <td>1</td>\n      <td>Not Active</td>\n      <td>PRO14</td>\n      <td>NaN</td>\n      <td>EUR</td>\n      <td>NaN</td>\n      <td>NaN</td>\n      <td>NaN</td>\n      <td>None</td>\n      <td>Credit</td>\n      <td>NaN</td>\n      <td>NaN</td>\n      <td>NaN</td>\n    </tr>\n    <tr>\n      <th>2</th>\n      <td>2018-05-01</td>\n      <td>2.0</td>\n      <td>32365</td>\n      <td>1</td>\n      <td>Active</td>\n      <td>PRO03</td>\n      <td>NaN</td>\n      <td>EUR</td>\n      <td>NaN</td>\n      <td>NaN</td>\n      <td>NaN</td>\n      <td>None</td>\n      <td>Debit</td>\n      <td>NaN</td>\n      <td>0.00</td>\n      <td>0.0000</td>\n    </tr>\n    <tr>\n      <th>3</th>\n      <td>2018-05-01</td>\n      <td>3.0</td>\n      <td>27354</td>\n      <td>1</td>\n      <td>Active</td>\n      <td>PRO02</td>\n      <td>NaN</td>\n      <td>EUR</td>\n      <td>NaN</td>\n      <td>NaN</td>\n      <td>NaN</td>\n      <td>None</td>\n      <td>Debit</td>\n      <td>NaN</td>\n      <td>14454.53</td>\n      <td>12575.4411</td>\n    </tr>\n    <tr>\n      <th>4</th>\n      <td>2018-05-01</td>\n      <td>4.0</td>\n      <td>121835</td>\n      <td>1</td>\n      <td>Active</td>\n      <td>PRO17</td>\n      <td>1200.0</td>\n      <td>EUR</td>\n      <td>600.0</td>\n      <td>NaN</td>\n      <td>0.06</td>\n      <td>Blocked</td>\n      <td>Credit</td>\n      <td>0.27</td>\n      <td>747.00</td>\n      <td>903.8700</td>\n    </tr>\n  </tbody>\n</table>\n</div>"
          },
          "metadata": {}
        }
      ]
    },
    {
      "metadata": {
        "trusted": true
      },
      "cell_type": "code",
      "source": "balances.shape",
      "execution_count": 731,
      "outputs": [
        {
          "output_type": "execute_result",
          "execution_count": 731,
          "data": {
            "text/plain": "(282794, 16)"
          },
          "metadata": {}
        }
      ]
    },
    {
      "metadata": {
        "trusted": true
      },
      "cell_type": "code",
      "source": "#Data Audit\n#Count + Unique Count + Missing values by column; Statistic summary for numeric variables; Frequencies for non-numeric variables\ndef data_audit(df, excel_name = 'Data_Audit.xlsx'):\n    #open excel writer\n    writer = pd.ExcelWriter(str(output_path + excel_name))\n    #sum up the missing values by columns\n    missing = pd.Series(df.isnull().sum(), name='missing')\n    #use describe function on all columns, transpose it and join the missings summary from above\n    describe = df.describe(include='all').T.join(missing)[['count', 'unique', 'missing']]\n    #write to excel\n    describe.to_excel(writer, sheet_name=\"Summary\", na_rep='NA')\n    #find categorical/numerical columns\n    categorical_columns = [col for col in df.columns if df[col].dtype == 'O']\n    numerical_columns = [col for col in df.columns if df[col].dtype != 'O']\n    #export describe statistics only for numeric variables\n    missing_num = pd.Series(df[numerical_columns].isnull().sum(), name='missing')\n    df[numerical_columns].describe(include='all').T.join(missing_num).to_excel(writer, sheet_name=\"Numeric\", na_rep='NA')\n    #loop all categorical variables, value counts, append Total and export to excel sheet\n    for value in categorical_columns:\n        dictionary = {}\n        dictionary = {'Total': df[value].value_counts(dropna=False).sum()}\n        df[value].value_counts(dropna=False).append(pd.Series(dictionary)).to_excel(writer, sheet_name=value, na_rep='NA')\n    #close excel writer\n    writer.save()\n    del missing, describe, missing_num\n    gc.collect()",
      "execution_count": 732,
      "outputs": []
    },
    {
      "metadata": {
        "trusted": true
      },
      "cell_type": "code",
      "source": "#data_audit(balances, 'Balances_Data_Audit.xlsx')",
      "execution_count": 733,
      "outputs": []
    },
    {
      "metadata": {
        "trusted": true
      },
      "cell_type": "code",
      "source": "",
      "execution_count": null,
      "outputs": []
    },
    {
      "metadata": {
        "trusted": true
      },
      "cell_type": "code",
      "source": "blobstring = blob_service.get_blob_to_text(container_name, blob_name).content\nproduct_codes = pd.read_csv(StringIO(blobstring), header=0, sep=';')",
      "execution_count": 734,
      "outputs": []
    },
    {
      "metadata": {
        "trusted": true
      },
      "cell_type": "code",
      "source": "#product_codes",
      "execution_count": 735,
      "outputs": []
    },
    {
      "metadata": {
        "trusted": true
      },
      "cell_type": "code",
      "source": "product_codes.fillna('NA', inplace=True)",
      "execution_count": 736,
      "outputs": []
    },
    {
      "metadata": {
        "trusted": true
      },
      "cell_type": "code",
      "source": "dic = {'Saving Accounts':'SA', 'Current Accounts':'CA', 'Time Deposits':'TD', 'Short Term':'ST',\n       'Long Term':'LT', '1 month':'', '3 months':'', '6 months':'', '12 months':'', '24 months':'',\n       'Mortgage':'MG', 'Personal Loans':'PL', 'Fixed':'F', 'Variable':'V', 'Secured':'SEC',\n       'Non-secured':'NON_SEC', 'Overdraft':'OVD', 'Auto Loans':'AL', 'Credit Cards':'CC', 'NA':''}",
      "execution_count": 737,
      "outputs": []
    },
    {
      "metadata": {
        "trusted": true
      },
      "cell_type": "code",
      "source": "def reclass(df, dic):\n    #arr = []\n    df_cols = df.columns\n    df_cols = [x for x in df_cols if x not in ['Code']]\n    df_new = pd.DataFrame(df['Code'], index=df.index)\n    for col in df_cols:\n        arr = []\n        arr.append([dic.get(n, n) for n in df[col].values])\n        df_new[col]=arr[0]\n    return df_new[df_new.columns[:-1]]",
      "execution_count": 738,
      "outputs": []
    },
    {
      "metadata": {
        "trusted": true
      },
      "cell_type": "code",
      "source": "product_codes_reclass = reclass(product_codes, dic)",
      "execution_count": 739,
      "outputs": []
    },
    {
      "metadata": {
        "trusted": true
      },
      "cell_type": "code",
      "source": "product_codes_reclass['PROD'] = product_codes_reclass[['Level 1', 'Level 2', 'Level 3']].apply(lambda x: '_'.join(x), axis=1).str.upper()",
      "execution_count": 740,
      "outputs": []
    },
    {
      "metadata": {
        "trusted": true
      },
      "cell_type": "code",
      "source": "product_codes_reclass['PROD'] = product_codes_reclass['PROD'].str.rstrip('_ __')",
      "execution_count": 741,
      "outputs": []
    },
    {
      "metadata": {
        "trusted": true
      },
      "cell_type": "code",
      "source": "product_codes_reclass = product_codes_reclass[['Code', 'Level 1','PROD']]",
      "execution_count": 742,
      "outputs": []
    },
    {
      "metadata": {
        "trusted": true
      },
      "cell_type": "code",
      "source": "product_codes_reclass.columns=['Code', 'CAT','PROD']",
      "execution_count": 743,
      "outputs": []
    },
    {
      "metadata": {
        "trusted": true
      },
      "cell_type": "code",
      "source": "product_codes_reclass",
      "execution_count": 744,
      "outputs": [
        {
          "output_type": "execute_result",
          "execution_count": 744,
          "data": {
            "text/plain": "     Code  CAT                    PROD\n0   PRO01   SA                      SA\n1   PRO02   CA             CA_STANDARD\n2   PRO03   CA              CA_PAYROLL\n3   PRO04   TD                   TD_ST\n4   PRO05   TD                   TD_ST\n5   PRO06   TD                   TD_ST\n6   PRO07   TD                   TD_LT\n7   PRO08   TD                   TD_LT\n8   PRO09   MG            MG_NEW HOUSE\n9   PRO10   MG           MG_RENOVATION\n10  PRO11   PL                PL_F_SEC\n11  PRO12   PL            PL_F_NON_SEC\n12  PRO13   PL                    PL_V\n13  PRO14  OVD                     OVD\n14  PRO15   AL             AL_STANDARD\n15  PRO16   AL            AL_PROMOTION\n16  PRO17   CC        CC_VISA_ELECTRON\n17  PRO18   CC            CC_VISA_GOLD\n18  PRO19   CC        CC_VISA_PLATINUM\n19  PRO20   CC  CC_MASTERCARD_STANDARD\n20  PRO21   CC      CC_MASTERCARD_GOLD\n21  PRO22   CC  CC_MASTERCARD_PLATINUM",
            "text/html": "<div>\n<style scoped>\n    .dataframe tbody tr th:only-of-type {\n        vertical-align: middle;\n    }\n\n    .dataframe tbody tr th {\n        vertical-align: top;\n    }\n\n    .dataframe thead th {\n        text-align: right;\n    }\n</style>\n<table border=\"1\" class=\"dataframe\">\n  <thead>\n    <tr style=\"text-align: right;\">\n      <th></th>\n      <th>Code</th>\n      <th>CAT</th>\n      <th>PROD</th>\n    </tr>\n  </thead>\n  <tbody>\n    <tr>\n      <th>0</th>\n      <td>PRO01</td>\n      <td>SA</td>\n      <td>SA</td>\n    </tr>\n    <tr>\n      <th>1</th>\n      <td>PRO02</td>\n      <td>CA</td>\n      <td>CA_STANDARD</td>\n    </tr>\n    <tr>\n      <th>2</th>\n      <td>PRO03</td>\n      <td>CA</td>\n      <td>CA_PAYROLL</td>\n    </tr>\n    <tr>\n      <th>3</th>\n      <td>PRO04</td>\n      <td>TD</td>\n      <td>TD_ST</td>\n    </tr>\n    <tr>\n      <th>4</th>\n      <td>PRO05</td>\n      <td>TD</td>\n      <td>TD_ST</td>\n    </tr>\n    <tr>\n      <th>5</th>\n      <td>PRO06</td>\n      <td>TD</td>\n      <td>TD_ST</td>\n    </tr>\n    <tr>\n      <th>6</th>\n      <td>PRO07</td>\n      <td>TD</td>\n      <td>TD_LT</td>\n    </tr>\n    <tr>\n      <th>7</th>\n      <td>PRO08</td>\n      <td>TD</td>\n      <td>TD_LT</td>\n    </tr>\n    <tr>\n      <th>8</th>\n      <td>PRO09</td>\n      <td>MG</td>\n      <td>MG_NEW HOUSE</td>\n    </tr>\n    <tr>\n      <th>9</th>\n      <td>PRO10</td>\n      <td>MG</td>\n      <td>MG_RENOVATION</td>\n    </tr>\n    <tr>\n      <th>10</th>\n      <td>PRO11</td>\n      <td>PL</td>\n      <td>PL_F_SEC</td>\n    </tr>\n    <tr>\n      <th>11</th>\n      <td>PRO12</td>\n      <td>PL</td>\n      <td>PL_F_NON_SEC</td>\n    </tr>\n    <tr>\n      <th>12</th>\n      <td>PRO13</td>\n      <td>PL</td>\n      <td>PL_V</td>\n    </tr>\n    <tr>\n      <th>13</th>\n      <td>PRO14</td>\n      <td>OVD</td>\n      <td>OVD</td>\n    </tr>\n    <tr>\n      <th>14</th>\n      <td>PRO15</td>\n      <td>AL</td>\n      <td>AL_STANDARD</td>\n    </tr>\n    <tr>\n      <th>15</th>\n      <td>PRO16</td>\n      <td>AL</td>\n      <td>AL_PROMOTION</td>\n    </tr>\n    <tr>\n      <th>16</th>\n      <td>PRO17</td>\n      <td>CC</td>\n      <td>CC_VISA_ELECTRON</td>\n    </tr>\n    <tr>\n      <th>17</th>\n      <td>PRO18</td>\n      <td>CC</td>\n      <td>CC_VISA_GOLD</td>\n    </tr>\n    <tr>\n      <th>18</th>\n      <td>PRO19</td>\n      <td>CC</td>\n      <td>CC_VISA_PLATINUM</td>\n    </tr>\n    <tr>\n      <th>19</th>\n      <td>PRO20</td>\n      <td>CC</td>\n      <td>CC_MASTERCARD_STANDARD</td>\n    </tr>\n    <tr>\n      <th>20</th>\n      <td>PRO21</td>\n      <td>CC</td>\n      <td>CC_MASTERCARD_GOLD</td>\n    </tr>\n    <tr>\n      <th>21</th>\n      <td>PRO22</td>\n      <td>CC</td>\n      <td>CC_MASTERCARD_PLATINUM</td>\n    </tr>\n  </tbody>\n</table>\n</div>"
          },
          "metadata": {}
        }
      ]
    },
    {
      "metadata": {
        "trusted": true
      },
      "cell_type": "code",
      "source": "",
      "execution_count": null,
      "outputs": []
    },
    {
      "metadata": {
        "trusted": true
      },
      "cell_type": "code",
      "source": "# replace spaces and NA\n#product_codes['Product'] = product_codes['Product'].str.replace(' NA', '', regex=True)",
      "execution_count": 745,
      "outputs": []
    },
    {
      "metadata": {
        "trusted": true
      },
      "cell_type": "code",
      "source": "# replace spaces\n#product_codes['Product'] = product_codes['Product'].str.replace(' ', '_', regex=True)",
      "execution_count": 746,
      "outputs": []
    },
    {
      "metadata": {
        "trusted": true
      },
      "cell_type": "code",
      "source": "bal_prod_codes = balances.merge(product_codes_reclass, how='left', left_on='Product_code', right_on='Code')",
      "execution_count": 747,
      "outputs": []
    },
    {
      "metadata": {
        "trusted": true
      },
      "cell_type": "code",
      "source": "del bal_prod_codes['Product_code']\ndel bal_prod_codes['Code']",
      "execution_count": 748,
      "outputs": []
    },
    {
      "metadata": {
        "trusted": true
      },
      "cell_type": "code",
      "source": "",
      "execution_count": null,
      "outputs": []
    },
    {
      "metadata": {
        "trusted": true
      },
      "cell_type": "code",
      "source": "",
      "execution_count": null,
      "outputs": []
    },
    {
      "metadata": {
        "trusted": true
      },
      "cell_type": "code",
      "source": "",
      "execution_count": null,
      "outputs": []
    },
    {
      "metadata": {
        "trusted": true
      },
      "cell_type": "code",
      "source": "",
      "execution_count": null,
      "outputs": []
    },
    {
      "metadata": {
        "trusted": true
      },
      "cell_type": "code",
      "source": "",
      "execution_count": null,
      "outputs": []
    },
    {
      "metadata": {
        "trusted": true
      },
      "cell_type": "code",
      "source": "bal_prod_codes.rename(columns={'Installment_amount':'INSA', 'Credit_limit':'CLT', 'AVG_balance':'BAL'}, inplace=True)",
      "execution_count": 749,
      "outputs": []
    },
    {
      "metadata": {
        "trusted": true
      },
      "cell_type": "code",
      "source": "bal_prod_codes.head()",
      "execution_count": 750,
      "outputs": [
        {
          "output_type": "execute_result",
          "execution_count": 750,
          "data": {
            "text/plain": "    YearMonth  Customer_ID   Account_ID  Primary_flag Activity_flag     CLT  \\\n0  2018-05-01          1.0       175610             1    Not Active     NaN   \n1  2018-05-01          1.0  175610PRO14             1    Not Active     NaN   \n2  2018-05-01          2.0        32365             1        Active     NaN   \n3  2018-05-01          3.0        27354             1        Active     NaN   \n4  2018-05-01          4.0       121835             1        Active  1200.0   \n\n  Deal_currency  Used_amount  INSA  Credit_auto_PMT_PCT Credit_card_status  \\\n0           EUR          NaN   NaN                  NaN               None   \n1           EUR          NaN   NaN                  NaN               None   \n2           EUR          NaN   NaN                  NaN               None   \n3           EUR          NaN   NaN                  NaN               None   \n4           EUR        600.0   NaN                 0.06            Blocked   \n\n  Balance_type  Actual_interest_rate  EOM_balance         BAL  CAT  \\\n0        Debit                   NaN          NaN         NaN   CA   \n1       Credit                   NaN          NaN         NaN  OVD   \n2        Debit                   NaN         0.00      0.0000   CA   \n3        Debit                   NaN     14454.53  12575.4411   CA   \n4       Credit                  0.27       747.00    903.8700   CC   \n\n               PROD  \n0       CA_STANDARD  \n1               OVD  \n2        CA_PAYROLL  \n3       CA_STANDARD  \n4  CC_VISA_ELECTRON  ",
            "text/html": "<div>\n<style scoped>\n    .dataframe tbody tr th:only-of-type {\n        vertical-align: middle;\n    }\n\n    .dataframe tbody tr th {\n        vertical-align: top;\n    }\n\n    .dataframe thead th {\n        text-align: right;\n    }\n</style>\n<table border=\"1\" class=\"dataframe\">\n  <thead>\n    <tr style=\"text-align: right;\">\n      <th></th>\n      <th>YearMonth</th>\n      <th>Customer_ID</th>\n      <th>Account_ID</th>\n      <th>Primary_flag</th>\n      <th>Activity_flag</th>\n      <th>CLT</th>\n      <th>Deal_currency</th>\n      <th>Used_amount</th>\n      <th>INSA</th>\n      <th>Credit_auto_PMT_PCT</th>\n      <th>Credit_card_status</th>\n      <th>Balance_type</th>\n      <th>Actual_interest_rate</th>\n      <th>EOM_balance</th>\n      <th>BAL</th>\n      <th>CAT</th>\n      <th>PROD</th>\n    </tr>\n  </thead>\n  <tbody>\n    <tr>\n      <th>0</th>\n      <td>2018-05-01</td>\n      <td>1.0</td>\n      <td>175610</td>\n      <td>1</td>\n      <td>Not Active</td>\n      <td>NaN</td>\n      <td>EUR</td>\n      <td>NaN</td>\n      <td>NaN</td>\n      <td>NaN</td>\n      <td>None</td>\n      <td>Debit</td>\n      <td>NaN</td>\n      <td>NaN</td>\n      <td>NaN</td>\n      <td>CA</td>\n      <td>CA_STANDARD</td>\n    </tr>\n    <tr>\n      <th>1</th>\n      <td>2018-05-01</td>\n      <td>1.0</td>\n      <td>175610PRO14</td>\n      <td>1</td>\n      <td>Not Active</td>\n      <td>NaN</td>\n      <td>EUR</td>\n      <td>NaN</td>\n      <td>NaN</td>\n      <td>NaN</td>\n      <td>None</td>\n      <td>Credit</td>\n      <td>NaN</td>\n      <td>NaN</td>\n      <td>NaN</td>\n      <td>OVD</td>\n      <td>OVD</td>\n    </tr>\n    <tr>\n      <th>2</th>\n      <td>2018-05-01</td>\n      <td>2.0</td>\n      <td>32365</td>\n      <td>1</td>\n      <td>Active</td>\n      <td>NaN</td>\n      <td>EUR</td>\n      <td>NaN</td>\n      <td>NaN</td>\n      <td>NaN</td>\n      <td>None</td>\n      <td>Debit</td>\n      <td>NaN</td>\n      <td>0.00</td>\n      <td>0.0000</td>\n      <td>CA</td>\n      <td>CA_PAYROLL</td>\n    </tr>\n    <tr>\n      <th>3</th>\n      <td>2018-05-01</td>\n      <td>3.0</td>\n      <td>27354</td>\n      <td>1</td>\n      <td>Active</td>\n      <td>NaN</td>\n      <td>EUR</td>\n      <td>NaN</td>\n      <td>NaN</td>\n      <td>NaN</td>\n      <td>None</td>\n      <td>Debit</td>\n      <td>NaN</td>\n      <td>14454.53</td>\n      <td>12575.4411</td>\n      <td>CA</td>\n      <td>CA_STANDARD</td>\n    </tr>\n    <tr>\n      <th>4</th>\n      <td>2018-05-01</td>\n      <td>4.0</td>\n      <td>121835</td>\n      <td>1</td>\n      <td>Active</td>\n      <td>1200.0</td>\n      <td>EUR</td>\n      <td>600.0</td>\n      <td>NaN</td>\n      <td>0.06</td>\n      <td>Blocked</td>\n      <td>Credit</td>\n      <td>0.27</td>\n      <td>747.00</td>\n      <td>903.8700</td>\n      <td>CC</td>\n      <td>CC_VISA_ELECTRON</td>\n    </tr>\n  </tbody>\n</table>\n</div>"
          },
          "metadata": {}
        }
      ]
    },
    {
      "metadata": {
        "trusted": true
      },
      "cell_type": "code",
      "source": "",
      "execution_count": null,
      "outputs": []
    },
    {
      "metadata": {
        "trusted": true
      },
      "cell_type": "code",
      "source": "blob_name_parquet = 'data/Ownership_' + YearMonth + '.parquet.gzip'",
      "execution_count": 751,
      "outputs": []
    },
    {
      "metadata": {
        "trusted": true
      },
      "cell_type": "code",
      "source": "byte_stream = BytesIO()\ntry:\n   blob_service.get_blob_to_stream(container_name=container_name, blob_name=blob_name_parquet, stream=byte_stream)\n   ownership = pq.read_table(source=byte_stream).to_pandas()\n   # Do work on df ...\nfinally:\n   # Add finally block to ensure closure of the stream\n   byte_stream.close()",
      "execution_count": 752,
      "outputs": []
    },
    {
      "metadata": {
        "trusted": true
      },
      "cell_type": "code",
      "source": "ownership.head()",
      "execution_count": 753,
      "outputs": [
        {
          "output_type": "execute_result",
          "execution_count": 753,
          "data": {
            "text/plain": "    YearMonth  Customer_ID   Account_ID Product_code Opening_date  \\\n0  2018-05-01          1.0       175610        PRO02   2013-09-19   \n1  2018-05-01          1.0  175610PRO14        PRO14   2018-01-15   \n2  2018-05-01          2.0        32365        PRO03   2000-04-10   \n3  2018-05-01          3.0        27354        PRO02   1999-02-06   \n4  2018-05-01          4.0       121835        PRO17   2010-07-06   \n\n  Closing_date Expiry_date Debit_card Debit_card_opening_date  \\\n0         None        None      False                    None   \n1         None        None       None                    None   \n2         None        None       True              2013-04-19   \n3         None        None      False                    None   \n4         None  2019-07-06      False                    None   \n\n  Debit_card_expiry_date Credit_card_status Deal_currency  \\\n0                   None               None           EUR   \n1                   None               None           EUR   \n2             2019-04-19               None           EUR   \n3                   None               None           EUR   \n4                   None            Blocked           EUR   \n\n   Deal_term_in_months Loan_interest_type  Loan_restructure_code  \n0                  NaN               None                    NaN  \n1                  NaN               None                    NaN  \n2                  NaN               None                    NaN  \n3                  NaN               None                    NaN  \n4                 36.0                Var                    NaN  ",
            "text/html": "<div>\n<style scoped>\n    .dataframe tbody tr th:only-of-type {\n        vertical-align: middle;\n    }\n\n    .dataframe tbody tr th {\n        vertical-align: top;\n    }\n\n    .dataframe thead th {\n        text-align: right;\n    }\n</style>\n<table border=\"1\" class=\"dataframe\">\n  <thead>\n    <tr style=\"text-align: right;\">\n      <th></th>\n      <th>YearMonth</th>\n      <th>Customer_ID</th>\n      <th>Account_ID</th>\n      <th>Product_code</th>\n      <th>Opening_date</th>\n      <th>Closing_date</th>\n      <th>Expiry_date</th>\n      <th>Debit_card</th>\n      <th>Debit_card_opening_date</th>\n      <th>Debit_card_expiry_date</th>\n      <th>Credit_card_status</th>\n      <th>Deal_currency</th>\n      <th>Deal_term_in_months</th>\n      <th>Loan_interest_type</th>\n      <th>Loan_restructure_code</th>\n    </tr>\n  </thead>\n  <tbody>\n    <tr>\n      <th>0</th>\n      <td>2018-05-01</td>\n      <td>1.0</td>\n      <td>175610</td>\n      <td>PRO02</td>\n      <td>2013-09-19</td>\n      <td>None</td>\n      <td>None</td>\n      <td>False</td>\n      <td>None</td>\n      <td>None</td>\n      <td>None</td>\n      <td>EUR</td>\n      <td>NaN</td>\n      <td>None</td>\n      <td>NaN</td>\n    </tr>\n    <tr>\n      <th>1</th>\n      <td>2018-05-01</td>\n      <td>1.0</td>\n      <td>175610PRO14</td>\n      <td>PRO14</td>\n      <td>2018-01-15</td>\n      <td>None</td>\n      <td>None</td>\n      <td>None</td>\n      <td>None</td>\n      <td>None</td>\n      <td>None</td>\n      <td>EUR</td>\n      <td>NaN</td>\n      <td>None</td>\n      <td>NaN</td>\n    </tr>\n    <tr>\n      <th>2</th>\n      <td>2018-05-01</td>\n      <td>2.0</td>\n      <td>32365</td>\n      <td>PRO03</td>\n      <td>2000-04-10</td>\n      <td>None</td>\n      <td>None</td>\n      <td>True</td>\n      <td>2013-04-19</td>\n      <td>2019-04-19</td>\n      <td>None</td>\n      <td>EUR</td>\n      <td>NaN</td>\n      <td>None</td>\n      <td>NaN</td>\n    </tr>\n    <tr>\n      <th>3</th>\n      <td>2018-05-01</td>\n      <td>3.0</td>\n      <td>27354</td>\n      <td>PRO02</td>\n      <td>1999-02-06</td>\n      <td>None</td>\n      <td>None</td>\n      <td>False</td>\n      <td>None</td>\n      <td>None</td>\n      <td>None</td>\n      <td>EUR</td>\n      <td>NaN</td>\n      <td>None</td>\n      <td>NaN</td>\n    </tr>\n    <tr>\n      <th>4</th>\n      <td>2018-05-01</td>\n      <td>4.0</td>\n      <td>121835</td>\n      <td>PRO17</td>\n      <td>2010-07-06</td>\n      <td>None</td>\n      <td>2019-07-06</td>\n      <td>False</td>\n      <td>None</td>\n      <td>None</td>\n      <td>Blocked</td>\n      <td>EUR</td>\n      <td>36.0</td>\n      <td>Var</td>\n      <td>NaN</td>\n    </tr>\n  </tbody>\n</table>\n</div>"
          },
          "metadata": {}
        }
      ]
    },
    {
      "metadata": {
        "trusted": true
      },
      "cell_type": "code",
      "source": "ownership.shape",
      "execution_count": 754,
      "outputs": [
        {
          "output_type": "execute_result",
          "execution_count": 754,
          "data": {
            "text/plain": "(282794, 15)"
          },
          "metadata": {}
        }
      ]
    },
    {
      "metadata": {
        "trusted": true
      },
      "cell_type": "code",
      "source": "#data_audit(ownership, 'Ownership_Data_Audit.xlsx')",
      "execution_count": 755,
      "outputs": []
    },
    {
      "metadata": {
        "trusted": true
      },
      "cell_type": "code",
      "source": "ownership['YearMonth'] = pd.to_datetime(ownership['YearMonth'], format=\"%Y-%m-%d\") + MonthEnd(1)\nownership['Opening_date'] = pd.to_datetime(ownership['Opening_date'])\nownership['Closing_date'] = pd.to_datetime(ownership['Closing_date'])\nownership['Expiry_date'] = pd.to_datetime(ownership['Expiry_date'])\nownership['Debit_card_opening_date'] = pd.to_datetime(ownership['Debit_card_opening_date'])",
      "execution_count": 756,
      "outputs": []
    },
    {
      "metadata": {
        "trusted": true
      },
      "cell_type": "code",
      "source": "ownership['Mature_Months'] = np.where(pd.notnull(ownership['Opening_date']), \n                         (ownership['YearMonth'] - ownership['Opening_date'])/np.timedelta64(1,'M'), -1)\nownership['Closed_Months'] = np.where(pd.notnull(ownership['Closing_date']), \n                         (ownership['YearMonth'] - ownership['Closing_date'])/np.timedelta64(1,'M'), -1)\nownership['Months_Till_Exp'] = np.where(pd.notnull(ownership['Expiry_date']), \n                         (ownership['Expiry_date'] - ownership['YearMonth'])/np.timedelta64(1,'M'), -1)\nownership['DC_Mature_Months'] = np.where(pd.notnull(ownership['Debit_card_opening_date']), \n                         (ownership['YearMonth'] - ownership['Debit_card_opening_date'])/np.timedelta64(1,'M'), -1)",
      "execution_count": 757,
      "outputs": []
    },
    {
      "metadata": {
        "trusted": true
      },
      "cell_type": "code",
      "source": "ownership['Mature_Months'] = ownership['Mature_Months'].astype('int')\nownership['Closed_Months'] = ownership['Closed_Months'].astype('int')\nownership['Months_Till_Exp'] = ownership['Months_Till_Exp'].astype('int')\nownership['DC_Mature_Months'] = ownership['DC_Mature_Months'].astype('int')",
      "execution_count": 758,
      "outputs": []
    },
    {
      "metadata": {
        "trusted": true
      },
      "cell_type": "code",
      "source": "drop_cols = ['Opening_date', 'Closing_date', 'Expiry_date', 'Debit_card_opening_date', 'Debit_card_expiry_date', \n            'Deal_currency', 'Loan_interest_type', 'YearMonth', 'Product_code', 'Credit_card_status']",
      "execution_count": 759,
      "outputs": []
    },
    {
      "metadata": {
        "trusted": true
      },
      "cell_type": "code",
      "source": "own_cols = [var for var in ownership.columns if var not in drop_cols]",
      "execution_count": 760,
      "outputs": []
    },
    {
      "metadata": {
        "trusted": true
      },
      "cell_type": "code",
      "source": "own_cols",
      "execution_count": 761,
      "outputs": [
        {
          "output_type": "execute_result",
          "execution_count": 761,
          "data": {
            "text/plain": "['Customer_ID',\n 'Account_ID',\n 'Debit_card',\n 'Deal_term_in_months',\n 'Loan_restructure_code',\n 'Mature_Months',\n 'Closed_Months',\n 'Months_Till_Exp',\n 'DC_Mature_Months']"
          },
          "metadata": {}
        }
      ]
    },
    {
      "metadata": {
        "trusted": true
      },
      "cell_type": "code",
      "source": "ownership=ownership[own_cols]",
      "execution_count": 762,
      "outputs": []
    },
    {
      "metadata": {
        "trusted": true
      },
      "cell_type": "code",
      "source": "ownership.head()",
      "execution_count": 763,
      "outputs": [
        {
          "output_type": "execute_result",
          "execution_count": 763,
          "data": {
            "text/plain": "   Customer_ID   Account_ID Debit_card  Deal_term_in_months  \\\n0          1.0       175610      False                  NaN   \n1          1.0  175610PRO14       None                  NaN   \n2          2.0        32365       True                  NaN   \n3          3.0        27354      False                  NaN   \n4          4.0       121835      False                 36.0   \n\n   Loan_restructure_code  Mature_Months  Closed_Months  Months_Till_Exp  \\\n0                    NaN             56             -1               -1   \n1                    NaN              4             -1               -1   \n2                    NaN            217             -1               -1   \n3                    NaN            231             -1               -1   \n4                    NaN             94             -1               13   \n\n   DC_Mature_Months  \n0                -1  \n1                -1  \n2                61  \n3                -1  \n4                -1  ",
            "text/html": "<div>\n<style scoped>\n    .dataframe tbody tr th:only-of-type {\n        vertical-align: middle;\n    }\n\n    .dataframe tbody tr th {\n        vertical-align: top;\n    }\n\n    .dataframe thead th {\n        text-align: right;\n    }\n</style>\n<table border=\"1\" class=\"dataframe\">\n  <thead>\n    <tr style=\"text-align: right;\">\n      <th></th>\n      <th>Customer_ID</th>\n      <th>Account_ID</th>\n      <th>Debit_card</th>\n      <th>Deal_term_in_months</th>\n      <th>Loan_restructure_code</th>\n      <th>Mature_Months</th>\n      <th>Closed_Months</th>\n      <th>Months_Till_Exp</th>\n      <th>DC_Mature_Months</th>\n    </tr>\n  </thead>\n  <tbody>\n    <tr>\n      <th>0</th>\n      <td>1.0</td>\n      <td>175610</td>\n      <td>False</td>\n      <td>NaN</td>\n      <td>NaN</td>\n      <td>56</td>\n      <td>-1</td>\n      <td>-1</td>\n      <td>-1</td>\n    </tr>\n    <tr>\n      <th>1</th>\n      <td>1.0</td>\n      <td>175610PRO14</td>\n      <td>None</td>\n      <td>NaN</td>\n      <td>NaN</td>\n      <td>4</td>\n      <td>-1</td>\n      <td>-1</td>\n      <td>-1</td>\n    </tr>\n    <tr>\n      <th>2</th>\n      <td>2.0</td>\n      <td>32365</td>\n      <td>True</td>\n      <td>NaN</td>\n      <td>NaN</td>\n      <td>217</td>\n      <td>-1</td>\n      <td>-1</td>\n      <td>61</td>\n    </tr>\n    <tr>\n      <th>3</th>\n      <td>3.0</td>\n      <td>27354</td>\n      <td>False</td>\n      <td>NaN</td>\n      <td>NaN</td>\n      <td>231</td>\n      <td>-1</td>\n      <td>-1</td>\n      <td>-1</td>\n    </tr>\n    <tr>\n      <th>4</th>\n      <td>4.0</td>\n      <td>121835</td>\n      <td>False</td>\n      <td>36.0</td>\n      <td>NaN</td>\n      <td>94</td>\n      <td>-1</td>\n      <td>13</td>\n      <td>-1</td>\n    </tr>\n  </tbody>\n</table>\n</div>"
          },
          "metadata": {}
        }
      ]
    },
    {
      "metadata": {
        "trusted": true
      },
      "cell_type": "code",
      "source": "bal_own = bal_prod_codes.merge(ownership, how='left', left_on=['Account_ID', 'Customer_ID'],\n                      right_on=['Account_ID', 'Customer_ID'])",
      "execution_count": 764,
      "outputs": []
    },
    {
      "metadata": {
        "trusted": true
      },
      "cell_type": "code",
      "source": "bal_own.head()",
      "execution_count": 765,
      "outputs": [
        {
          "output_type": "execute_result",
          "execution_count": 765,
          "data": {
            "text/plain": "    YearMonth  Customer_ID   Account_ID  Primary_flag Activity_flag     CLT  \\\n0  2018-05-01          1.0       175610             1    Not Active     NaN   \n1  2018-05-01          1.0  175610PRO14             1    Not Active     NaN   \n2  2018-05-01          2.0        32365             1        Active     NaN   \n3  2018-05-01          3.0        27354             1        Active     NaN   \n4  2018-05-01          4.0       121835             1        Active  1200.0   \n\n  Deal_currency  Used_amount  INSA  Credit_auto_PMT_PCT  ...         BAL  CAT  \\\n0           EUR          NaN   NaN                  NaN  ...         NaN   CA   \n1           EUR          NaN   NaN                  NaN  ...         NaN  OVD   \n2           EUR          NaN   NaN                  NaN  ...      0.0000   CA   \n3           EUR          NaN   NaN                  NaN  ...  12575.4411   CA   \n4           EUR        600.0   NaN                 0.06  ...    903.8700   CC   \n\n               PROD  Debit_card  Deal_term_in_months Loan_restructure_code  \\\n0       CA_STANDARD       False                  NaN                   NaN   \n1               OVD        None                  NaN                   NaN   \n2        CA_PAYROLL        True                  NaN                   NaN   \n3       CA_STANDARD       False                  NaN                   NaN   \n4  CC_VISA_ELECTRON       False                 36.0                   NaN   \n\n  Mature_Months Closed_Months  Months_Till_Exp  DC_Mature_Months  \n0            56            -1               -1                -1  \n1             4            -1               -1                -1  \n2           217            -1               -1                61  \n3           231            -1               -1                -1  \n4            94            -1               13                -1  \n\n[5 rows x 24 columns]",
            "text/html": "<div>\n<style scoped>\n    .dataframe tbody tr th:only-of-type {\n        vertical-align: middle;\n    }\n\n    .dataframe tbody tr th {\n        vertical-align: top;\n    }\n\n    .dataframe thead th {\n        text-align: right;\n    }\n</style>\n<table border=\"1\" class=\"dataframe\">\n  <thead>\n    <tr style=\"text-align: right;\">\n      <th></th>\n      <th>YearMonth</th>\n      <th>Customer_ID</th>\n      <th>Account_ID</th>\n      <th>Primary_flag</th>\n      <th>Activity_flag</th>\n      <th>CLT</th>\n      <th>Deal_currency</th>\n      <th>Used_amount</th>\n      <th>INSA</th>\n      <th>Credit_auto_PMT_PCT</th>\n      <th>...</th>\n      <th>BAL</th>\n      <th>CAT</th>\n      <th>PROD</th>\n      <th>Debit_card</th>\n      <th>Deal_term_in_months</th>\n      <th>Loan_restructure_code</th>\n      <th>Mature_Months</th>\n      <th>Closed_Months</th>\n      <th>Months_Till_Exp</th>\n      <th>DC_Mature_Months</th>\n    </tr>\n  </thead>\n  <tbody>\n    <tr>\n      <th>0</th>\n      <td>2018-05-01</td>\n      <td>1.0</td>\n      <td>175610</td>\n      <td>1</td>\n      <td>Not Active</td>\n      <td>NaN</td>\n      <td>EUR</td>\n      <td>NaN</td>\n      <td>NaN</td>\n      <td>NaN</td>\n      <td>...</td>\n      <td>NaN</td>\n      <td>CA</td>\n      <td>CA_STANDARD</td>\n      <td>False</td>\n      <td>NaN</td>\n      <td>NaN</td>\n      <td>56</td>\n      <td>-1</td>\n      <td>-1</td>\n      <td>-1</td>\n    </tr>\n    <tr>\n      <th>1</th>\n      <td>2018-05-01</td>\n      <td>1.0</td>\n      <td>175610PRO14</td>\n      <td>1</td>\n      <td>Not Active</td>\n      <td>NaN</td>\n      <td>EUR</td>\n      <td>NaN</td>\n      <td>NaN</td>\n      <td>NaN</td>\n      <td>...</td>\n      <td>NaN</td>\n      <td>OVD</td>\n      <td>OVD</td>\n      <td>None</td>\n      <td>NaN</td>\n      <td>NaN</td>\n      <td>4</td>\n      <td>-1</td>\n      <td>-1</td>\n      <td>-1</td>\n    </tr>\n    <tr>\n      <th>2</th>\n      <td>2018-05-01</td>\n      <td>2.0</td>\n      <td>32365</td>\n      <td>1</td>\n      <td>Active</td>\n      <td>NaN</td>\n      <td>EUR</td>\n      <td>NaN</td>\n      <td>NaN</td>\n      <td>NaN</td>\n      <td>...</td>\n      <td>0.0000</td>\n      <td>CA</td>\n      <td>CA_PAYROLL</td>\n      <td>True</td>\n      <td>NaN</td>\n      <td>NaN</td>\n      <td>217</td>\n      <td>-1</td>\n      <td>-1</td>\n      <td>61</td>\n    </tr>\n    <tr>\n      <th>3</th>\n      <td>2018-05-01</td>\n      <td>3.0</td>\n      <td>27354</td>\n      <td>1</td>\n      <td>Active</td>\n      <td>NaN</td>\n      <td>EUR</td>\n      <td>NaN</td>\n      <td>NaN</td>\n      <td>NaN</td>\n      <td>...</td>\n      <td>12575.4411</td>\n      <td>CA</td>\n      <td>CA_STANDARD</td>\n      <td>False</td>\n      <td>NaN</td>\n      <td>NaN</td>\n      <td>231</td>\n      <td>-1</td>\n      <td>-1</td>\n      <td>-1</td>\n    </tr>\n    <tr>\n      <th>4</th>\n      <td>2018-05-01</td>\n      <td>4.0</td>\n      <td>121835</td>\n      <td>1</td>\n      <td>Active</td>\n      <td>1200.0</td>\n      <td>EUR</td>\n      <td>600.0</td>\n      <td>NaN</td>\n      <td>0.06</td>\n      <td>...</td>\n      <td>903.8700</td>\n      <td>CC</td>\n      <td>CC_VISA_ELECTRON</td>\n      <td>False</td>\n      <td>36.0</td>\n      <td>NaN</td>\n      <td>94</td>\n      <td>-1</td>\n      <td>13</td>\n      <td>-1</td>\n    </tr>\n  </tbody>\n</table>\n<p>5 rows × 24 columns</p>\n</div>"
          },
          "metadata": {}
        }
      ]
    },
    {
      "metadata": {
        "trusted": true
      },
      "cell_type": "code",
      "source": "bal_own.shape",
      "execution_count": 766,
      "outputs": [
        {
          "output_type": "execute_result",
          "execution_count": 766,
          "data": {
            "text/plain": "(282798, 24)"
          },
          "metadata": {}
        }
      ]
    },
    {
      "metadata": {
        "trusted": true
      },
      "cell_type": "code",
      "source": "del balances, bal_prod_codes, ownership, product_codes\ngc.collect()",
      "execution_count": 767,
      "outputs": [
        {
          "output_type": "execute_result",
          "execution_count": 767,
          "data": {
            "text/plain": "21"
          },
          "metadata": {}
        }
      ]
    },
    {
      "metadata": {},
      "cell_type": "markdown",
      "source": "Aggregations"
    },
    {
      "metadata": {
        "trusted": true
      },
      "cell_type": "code",
      "source": "def aggregated_index(df, dic):\n    arr = []\n    for val in df.columns.values:\n        arr.append([dic.get(n, n) for n in val])\n    columns = pd.Index(\"_\".join(i) for i in arr)\n    columns = [x.upper() for x in columns]\n    return columns",
      "execution_count": 768,
      "outputs": []
    },
    {
      "metadata": {
        "trusted": true
      },
      "cell_type": "code",
      "source": "aggreg_prod = pd.pivot_table(bal_own, values=['BAL', 'Account_ID',], index=['Customer_ID'], columns=['PROD'], \n                             aggfunc={'BAL': [np.mean], 'Account_ID': [len]})",
      "execution_count": 769,
      "outputs": []
    },
    {
      "metadata": {
        "trusted": true
      },
      "cell_type": "code",
      "source": "dic_prod = {'mean':'AVG', 'len':'CNT', 'sum':'SUM', 'Account_ID':''}",
      "execution_count": 770,
      "outputs": []
    },
    {
      "metadata": {
        "trusted": true
      },
      "cell_type": "code",
      "source": "col_agg_prod = aggregated_index(aggreg_prod, dic_prod)\ncol_agg_prod = [item.strip('_') for item in col_agg_prod]\ncol_agg_prod = [item.replace(' ', '_') for item in col_agg_prod]\naggreg_prod.columns = col_agg_prod\naggreg_prod.reset_index(inplace=True)",
      "execution_count": 771,
      "outputs": []
    },
    {
      "metadata": {
        "trusted": true
      },
      "cell_type": "code",
      "source": "aggreg_prod.head()",
      "execution_count": 772,
      "outputs": [
        {
          "output_type": "execute_result",
          "execution_count": 772,
          "data": {
            "text/plain": "   Customer_ID  CNT_AL_PROMOTION  CNT_AL_STANDARD  CNT_CA_PAYROLL  \\\n0          1.0               NaN              NaN             NaN   \n1          2.0               NaN              NaN             1.0   \n2          3.0               NaN              NaN             NaN   \n3          4.0               NaN              NaN             1.0   \n4          5.0               NaN              NaN             1.0   \n\n   CNT_CA_STANDARD  CNT_CC_MASTERCARD_GOLD  CNT_CC_MASTERCARD_PLATINUM  \\\n0              1.0                     NaN                         NaN   \n1              NaN                     NaN                         NaN   \n2              1.0                     NaN                         NaN   \n3              NaN                     NaN                         1.0   \n4              NaN                     NaN                         NaN   \n\n   CNT_CC_MASTERCARD_STANDARD  CNT_CC_VISA_ELECTRON  CNT_CC_VISA_GOLD  ...  \\\n0                         NaN                   NaN               NaN  ...   \n1                         NaN                   NaN               NaN  ...   \n2                         NaN                   NaN               NaN  ...   \n3                         NaN                   1.0               NaN  ...   \n4                         NaN                   1.0               NaN  ...   \n\n   BAL_AVG_CC_VISA_PLATINUM  BAL_AVG_MG_NEW_HOUSE  BAL_AVG_MG_RENOVATION  \\\n0                       NaN                   NaN                    NaN   \n1                       NaN                   NaN                    NaN   \n2                       NaN                   NaN                    NaN   \n3                       NaN                   NaN                    NaN   \n4                       NaN                   NaN                    NaN   \n\n   BAL_AVG_OVD  BAL_AVG_PL_F_NON_SEC  BAL_AVG_PL_F_SEC  BAL_AVG_PL_V  \\\n0          NaN                   NaN               NaN           NaN   \n1          NaN                   NaN               NaN           NaN   \n2          NaN                   NaN               NaN           NaN   \n3          NaN                   NaN               NaN           NaN   \n4          NaN                   NaN               NaN           NaN   \n\n   BAL_AVG_SA  BAL_AVG_TD_LT  BAL_AVG_TD_ST  \n0         NaN            NaN            NaN  \n1         NaN            NaN            NaN  \n2         NaN            NaN            NaN  \n3         NaN            NaN            NaN  \n4         NaN            NaN            NaN  \n\n[5 rows x 39 columns]",
            "text/html": "<div>\n<style scoped>\n    .dataframe tbody tr th:only-of-type {\n        vertical-align: middle;\n    }\n\n    .dataframe tbody tr th {\n        vertical-align: top;\n    }\n\n    .dataframe thead th {\n        text-align: right;\n    }\n</style>\n<table border=\"1\" class=\"dataframe\">\n  <thead>\n    <tr style=\"text-align: right;\">\n      <th></th>\n      <th>Customer_ID</th>\n      <th>CNT_AL_PROMOTION</th>\n      <th>CNT_AL_STANDARD</th>\n      <th>CNT_CA_PAYROLL</th>\n      <th>CNT_CA_STANDARD</th>\n      <th>CNT_CC_MASTERCARD_GOLD</th>\n      <th>CNT_CC_MASTERCARD_PLATINUM</th>\n      <th>CNT_CC_MASTERCARD_STANDARD</th>\n      <th>CNT_CC_VISA_ELECTRON</th>\n      <th>CNT_CC_VISA_GOLD</th>\n      <th>...</th>\n      <th>BAL_AVG_CC_VISA_PLATINUM</th>\n      <th>BAL_AVG_MG_NEW_HOUSE</th>\n      <th>BAL_AVG_MG_RENOVATION</th>\n      <th>BAL_AVG_OVD</th>\n      <th>BAL_AVG_PL_F_NON_SEC</th>\n      <th>BAL_AVG_PL_F_SEC</th>\n      <th>BAL_AVG_PL_V</th>\n      <th>BAL_AVG_SA</th>\n      <th>BAL_AVG_TD_LT</th>\n      <th>BAL_AVG_TD_ST</th>\n    </tr>\n  </thead>\n  <tbody>\n    <tr>\n      <th>0</th>\n      <td>1.0</td>\n      <td>NaN</td>\n      <td>NaN</td>\n      <td>NaN</td>\n      <td>1.0</td>\n      <td>NaN</td>\n      <td>NaN</td>\n      <td>NaN</td>\n      <td>NaN</td>\n      <td>NaN</td>\n      <td>...</td>\n      <td>NaN</td>\n      <td>NaN</td>\n      <td>NaN</td>\n      <td>NaN</td>\n      <td>NaN</td>\n      <td>NaN</td>\n      <td>NaN</td>\n      <td>NaN</td>\n      <td>NaN</td>\n      <td>NaN</td>\n    </tr>\n    <tr>\n      <th>1</th>\n      <td>2.0</td>\n      <td>NaN</td>\n      <td>NaN</td>\n      <td>1.0</td>\n      <td>NaN</td>\n      <td>NaN</td>\n      <td>NaN</td>\n      <td>NaN</td>\n      <td>NaN</td>\n      <td>NaN</td>\n      <td>...</td>\n      <td>NaN</td>\n      <td>NaN</td>\n      <td>NaN</td>\n      <td>NaN</td>\n      <td>NaN</td>\n      <td>NaN</td>\n      <td>NaN</td>\n      <td>NaN</td>\n      <td>NaN</td>\n      <td>NaN</td>\n    </tr>\n    <tr>\n      <th>2</th>\n      <td>3.0</td>\n      <td>NaN</td>\n      <td>NaN</td>\n      <td>NaN</td>\n      <td>1.0</td>\n      <td>NaN</td>\n      <td>NaN</td>\n      <td>NaN</td>\n      <td>NaN</td>\n      <td>NaN</td>\n      <td>...</td>\n      <td>NaN</td>\n      <td>NaN</td>\n      <td>NaN</td>\n      <td>NaN</td>\n      <td>NaN</td>\n      <td>NaN</td>\n      <td>NaN</td>\n      <td>NaN</td>\n      <td>NaN</td>\n      <td>NaN</td>\n    </tr>\n    <tr>\n      <th>3</th>\n      <td>4.0</td>\n      <td>NaN</td>\n      <td>NaN</td>\n      <td>1.0</td>\n      <td>NaN</td>\n      <td>NaN</td>\n      <td>1.0</td>\n      <td>NaN</td>\n      <td>1.0</td>\n      <td>NaN</td>\n      <td>...</td>\n      <td>NaN</td>\n      <td>NaN</td>\n      <td>NaN</td>\n      <td>NaN</td>\n      <td>NaN</td>\n      <td>NaN</td>\n      <td>NaN</td>\n      <td>NaN</td>\n      <td>NaN</td>\n      <td>NaN</td>\n    </tr>\n    <tr>\n      <th>4</th>\n      <td>5.0</td>\n      <td>NaN</td>\n      <td>NaN</td>\n      <td>1.0</td>\n      <td>NaN</td>\n      <td>NaN</td>\n      <td>NaN</td>\n      <td>NaN</td>\n      <td>1.0</td>\n      <td>NaN</td>\n      <td>...</td>\n      <td>NaN</td>\n      <td>NaN</td>\n      <td>NaN</td>\n      <td>NaN</td>\n      <td>NaN</td>\n      <td>NaN</td>\n      <td>NaN</td>\n      <td>NaN</td>\n      <td>NaN</td>\n      <td>NaN</td>\n    </tr>\n  </tbody>\n</table>\n<p>5 rows × 39 columns</p>\n</div>"
          },
          "metadata": {}
        }
      ]
    },
    {
      "metadata": {
        "trusted": true
      },
      "cell_type": "code",
      "source": "aggreg_prod_flag = pd.pivot_table(bal_own, values=['Account_ID'], index=['Customer_ID'], columns=['PROD'], \n                             aggfunc={'Account_ID': [len]})",
      "execution_count": 773,
      "outputs": []
    },
    {
      "metadata": {
        "trusted": true
      },
      "cell_type": "code",
      "source": "dic_prod_flag = {'mean':'AVG', 'len':'FLAG', 'sum':'SUM', 'Account_ID':''}",
      "execution_count": 774,
      "outputs": []
    },
    {
      "metadata": {
        "trusted": true
      },
      "cell_type": "code",
      "source": "col_agg_prod_flag = aggregated_index(aggreg_prod_flag, dic_prod_flag)\ncol_agg_prod_flag = [item.strip('_') for item in col_agg_prod_flag]\ncol_agg_prod_flag = [item.replace(' ', '_') for item in col_agg_prod_flag]\naggreg_prod_flag.columns = col_agg_prod_flag\n",
      "execution_count": 775,
      "outputs": []
    },
    {
      "metadata": {
        "trusted": true
      },
      "cell_type": "code",
      "source": "aggreg_prod_flag.fillna(0,inplace=True)",
      "execution_count": 776,
      "outputs": []
    },
    {
      "metadata": {
        "trusted": true
      },
      "cell_type": "code",
      "source": "aggreg_prod_flag.where(aggreg_prod_flag<=1, 1, inplace=True)",
      "execution_count": 777,
      "outputs": []
    },
    {
      "metadata": {
        "trusted": true
      },
      "cell_type": "code",
      "source": "aggreg_prod_flag.reset_index(inplace=True)",
      "execution_count": 778,
      "outputs": []
    },
    {
      "metadata": {
        "trusted": true
      },
      "cell_type": "code",
      "source": "aggreg_prod_flag.head()",
      "execution_count": 779,
      "outputs": [
        {
          "output_type": "execute_result",
          "execution_count": 779,
          "data": {
            "text/plain": "   Customer_ID  FLAG_AL_PROMOTION  FLAG_AL_STANDARD  FLAG_CA_PAYROLL  \\\n0          1.0                0.0               0.0              0.0   \n1          2.0                0.0               0.0              1.0   \n2          3.0                0.0               0.0              0.0   \n3          4.0                0.0               0.0              1.0   \n4          5.0                0.0               0.0              1.0   \n\n   FLAG_CA_STANDARD  FLAG_CC_MASTERCARD_GOLD  FLAG_CC_MASTERCARD_PLATINUM  \\\n0               1.0                      0.0                          0.0   \n1               0.0                      0.0                          0.0   \n2               1.0                      0.0                          0.0   \n3               0.0                      0.0                          1.0   \n4               0.0                      0.0                          0.0   \n\n   FLAG_CC_MASTERCARD_STANDARD  FLAG_CC_VISA_ELECTRON  FLAG_CC_VISA_GOLD  \\\n0                          0.0                    0.0                0.0   \n1                          0.0                    0.0                0.0   \n2                          0.0                    0.0                0.0   \n3                          0.0                    1.0                0.0   \n4                          0.0                    1.0                0.0   \n\n   FLAG_CC_VISA_PLATINUM  FLAG_MG_NEW_HOUSE  FLAG_MG_RENOVATION  FLAG_OVD  \\\n0                    0.0                0.0                 0.0       1.0   \n1                    0.0                0.0                 0.0       0.0   \n2                    0.0                0.0                 0.0       0.0   \n3                    0.0                0.0                 0.0       1.0   \n4                    0.0                0.0                 0.0       0.0   \n\n   FLAG_PL_F_NON_SEC  FLAG_PL_F_SEC  FLAG_PL_V  FLAG_SA  FLAG_TD_LT  \\\n0                0.0            0.0        0.0      0.0         0.0   \n1                0.0            0.0        0.0      0.0         0.0   \n2                0.0            0.0        0.0      0.0         0.0   \n3                0.0            0.0        0.0      0.0         0.0   \n4                0.0            0.0        0.0      0.0         0.0   \n\n   FLAG_TD_ST  \n0         0.0  \n1         0.0  \n2         0.0  \n3         0.0  \n4         0.0  ",
            "text/html": "<div>\n<style scoped>\n    .dataframe tbody tr th:only-of-type {\n        vertical-align: middle;\n    }\n\n    .dataframe tbody tr th {\n        vertical-align: top;\n    }\n\n    .dataframe thead th {\n        text-align: right;\n    }\n</style>\n<table border=\"1\" class=\"dataframe\">\n  <thead>\n    <tr style=\"text-align: right;\">\n      <th></th>\n      <th>Customer_ID</th>\n      <th>FLAG_AL_PROMOTION</th>\n      <th>FLAG_AL_STANDARD</th>\n      <th>FLAG_CA_PAYROLL</th>\n      <th>FLAG_CA_STANDARD</th>\n      <th>FLAG_CC_MASTERCARD_GOLD</th>\n      <th>FLAG_CC_MASTERCARD_PLATINUM</th>\n      <th>FLAG_CC_MASTERCARD_STANDARD</th>\n      <th>FLAG_CC_VISA_ELECTRON</th>\n      <th>FLAG_CC_VISA_GOLD</th>\n      <th>FLAG_CC_VISA_PLATINUM</th>\n      <th>FLAG_MG_NEW_HOUSE</th>\n      <th>FLAG_MG_RENOVATION</th>\n      <th>FLAG_OVD</th>\n      <th>FLAG_PL_F_NON_SEC</th>\n      <th>FLAG_PL_F_SEC</th>\n      <th>FLAG_PL_V</th>\n      <th>FLAG_SA</th>\n      <th>FLAG_TD_LT</th>\n      <th>FLAG_TD_ST</th>\n    </tr>\n  </thead>\n  <tbody>\n    <tr>\n      <th>0</th>\n      <td>1.0</td>\n      <td>0.0</td>\n      <td>0.0</td>\n      <td>0.0</td>\n      <td>1.0</td>\n      <td>0.0</td>\n      <td>0.0</td>\n      <td>0.0</td>\n      <td>0.0</td>\n      <td>0.0</td>\n      <td>0.0</td>\n      <td>0.0</td>\n      <td>0.0</td>\n      <td>1.0</td>\n      <td>0.0</td>\n      <td>0.0</td>\n      <td>0.0</td>\n      <td>0.0</td>\n      <td>0.0</td>\n      <td>0.0</td>\n    </tr>\n    <tr>\n      <th>1</th>\n      <td>2.0</td>\n      <td>0.0</td>\n      <td>0.0</td>\n      <td>1.0</td>\n      <td>0.0</td>\n      <td>0.0</td>\n      <td>0.0</td>\n      <td>0.0</td>\n      <td>0.0</td>\n      <td>0.0</td>\n      <td>0.0</td>\n      <td>0.0</td>\n      <td>0.0</td>\n      <td>0.0</td>\n      <td>0.0</td>\n      <td>0.0</td>\n      <td>0.0</td>\n      <td>0.0</td>\n      <td>0.0</td>\n      <td>0.0</td>\n    </tr>\n    <tr>\n      <th>2</th>\n      <td>3.0</td>\n      <td>0.0</td>\n      <td>0.0</td>\n      <td>0.0</td>\n      <td>1.0</td>\n      <td>0.0</td>\n      <td>0.0</td>\n      <td>0.0</td>\n      <td>0.0</td>\n      <td>0.0</td>\n      <td>0.0</td>\n      <td>0.0</td>\n      <td>0.0</td>\n      <td>0.0</td>\n      <td>0.0</td>\n      <td>0.0</td>\n      <td>0.0</td>\n      <td>0.0</td>\n      <td>0.0</td>\n      <td>0.0</td>\n    </tr>\n    <tr>\n      <th>3</th>\n      <td>4.0</td>\n      <td>0.0</td>\n      <td>0.0</td>\n      <td>1.0</td>\n      <td>0.0</td>\n      <td>0.0</td>\n      <td>1.0</td>\n      <td>0.0</td>\n      <td>1.0</td>\n      <td>0.0</td>\n      <td>0.0</td>\n      <td>0.0</td>\n      <td>0.0</td>\n      <td>1.0</td>\n      <td>0.0</td>\n      <td>0.0</td>\n      <td>0.0</td>\n      <td>0.0</td>\n      <td>0.0</td>\n      <td>0.0</td>\n    </tr>\n    <tr>\n      <th>4</th>\n      <td>5.0</td>\n      <td>0.0</td>\n      <td>0.0</td>\n      <td>1.0</td>\n      <td>0.0</td>\n      <td>0.0</td>\n      <td>0.0</td>\n      <td>0.0</td>\n      <td>1.0</td>\n      <td>0.0</td>\n      <td>0.0</td>\n      <td>0.0</td>\n      <td>0.0</td>\n      <td>0.0</td>\n      <td>0.0</td>\n      <td>0.0</td>\n      <td>0.0</td>\n      <td>0.0</td>\n      <td>0.0</td>\n      <td>0.0</td>\n    </tr>\n  </tbody>\n</table>\n</div>"
          },
          "metadata": {}
        }
      ]
    },
    {
      "metadata": {
        "trusted": true
      },
      "cell_type": "code",
      "source": "",
      "execution_count": null,
      "outputs": []
    },
    {
      "metadata": {
        "trusted": true
      },
      "cell_type": "code",
      "source": "bal_own_credit = bal_own[bal_own['CAT'].isin(['CC', 'AL', 'MG', 'PL', 'OVD'])]",
      "execution_count": 780,
      "outputs": []
    },
    {
      "metadata": {
        "trusted": true
      },
      "cell_type": "code",
      "source": "bal_own_credit.shape",
      "execution_count": 781,
      "outputs": [
        {
          "output_type": "execute_result",
          "execution_count": 781,
          "data": {
            "text/plain": "(122177, 24)"
          },
          "metadata": {}
        }
      ]
    },
    {
      "metadata": {
        "trusted": true
      },
      "cell_type": "code",
      "source": "aggreg_prod_credit = pd.pivot_table(bal_own_credit, values=['CLT', 'INSA'], index=['Customer_ID'], columns=['PROD'], \n                             aggfunc={'CLT':[sum], 'INSA':[sum]})",
      "execution_count": 782,
      "outputs": []
    },
    {
      "metadata": {
        "trusted": true
      },
      "cell_type": "code",
      "source": "dic_prod_credit = {'mean':'AVG', 'len':'CNT', 'sum':''}",
      "execution_count": 783,
      "outputs": []
    },
    {
      "metadata": {
        "trusted": true
      },
      "cell_type": "code",
      "source": "col_agg_prod_credit = aggregated_index(aggreg_prod_credit, dic_prod_credit)\ncol_agg_prod_credit = [item.strip('_') for item in col_agg_prod_credit]\ncol_agg_prod_credit = [item.replace('__', '_') for item in col_agg_prod_credit]\ncol_agg_prod_credit = [item.replace(' ', '_') for item in col_agg_prod_credit]\naggreg_prod_credit.columns = col_agg_prod_credit\naggreg_prod_credit.reset_index(inplace=True)",
      "execution_count": 784,
      "outputs": []
    },
    {
      "metadata": {
        "trusted": true
      },
      "cell_type": "code",
      "source": "aggreg_prod_credit.head()",
      "execution_count": 785,
      "outputs": [
        {
          "output_type": "execute_result",
          "execution_count": 785,
          "data": {
            "text/plain": "   Customer_ID  CLT_AL_PROMOTION  CLT_AL_STANDARD  CLT_CC_MASTERCARD_GOLD  \\\n0          1.0               NaN              NaN                     NaN   \n1          4.0               NaN              NaN                     NaN   \n2          5.0               NaN              NaN                     NaN   \n3          6.0               NaN              NaN                     NaN   \n4          7.0               NaN              NaN                     NaN   \n\n   CLT_CC_MASTERCARD_PLATINUM  CLT_CC_MASTERCARD_STANDARD  \\\n0                         NaN                         NaN   \n1                      7800.0                         NaN   \n2                         NaN                         NaN   \n3                      6400.0                         NaN   \n4                         NaN                         NaN   \n\n   CLT_CC_VISA_ELECTRON  CLT_CC_VISA_GOLD  CLT_CC_VISA_PLATINUM  \\\n0                   NaN               NaN                   NaN   \n1                1200.0               NaN                   NaN   \n2                1200.0               NaN                   NaN   \n3                   NaN            2800.0                   NaN   \n4                   NaN               NaN                   NaN   \n\n   CLT_MG_NEW_HOUSE  ...  INSA_CC_MASTERCARD_STANDARD  INSA_CC_VISA_ELECTRON  \\\n0               NaN  ...                          NaN                    NaN   \n1               NaN  ...                          NaN                    0.0   \n2               NaN  ...                          NaN                    0.0   \n3               NaN  ...                          NaN                    NaN   \n4               NaN  ...                          NaN                    NaN   \n\n   INSA_CC_VISA_GOLD  INSA_CC_VISA_PLATINUM  INSA_MG_NEW_HOUSE  \\\n0                NaN                    NaN                NaN   \n1                NaN                    NaN                NaN   \n2                NaN                    NaN                NaN   \n3                0.0                    NaN                NaN   \n4                NaN                    NaN                NaN   \n\n   INSA_MG_RENOVATION  INSA_OVD  INSA_PL_F_NON_SEC  INSA_PL_F_SEC  INSA_PL_V  \n0                 NaN       0.0                NaN            NaN        NaN  \n1                 NaN       0.0                NaN            NaN        NaN  \n2                 NaN       NaN                NaN            NaN        NaN  \n3                 NaN       NaN                NaN            NaN        NaN  \n4                 NaN       0.0                NaN            NaN        NaN  \n\n[5 rows x 29 columns]",
            "text/html": "<div>\n<style scoped>\n    .dataframe tbody tr th:only-of-type {\n        vertical-align: middle;\n    }\n\n    .dataframe tbody tr th {\n        vertical-align: top;\n    }\n\n    .dataframe thead th {\n        text-align: right;\n    }\n</style>\n<table border=\"1\" class=\"dataframe\">\n  <thead>\n    <tr style=\"text-align: right;\">\n      <th></th>\n      <th>Customer_ID</th>\n      <th>CLT_AL_PROMOTION</th>\n      <th>CLT_AL_STANDARD</th>\n      <th>CLT_CC_MASTERCARD_GOLD</th>\n      <th>CLT_CC_MASTERCARD_PLATINUM</th>\n      <th>CLT_CC_MASTERCARD_STANDARD</th>\n      <th>CLT_CC_VISA_ELECTRON</th>\n      <th>CLT_CC_VISA_GOLD</th>\n      <th>CLT_CC_VISA_PLATINUM</th>\n      <th>CLT_MG_NEW_HOUSE</th>\n      <th>...</th>\n      <th>INSA_CC_MASTERCARD_STANDARD</th>\n      <th>INSA_CC_VISA_ELECTRON</th>\n      <th>INSA_CC_VISA_GOLD</th>\n      <th>INSA_CC_VISA_PLATINUM</th>\n      <th>INSA_MG_NEW_HOUSE</th>\n      <th>INSA_MG_RENOVATION</th>\n      <th>INSA_OVD</th>\n      <th>INSA_PL_F_NON_SEC</th>\n      <th>INSA_PL_F_SEC</th>\n      <th>INSA_PL_V</th>\n    </tr>\n  </thead>\n  <tbody>\n    <tr>\n      <th>0</th>\n      <td>1.0</td>\n      <td>NaN</td>\n      <td>NaN</td>\n      <td>NaN</td>\n      <td>NaN</td>\n      <td>NaN</td>\n      <td>NaN</td>\n      <td>NaN</td>\n      <td>NaN</td>\n      <td>NaN</td>\n      <td>...</td>\n      <td>NaN</td>\n      <td>NaN</td>\n      <td>NaN</td>\n      <td>NaN</td>\n      <td>NaN</td>\n      <td>NaN</td>\n      <td>0.0</td>\n      <td>NaN</td>\n      <td>NaN</td>\n      <td>NaN</td>\n    </tr>\n    <tr>\n      <th>1</th>\n      <td>4.0</td>\n      <td>NaN</td>\n      <td>NaN</td>\n      <td>NaN</td>\n      <td>7800.0</td>\n      <td>NaN</td>\n      <td>1200.0</td>\n      <td>NaN</td>\n      <td>NaN</td>\n      <td>NaN</td>\n      <td>...</td>\n      <td>NaN</td>\n      <td>0.0</td>\n      <td>NaN</td>\n      <td>NaN</td>\n      <td>NaN</td>\n      <td>NaN</td>\n      <td>0.0</td>\n      <td>NaN</td>\n      <td>NaN</td>\n      <td>NaN</td>\n    </tr>\n    <tr>\n      <th>2</th>\n      <td>5.0</td>\n      <td>NaN</td>\n      <td>NaN</td>\n      <td>NaN</td>\n      <td>NaN</td>\n      <td>NaN</td>\n      <td>1200.0</td>\n      <td>NaN</td>\n      <td>NaN</td>\n      <td>NaN</td>\n      <td>...</td>\n      <td>NaN</td>\n      <td>0.0</td>\n      <td>NaN</td>\n      <td>NaN</td>\n      <td>NaN</td>\n      <td>NaN</td>\n      <td>NaN</td>\n      <td>NaN</td>\n      <td>NaN</td>\n      <td>NaN</td>\n    </tr>\n    <tr>\n      <th>3</th>\n      <td>6.0</td>\n      <td>NaN</td>\n      <td>NaN</td>\n      <td>NaN</td>\n      <td>6400.0</td>\n      <td>NaN</td>\n      <td>NaN</td>\n      <td>2800.0</td>\n      <td>NaN</td>\n      <td>NaN</td>\n      <td>...</td>\n      <td>NaN</td>\n      <td>NaN</td>\n      <td>0.0</td>\n      <td>NaN</td>\n      <td>NaN</td>\n      <td>NaN</td>\n      <td>NaN</td>\n      <td>NaN</td>\n      <td>NaN</td>\n      <td>NaN</td>\n    </tr>\n    <tr>\n      <th>4</th>\n      <td>7.0</td>\n      <td>NaN</td>\n      <td>NaN</td>\n      <td>NaN</td>\n      <td>NaN</td>\n      <td>NaN</td>\n      <td>NaN</td>\n      <td>NaN</td>\n      <td>NaN</td>\n      <td>NaN</td>\n      <td>...</td>\n      <td>NaN</td>\n      <td>NaN</td>\n      <td>NaN</td>\n      <td>NaN</td>\n      <td>NaN</td>\n      <td>NaN</td>\n      <td>0.0</td>\n      <td>NaN</td>\n      <td>NaN</td>\n      <td>NaN</td>\n    </tr>\n  </tbody>\n</table>\n<p>5 rows × 29 columns</p>\n</div>"
          },
          "metadata": {}
        }
      ]
    },
    {
      "metadata": {
        "trusted": true
      },
      "cell_type": "code",
      "source": "",
      "execution_count": null,
      "outputs": []
    },
    {
      "metadata": {
        "trusted": true
      },
      "cell_type": "code",
      "source": "aggreg_cat_credit = pd.pivot_table(bal_own_credit, values=['CLT'], index=['Customer_ID'], columns=['CAT'], \n                                  aggfunc={'CLT':[sum]})",
      "execution_count": 786,
      "outputs": []
    },
    {
      "metadata": {
        "trusted": true
      },
      "cell_type": "code",
      "source": "dic_cat_credit = {'mean':'AVG', 'len':'CNT', 'sum':''}",
      "execution_count": 787,
      "outputs": []
    },
    {
      "metadata": {
        "trusted": true
      },
      "cell_type": "code",
      "source": "col_agg_cat_credit = aggregated_index(aggreg_cat_credit, dic_cat_credit)\ncol_agg_cat_credit = [item.strip('_') for item in col_agg_cat_credit]\ncol_agg_cat_credit = [item.replace('__', '_') for item in col_agg_cat_credit]\ncol_agg_cat_credit = [item.replace(' ', '_') for item in col_agg_cat_credit]\ncol_agg_cat_credit = ['CAT_'+item for item in col_agg_cat_credit]\naggreg_cat_credit.columns = col_agg_cat_credit\naggreg_cat_credit.reset_index(inplace=True)",
      "execution_count": 788,
      "outputs": []
    },
    {
      "metadata": {
        "trusted": true
      },
      "cell_type": "code",
      "source": "aggreg_cat_credit.head()",
      "execution_count": 789,
      "outputs": [
        {
          "output_type": "execute_result",
          "execution_count": 789,
          "data": {
            "text/plain": "   Customer_ID  CAT_CLT_AL  CAT_CLT_CC  CAT_CLT_MG  CAT_CLT_OVD  CAT_CLT_PL\n0          1.0         NaN         NaN         NaN          0.0         NaN\n1          4.0         NaN      9000.0         NaN          0.0         NaN\n2          5.0         NaN      1200.0         NaN          NaN         NaN\n3          6.0         NaN      9200.0         NaN          NaN         NaN\n4          7.0         NaN         NaN         NaN          0.0         NaN",
            "text/html": "<div>\n<style scoped>\n    .dataframe tbody tr th:only-of-type {\n        vertical-align: middle;\n    }\n\n    .dataframe tbody tr th {\n        vertical-align: top;\n    }\n\n    .dataframe thead th {\n        text-align: right;\n    }\n</style>\n<table border=\"1\" class=\"dataframe\">\n  <thead>\n    <tr style=\"text-align: right;\">\n      <th></th>\n      <th>Customer_ID</th>\n      <th>CAT_CLT_AL</th>\n      <th>CAT_CLT_CC</th>\n      <th>CAT_CLT_MG</th>\n      <th>CAT_CLT_OVD</th>\n      <th>CAT_CLT_PL</th>\n    </tr>\n  </thead>\n  <tbody>\n    <tr>\n      <th>0</th>\n      <td>1.0</td>\n      <td>NaN</td>\n      <td>NaN</td>\n      <td>NaN</td>\n      <td>0.0</td>\n      <td>NaN</td>\n    </tr>\n    <tr>\n      <th>1</th>\n      <td>4.0</td>\n      <td>NaN</td>\n      <td>9000.0</td>\n      <td>NaN</td>\n      <td>0.0</td>\n      <td>NaN</td>\n    </tr>\n    <tr>\n      <th>2</th>\n      <td>5.0</td>\n      <td>NaN</td>\n      <td>1200.0</td>\n      <td>NaN</td>\n      <td>NaN</td>\n      <td>NaN</td>\n    </tr>\n    <tr>\n      <th>3</th>\n      <td>6.0</td>\n      <td>NaN</td>\n      <td>9200.0</td>\n      <td>NaN</td>\n      <td>NaN</td>\n      <td>NaN</td>\n    </tr>\n    <tr>\n      <th>4</th>\n      <td>7.0</td>\n      <td>NaN</td>\n      <td>NaN</td>\n      <td>NaN</td>\n      <td>0.0</td>\n      <td>NaN</td>\n    </tr>\n  </tbody>\n</table>\n</div>"
          },
          "metadata": {}
        }
      ]
    },
    {
      "metadata": {
        "trusted": true
      },
      "cell_type": "code",
      "source": "",
      "execution_count": null,
      "outputs": []
    },
    {
      "metadata": {
        "trusted": true
      },
      "cell_type": "code",
      "source": "aggreg_cat = pd.pivot_table(bal_own, values=['Account_ID', 'BAL'], index=['Customer_ID'], columns=['CAT'], \n                             aggfunc={'Account_ID': [len], 'BAL': [sum]})",
      "execution_count": 790,
      "outputs": []
    },
    {
      "metadata": {
        "trusted": true
      },
      "cell_type": "code",
      "source": "dic_cat = {'mean':'AVG', 'len':'CNT', 'sum':'', 'Account_ID':''}",
      "execution_count": 791,
      "outputs": []
    },
    {
      "metadata": {
        "trusted": true
      },
      "cell_type": "code",
      "source": "col_agg_cat = aggregated_index(aggreg_cat, dic_cat)\ncol_agg_cat = [item.strip('_') for item in col_agg_cat]\ncol_agg_cat = [item.replace('__', '_') for item in col_agg_cat]\ncol_agg_cat = [item.replace(' ', '_') for item in col_agg_cat]\ncol_agg_cat = ['CAT_'+item for item in col_agg_cat]\naggreg_cat.columns = col_agg_cat\naggreg_cat.reset_index(inplace=True)",
      "execution_count": 792,
      "outputs": []
    },
    {
      "metadata": {
        "trusted": true
      },
      "cell_type": "code",
      "source": "aggreg_cat.head()",
      "execution_count": 793,
      "outputs": [
        {
          "output_type": "execute_result",
          "execution_count": 793,
          "data": {
            "text/plain": "   Customer_ID  CAT_CNT_AL  CAT_CNT_CA  CAT_CNT_CC  CAT_CNT_MG  CAT_CNT_OVD  \\\n0          1.0         NaN         1.0         NaN         NaN          1.0   \n1          2.0         NaN         1.0         NaN         NaN          NaN   \n2          3.0         NaN         1.0         NaN         NaN          NaN   \n3          4.0         NaN         1.0         2.0         NaN          1.0   \n4          5.0         NaN         1.0         1.0         NaN          NaN   \n\n   CAT_CNT_PL  CAT_CNT_SA  CAT_CNT_TD  CAT_BAL_AL  CAT_BAL_CA  CAT_BAL_CC  \\\n0         NaN         NaN         NaN         NaN      0.0000         NaN   \n1         NaN         NaN         NaN         NaN      0.0000         NaN   \n2         NaN         NaN         NaN         NaN  12575.4411         NaN   \n3         NaN         NaN         NaN         NaN      0.0000      903.87   \n4         NaN         NaN         NaN         NaN      0.0000      847.80   \n\n   CAT_BAL_MG  CAT_BAL_OVD  CAT_BAL_PL  CAT_BAL_SA  CAT_BAL_TD  \n0         NaN          0.0         NaN         NaN         NaN  \n1         NaN          NaN         NaN         NaN         NaN  \n2         NaN          NaN         NaN         NaN         NaN  \n3         NaN          0.0         NaN         NaN         NaN  \n4         NaN          NaN         NaN         NaN         NaN  ",
            "text/html": "<div>\n<style scoped>\n    .dataframe tbody tr th:only-of-type {\n        vertical-align: middle;\n    }\n\n    .dataframe tbody tr th {\n        vertical-align: top;\n    }\n\n    .dataframe thead th {\n        text-align: right;\n    }\n</style>\n<table border=\"1\" class=\"dataframe\">\n  <thead>\n    <tr style=\"text-align: right;\">\n      <th></th>\n      <th>Customer_ID</th>\n      <th>CAT_CNT_AL</th>\n      <th>CAT_CNT_CA</th>\n      <th>CAT_CNT_CC</th>\n      <th>CAT_CNT_MG</th>\n      <th>CAT_CNT_OVD</th>\n      <th>CAT_CNT_PL</th>\n      <th>CAT_CNT_SA</th>\n      <th>CAT_CNT_TD</th>\n      <th>CAT_BAL_AL</th>\n      <th>CAT_BAL_CA</th>\n      <th>CAT_BAL_CC</th>\n      <th>CAT_BAL_MG</th>\n      <th>CAT_BAL_OVD</th>\n      <th>CAT_BAL_PL</th>\n      <th>CAT_BAL_SA</th>\n      <th>CAT_BAL_TD</th>\n    </tr>\n  </thead>\n  <tbody>\n    <tr>\n      <th>0</th>\n      <td>1.0</td>\n      <td>NaN</td>\n      <td>1.0</td>\n      <td>NaN</td>\n      <td>NaN</td>\n      <td>1.0</td>\n      <td>NaN</td>\n      <td>NaN</td>\n      <td>NaN</td>\n      <td>NaN</td>\n      <td>0.0000</td>\n      <td>NaN</td>\n      <td>NaN</td>\n      <td>0.0</td>\n      <td>NaN</td>\n      <td>NaN</td>\n      <td>NaN</td>\n    </tr>\n    <tr>\n      <th>1</th>\n      <td>2.0</td>\n      <td>NaN</td>\n      <td>1.0</td>\n      <td>NaN</td>\n      <td>NaN</td>\n      <td>NaN</td>\n      <td>NaN</td>\n      <td>NaN</td>\n      <td>NaN</td>\n      <td>NaN</td>\n      <td>0.0000</td>\n      <td>NaN</td>\n      <td>NaN</td>\n      <td>NaN</td>\n      <td>NaN</td>\n      <td>NaN</td>\n      <td>NaN</td>\n    </tr>\n    <tr>\n      <th>2</th>\n      <td>3.0</td>\n      <td>NaN</td>\n      <td>1.0</td>\n      <td>NaN</td>\n      <td>NaN</td>\n      <td>NaN</td>\n      <td>NaN</td>\n      <td>NaN</td>\n      <td>NaN</td>\n      <td>NaN</td>\n      <td>12575.4411</td>\n      <td>NaN</td>\n      <td>NaN</td>\n      <td>NaN</td>\n      <td>NaN</td>\n      <td>NaN</td>\n      <td>NaN</td>\n    </tr>\n    <tr>\n      <th>3</th>\n      <td>4.0</td>\n      <td>NaN</td>\n      <td>1.0</td>\n      <td>2.0</td>\n      <td>NaN</td>\n      <td>1.0</td>\n      <td>NaN</td>\n      <td>NaN</td>\n      <td>NaN</td>\n      <td>NaN</td>\n      <td>0.0000</td>\n      <td>903.87</td>\n      <td>NaN</td>\n      <td>0.0</td>\n      <td>NaN</td>\n      <td>NaN</td>\n      <td>NaN</td>\n    </tr>\n    <tr>\n      <th>4</th>\n      <td>5.0</td>\n      <td>NaN</td>\n      <td>1.0</td>\n      <td>1.0</td>\n      <td>NaN</td>\n      <td>NaN</td>\n      <td>NaN</td>\n      <td>NaN</td>\n      <td>NaN</td>\n      <td>NaN</td>\n      <td>0.0000</td>\n      <td>847.80</td>\n      <td>NaN</td>\n      <td>NaN</td>\n      <td>NaN</td>\n      <td>NaN</td>\n      <td>NaN</td>\n    </tr>\n  </tbody>\n</table>\n</div>"
          },
          "metadata": {}
        }
      ]
    },
    {
      "metadata": {
        "trusted": true
      },
      "cell_type": "code",
      "source": "#aggreg_cat.iloc[:5, :9]",
      "execution_count": 794,
      "outputs": []
    },
    {
      "metadata": {
        "trusted": true
      },
      "cell_type": "code",
      "source": "aggreg_cat_flag = aggreg_cat.iloc[:, :9].copy(deep=True)",
      "execution_count": 795,
      "outputs": []
    },
    {
      "metadata": {
        "trusted": true
      },
      "cell_type": "code",
      "source": "aggreg_cat_flag.set_index('Customer_ID', inplace=True)",
      "execution_count": 796,
      "outputs": []
    },
    {
      "metadata": {
        "trusted": true
      },
      "cell_type": "code",
      "source": "aggreg_cat_flag.fillna(0,inplace=True)",
      "execution_count": 797,
      "outputs": []
    },
    {
      "metadata": {
        "trusted": true
      },
      "cell_type": "code",
      "source": "aggreg_cat_flag.where(aggreg_cat_flag<=1, 1, inplace=True)",
      "execution_count": 798,
      "outputs": []
    },
    {
      "metadata": {
        "trusted": true
      },
      "cell_type": "code",
      "source": "aggreg_cat_flag.head()",
      "execution_count": 799,
      "outputs": [
        {
          "output_type": "execute_result",
          "execution_count": 799,
          "data": {
            "text/plain": "             CAT_CNT_AL  CAT_CNT_CA  CAT_CNT_CC  CAT_CNT_MG  CAT_CNT_OVD  \\\nCustomer_ID                                                                \n1.0                 0.0         1.0         0.0         0.0          1.0   \n2.0                 0.0         1.0         0.0         0.0          0.0   \n3.0                 0.0         1.0         0.0         0.0          0.0   \n4.0                 0.0         1.0         1.0         0.0          1.0   \n5.0                 0.0         1.0         1.0         0.0          0.0   \n\n             CAT_CNT_PL  CAT_CNT_SA  CAT_CNT_TD  \nCustomer_ID                                      \n1.0                 0.0         0.0         0.0  \n2.0                 0.0         0.0         0.0  \n3.0                 0.0         0.0         0.0  \n4.0                 0.0         0.0         0.0  \n5.0                 0.0         0.0         0.0  ",
            "text/html": "<div>\n<style scoped>\n    .dataframe tbody tr th:only-of-type {\n        vertical-align: middle;\n    }\n\n    .dataframe tbody tr th {\n        vertical-align: top;\n    }\n\n    .dataframe thead th {\n        text-align: right;\n    }\n</style>\n<table border=\"1\" class=\"dataframe\">\n  <thead>\n    <tr style=\"text-align: right;\">\n      <th></th>\n      <th>CAT_CNT_AL</th>\n      <th>CAT_CNT_CA</th>\n      <th>CAT_CNT_CC</th>\n      <th>CAT_CNT_MG</th>\n      <th>CAT_CNT_OVD</th>\n      <th>CAT_CNT_PL</th>\n      <th>CAT_CNT_SA</th>\n      <th>CAT_CNT_TD</th>\n    </tr>\n    <tr>\n      <th>Customer_ID</th>\n      <th></th>\n      <th></th>\n      <th></th>\n      <th></th>\n      <th></th>\n      <th></th>\n      <th></th>\n      <th></th>\n    </tr>\n  </thead>\n  <tbody>\n    <tr>\n      <th>1.0</th>\n      <td>0.0</td>\n      <td>1.0</td>\n      <td>0.0</td>\n      <td>0.0</td>\n      <td>1.0</td>\n      <td>0.0</td>\n      <td>0.0</td>\n      <td>0.0</td>\n    </tr>\n    <tr>\n      <th>2.0</th>\n      <td>0.0</td>\n      <td>1.0</td>\n      <td>0.0</td>\n      <td>0.0</td>\n      <td>0.0</td>\n      <td>0.0</td>\n      <td>0.0</td>\n      <td>0.0</td>\n    </tr>\n    <tr>\n      <th>3.0</th>\n      <td>0.0</td>\n      <td>1.0</td>\n      <td>0.0</td>\n      <td>0.0</td>\n      <td>0.0</td>\n      <td>0.0</td>\n      <td>0.0</td>\n      <td>0.0</td>\n    </tr>\n    <tr>\n      <th>4.0</th>\n      <td>0.0</td>\n      <td>1.0</td>\n      <td>1.0</td>\n      <td>0.0</td>\n      <td>1.0</td>\n      <td>0.0</td>\n      <td>0.0</td>\n      <td>0.0</td>\n    </tr>\n    <tr>\n      <th>5.0</th>\n      <td>0.0</td>\n      <td>1.0</td>\n      <td>1.0</td>\n      <td>0.0</td>\n      <td>0.0</td>\n      <td>0.0</td>\n      <td>0.0</td>\n      <td>0.0</td>\n    </tr>\n  </tbody>\n</table>\n</div>"
          },
          "metadata": {}
        }
      ]
    },
    {
      "metadata": {
        "trusted": true
      },
      "cell_type": "code",
      "source": "#aggreg_cat_flag.where(aggreg_cat_flag.notnull(), -5, inplace=True)",
      "execution_count": 800,
      "outputs": []
    },
    {
      "metadata": {
        "trusted": true
      },
      "cell_type": "code",
      "source": "#aggreg_cat_flag.where(aggreg_cat_flag<=1, 1, inplace=True)",
      "execution_count": 801,
      "outputs": []
    },
    {
      "metadata": {
        "trusted": true
      },
      "cell_type": "code",
      "source": "#aggreg_cat_flag.where(aggreg_cat_flag!=-5, np.NaN, inplace=True)",
      "execution_count": 802,
      "outputs": []
    },
    {
      "metadata": {
        "trusted": true
      },
      "cell_type": "code",
      "source": "aggreg_cat_flag_cols = [x.replace('CNT', 'FLAG') for x in aggreg_cat_flag.columns]",
      "execution_count": 803,
      "outputs": []
    },
    {
      "metadata": {
        "trusted": true
      },
      "cell_type": "code",
      "source": "aggreg_cat_flag.columns = aggreg_cat_flag_cols",
      "execution_count": 804,
      "outputs": []
    },
    {
      "metadata": {
        "trusted": true
      },
      "cell_type": "code",
      "source": "aggreg_cat_flag.reset_index(inplace=True)",
      "execution_count": 805,
      "outputs": []
    },
    {
      "metadata": {
        "trusted": true
      },
      "cell_type": "code",
      "source": "aggreg_cat_flag.head()",
      "execution_count": 806,
      "outputs": [
        {
          "output_type": "execute_result",
          "execution_count": 806,
          "data": {
            "text/plain": "   Customer_ID  CAT_FLAG_AL  CAT_FLAG_CA  CAT_FLAG_CC  CAT_FLAG_MG  \\\n0          1.0          0.0          1.0          0.0          0.0   \n1          2.0          0.0          1.0          0.0          0.0   \n2          3.0          0.0          1.0          0.0          0.0   \n3          4.0          0.0          1.0          1.0          0.0   \n4          5.0          0.0          1.0          1.0          0.0   \n\n   CAT_FLAG_OVD  CAT_FLAG_PL  CAT_FLAG_SA  CAT_FLAG_TD  \n0           1.0          0.0          0.0          0.0  \n1           0.0          0.0          0.0          0.0  \n2           0.0          0.0          0.0          0.0  \n3           1.0          0.0          0.0          0.0  \n4           0.0          0.0          0.0          0.0  ",
            "text/html": "<div>\n<style scoped>\n    .dataframe tbody tr th:only-of-type {\n        vertical-align: middle;\n    }\n\n    .dataframe tbody tr th {\n        vertical-align: top;\n    }\n\n    .dataframe thead th {\n        text-align: right;\n    }\n</style>\n<table border=\"1\" class=\"dataframe\">\n  <thead>\n    <tr style=\"text-align: right;\">\n      <th></th>\n      <th>Customer_ID</th>\n      <th>CAT_FLAG_AL</th>\n      <th>CAT_FLAG_CA</th>\n      <th>CAT_FLAG_CC</th>\n      <th>CAT_FLAG_MG</th>\n      <th>CAT_FLAG_OVD</th>\n      <th>CAT_FLAG_PL</th>\n      <th>CAT_FLAG_SA</th>\n      <th>CAT_FLAG_TD</th>\n    </tr>\n  </thead>\n  <tbody>\n    <tr>\n      <th>0</th>\n      <td>1.0</td>\n      <td>0.0</td>\n      <td>1.0</td>\n      <td>0.0</td>\n      <td>0.0</td>\n      <td>1.0</td>\n      <td>0.0</td>\n      <td>0.0</td>\n      <td>0.0</td>\n    </tr>\n    <tr>\n      <th>1</th>\n      <td>2.0</td>\n      <td>0.0</td>\n      <td>1.0</td>\n      <td>0.0</td>\n      <td>0.0</td>\n      <td>0.0</td>\n      <td>0.0</td>\n      <td>0.0</td>\n      <td>0.0</td>\n    </tr>\n    <tr>\n      <th>2</th>\n      <td>3.0</td>\n      <td>0.0</td>\n      <td>1.0</td>\n      <td>0.0</td>\n      <td>0.0</td>\n      <td>0.0</td>\n      <td>0.0</td>\n      <td>0.0</td>\n      <td>0.0</td>\n    </tr>\n    <tr>\n      <th>3</th>\n      <td>4.0</td>\n      <td>0.0</td>\n      <td>1.0</td>\n      <td>1.0</td>\n      <td>0.0</td>\n      <td>1.0</td>\n      <td>0.0</td>\n      <td>0.0</td>\n      <td>0.0</td>\n    </tr>\n    <tr>\n      <th>4</th>\n      <td>5.0</td>\n      <td>0.0</td>\n      <td>1.0</td>\n      <td>1.0</td>\n      <td>0.0</td>\n      <td>0.0</td>\n      <td>0.0</td>\n      <td>0.0</td>\n      <td>0.0</td>\n    </tr>\n  </tbody>\n</table>\n</div>"
          },
          "metadata": {}
        }
      ]
    },
    {
      "metadata": {
        "trusted": true
      },
      "cell_type": "code",
      "source": "",
      "execution_count": null,
      "outputs": []
    },
    {
      "metadata": {
        "trusted": true
      },
      "cell_type": "code",
      "source": "bal_own['Loan_restructure_code'].replace({0: 'NO_RESTR', 1: 'RESTR'}, inplace=True)",
      "execution_count": 807,
      "outputs": []
    },
    {
      "metadata": {
        "trusted": true
      },
      "cell_type": "code",
      "source": "aggreg_restr = pd.pivot_table(bal_own, values=['Account_ID', 'BAL', 'CLT'], index=['Customer_ID'], columns=['Loan_restructure_code'], \n                             aggfunc={'Account_ID': [len], 'BAL':[sum], 'CLT':[sum]})",
      "execution_count": 808,
      "outputs": []
    },
    {
      "metadata": {
        "trusted": true
      },
      "cell_type": "code",
      "source": "dic_restr = {'mean':'AVG', 'len':'CNT', 'sum':'SUM', 'Account_ID':'', 'Loan_restructure_code':''}",
      "execution_count": 809,
      "outputs": []
    },
    {
      "metadata": {
        "trusted": true
      },
      "cell_type": "code",
      "source": "col_agg_restr = aggregated_index(aggreg_restr, dic_restr)\ncol_agg_restr = [item.strip('_') for item in col_agg_restr]\naggreg_restr.columns = col_agg_restr\naggreg_restr.reset_index(inplace=True)",
      "execution_count": 810,
      "outputs": []
    },
    {
      "metadata": {
        "trusted": true
      },
      "cell_type": "code",
      "source": "aggreg_restr.head(10)",
      "execution_count": 811,
      "outputs": [
        {
          "output_type": "execute_result",
          "execution_count": 811,
          "data": {
            "text/plain": "   Customer_ID  CNT_NO_RESTR  CNT_RESTR  BAL_SUM_NO_RESTR  BAL_SUM_RESTR  \\\n0         11.0           1.0        NaN          502.3018            NaN   \n1         12.0           NaN        1.0               NaN            0.0   \n2         15.0           2.0        NaN        31430.8566            NaN   \n3         16.0           1.0        NaN         1702.6200            NaN   \n4         18.0           1.0        1.0        28959.6216            0.0   \n5         21.0           NaN        1.0               NaN            0.0   \n6         22.0           1.0        NaN        37735.1600            NaN   \n7         29.0           NaN        1.0               NaN            0.0   \n8         35.0           2.0        1.0        16333.5168            0.0   \n9         41.0           1.0        NaN            0.0000            NaN   \n\n   CLT_SUM_NO_RESTR  CLT_SUM_RESTR  \n0            7974.0            NaN  \n1               NaN         1136.0  \n2          168605.0            NaN  \n3           11843.0            NaN  \n4          142147.0         1057.0  \n5               NaN         4945.0  \n6          155075.0            NaN  \n7               NaN        17162.0  \n8           72358.0         2021.0  \n9            8400.0            NaN  ",
            "text/html": "<div>\n<style scoped>\n    .dataframe tbody tr th:only-of-type {\n        vertical-align: middle;\n    }\n\n    .dataframe tbody tr th {\n        vertical-align: top;\n    }\n\n    .dataframe thead th {\n        text-align: right;\n    }\n</style>\n<table border=\"1\" class=\"dataframe\">\n  <thead>\n    <tr style=\"text-align: right;\">\n      <th></th>\n      <th>Customer_ID</th>\n      <th>CNT_NO_RESTR</th>\n      <th>CNT_RESTR</th>\n      <th>BAL_SUM_NO_RESTR</th>\n      <th>BAL_SUM_RESTR</th>\n      <th>CLT_SUM_NO_RESTR</th>\n      <th>CLT_SUM_RESTR</th>\n    </tr>\n  </thead>\n  <tbody>\n    <tr>\n      <th>0</th>\n      <td>11.0</td>\n      <td>1.0</td>\n      <td>NaN</td>\n      <td>502.3018</td>\n      <td>NaN</td>\n      <td>7974.0</td>\n      <td>NaN</td>\n    </tr>\n    <tr>\n      <th>1</th>\n      <td>12.0</td>\n      <td>NaN</td>\n      <td>1.0</td>\n      <td>NaN</td>\n      <td>0.0</td>\n      <td>NaN</td>\n      <td>1136.0</td>\n    </tr>\n    <tr>\n      <th>2</th>\n      <td>15.0</td>\n      <td>2.0</td>\n      <td>NaN</td>\n      <td>31430.8566</td>\n      <td>NaN</td>\n      <td>168605.0</td>\n      <td>NaN</td>\n    </tr>\n    <tr>\n      <th>3</th>\n      <td>16.0</td>\n      <td>1.0</td>\n      <td>NaN</td>\n      <td>1702.6200</td>\n      <td>NaN</td>\n      <td>11843.0</td>\n      <td>NaN</td>\n    </tr>\n    <tr>\n      <th>4</th>\n      <td>18.0</td>\n      <td>1.0</td>\n      <td>1.0</td>\n      <td>28959.6216</td>\n      <td>0.0</td>\n      <td>142147.0</td>\n      <td>1057.0</td>\n    </tr>\n    <tr>\n      <th>5</th>\n      <td>21.0</td>\n      <td>NaN</td>\n      <td>1.0</td>\n      <td>NaN</td>\n      <td>0.0</td>\n      <td>NaN</td>\n      <td>4945.0</td>\n    </tr>\n    <tr>\n      <th>6</th>\n      <td>22.0</td>\n      <td>1.0</td>\n      <td>NaN</td>\n      <td>37735.1600</td>\n      <td>NaN</td>\n      <td>155075.0</td>\n      <td>NaN</td>\n    </tr>\n    <tr>\n      <th>7</th>\n      <td>29.0</td>\n      <td>NaN</td>\n      <td>1.0</td>\n      <td>NaN</td>\n      <td>0.0</td>\n      <td>NaN</td>\n      <td>17162.0</td>\n    </tr>\n    <tr>\n      <th>8</th>\n      <td>35.0</td>\n      <td>2.0</td>\n      <td>1.0</td>\n      <td>16333.5168</td>\n      <td>0.0</td>\n      <td>72358.0</td>\n      <td>2021.0</td>\n    </tr>\n    <tr>\n      <th>9</th>\n      <td>41.0</td>\n      <td>1.0</td>\n      <td>NaN</td>\n      <td>0.0000</td>\n      <td>NaN</td>\n      <td>8400.0</td>\n      <td>NaN</td>\n    </tr>\n  </tbody>\n</table>\n</div>"
          },
          "metadata": {}
        }
      ]
    },
    {
      "metadata": {
        "trusted": true
      },
      "cell_type": "code",
      "source": "aggreg_cc_status = pd.pivot_table(bal_own, values=['Account_ID', 'BAL', 'CLT'], index=['Customer_ID'], columns=['Credit_card_status'], \n                             aggfunc={'Account_ID': [len], 'BAL':[sum], 'CLT':[sum]})",
      "execution_count": 812,
      "outputs": []
    },
    {
      "metadata": {
        "trusted": true
      },
      "cell_type": "code",
      "source": "dic_cc_status = {'mean':'AVG', 'len':'CNT', 'sum':'SUM', 'Account_ID':'', 'Credit_card_status':''}",
      "execution_count": 813,
      "outputs": []
    },
    {
      "metadata": {
        "trusted": true
      },
      "cell_type": "code",
      "source": "col_agg_cc_status = aggregated_index(aggreg_cc_status, dic_cc_status)\ncol_agg_cc_status = [item.strip('_') for item in col_agg_cc_status]\ncol_agg_cc_status = [item.replace(' ', '_') for item in col_agg_cc_status]\ncol_agg_cc_status = ['CC_'+item for item in col_agg_cc_status]\naggreg_cc_status.columns = col_agg_cc_status\naggreg_cc_status.reset_index(inplace=True)",
      "execution_count": 814,
      "outputs": []
    },
    {
      "metadata": {
        "trusted": true
      },
      "cell_type": "code",
      "source": "aggreg_cc_status.head()",
      "execution_count": 815,
      "outputs": [
        {
          "output_type": "execute_result",
          "execution_count": 815,
          "data": {
            "text/plain": "   Customer_ID  CC_CNT_ACTIVE  CC_CNT_BLOCKED  CC_CNT_CANCELLED  \\\n0          4.0            NaN             1.0               NaN   \n1          5.0            1.0             NaN               NaN   \n2          6.0            2.0             NaN               NaN   \n3          8.0            NaN             NaN               NaN   \n4         14.0            1.0             1.0               NaN   \n\n   CC_CNT_NOT_ACTIVE  CC_BAL_SUM_ACTIVE  CC_BAL_SUM_BLOCKED  \\\n0                1.0                NaN              903.87   \n1                NaN             847.80                 NaN   \n2                NaN            6508.52                 NaN   \n3                1.0                NaN                 NaN   \n4                NaN            2997.68             2543.64   \n\n   CC_BAL_SUM_CANCELLED  CC_BAL_SUM_NOT_ACTIVE  CC_CLT_SUM_ACTIVE  \\\n0                   NaN                    0.0                NaN   \n1                   NaN                    NaN             1200.0   \n2                   NaN                    NaN             9200.0   \n3                   NaN                  936.0                NaN   \n4                   NaN                    NaN             3400.0   \n\n   CC_CLT_SUM_BLOCKED  CC_CLT_SUM_CANCELLED  CC_CLT_SUM_NOT_ACTIVE  \n0              1200.0                   NaN                 7800.0  \n1                 NaN                   NaN                    NaN  \n2                 NaN                   NaN                    NaN  \n3                 NaN                   NaN                 1600.0  \n4              1400.0                   NaN                    NaN  ",
            "text/html": "<div>\n<style scoped>\n    .dataframe tbody tr th:only-of-type {\n        vertical-align: middle;\n    }\n\n    .dataframe tbody tr th {\n        vertical-align: top;\n    }\n\n    .dataframe thead th {\n        text-align: right;\n    }\n</style>\n<table border=\"1\" class=\"dataframe\">\n  <thead>\n    <tr style=\"text-align: right;\">\n      <th></th>\n      <th>Customer_ID</th>\n      <th>CC_CNT_ACTIVE</th>\n      <th>CC_CNT_BLOCKED</th>\n      <th>CC_CNT_CANCELLED</th>\n      <th>CC_CNT_NOT_ACTIVE</th>\n      <th>CC_BAL_SUM_ACTIVE</th>\n      <th>CC_BAL_SUM_BLOCKED</th>\n      <th>CC_BAL_SUM_CANCELLED</th>\n      <th>CC_BAL_SUM_NOT_ACTIVE</th>\n      <th>CC_CLT_SUM_ACTIVE</th>\n      <th>CC_CLT_SUM_BLOCKED</th>\n      <th>CC_CLT_SUM_CANCELLED</th>\n      <th>CC_CLT_SUM_NOT_ACTIVE</th>\n    </tr>\n  </thead>\n  <tbody>\n    <tr>\n      <th>0</th>\n      <td>4.0</td>\n      <td>NaN</td>\n      <td>1.0</td>\n      <td>NaN</td>\n      <td>1.0</td>\n      <td>NaN</td>\n      <td>903.87</td>\n      <td>NaN</td>\n      <td>0.0</td>\n      <td>NaN</td>\n      <td>1200.0</td>\n      <td>NaN</td>\n      <td>7800.0</td>\n    </tr>\n    <tr>\n      <th>1</th>\n      <td>5.0</td>\n      <td>1.0</td>\n      <td>NaN</td>\n      <td>NaN</td>\n      <td>NaN</td>\n      <td>847.80</td>\n      <td>NaN</td>\n      <td>NaN</td>\n      <td>NaN</td>\n      <td>1200.0</td>\n      <td>NaN</td>\n      <td>NaN</td>\n      <td>NaN</td>\n    </tr>\n    <tr>\n      <th>2</th>\n      <td>6.0</td>\n      <td>2.0</td>\n      <td>NaN</td>\n      <td>NaN</td>\n      <td>NaN</td>\n      <td>6508.52</td>\n      <td>NaN</td>\n      <td>NaN</td>\n      <td>NaN</td>\n      <td>9200.0</td>\n      <td>NaN</td>\n      <td>NaN</td>\n      <td>NaN</td>\n    </tr>\n    <tr>\n      <th>3</th>\n      <td>8.0</td>\n      <td>NaN</td>\n      <td>NaN</td>\n      <td>NaN</td>\n      <td>1.0</td>\n      <td>NaN</td>\n      <td>NaN</td>\n      <td>NaN</td>\n      <td>936.0</td>\n      <td>NaN</td>\n      <td>NaN</td>\n      <td>NaN</td>\n      <td>1600.0</td>\n    </tr>\n    <tr>\n      <th>4</th>\n      <td>14.0</td>\n      <td>1.0</td>\n      <td>1.0</td>\n      <td>NaN</td>\n      <td>NaN</td>\n      <td>2997.68</td>\n      <td>2543.64</td>\n      <td>NaN</td>\n      <td>NaN</td>\n      <td>3400.0</td>\n      <td>1400.0</td>\n      <td>NaN</td>\n      <td>NaN</td>\n    </tr>\n  </tbody>\n</table>\n</div>"
          },
          "metadata": {}
        }
      ]
    },
    {
      "metadata": {
        "trusted": true
      },
      "cell_type": "code",
      "source": "",
      "execution_count": null,
      "outputs": []
    },
    {
      "metadata": {
        "trusted": true
      },
      "cell_type": "code",
      "source": "#Activity_flag\naggreg_activity = pd.pivot_table(bal_own, values=['Account_ID', 'BAL'], index=['Customer_ID'], columns=['Activity_flag'], \n                             aggfunc={'Account_ID': [len], 'BAL': [sum]})",
      "execution_count": 816,
      "outputs": []
    },
    {
      "metadata": {
        "trusted": true
      },
      "cell_type": "code",
      "source": "dic_activity = {'mean':'AVG', 'len':'CNT', 'sum':'SUM', 'Account_ID':'', 'Credit_card_status':''}",
      "execution_count": 817,
      "outputs": []
    },
    {
      "metadata": {
        "trusted": true
      },
      "cell_type": "code",
      "source": "col_agg_activity = aggregated_index(aggreg_activity, dic_activity)\ncol_agg_activity = [item.strip('_') for item in col_agg_activity]\ncol_agg_activity = [item.replace(' ', '_') for item in col_agg_activity]\naggreg_activity.columns = col_agg_activity\naggreg_activity.reset_index(inplace=True)",
      "execution_count": 818,
      "outputs": []
    },
    {
      "metadata": {
        "trusted": true
      },
      "cell_type": "code",
      "source": "aggreg_activity.head()",
      "execution_count": 819,
      "outputs": [
        {
          "output_type": "execute_result",
          "execution_count": 819,
          "data": {
            "text/plain": "   Customer_ID  CNT_ACTIVE  CNT_NOT_ACTIVE  BAL_SUM_ACTIVE  BAL_SUM_NOT_ACTIVE\n0          1.0         NaN             2.0             NaN                 0.0\n1          2.0         1.0             NaN          0.0000                 NaN\n2          3.0         1.0             NaN      12575.4411                 NaN\n3          4.0         1.0             3.0        903.8700                 0.0\n4          5.0         1.0             1.0        847.8000                 0.0",
            "text/html": "<div>\n<style scoped>\n    .dataframe tbody tr th:only-of-type {\n        vertical-align: middle;\n    }\n\n    .dataframe tbody tr th {\n        vertical-align: top;\n    }\n\n    .dataframe thead th {\n        text-align: right;\n    }\n</style>\n<table border=\"1\" class=\"dataframe\">\n  <thead>\n    <tr style=\"text-align: right;\">\n      <th></th>\n      <th>Customer_ID</th>\n      <th>CNT_ACTIVE</th>\n      <th>CNT_NOT_ACTIVE</th>\n      <th>BAL_SUM_ACTIVE</th>\n      <th>BAL_SUM_NOT_ACTIVE</th>\n    </tr>\n  </thead>\n  <tbody>\n    <tr>\n      <th>0</th>\n      <td>1.0</td>\n      <td>NaN</td>\n      <td>2.0</td>\n      <td>NaN</td>\n      <td>0.0</td>\n    </tr>\n    <tr>\n      <th>1</th>\n      <td>2.0</td>\n      <td>1.0</td>\n      <td>NaN</td>\n      <td>0.0000</td>\n      <td>NaN</td>\n    </tr>\n    <tr>\n      <th>2</th>\n      <td>3.0</td>\n      <td>1.0</td>\n      <td>NaN</td>\n      <td>12575.4411</td>\n      <td>NaN</td>\n    </tr>\n    <tr>\n      <th>3</th>\n      <td>4.0</td>\n      <td>1.0</td>\n      <td>3.0</td>\n      <td>903.8700</td>\n      <td>0.0</td>\n    </tr>\n    <tr>\n      <th>4</th>\n      <td>5.0</td>\n      <td>1.0</td>\n      <td>1.0</td>\n      <td>847.8000</td>\n      <td>0.0</td>\n    </tr>\n  </tbody>\n</table>\n</div>"
          },
          "metadata": {}
        }
      ]
    },
    {
      "metadata": {
        "trusted": true
      },
      "cell_type": "code",
      "source": "",
      "execution_count": null,
      "outputs": []
    },
    {
      "metadata": {
        "trusted": true
      },
      "cell_type": "code",
      "source": "#bal_own.head(20).to_excel(str(output_path + 'Bal_Own_Sample.xlsx'))",
      "execution_count": 820,
      "outputs": []
    },
    {
      "metadata": {
        "trusted": true
      },
      "cell_type": "code",
      "source": "# replace true/false\nbal_own['Debit_card'] = np.where(bal_own['Debit_card']==True,1, 0)",
      "execution_count": 821,
      "outputs": []
    },
    {
      "metadata": {
        "trusted": true
      },
      "cell_type": "code",
      "source": "aggreg_own = pd.pivot_table(bal_own, values=['Debit_card', 'Mature_Months', 'Months_Till_Exp', 'DC_Mature_Months', 'Closed_Months'], \n                            index=['Customer_ID'], \n                             aggfunc={'Debit_card': [sum], 'Mature_Months': [max, min], 'Months_Till_Exp': [max, min],\n                                     'DC_Mature_Months': [max], 'Closed_Months': [min]})",
      "execution_count": 822,
      "outputs": []
    },
    {
      "metadata": {
        "trusted": true
      },
      "cell_type": "code",
      "source": "dic_own = {'mean':'AVG', 'len':'CNT', 'sum':'SUM', 'Account_ID':'', 'Credit_card_status':''}",
      "execution_count": 823,
      "outputs": []
    },
    {
      "metadata": {
        "trusted": true
      },
      "cell_type": "code",
      "source": "col_agg_own = aggregated_index(aggreg_own, dic_own)\ncol_agg_own = [item.strip('_') for item in col_agg_own]\naggreg_own.columns = col_agg_own\naggreg_own.reset_index(inplace=True)",
      "execution_count": 824,
      "outputs": []
    },
    {
      "metadata": {
        "trusted": true
      },
      "cell_type": "code",
      "source": "aggreg_own.head()",
      "execution_count": 825,
      "outputs": [
        {
          "output_type": "execute_result",
          "execution_count": 825,
          "data": {
            "text/plain": "   Customer_ID  CLOSED_MONTHS_MIN  DC_MATURE_MONTHS_MAX  DEBIT_CARD_SUM  \\\n0          1.0                 -1                    -1               0   \n1          2.0                 -1                    61               1   \n2          3.0                 -1                    -1               0   \n3          4.0                 -1                    95               1   \n4          5.0                 -1                    -1               0   \n\n   MATURE_MONTHS_MAX  MATURE_MONTHS_MIN  MONTHS_TILL_EXP_MAX  \\\n0                 56                  4                   -1   \n1                217                217                   -1   \n2                231                231                   -1   \n3                122                  4                   13   \n4                173                 72                    0   \n\n   MONTHS_TILL_EXP_MIN  \n0                   -1  \n1                   -1  \n2                   -1  \n3                   -1  \n4                   -1  ",
            "text/html": "<div>\n<style scoped>\n    .dataframe tbody tr th:only-of-type {\n        vertical-align: middle;\n    }\n\n    .dataframe tbody tr th {\n        vertical-align: top;\n    }\n\n    .dataframe thead th {\n        text-align: right;\n    }\n</style>\n<table border=\"1\" class=\"dataframe\">\n  <thead>\n    <tr style=\"text-align: right;\">\n      <th></th>\n      <th>Customer_ID</th>\n      <th>CLOSED_MONTHS_MIN</th>\n      <th>DC_MATURE_MONTHS_MAX</th>\n      <th>DEBIT_CARD_SUM</th>\n      <th>MATURE_MONTHS_MAX</th>\n      <th>MATURE_MONTHS_MIN</th>\n      <th>MONTHS_TILL_EXP_MAX</th>\n      <th>MONTHS_TILL_EXP_MIN</th>\n    </tr>\n  </thead>\n  <tbody>\n    <tr>\n      <th>0</th>\n      <td>1.0</td>\n      <td>-1</td>\n      <td>-1</td>\n      <td>0</td>\n      <td>56</td>\n      <td>4</td>\n      <td>-1</td>\n      <td>-1</td>\n    </tr>\n    <tr>\n      <th>1</th>\n      <td>2.0</td>\n      <td>-1</td>\n      <td>61</td>\n      <td>1</td>\n      <td>217</td>\n      <td>217</td>\n      <td>-1</td>\n      <td>-1</td>\n    </tr>\n    <tr>\n      <th>2</th>\n      <td>3.0</td>\n      <td>-1</td>\n      <td>-1</td>\n      <td>0</td>\n      <td>231</td>\n      <td>231</td>\n      <td>-1</td>\n      <td>-1</td>\n    </tr>\n    <tr>\n      <th>3</th>\n      <td>4.0</td>\n      <td>-1</td>\n      <td>95</td>\n      <td>1</td>\n      <td>122</td>\n      <td>4</td>\n      <td>13</td>\n      <td>-1</td>\n    </tr>\n    <tr>\n      <th>4</th>\n      <td>5.0</td>\n      <td>-1</td>\n      <td>-1</td>\n      <td>0</td>\n      <td>173</td>\n      <td>72</td>\n      <td>0</td>\n      <td>-1</td>\n    </tr>\n  </tbody>\n</table>\n</div>"
          },
          "metadata": {}
        }
      ]
    },
    {
      "metadata": {
        "trusted": true
      },
      "cell_type": "code",
      "source": "",
      "execution_count": null,
      "outputs": []
    },
    {
      "metadata": {
        "trusted": true
      },
      "cell_type": "code",
      "source": "",
      "execution_count": null,
      "outputs": []
    },
    {
      "metadata": {
        "trusted": true
      },
      "cell_type": "code",
      "source": "aggreg_bal_type = pd.pivot_table(bal_own, values=['BAL'], index=['Customer_ID'], columns=['Balance_type'], \n                             aggfunc={'BAL': [sum, len]})",
      "execution_count": 826,
      "outputs": []
    },
    {
      "metadata": {
        "trusted": true
      },
      "cell_type": "code",
      "source": "dic_bal_type = {'mean':'AVG', 'len':'CNT', 'sum':'SUM', 'Account_ID':'', 'Credit_card_status':''}",
      "execution_count": 827,
      "outputs": []
    },
    {
      "metadata": {
        "trusted": true
      },
      "cell_type": "code",
      "source": "col_agg_bal_type = aggregated_index(aggreg_bal_type, dic_bal_type)\ncol_agg_bal_type = [item.strip('_') for item in col_agg_bal_type]\naggreg_bal_type.columns = col_agg_bal_type\naggreg_bal_type.reset_index(inplace=True)",
      "execution_count": 828,
      "outputs": []
    },
    {
      "metadata": {
        "trusted": true
      },
      "cell_type": "code",
      "source": "aggreg_bal_type.head()",
      "execution_count": 829,
      "outputs": [
        {
          "output_type": "execute_result",
          "execution_count": 829,
          "data": {
            "text/plain": "   Customer_ID  BAL_CNT_CREDIT  BAL_CNT_DEBIT  BAL_SUM_CREDIT  BAL_SUM_DEBIT\n0          1.0             1.0            1.0            0.00         0.0000\n1          2.0             NaN            1.0             NaN         0.0000\n2          3.0             NaN            1.0             NaN     12575.4411\n3          4.0             3.0            1.0          903.87         0.0000\n4          5.0             1.0            1.0          847.80         0.0000",
            "text/html": "<div>\n<style scoped>\n    .dataframe tbody tr th:only-of-type {\n        vertical-align: middle;\n    }\n\n    .dataframe tbody tr th {\n        vertical-align: top;\n    }\n\n    .dataframe thead th {\n        text-align: right;\n    }\n</style>\n<table border=\"1\" class=\"dataframe\">\n  <thead>\n    <tr style=\"text-align: right;\">\n      <th></th>\n      <th>Customer_ID</th>\n      <th>BAL_CNT_CREDIT</th>\n      <th>BAL_CNT_DEBIT</th>\n      <th>BAL_SUM_CREDIT</th>\n      <th>BAL_SUM_DEBIT</th>\n    </tr>\n  </thead>\n  <tbody>\n    <tr>\n      <th>0</th>\n      <td>1.0</td>\n      <td>1.0</td>\n      <td>1.0</td>\n      <td>0.00</td>\n      <td>0.0000</td>\n    </tr>\n    <tr>\n      <th>1</th>\n      <td>2.0</td>\n      <td>NaN</td>\n      <td>1.0</td>\n      <td>NaN</td>\n      <td>0.0000</td>\n    </tr>\n    <tr>\n      <th>2</th>\n      <td>3.0</td>\n      <td>NaN</td>\n      <td>1.0</td>\n      <td>NaN</td>\n      <td>12575.4411</td>\n    </tr>\n    <tr>\n      <th>3</th>\n      <td>4.0</td>\n      <td>3.0</td>\n      <td>1.0</td>\n      <td>903.87</td>\n      <td>0.0000</td>\n    </tr>\n    <tr>\n      <th>4</th>\n      <td>5.0</td>\n      <td>1.0</td>\n      <td>1.0</td>\n      <td>847.80</td>\n      <td>0.0000</td>\n    </tr>\n  </tbody>\n</table>\n</div>"
          },
          "metadata": {}
        }
      ]
    },
    {
      "metadata": {
        "trusted": true
      },
      "cell_type": "code",
      "source": "",
      "execution_count": null,
      "outputs": []
    },
    {
      "metadata": {
        "trusted": true
      },
      "cell_type": "code",
      "source": "#aggreg_bal_type #aggreg_dc\nbal_agg_all = aggreg_prod.merge(aggreg_prod_flag, how='outer', on='Customer_ID')\nbal_agg_all.shape",
      "execution_count": 830,
      "outputs": [
        {
          "output_type": "execute_result",
          "execution_count": 830,
          "data": {
            "text/plain": "(100557, 58)"
          },
          "metadata": {}
        }
      ]
    },
    {
      "metadata": {
        "trusted": true
      },
      "cell_type": "code",
      "source": "bal_agg_all = bal_agg_all.merge(aggreg_prod_credit, how='outer', on='Customer_ID')\nbal_agg_all.shape",
      "execution_count": 831,
      "outputs": [
        {
          "output_type": "execute_result",
          "execution_count": 831,
          "data": {
            "text/plain": "(100557, 86)"
          },
          "metadata": {}
        }
      ]
    },
    {
      "metadata": {
        "trusted": true
      },
      "cell_type": "code",
      "source": "bal_agg_all = bal_agg_all.merge(aggreg_cat_credit, how='outer', on='Customer_ID')\nbal_agg_all.shape",
      "execution_count": 832,
      "outputs": [
        {
          "output_type": "execute_result",
          "execution_count": 832,
          "data": {
            "text/plain": "(100557, 91)"
          },
          "metadata": {}
        }
      ]
    },
    {
      "metadata": {
        "trusted": true
      },
      "cell_type": "code",
      "source": "bal_agg_all = bal_agg_all.merge(aggreg_cat, how='outer', on='Customer_ID')\nbal_agg_all.shape",
      "execution_count": 833,
      "outputs": [
        {
          "output_type": "execute_result",
          "execution_count": 833,
          "data": {
            "text/plain": "(100557, 107)"
          },
          "metadata": {}
        }
      ]
    },
    {
      "metadata": {
        "trusted": true
      },
      "cell_type": "code",
      "source": "bal_agg_all = bal_agg_all.merge(aggreg_cat_flag, how='outer', on='Customer_ID')\nbal_agg_all.shape",
      "execution_count": 834,
      "outputs": [
        {
          "output_type": "execute_result",
          "execution_count": 834,
          "data": {
            "text/plain": "(100557, 115)"
          },
          "metadata": {}
        }
      ]
    },
    {
      "metadata": {
        "trusted": true
      },
      "cell_type": "code",
      "source": "bal_agg_all = bal_agg_all.merge(aggreg_restr, how='outer', on='Customer_ID')\nbal_agg_all.shape",
      "execution_count": 835,
      "outputs": [
        {
          "output_type": "execute_result",
          "execution_count": 835,
          "data": {
            "text/plain": "(100557, 121)"
          },
          "metadata": {}
        }
      ]
    },
    {
      "metadata": {
        "trusted": true
      },
      "cell_type": "code",
      "source": "bal_agg_all = bal_agg_all.merge(aggreg_cc_status, how='outer', on='Customer_ID')\nbal_agg_all.shape",
      "execution_count": 836,
      "outputs": [
        {
          "output_type": "execute_result",
          "execution_count": 836,
          "data": {
            "text/plain": "(100557, 133)"
          },
          "metadata": {}
        }
      ]
    },
    {
      "metadata": {
        "trusted": true
      },
      "cell_type": "code",
      "source": "bal_agg_all = bal_agg_all.merge(aggreg_own, how='outer', on='Customer_ID')\nbal_agg_all.shape",
      "execution_count": 837,
      "outputs": [
        {
          "output_type": "execute_result",
          "execution_count": 837,
          "data": {
            "text/plain": "(100557, 140)"
          },
          "metadata": {}
        }
      ]
    },
    {
      "metadata": {
        "trusted": true
      },
      "cell_type": "code",
      "source": "bal_agg_all = bal_agg_all.merge(aggreg_bal_type, how='outer', on='Customer_ID')\nbal_agg_all.shape",
      "execution_count": 838,
      "outputs": [
        {
          "output_type": "execute_result",
          "execution_count": 838,
          "data": {
            "text/plain": "(100557, 144)"
          },
          "metadata": {}
        }
      ]
    },
    {
      "metadata": {
        "trusted": true
      },
      "cell_type": "code",
      "source": "bal_agg_all = bal_agg_all.merge(aggreg_activity, how='outer', on='Customer_ID')\nbal_agg_all.shape",
      "execution_count": 839,
      "outputs": [
        {
          "output_type": "execute_result",
          "execution_count": 839,
          "data": {
            "text/plain": "(100557, 148)"
          },
          "metadata": {}
        }
      ]
    },
    {
      "metadata": {
        "trusted": true
      },
      "cell_type": "code",
      "source": "bal_agg_all.head()",
      "execution_count": 840,
      "outputs": [
        {
          "output_type": "execute_result",
          "execution_count": 840,
          "data": {
            "text/plain": "   Customer_ID  CNT_AL_PROMOTION  CNT_AL_STANDARD  CNT_CA_PAYROLL  \\\n0          1.0               NaN              NaN             NaN   \n1          2.0               NaN              NaN             1.0   \n2          3.0               NaN              NaN             NaN   \n3          4.0               NaN              NaN             1.0   \n4          5.0               NaN              NaN             1.0   \n\n   CNT_CA_STANDARD  CNT_CC_MASTERCARD_GOLD  CNT_CC_MASTERCARD_PLATINUM  \\\n0              1.0                     NaN                         NaN   \n1              NaN                     NaN                         NaN   \n2              1.0                     NaN                         NaN   \n3              NaN                     NaN                         1.0   \n4              NaN                     NaN                         NaN   \n\n   CNT_CC_MASTERCARD_STANDARD  CNT_CC_VISA_ELECTRON  CNT_CC_VISA_GOLD  ...  \\\n0                         NaN                   NaN               NaN  ...   \n1                         NaN                   NaN               NaN  ...   \n2                         NaN                   NaN               NaN  ...   \n3                         NaN                   1.0               NaN  ...   \n4                         NaN                   1.0               NaN  ...   \n\n   MONTHS_TILL_EXP_MAX  MONTHS_TILL_EXP_MIN  BAL_CNT_CREDIT  BAL_CNT_DEBIT  \\\n0                   -1                   -1             1.0            1.0   \n1                   -1                   -1             NaN            1.0   \n2                   -1                   -1             NaN            1.0   \n3                   13                   -1             3.0            1.0   \n4                    0                   -1             1.0            1.0   \n\n   BAL_SUM_CREDIT  BAL_SUM_DEBIT  CNT_ACTIVE  CNT_NOT_ACTIVE  BAL_SUM_ACTIVE  \\\n0            0.00         0.0000         NaN             2.0             NaN   \n1             NaN         0.0000         1.0             NaN          0.0000   \n2             NaN     12575.4411         1.0             NaN      12575.4411   \n3          903.87         0.0000         1.0             3.0        903.8700   \n4          847.80         0.0000         1.0             1.0        847.8000   \n\n   BAL_SUM_NOT_ACTIVE  \n0                 0.0  \n1                 NaN  \n2                 NaN  \n3                 0.0  \n4                 0.0  \n\n[5 rows x 148 columns]",
            "text/html": "<div>\n<style scoped>\n    .dataframe tbody tr th:only-of-type {\n        vertical-align: middle;\n    }\n\n    .dataframe tbody tr th {\n        vertical-align: top;\n    }\n\n    .dataframe thead th {\n        text-align: right;\n    }\n</style>\n<table border=\"1\" class=\"dataframe\">\n  <thead>\n    <tr style=\"text-align: right;\">\n      <th></th>\n      <th>Customer_ID</th>\n      <th>CNT_AL_PROMOTION</th>\n      <th>CNT_AL_STANDARD</th>\n      <th>CNT_CA_PAYROLL</th>\n      <th>CNT_CA_STANDARD</th>\n      <th>CNT_CC_MASTERCARD_GOLD</th>\n      <th>CNT_CC_MASTERCARD_PLATINUM</th>\n      <th>CNT_CC_MASTERCARD_STANDARD</th>\n      <th>CNT_CC_VISA_ELECTRON</th>\n      <th>CNT_CC_VISA_GOLD</th>\n      <th>...</th>\n      <th>MONTHS_TILL_EXP_MAX</th>\n      <th>MONTHS_TILL_EXP_MIN</th>\n      <th>BAL_CNT_CREDIT</th>\n      <th>BAL_CNT_DEBIT</th>\n      <th>BAL_SUM_CREDIT</th>\n      <th>BAL_SUM_DEBIT</th>\n      <th>CNT_ACTIVE</th>\n      <th>CNT_NOT_ACTIVE</th>\n      <th>BAL_SUM_ACTIVE</th>\n      <th>BAL_SUM_NOT_ACTIVE</th>\n    </tr>\n  </thead>\n  <tbody>\n    <tr>\n      <th>0</th>\n      <td>1.0</td>\n      <td>NaN</td>\n      <td>NaN</td>\n      <td>NaN</td>\n      <td>1.0</td>\n      <td>NaN</td>\n      <td>NaN</td>\n      <td>NaN</td>\n      <td>NaN</td>\n      <td>NaN</td>\n      <td>...</td>\n      <td>-1</td>\n      <td>-1</td>\n      <td>1.0</td>\n      <td>1.0</td>\n      <td>0.00</td>\n      <td>0.0000</td>\n      <td>NaN</td>\n      <td>2.0</td>\n      <td>NaN</td>\n      <td>0.0</td>\n    </tr>\n    <tr>\n      <th>1</th>\n      <td>2.0</td>\n      <td>NaN</td>\n      <td>NaN</td>\n      <td>1.0</td>\n      <td>NaN</td>\n      <td>NaN</td>\n      <td>NaN</td>\n      <td>NaN</td>\n      <td>NaN</td>\n      <td>NaN</td>\n      <td>...</td>\n      <td>-1</td>\n      <td>-1</td>\n      <td>NaN</td>\n      <td>1.0</td>\n      <td>NaN</td>\n      <td>0.0000</td>\n      <td>1.0</td>\n      <td>NaN</td>\n      <td>0.0000</td>\n      <td>NaN</td>\n    </tr>\n    <tr>\n      <th>2</th>\n      <td>3.0</td>\n      <td>NaN</td>\n      <td>NaN</td>\n      <td>NaN</td>\n      <td>1.0</td>\n      <td>NaN</td>\n      <td>NaN</td>\n      <td>NaN</td>\n      <td>NaN</td>\n      <td>NaN</td>\n      <td>...</td>\n      <td>-1</td>\n      <td>-1</td>\n      <td>NaN</td>\n      <td>1.0</td>\n      <td>NaN</td>\n      <td>12575.4411</td>\n      <td>1.0</td>\n      <td>NaN</td>\n      <td>12575.4411</td>\n      <td>NaN</td>\n    </tr>\n    <tr>\n      <th>3</th>\n      <td>4.0</td>\n      <td>NaN</td>\n      <td>NaN</td>\n      <td>1.0</td>\n      <td>NaN</td>\n      <td>NaN</td>\n      <td>1.0</td>\n      <td>NaN</td>\n      <td>1.0</td>\n      <td>NaN</td>\n      <td>...</td>\n      <td>13</td>\n      <td>-1</td>\n      <td>3.0</td>\n      <td>1.0</td>\n      <td>903.87</td>\n      <td>0.0000</td>\n      <td>1.0</td>\n      <td>3.0</td>\n      <td>903.8700</td>\n      <td>0.0</td>\n    </tr>\n    <tr>\n      <th>4</th>\n      <td>5.0</td>\n      <td>NaN</td>\n      <td>NaN</td>\n      <td>1.0</td>\n      <td>NaN</td>\n      <td>NaN</td>\n      <td>NaN</td>\n      <td>NaN</td>\n      <td>1.0</td>\n      <td>NaN</td>\n      <td>...</td>\n      <td>0</td>\n      <td>-1</td>\n      <td>1.0</td>\n      <td>1.0</td>\n      <td>847.80</td>\n      <td>0.0000</td>\n      <td>1.0</td>\n      <td>1.0</td>\n      <td>847.8000</td>\n      <td>0.0</td>\n    </tr>\n  </tbody>\n</table>\n<p>5 rows × 148 columns</p>\n</div>"
          },
          "metadata": {}
        }
      ]
    },
    {
      "metadata": {
        "trusted": true
      },
      "cell_type": "code",
      "source": "del aggreg_prod, aggreg_prod_flag, aggreg_prod_credit, aggreg_cat, aggreg_cat_flag, aggreg_restr, aggreg_cc_status, \naggreg_own, aggreg_bal_type, aggreg_activity\ngc.collect()",
      "execution_count": 841,
      "outputs": [
        {
          "output_type": "execute_result",
          "execution_count": 841,
          "data": {
            "text/plain": "567"
          },
          "metadata": {}
        }
      ]
    },
    {
      "metadata": {
        "trusted": true
      },
      "cell_type": "code",
      "source": "",
      "execution_count": null,
      "outputs": []
    },
    {
      "metadata": {},
      "cell_type": "markdown",
      "source": "Additional KPIs"
    },
    {
      "metadata": {
        "trusted": true
      },
      "cell_type": "code",
      "source": "bal_agg_all.columns",
      "execution_count": 842,
      "outputs": [
        {
          "output_type": "execute_result",
          "execution_count": 842,
          "data": {
            "text/plain": "Index(['Customer_ID', 'CNT_AL_PROMOTION', 'CNT_AL_STANDARD', 'CNT_CA_PAYROLL',\n       'CNT_CA_STANDARD', 'CNT_CC_MASTERCARD_GOLD',\n       'CNT_CC_MASTERCARD_PLATINUM', 'CNT_CC_MASTERCARD_STANDARD',\n       'CNT_CC_VISA_ELECTRON', 'CNT_CC_VISA_GOLD',\n       ...\n       'MONTHS_TILL_EXP_MAX', 'MONTHS_TILL_EXP_MIN', 'BAL_CNT_CREDIT',\n       'BAL_CNT_DEBIT', 'BAL_SUM_CREDIT', 'BAL_SUM_DEBIT', 'CNT_ACTIVE',\n       'CNT_NOT_ACTIVE', 'BAL_SUM_ACTIVE', 'BAL_SUM_NOT_ACTIVE'],\n      dtype='object', length=148)"
          },
          "metadata": {}
        }
      ]
    },
    {
      "metadata": {
        "trusted": true
      },
      "cell_type": "code",
      "source": "#bal_agg_all.head(20).to_excel(str(output_path + 'Bal_Sample.xlsx'), index=False)",
      "execution_count": 843,
      "outputs": []
    },
    {
      "metadata": {
        "trusted": true
      },
      "cell_type": "code",
      "source": "#breakpoint",
      "execution_count": 844,
      "outputs": []
    },
    {
      "metadata": {
        "trusted": true
      },
      "cell_type": "code",
      "source": "bal_agg_all['AT_LEAST_ONE_ACTIVE'] = np.where(bal_agg_all['CNT_ACTIVE']>0, 1, 0)",
      "execution_count": 845,
      "outputs": []
    },
    {
      "metadata": {
        "trusted": true
      },
      "cell_type": "code",
      "source": "bal_agg_all['TOTAL_DIFF_CAT'] = bal_agg_all[['CAT_FLAG_AL', 'CAT_FLAG_CA', 'CAT_FLAG_CC', 'CAT_FLAG_MG', 'CAT_FLAG_OVD',\n                                            'CAT_FLAG_PL', 'CAT_FLAG_SA', 'CAT_FLAG_TD']].sum(axis = 1, skipna = True)",
      "execution_count": 846,
      "outputs": []
    },
    {
      "metadata": {
        "trusted": true
      },
      "cell_type": "code",
      "source": "bal_agg_all['TOTAL_PRODUCTS'] = bal_agg_all[['CAT_CNT_AL', 'CAT_CNT_CA', 'CAT_CNT_CC', 'CAT_CNT_MG', 'CAT_CNT_OVD',\n                                             'CAT_CNT_PL', 'CAT_CNT_SA', 'CAT_CNT_TD']].sum(axis = 1, skipna = True)",
      "execution_count": 847,
      "outputs": []
    },
    {
      "metadata": {
        "trusted": true
      },
      "cell_type": "code",
      "source": "bal_agg_all['TOTAL_SAVING_CNT'] = bal_agg_all[['CAT_CNT_SA', 'CAT_CNT_TD', 'CAT_CNT_CA']].sum(axis = 1, skipna = True)\nbal_agg_all['TOTAL_LOANS_CNT'] = bal_agg_all[['CAT_CNT_AL', 'CAT_CNT_CC', 'CAT_CNT_MG', 'CAT_CNT_OVD', \n                                          'CAT_CNT_PL']].sum(axis = 1, skipna = True)",
      "execution_count": 848,
      "outputs": []
    },
    {
      "metadata": {
        "trusted": true
      },
      "cell_type": "code",
      "source": "bal_agg_all['TOTAL_SAVING_BAL'] = bal_agg_all[['CAT_BAL_CA', 'CAT_BAL_SA', 'CAT_BAL_TD']].sum(axis = 1, skipna = True)",
      "execution_count": 849,
      "outputs": []
    },
    {
      "metadata": {
        "trusted": true
      },
      "cell_type": "code",
      "source": "bal_agg_all['TOTAL_LOANS_BAL'] = bal_agg_all[['CAT_BAL_AL', 'CAT_BAL_CC', 'CAT_BAL_MG', 'CAT_BAL_OVD', \n                                                  'CAT_BAL_PL']].sum(axis = 1, skipna = True)",
      "execution_count": 850,
      "outputs": []
    },
    {
      "metadata": {
        "trusted": true
      },
      "cell_type": "code",
      "source": "bal_agg_all['AVG_DEPOSITS_minus_LOANS'] = bal_agg_all['TOTAL_SAVING_BAL'] - bal_agg_all['TOTAL_LOANS_BAL']",
      "execution_count": 851,
      "outputs": []
    },
    {
      "metadata": {
        "trusted": true
      },
      "cell_type": "code",
      "source": "bal_agg_all['PCT_LOANS_CNT'] = bal_agg_all['TOTAL_LOANS_CNT']/bal_agg_all['TOTAL_PRODUCTS']\nbal_agg_all['PCT_SAVING_CNT'] = bal_agg_all['TOTAL_SAVING_CNT']/bal_agg_all['TOTAL_PRODUCTS']\nbal_agg_all['PCT_CC_CNT'] = bal_agg_all['CAT_CNT_CC']/bal_agg_all['TOTAL_PRODUCTS']",
      "execution_count": 852,
      "outputs": []
    },
    {
      "metadata": {
        "trusted": true
      },
      "cell_type": "code",
      "source": "#COUNTS BY CAT\nbal_agg_all['PCT_CA_VS_SAVING_CNT'] = bal_agg_all['CAT_CNT_CA']/bal_agg_all['TOTAL_SAVING_CNT']\nbal_agg_all['PCT_TD_VS_SAVING_CNT'] = bal_agg_all['CAT_CNT_TD']/bal_agg_all['TOTAL_SAVING_CNT']\nbal_agg_all['PCT_SA_VS_SAVING_CNT'] = bal_agg_all['CAT_CNT_SA']/bal_agg_all['TOTAL_SAVING_CNT']\n\nbal_agg_all['PCT_CC_VS_LOANS_CNT'] = bal_agg_all['CAT_CNT_CC']/bal_agg_all['TOTAL_LOANS_CNT']\nbal_agg_all['PCT_AL_VS_LOANS_CNT'] = bal_agg_all['CAT_CNT_AL']/bal_agg_all['TOTAL_LOANS_CNT']\nbal_agg_all['PCT_PL_VS_LOANS_CNT'] = bal_agg_all['CAT_CNT_PL']/bal_agg_all['TOTAL_LOANS_CNT']\nbal_agg_all['PCT_OVD_VS_LOANS_CNT'] = bal_agg_all['CAT_CNT_OVD']/bal_agg_all['TOTAL_LOANS_CNT']\nbal_agg_all['PCT_MG_VS_LOANS_CNT'] = bal_agg_all['CAT_CNT_MG']/bal_agg_all['TOTAL_LOANS_CNT']",
      "execution_count": 853,
      "outputs": []
    },
    {
      "metadata": {
        "trusted": true
      },
      "cell_type": "code",
      "source": "#AVG BALANCES BY CAT\nbal_agg_all['PCT_CA_VS_SAVING_BAL'] = bal_agg_all['CAT_BAL_CA']/bal_agg_all['TOTAL_SAVING_BAL']\nbal_agg_all['PCT_TD_VS_SAVING_BAL'] = bal_agg_all['CAT_BAL_TD']/bal_agg_all['TOTAL_SAVING_BAL']\nbal_agg_all['PCT_SA_VS_SAVING_BAL'] = bal_agg_all['CAT_BAL_SA']/bal_agg_all['TOTAL_SAVING_BAL']\n\nbal_agg_all['PCT_CC_VS_LOANS_BAL'] = bal_agg_all['CAT_BAL_CC']/bal_agg_all['TOTAL_LOANS_BAL']\nbal_agg_all['PCT_AL_VS_LOANS_BAL'] = bal_agg_all['CAT_BAL_AL']/bal_agg_all['TOTAL_LOANS_BAL']\nbal_agg_all['PCT_PL_VS_LOANS_BAL'] = bal_agg_all['CAT_BAL_PL']/bal_agg_all['TOTAL_LOANS_BAL']\nbal_agg_all['PCT_OVD_VS_LOANS_BAL'] = bal_agg_all['CAT_BAL_OVD']/bal_agg_all['TOTAL_LOANS_BAL']\nbal_agg_all['PCT_MG_VS_LOANS_BAL'] = bal_agg_all['CAT_BAL_MG']/bal_agg_all['TOTAL_LOANS_BAL']",
      "execution_count": 854,
      "outputs": []
    },
    {
      "metadata": {
        "trusted": true
      },
      "cell_type": "code",
      "source": "#CLT BY CAT\nbal_agg_all['PCT_BAL_TO_LCL_AL'] = bal_agg_all['CAT_BAL_AL']/bal_agg_all['CAT_CLT_AL']\nbal_agg_all['PCT_BAL_TO_LCL_CC'] = bal_agg_all['CAT_BAL_CC']/bal_agg_all['CAT_CLT_CC']\nbal_agg_all['PCT_BAL_TO_LCL_MG'] = bal_agg_all['CAT_BAL_MG']/bal_agg_all['CAT_CLT_MG']\nbal_agg_all['PCT_BAL_TO_LCL_OVD'] = bal_agg_all['CAT_BAL_OVD']/bal_agg_all['CAT_CLT_OVD']\nbal_agg_all['PCT_BAL_TO_LCL_PL'] = bal_agg_all['CAT_BAL_PL']/bal_agg_all['CAT_CLT_PL']",
      "execution_count": 855,
      "outputs": []
    },
    {
      "metadata": {
        "trusted": true
      },
      "cell_type": "code",
      "source": "#COUNTS BY PROD\nbal_agg_all['PCT_AL_PROMOTION_CNT'] = bal_agg_all['CNT_AL_PROMOTION']/bal_agg_all['TOTAL_PRODUCTS']\nbal_agg_all['PCT_AL_STANDARD_CNT'] = bal_agg_all['CNT_AL_STANDARD']/bal_agg_all['TOTAL_PRODUCTS']\nbal_agg_all['PCT_CA_PAYROLL_CNT'] = bal_agg_all['CNT_CA_PAYROLL']/bal_agg_all['TOTAL_PRODUCTS']\nbal_agg_all['PCT_CA_STANDARD_CNT'] = bal_agg_all['CNT_CA_STANDARD']/bal_agg_all['TOTAL_PRODUCTS']\nbal_agg_all['PCT_MASTERCARD_GOLD_CNT'] = bal_agg_all['CNT_CC_MASTERCARD_GOLD']/bal_agg_all['TOTAL_PRODUCTS']\nbal_agg_all['PCT_MASTERCARD_PLATINUM_CNT'] = bal_agg_all['CNT_CC_MASTERCARD_PLATINUM']/bal_agg_all['TOTAL_PRODUCTS']\nbal_agg_all['PCT_MASTERCARD_STANDARD_CNT'] = bal_agg_all['CNT_CC_MASTERCARD_STANDARD']/bal_agg_all['TOTAL_PRODUCTS']\nbal_agg_all['PCT_VISA_ELECTRON_CNT'] = bal_agg_all['CNT_CC_VISA_ELECTRON']/bal_agg_all['TOTAL_PRODUCTS']\nbal_agg_all['PCT_VISA_GOLD_CNT'] = bal_agg_all['CNT_CC_VISA_GOLD']/bal_agg_all['TOTAL_PRODUCTS']\nbal_agg_all['PCT_VISA_PLATINUM_CNT'] = bal_agg_all['CNT_CC_VISA_PLATINUM']/bal_agg_all['TOTAL_PRODUCTS']\nbal_agg_all['PCT_NEW_HOUSE_CNT'] = bal_agg_all['CNT_MG_NEW_HOUSE']/bal_agg_all['TOTAL_PRODUCTS']\nbal_agg_all['PCT_RENOVATION_CNT'] = bal_agg_all['CNT_MG_RENOVATION']/bal_agg_all['TOTAL_PRODUCTS']\nbal_agg_all['PCT_OVD_CNT'] = bal_agg_all['CNT_OVD']/bal_agg_all['TOTAL_PRODUCTS']\nbal_agg_all['PCT_PL_F_NON_SEC_CNT'] = bal_agg_all['CNT_PL_F_NON_SEC']/bal_agg_all['TOTAL_PRODUCTS']\nbal_agg_all['PCT_PL_F_SEC_CNT'] = bal_agg_all['CNT_PL_F_SEC']/bal_agg_all['TOTAL_PRODUCTS']\nbal_agg_all['PCT_PL_V_CNT'] = bal_agg_all['CNT_PL_V']/bal_agg_all['TOTAL_PRODUCTS']\nbal_agg_all['PCT_SA_CNT'] = bal_agg_all['CNT_SA']/bal_agg_all['TOTAL_PRODUCTS']\nbal_agg_all['PCT_TD_LT_CNT'] = bal_agg_all['CNT_TD_LT']/bal_agg_all['TOTAL_PRODUCTS']\nbal_agg_all['PCT_TD_ST_CNT'] = bal_agg_all['CNT_TD_ST']/bal_agg_all['TOTAL_PRODUCTS']",
      "execution_count": 856,
      "outputs": []
    },
    {
      "metadata": {
        "trusted": true
      },
      "cell_type": "code",
      "source": "bal_agg_all['YearMonth'] = YearMonth",
      "execution_count": 857,
      "outputs": []
    },
    {
      "metadata": {
        "trusted": true
      },
      "cell_type": "code",
      "source": "def write_pandas_dataframe_to_blob(blob_service, df, container_name, blob_name):\n    \"\"\" Write Pandas dataframe to blob storage \"\"\"\n    buffer = BytesIO()\n    df.to_parquet(buffer)\n    blob_service.create_blob_from_bytes(\n        container_name=container_name, blob_name=blob_name, blob=buffer.getvalue()\n    )",
      "execution_count": 858,
      "outputs": []
    },
    {
      "metadata": {
        "trusted": true
      },
      "cell_type": "code",
      "source": "write_to_blob_parquet = 'ailiev/Balances_Master_' + YearMonth + '.parquet.gzip' #Balances_Master_2018-01-01.parquet.gzip",
      "execution_count": 859,
      "outputs": []
    },
    {
      "metadata": {
        "trusted": true
      },
      "cell_type": "code",
      "source": "# Write to blob using pyarrow\nwrite_pandas_dataframe_to_blob(blob_service, bal_agg_all, 'banking-dm', write_to_blob_parquet)",
      "execution_count": 860,
      "outputs": []
    },
    {
      "metadata": {
        "trusted": true
      },
      "cell_type": "code",
      "source": "",
      "execution_count": null,
      "outputs": []
    },
    {
      "metadata": {
        "trusted": true
      },
      "cell_type": "code",
      "source": "#byte_stream = BytesIO()\n#try:\n#   blob_service.get_blob_to_stream(container_name=container_name, blob_name='ailiev/Balances_Master_' + YearMonth + '.parquet.gzip', stream=byte_stream)\n#   check = pq.read_table(source=byte_stream).to_pandas()\n#   # Do work on df ...\n#finally:\n#   # Add finally block to ensure closure of the stream\n#   byte_stream.close()",
      "execution_count": 861,
      "outputs": []
    },
    {
      "metadata": {
        "trusted": true
      },
      "cell_type": "code",
      "source": "#check.head()",
      "execution_count": 862,
      "outputs": []
    },
    {
      "metadata": {
        "trusted": true
      },
      "cell_type": "code",
      "source": "",
      "execution_count": null,
      "outputs": []
    },
    {
      "metadata": {
        "trusted": true
      },
      "cell_type": "code",
      "source": "#bal_agg_all.head(20).to_excel(str(output_path + 'Bal_Sample.xlsx'), index=False)",
      "execution_count": 863,
      "outputs": []
    },
    {
      "metadata": {
        "trusted": true
      },
      "cell_type": "code",
      "source": "#bal_agg_all.head()",
      "execution_count": 864,
      "outputs": []
    },
    {
      "metadata": {
        "trusted": true
      },
      "cell_type": "code",
      "source": "#%time bal_agg_all.to_csv(str(input_path + 'Balances_Master.csv'), index=False, header=True)",
      "execution_count": 865,
      "outputs": []
    },
    {
      "metadata": {
        "trusted": true
      },
      "cell_type": "code",
      "source": "#read in csv file\n#check = pd.read_csv(str(input_path + 'Balances_Master.csv'), header=0, nrows=10)",
      "execution_count": 866,
      "outputs": []
    },
    {
      "metadata": {
        "trusted": true
      },
      "cell_type": "code",
      "source": "#check",
      "execution_count": 867,
      "outputs": []
    },
    {
      "metadata": {
        "trusted": true
      },
      "cell_type": "code",
      "source": "",
      "execution_count": null,
      "outputs": []
    }
  ],
  "metadata": {
    "kernelspec": {
      "name": "python3",
      "display_name": "Python 3",
      "language": "python"
    },
    "language_info": {
      "mimetype": "text/x-python",
      "nbconvert_exporter": "python",
      "name": "python",
      "pygments_lexer": "ipython3",
      "version": "3.5.4",
      "file_extension": ".py",
      "codemirror_mode": {
        "version": 3,
        "name": "ipython"
      }
    }
  },
  "nbformat": 4,
  "nbformat_minor": 2
}