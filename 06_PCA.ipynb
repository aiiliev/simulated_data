{
  "cells": [
    {
      "metadata": {
        "trusted": true
      },
      "cell_type": "code",
      "source": "#!pip install --upgrade pandas",
      "execution_count": 2,
      "outputs": []
    },
    {
      "metadata": {
        "trusted": true
      },
      "cell_type": "code",
      "source": "#!pip install pyarrow",
      "execution_count": 3,
      "outputs": []
    },
    {
      "metadata": {
        "trusted": true
      },
      "cell_type": "code",
      "source": "import pandas as pd\nimport numpy as np\nfrom numpy import nan as NA\nimport os\nimport gc\nfrom pandas.tseries.offsets import MonthEnd\n\nfrom azure.storage.blob import BlockBlobService\nimport pyarrow.parquet as pq\nfrom io import StringIO\nfrom io import BytesIO",
      "execution_count": 4,
      "outputs": []
    },
    {
      "metadata": {
        "trusted": true
      },
      "cell_type": "code",
      "source": "from sklearn.decomposition import PCA\nfrom sklearn.preprocessing import StandardScaler\nfrom sklearn import metrics\nfrom sklearn.model_selection import train_test_split\nfrom sklearn.cluster import KMeans\nimport matplotlib.pyplot as plt \n%matplotlib inline",
      "execution_count": 5,
      "outputs": []
    },
    {
      "metadata": {
        "trusted": true
      },
      "cell_type": "code",
      "source": "#Azure account credentials\nazure_storage_account_name = \"agedatasciencecocstorage\"\nazure_storage_account_key = \"V/FXG+lIWtYc854wbRA8BxGCLGJijS0NDwLvNHfmAxqRopAL3WHWGIQoHxpArG9lZoX+iY+dvtPYoB379w4MIw==\"\n\nif azure_storage_account_name is None or azure_storage_account_key is None:\n    raise Exception(\"You must provide a name and key for an Azure Storage account\")",
      "execution_count": 6,
      "outputs": []
    },
    {
      "metadata": {
        "trusted": true
      },
      "cell_type": "code",
      "source": "# First, we need to connect to our blob via the BlobService\nblob_service = BlockBlobService(azure_storage_account_name, azure_storage_account_key)\n# There are also methods to list containers and blobs\n#containers = blob_service.list_containers()\nblobs = blob_service.list_blobs('banking-dm')",
      "execution_count": 7,
      "outputs": []
    },
    {
      "metadata": {
        "trusted": true
      },
      "cell_type": "code",
      "source": "# # List the blobs in the container.\n# print(\"\\nList blobs in the container\")\n# #generator = block_blob_service.list_blobs(container_name)\n# for blob in blobs:\n#     print(\"\\t Blob name: \" + blob.name)",
      "execution_count": 8,
      "outputs": []
    },
    {
      "metadata": {},
      "cell_type": "markdown",
      "source": "### Read Data"
    },
    {
      "metadata": {
        "trusted": true
      },
      "cell_type": "code",
      "source": "container_name = \"banking-dm\"",
      "execution_count": 9,
      "outputs": []
    },
    {
      "metadata": {
        "trusted": true
      },
      "cell_type": "code",
      "source": "blob_name_parquet = 'ailiev/3M_AVG_MCIF_2018-01__2018-03.parquet.gzip'\nbyte_stream = BytesIO()\ntry:\n    blob_service.get_blob_to_stream(container_name=container_name, blob_name=blob_name_parquet, stream=byte_stream)\n    df = pq.read_table(source=byte_stream).to_pandas()\n    # Do work on df ...\nfinally:\n    # Add finally block to ensure closure of the stream\n    byte_stream.close()",
      "execution_count": 10,
      "outputs": []
    },
    {
      "metadata": {
        "trusted": true
      },
      "cell_type": "code",
      "source": "df.shape",
      "execution_count": 11,
      "outputs": [
        {
          "output_type": "execute_result",
          "execution_count": 11,
          "data": {
            "text/plain": "(100215, 278)"
          },
          "metadata": {}
        }
      ]
    },
    {
      "metadata": {
        "trusted": true
      },
      "cell_type": "code",
      "source": "pd.value_counts(df['CUSTOMER_TYPE'])",
      "execution_count": 12,
      "outputs": [
        {
          "output_type": "execute_result",
          "execution_count": 12,
          "data": {
            "text/plain": "Individual        84302\nSmall Business    15410\nProfessional        503\nName: CUSTOMER_TYPE, dtype: int64"
          },
          "metadata": {}
        }
      ]
    },
    {
      "metadata": {
        "trusted": true
      },
      "cell_type": "code",
      "source": "#remove SBBs\ndf = df[df['CUSTOMER_TYPE']==\"Individual\"]",
      "execution_count": 13,
      "outputs": []
    },
    {
      "metadata": {
        "trusted": true
      },
      "cell_type": "code",
      "source": "df.shape",
      "execution_count": 14,
      "outputs": [
        {
          "output_type": "execute_result",
          "execution_count": 14,
          "data": {
            "text/plain": "(84302, 278)"
          },
          "metadata": {}
        }
      ]
    },
    {
      "metadata": {},
      "cell_type": "markdown",
      "source": "### Analysis"
    },
    {
      "metadata": {
        "trusted": true
      },
      "cell_type": "code",
      "source": "del df['AVG_PERIOD']",
      "execution_count": 15,
      "outputs": []
    },
    {
      "metadata": {
        "trusted": true
      },
      "cell_type": "code",
      "source": "demographic_columns = ['Customer_ID', 'CUSTOMER_TYPE', 'CUSTOMER_CATEGORY', 'GENDER', 'MARITAL_STATUS', 'CUSTOMER_ECO_BRANCH', 'SECTOR', 'AGE_MONTHS']",
      "execution_count": 16,
      "outputs": []
    },
    {
      "metadata": {
        "trusted": true
      },
      "cell_type": "code",
      "source": "columns_for_pca = [col for col in df.columns if col not in demographic_columns]",
      "execution_count": 17,
      "outputs": []
    },
    {
      "metadata": {
        "trusted": true
      },
      "cell_type": "code",
      "source": "len(columns_for_pca)",
      "execution_count": 18,
      "outputs": [
        {
          "output_type": "execute_result",
          "execution_count": 18,
          "data": {
            "text/plain": "269"
          },
          "metadata": {}
        }
      ]
    },
    {
      "metadata": {
        "trusted": true
      },
      "cell_type": "code",
      "source": "df_scaled = df[columns_for_pca]",
      "execution_count": 19,
      "outputs": []
    },
    {
      "metadata": {
        "trusted": true
      },
      "cell_type": "code",
      "source": "df_scaled.shape",
      "execution_count": 20,
      "outputs": [
        {
          "output_type": "execute_result",
          "execution_count": 20,
          "data": {
            "text/plain": "(84302, 269)"
          },
          "metadata": {}
        }
      ]
    },
    {
      "metadata": {
        "trusted": true
      },
      "cell_type": "code",
      "source": "#replaces inf with nan\n# df_scaled.replace([np.inf, -np.inf], np.nan)\ndf_scaled.replace( -np.inf, np.nan, inplace=True)",
      "execution_count": 21,
      "outputs": [
        {
          "output_type": "stream",
          "text": "/home/nbuser/anaconda3_420/lib/python3.5/site-packages/pandas/core/frame.py:4042: SettingWithCopyWarning: \nA value is trying to be set on a copy of a slice from a DataFrame\n\nSee the caveats in the documentation: http://pandas.pydata.org/pandas-docs/stable/indexing.html#indexing-view-versus-copy\n  method=method)\n",
          "name": "stderr"
        }
      ]
    },
    {
      "metadata": {
        "trusted": true
      },
      "cell_type": "code",
      "source": "#df_scaled.iloc[:, 179:182].head(10)",
      "execution_count": 22,
      "outputs": []
    },
    {
      "metadata": {
        "trusted": true
      },
      "cell_type": "code",
      "source": "df_scaled.fillna(0, inplace=True)",
      "execution_count": 23,
      "outputs": [
        {
          "output_type": "stream",
          "text": "/home/nbuser/anaconda3_420/lib/python3.5/site-packages/pandas/core/frame.py:4034: SettingWithCopyWarning: \nA value is trying to be set on a copy of a slice from a DataFrame\n\nSee the caveats in the documentation: http://pandas.pydata.org/pandas-docs/stable/indexing.html#indexing-view-versus-copy\n  downcast=downcast, **kwargs)\n",
          "name": "stderr"
        }
      ]
    },
    {
      "metadata": {
        "trusted": true
      },
      "cell_type": "code",
      "source": "",
      "execution_count": null,
      "outputs": []
    },
    {
      "metadata": {
        "trusted": true
      },
      "cell_type": "code",
      "source": "# Standardize the feature matrix\nX = StandardScaler().fit_transform(df_scaled)",
      "execution_count": 24,
      "outputs": []
    },
    {
      "metadata": {
        "trusted": true
      },
      "cell_type": "code",
      "source": "df_stscaler = StandardScaler().fit_transform(X)",
      "execution_count": 25,
      "outputs": []
    },
    {
      "metadata": {
        "trusted": true
      },
      "cell_type": "code",
      "source": "pca = PCA(.85, random_state=12345)",
      "execution_count": 26,
      "outputs": []
    },
    {
      "metadata": {
        "trusted": true
      },
      "cell_type": "code",
      "source": "pca.fit(df_stscaler)",
      "execution_count": 27,
      "outputs": [
        {
          "output_type": "execute_result",
          "execution_count": 27,
          "data": {
            "text/plain": "PCA(copy=True, iterated_power='auto', n_components=0.85, random_state=12345,\n  svd_solver='auto', tol=0.0, whiten=False)"
          },
          "metadata": {}
        }
      ]
    },
    {
      "metadata": {
        "trusted": true
      },
      "cell_type": "code",
      "source": "pca.n_components_",
      "execution_count": 28,
      "outputs": [
        {
          "output_type": "execute_result",
          "execution_count": 28,
          "data": {
            "text/plain": "33"
          },
          "metadata": {}
        }
      ]
    },
    {
      "metadata": {
        "trusted": true
      },
      "cell_type": "code",
      "source": "pca.n_features_",
      "execution_count": 29,
      "outputs": [
        {
          "output_type": "execute_result",
          "execution_count": 29,
          "data": {
            "text/plain": "269"
          },
          "metadata": {}
        }
      ]
    },
    {
      "metadata": {
        "trusted": true
      },
      "cell_type": "code",
      "source": "",
      "execution_count": null,
      "outputs": []
    },
    {
      "metadata": {
        "trusted": true
      },
      "cell_type": "code",
      "source": "features = range(pca.n_components_)\n\nplt.figure(figsize=(8,4))\nplt.bar(features[:20], pca.explained_variance_[:20], color='lightskyblue')\nplt.xlabel('PCA feature')\nplt.ylabel('Variance')\nplt.xticks(features[:20])\nplt.show()",
      "execution_count": 30,
      "outputs": [
        {
          "output_type": "display_data",
          "data": {
            "image/png": "[encoded data removed]",
            "text/plain": "<matplotlib.figure.Figure at 0x7ff1d996c748>"
          },
          "metadata": {}
        }
      ]
    },
    {
      "metadata": {
        "trusted": true
      },
      "cell_type": "code",
      "source": "pca.explained_variance_ratio_.sum()",
      "execution_count": 31,
      "outputs": [
        {
          "output_type": "execute_result",
          "execution_count": 31,
          "data": {
            "text/plain": "0.8504236674580355"
          },
          "metadata": {}
        }
      ]
    },
    {
      "metadata": {
        "trusted": true
      },
      "cell_type": "code",
      "source": "principalComponents = pca.fit_transform(df_stscaler)",
      "execution_count": 32,
      "outputs": []
    },
    {
      "metadata": {
        "trusted": true
      },
      "cell_type": "code",
      "source": "principalComponents.shape",
      "execution_count": 33,
      "outputs": [
        {
          "output_type": "execute_result",
          "execution_count": 33,
          "data": {
            "text/plain": "(84302, 33)"
          },
          "metadata": {}
        }
      ]
    },
    {
      "metadata": {
        "trusted": true
      },
      "cell_type": "code",
      "source": "# # Euclidean Distance Caculator\n# def dist(a, b, ax=1):\n#     return np.linalg.norm(a - b, axis=ax)",
      "execution_count": null,
      "outputs": []
    },
    {
      "metadata": {
        "trusted": true
      },
      "cell_type": "code",
      "source": "",
      "execution_count": null,
      "outputs": []
    },
    {
      "metadata": {
        "trusted": true
      },
      "cell_type": "code",
      "source": "j = 0\nacc_table = pd.DataFrame(columns = ['Clusters', 'Cost'])\ny = []\nfor i in np.arange(2, 21):\n    y.append('Clusters ' + str(i))\nacc_table['Clusters'] = y\nfor k in range (2, 21):\n    # Create a kmeans model on our data, using k clusters.  random_state helps ensure that the algorithm returns the same results each time.\n    kmeans_model = KMeans(n_clusters=k, random_state=12345).fit(principalComponents)\n\n    # These are our fitted labels for clusters -- the first cluster has label 0, and the second has label 1.\n    #labels_model = kmeans_model.labels_\n\n    # Sum of distances of samples to their closest cluster center\n    interia = kmeans_model.inertia_\n    #print(\"Clusters:\",k, \" Cost:\", interia)\n    acc_table.iloc[j,1] = interia\n    j += 1",
      "execution_count": 34,
      "outputs": []
    },
    {
      "metadata": {
        "trusted": true
      },
      "cell_type": "code",
      "source": "acc_table['Diff'] = abs(acc_table['Cost'].diff())",
      "execution_count": 35,
      "outputs": []
    },
    {
      "metadata": {
        "trusted": true
      },
      "cell_type": "code",
      "source": "plt.rcParams[\"figure.figsize\"] = (12,6)\nacc_table.plot.line()",
      "execution_count": 36,
      "outputs": [
        {
          "output_type": "execute_result",
          "execution_count": 36,
          "data": {
            "text/plain": "<matplotlib.axes._subplots.AxesSubplot at 0x7ff1d91699e8>"
          },
          "metadata": {}
        },
        {
          "output_type": "display_data",
          "data": {
            "image/png": "[encoded data removed]",
            "text/plain": "<matplotlib.figure.Figure at 0x7ff1d996ca20>"
          },
          "metadata": {}
        }
      ]
    },
    {
      "metadata": {
        "trusted": true
      },
      "cell_type": "code",
      "source": "# acc_table.plot.line()\nacc_table.plot.barh()",
      "execution_count": 37,
      "outputs": [
        {
          "output_type": "execute_result",
          "execution_count": 37,
          "data": {
            "text/plain": "<matplotlib.axes._subplots.AxesSubplot at 0x7ff1d8dba978>"
          },
          "metadata": {}
        },
        {
          "output_type": "display_data",
          "data": {
            "image/png": "[encoded data removed]",
            "text/plain": "<matplotlib.figure.Figure at 0x7ff1d8d33ac8>"
          },
          "metadata": {}
        }
      ]
    },
    {
      "metadata": {
        "trusted": true
      },
      "cell_type": "code",
      "source": "acc_table",
      "execution_count": 38,
      "outputs": [
        {
          "output_type": "execute_result",
          "execution_count": 38,
          "data": {
            "text/plain": "       Clusters         Cost         Diff\n0    Clusters 2  1.61402e+07          NaN\n1    Clusters 3  1.49714e+07  1.16886e+06\n2    Clusters 4  1.39838e+07       987580\n3    Clusters 5   1.3404e+07       579824\n4    Clusters 6  1.28598e+07       544128\n5    Clusters 7  1.24426e+07       417285\n6    Clusters 8  1.20667e+07       375833\n7    Clusters 9  1.15822e+07       484517\n8   Clusters 10  1.12251e+07       357123\n9   Clusters 11  1.08198e+07       405314\n10  Clusters 12  1.04554e+07       364393\n11  Clusters 13  1.01227e+07       332650\n12  Clusters 14  9.81254e+06       310185\n13  Clusters 15  9.44031e+06       372235\n14  Clusters 16  9.29793e+06       142382\n15  Clusters 17  9.14486e+06       153071\n16  Clusters 18  8.96883e+06       176022\n17  Clusters 19  8.64746e+06       321377\n18  Clusters 20  8.39298e+06       254477",
            "text/html": "<div>\n<style scoped>\n    .dataframe tbody tr th:only-of-type {\n        vertical-align: middle;\n    }\n\n    .dataframe tbody tr th {\n        vertical-align: top;\n    }\n\n    .dataframe thead th {\n        text-align: right;\n    }\n</style>\n<table border=\"1\" class=\"dataframe\">\n  <thead>\n    <tr style=\"text-align: right;\">\n      <th></th>\n      <th>Clusters</th>\n      <th>Cost</th>\n      <th>Diff</th>\n    </tr>\n  </thead>\n  <tbody>\n    <tr>\n      <th>0</th>\n      <td>Clusters 2</td>\n      <td>1.61402e+07</td>\n      <td>NaN</td>\n    </tr>\n    <tr>\n      <th>1</th>\n      <td>Clusters 3</td>\n      <td>1.49714e+07</td>\n      <td>1.16886e+06</td>\n    </tr>\n    <tr>\n      <th>2</th>\n      <td>Clusters 4</td>\n      <td>1.39838e+07</td>\n      <td>987580</td>\n    </tr>\n    <tr>\n      <th>3</th>\n      <td>Clusters 5</td>\n      <td>1.3404e+07</td>\n      <td>579824</td>\n    </tr>\n    <tr>\n      <th>4</th>\n      <td>Clusters 6</td>\n      <td>1.28598e+07</td>\n      <td>544128</td>\n    </tr>\n    <tr>\n      <th>5</th>\n      <td>Clusters 7</td>\n      <td>1.24426e+07</td>\n      <td>417285</td>\n    </tr>\n    <tr>\n      <th>6</th>\n      <td>Clusters 8</td>\n      <td>1.20667e+07</td>\n      <td>375833</td>\n    </tr>\n    <tr>\n      <th>7</th>\n      <td>Clusters 9</td>\n      <td>1.15822e+07</td>\n      <td>484517</td>\n    </tr>\n    <tr>\n      <th>8</th>\n      <td>Clusters 10</td>\n      <td>1.12251e+07</td>\n      <td>357123</td>\n    </tr>\n    <tr>\n      <th>9</th>\n      <td>Clusters 11</td>\n      <td>1.08198e+07</td>\n      <td>405314</td>\n    </tr>\n    <tr>\n      <th>10</th>\n      <td>Clusters 12</td>\n      <td>1.04554e+07</td>\n      <td>364393</td>\n    </tr>\n    <tr>\n      <th>11</th>\n      <td>Clusters 13</td>\n      <td>1.01227e+07</td>\n      <td>332650</td>\n    </tr>\n    <tr>\n      <th>12</th>\n      <td>Clusters 14</td>\n      <td>9.81254e+06</td>\n      <td>310185</td>\n    </tr>\n    <tr>\n      <th>13</th>\n      <td>Clusters 15</td>\n      <td>9.44031e+06</td>\n      <td>372235</td>\n    </tr>\n    <tr>\n      <th>14</th>\n      <td>Clusters 16</td>\n      <td>9.29793e+06</td>\n      <td>142382</td>\n    </tr>\n    <tr>\n      <th>15</th>\n      <td>Clusters 17</td>\n      <td>9.14486e+06</td>\n      <td>153071</td>\n    </tr>\n    <tr>\n      <th>16</th>\n      <td>Clusters 18</td>\n      <td>8.96883e+06</td>\n      <td>176022</td>\n    </tr>\n    <tr>\n      <th>17</th>\n      <td>Clusters 19</td>\n      <td>8.64746e+06</td>\n      <td>321377</td>\n    </tr>\n    <tr>\n      <th>18</th>\n      <td>Clusters 20</td>\n      <td>8.39298e+06</td>\n      <td>254477</td>\n    </tr>\n  </tbody>\n</table>\n</div>"
          },
          "metadata": {}
        }
      ]
    },
    {
      "metadata": {
        "trusted": true
      },
      "cell_type": "code",
      "source": "",
      "execution_count": null,
      "outputs": []
    },
    {
      "metadata": {
        "trusted": true
      },
      "cell_type": "code",
      "source": "# Number of clusters\nkmeans = KMeans(n_clusters=15, random_state=12345)\n# Fitting the input data\nkmeans = kmeans.fit(principalComponents)\n# Getting the cluster labels\nlabels = kmeans.predict(principalComponents)\n# Centroid values\n# centroids = kmeans.cluster_centers_",
      "execution_count": 39,
      "outputs": []
    },
    {
      "metadata": {
        "trusted": true
      },
      "cell_type": "code",
      "source": "pd.value_counts(labels, dropna=False)",
      "execution_count": 40,
      "outputs": [
        {
          "output_type": "execute_result",
          "execution_count": 40,
          "data": {
            "text/plain": "0     14930\n10    13306\n8      9700\n11     9657\n5      6700\n1      6325\n6      5344\n7      3376\n2      3059\n4      2827\n3      2816\n12     2580\n14     2388\n9       901\n13      393\ndtype: int64"
          },
          "metadata": {}
        }
      ]
    },
    {
      "metadata": {
        "trusted": true
      },
      "cell_type": "code",
      "source": "len(labels)",
      "execution_count": 41,
      "outputs": [
        {
          "output_type": "execute_result",
          "execution_count": 41,
          "data": {
            "text/plain": "84302"
          },
          "metadata": {}
        }
      ]
    },
    {
      "metadata": {
        "trusted": true
      },
      "cell_type": "code",
      "source": "inter = kmeans.inertia_\nprint(\"cost:\", inter)",
      "execution_count": 42,
      "outputs": [
        {
          "output_type": "stream",
          "text": "cost: 9440310.015058529\n",
          "name": "stdout"
        }
      ]
    },
    {
      "metadata": {
        "trusted": true
      },
      "cell_type": "code",
      "source": "df[\"CLUSTER_NR\"] = labels",
      "execution_count": 43,
      "outputs": []
    },
    {
      "metadata": {
        "trusted": true
      },
      "cell_type": "code",
      "source": "#df[['BAL_AVG_MG_NEW_HOUSE', 'BAL_AVG_MG_RENOVATION', 'CAT_CNT_MG']].head(20)",
      "execution_count": null,
      "outputs": []
    },
    {
      "metadata": {
        "trusted": true
      },
      "cell_type": "code",
      "source": "pd.value_counts(df['CAT_CNT_MG'], dropna=False)",
      "execution_count": 44,
      "outputs": [
        {
          "output_type": "execute_result",
          "execution_count": 44,
          "data": {
            "text/plain": "NaN    72067\n1.0    11822\n2.0      413\nName: CAT_CNT_MG, dtype: int64"
          },
          "metadata": {}
        }
      ]
    },
    {
      "metadata": {
        "trusted": true
      },
      "cell_type": "code",
      "source": "np.mean(df[['BAL_AVG_MG_NEW_HOUSE', 'BAL_AVG_MG_RENOVATION', 'CAT_CNT_MG']], )",
      "execution_count": 45,
      "outputs": [
        {
          "output_type": "execute_result",
          "execution_count": 45,
          "data": {
            "text/plain": "BAL_AVG_MG_NEW_HOUSE     35380.034827\nBAL_AVG_MG_RENOVATION    17677.120955\nCAT_CNT_MG                   1.033756\ndtype: float64"
          },
          "metadata": {}
        }
      ]
    },
    {
      "metadata": {
        "trusted": true
      },
      "cell_type": "code",
      "source": "cols_to_aggregate = ['CLUSTER_NR',\n'BAL_AVG_AL_PROMOTION',\n'BAL_AVG_AL_STANDARD',\n'BAL_AVG_CA_PAYROLL',\n'BAL_AVG_CA_STANDARD',\n'BAL_AVG_CC_MASTERCARD_GOLD',\n'BAL_AVG_CC_MASTERCARD_PLATINUM',\n'BAL_AVG_CC_MASTERCARD_STANDARD',\n'BAL_AVG_CC_VISA_ELECTRON',\n'BAL_AVG_CC_VISA_GOLD',\n'BAL_AVG_CC_VISA_PLATINUM',\n'BAL_AVG_MG_NEW_HOUSE',\n'BAL_AVG_MG_RENOVATION',\n'BAL_AVG_OVD',\n'BAL_AVG_PL_F_NON_SEC',\n'BAL_AVG_PL_F_SEC',\n'BAL_AVG_PL_V',\n'BAL_AVG_SA',\n'BAL_AVG_TD_LT',\n'BAL_AVG_TD_ST',\n'CAT_CNT_AL',\n'CAT_CNT_CA',\n'CAT_CNT_CC',\n'CAT_CNT_MG',\n'CAT_CNT_OVD',\n'CAT_CNT_PL',\n'CAT_CNT_SA',\n'CAT_CNT_TD',\n'TNAM_CC',\n'TNAM_DC',\n'TNAM_LD',\n'TOTAL_NUTN',\n'TOTAL_TNAM',\n'TNAM_CC_ATM',\n'TNAM_CC_POS',\n'TNAM_DC_ATM',\n'TNAM_DC_POS',\n'TNAM_LD_ATM',\n'TNAM_LD_BRANCH',\n'TNAM_LD_INTERNET',\n'TNAM_LD_OTHER'\n]",
      "execution_count": 46,
      "outputs": []
    },
    {
      "metadata": {
        "trusted": true
      },
      "cell_type": "code",
      "source": "df_null = df.fillna(0)",
      "execution_count": 134,
      "outputs": []
    },
    {
      "metadata": {
        "trusted": true
      },
      "cell_type": "code",
      "source": "aggregated = pd.pivot_table(df_null[cols_to_aggregate], columns=['CLUSTER_NR'])",
      "execution_count": 48,
      "outputs": []
    },
    {
      "metadata": {
        "trusted": true
      },
      "cell_type": "code",
      "source": "aggregated_total = pd.DataFrame(np.mean(df_null[cols_to_aggregate]), columns=[\"Total\"])",
      "execution_count": 49,
      "outputs": []
    },
    {
      "metadata": {
        "trusted": true
      },
      "cell_type": "code",
      "source": "aggregated = aggregated.merge(aggregated_total, how=\"left\", left_index=True, right_index=True)",
      "execution_count": 50,
      "outputs": []
    },
    {
      "metadata": {
        "trusted": true
      },
      "cell_type": "code",
      "source": "aggregated.round(2)",
      "execution_count": 51,
      "outputs": [
        {
          "output_type": "execute_result",
          "execution_count": 51,
          "data": {
            "text/plain": "                                     0         1        2        3        4  \\\nBAL_AVG_AL_PROMOTION              0.00      0.00     0.00     0.00     0.35   \nBAL_AVG_AL_STANDARD               0.00      0.17     0.18     3.86     1.43   \nBAL_AVG_CA_PAYROLL              140.33    819.49   914.36   915.28   861.59   \nBAL_AVG_CA_STANDARD             230.67    875.90  1064.99  1051.53  1076.82   \nBAL_AVG_CC_MASTERCARD_GOLD        0.00     10.73    14.30  1980.21    19.25   \nBAL_AVG_CC_MASTERCARD_PLATINUM    0.04      7.01    10.25     0.00     5.73   \nBAL_AVG_CC_MASTERCARD_STANDARD    0.00     57.82    56.18     0.00   374.17   \nBAL_AVG_CC_VISA_ELECTRON          0.05     86.04    89.52   348.18     0.00   \nBAL_AVG_CC_VISA_GOLD              0.00     24.25    33.99    90.38  2031.65   \nBAL_AVG_CC_VISA_PLATINUM          0.04     31.57    15.89   445.95     0.00   \nBAL_AVG_MG_NEW_HOUSE              0.00  38863.45  1511.99  2380.63  1603.70   \nBAL_AVG_MG_RENOVATION             0.00    281.35   316.94   589.65   416.22   \nBAL_AVG_OVD                       0.00   -557.03  -597.84  -537.41  -498.65   \nBAL_AVG_PL_F_NON_SEC              0.00     15.56    21.50    23.85    16.72   \nBAL_AVG_PL_F_SEC                  0.00     23.13    17.57    19.31    27.40   \nBAL_AVG_PL_V                      0.00     24.99    26.29    38.50    22.55   \nBAL_AVG_SA                        0.06    160.94  9659.62   256.17   231.55   \nBAL_AVG_TD_LT                     0.00    530.97   736.81   700.90   707.19   \nBAL_AVG_TD_ST                     0.00   1721.99  1946.31  2094.75  1681.86   \nCAT_CNT_AL                        0.00      0.01     0.01     0.02     0.01   \nCAT_CNT_CA                        1.22      1.29     1.29     1.27     1.29   \nCAT_CNT_CC                        0.01      0.19     0.20     1.52     1.39   \nCAT_CNT_MG                        0.00      1.02     0.09     0.13     0.10   \nCAT_CNT_OVD                       0.00      0.51     0.50     0.47     0.45   \nCAT_CNT_PL                        0.00      0.15     0.15     0.15     0.15   \nCAT_CNT_SA                        0.07      0.10     1.78     0.13     0.11   \nCAT_CNT_TD                        0.04      0.14     0.15     0.15     0.14   \nTNAM_CC                           0.16    221.61   229.89  2356.08  2099.53   \nTNAM_CC_ATM                       0.08    135.73   139.49  1496.66  1319.83   \nTNAM_CC_POS                       0.09     86.21    90.70   861.95   782.44   \nTNAM_DC                         624.91   2480.44  2554.84  2601.04  2435.42   \nTNAM_DC_ATM                     439.57   1937.85  2003.28  2036.50  1906.23   \nTNAM_DC_POS                     230.40    552.12   564.21   575.28   539.04   \nTNAM_LD                         499.27   3121.57  4232.12  3528.28  3262.12   \nTNAM_LD_ATM                      32.43    284.83   296.46   548.63   525.85   \nTNAM_LD_BRANCH                  319.00   1308.02  1623.69  1516.73  1381.45   \nTNAM_LD_INTERNET                161.92    729.75   621.57   745.91   520.86   \nTNAM_LD_OTHER                   286.05   1706.09  2020.05  1742.07  1746.91   \nTOTAL_NUTN                        2.86     26.45    34.91    56.19    52.39   \nTOTAL_TNAM                      853.32   5687.05  6874.73  8118.87  7460.97   \n\n                                      5         6         7        8        9  \\\nBAL_AVG_AL_PROMOTION               0.00      0.00      0.00     0.00   626.63   \nBAL_AVG_AL_STANDARD                0.05      0.00      0.01     0.10    12.34   \nBAL_AVG_CA_PAYROLL               728.01   1380.02    803.05   827.36   716.91   \nBAL_AVG_CA_STANDARD              897.52   2936.90   1000.95   967.92   986.00   \nBAL_AVG_CC_MASTERCARD_GOLD         0.84      2.00     13.32     0.00    71.26   \nBAL_AVG_CC_MASTERCARD_PLATINUM     0.58      2.15      6.22     0.00    86.17   \nBAL_AVG_CC_MASTERCARD_STANDARD     9.21     19.32     60.61   709.19    96.70   \nBAL_AVG_CC_VISA_ELECTRON          21.89     37.07     86.40   762.01   124.62   \nBAL_AVG_CC_VISA_GOLD               0.83      3.72     23.68     0.00    65.05   \nBAL_AVG_CC_VISA_PLATINUM           4.50      6.92     18.21   443.78    70.38   \nBAL_AVG_MG_NEW_HOUSE             117.21    235.98   1921.59   698.75  4091.75   \nBAL_AVG_MG_RENOVATION             16.19     36.86  18564.09   172.26   684.13   \nBAL_AVG_OVD                     -327.32   -659.37   -553.74  -441.93  -531.02   \nBAL_AVG_PL_F_NON_SEC             200.37      8.37     18.90    15.38    10.91   \nBAL_AVG_PL_F_SEC                 238.68      6.83     18.73    15.41    14.41   \nBAL_AVG_PL_V                     298.59     15.45     37.13    26.83    45.70   \nBAL_AVG_SA                        16.76     25.94    192.51   104.42   445.78   \nBAL_AVG_TD_LT                    134.86   9070.10    602.01   449.68   506.38   \nBAL_AVG_TD_ST                    678.64  19127.31   1876.82  1332.53  1848.42   \nCAT_CNT_AL                         0.00      0.00      0.01     0.00     1.02   \nCAT_CNT_CA                         1.23      1.24      1.29     1.26     1.27   \nCAT_CNT_CC                         0.06      0.08      0.20     1.39     0.34   \nCAT_CNT_MG                         0.01      0.02      1.08     0.05     0.15   \nCAT_CNT_OVD                        0.37      0.45      0.49     0.43     0.48   \nCAT_CNT_PL                         1.08      0.10      0.15     0.13     0.16   \nCAT_CNT_SA                         0.08      0.09      0.11     0.10     0.15   \nCAT_CNT_TD                         0.09      1.10      0.14     0.12     0.14   \nTNAM_CC                           42.76     74.57    220.03  1933.59   461.69   \nTNAM_CC_ATM                       24.87     44.35    132.79  1182.73   286.09   \nTNAM_CC_POS                       18.14     30.39     88.19   752.85   176.28   \nTNAM_DC                         1923.18   2045.15   2509.17  2306.81  2620.32   \nTNAM_DC_ATM                     1494.02   1594.92   1964.20  1798.91  2066.11   \nTNAM_DC_POS                      440.40    461.42    554.37   516.96   561.95   \nTNAM_LD                         1557.27  19110.29   2883.97  2801.74  3024.04   \nTNAM_LD_ATM                      226.32    241.70    303.93   540.14   318.16   \nTNAM_LD_BRANCH                   660.43   8840.44   1322.01  1262.60  1311.25   \nTNAM_LD_INTERNET                 241.38   4175.26    585.11   383.04   504.19   \nTNAM_LD_OTHER                    740.82  11919.75   1332.45  1325.74  1590.62   \nTOTAL_NUTN                        20.25     21.11     27.27    52.89    29.96   \nTOTAL_TNAM                      3408.33  20266.97   5488.97  6701.36  5939.04   \n\n                                     10       11       12         13       14  \\\nBAL_AVG_AL_PROMOTION               0.00     0.00    -0.01       0.00     0.00   \nBAL_AVG_AL_STANDARD                0.08     0.00     5.65      24.57   660.90   \nBAL_AVG_CA_PAYROLL               906.19   929.67   883.16   18765.84   839.94   \nBAL_AVG_CA_STANDARD              877.41  2115.44  1169.36   65484.88  1058.74   \nBAL_AVG_CC_MASTERCARD_GOLD         0.29     0.00     0.00      83.89    33.20   \nBAL_AVG_CC_MASTERCARD_PLATINUM     0.22     0.08  3427.61      97.32    25.77   \nBAL_AVG_CC_MASTERCARD_STANDARD     6.16     1.94     0.22      78.94    76.78   \nBAL_AVG_CC_VISA_ELECTRON          16.14     4.43   578.88     139.00   110.45   \nBAL_AVG_CC_VISA_GOLD               0.67     0.00   354.53      65.91    61.68   \nBAL_AVG_CC_VISA_PLATINUM           1.67     0.10   281.11      77.84    26.64   \nBAL_AVG_MG_NEW_HOUSE              70.24     7.20  3026.12    3129.53  2772.25   \nBAL_AVG_MG_RENOVATION              6.83     0.00   581.68     440.30   711.33   \nBAL_AVG_OVD                    -1383.25  -125.99  -505.29    -818.60  -536.71   \nBAL_AVG_PL_F_NON_SEC               4.24     0.47    30.14      10.67    35.51   \nBAL_AVG_PL_F_SEC                   2.43     0.10    29.09      31.69    21.94   \nBAL_AVG_PL_V                       6.48     0.57    35.75      19.66    35.85   \nBAL_AVG_SA                        11.43     0.54   352.61     364.31   347.85   \nBAL_AVG_TD_LT                    126.34     5.74   969.07   13379.69   943.16   \nBAL_AVG_TD_ST                    424.54    59.08  2007.35    8033.34  2294.38   \nCAT_CNT_AL                         0.00     0.00     0.02       0.05     1.00   \nCAT_CNT_CA                         1.48     1.24     1.28       1.28     1.29   \nCAT_CNT_CC                         0.05     0.02     1.82       0.37     0.27   \nCAT_CNT_MG                         0.01     0.00     0.13       0.11     0.15   \nCAT_CNT_OVD                        1.10     0.29     0.48       0.63     0.48   \nCAT_CNT_PL                         0.06     0.01     0.17       0.17     0.15   \nCAT_CNT_SA                         0.08     0.05     0.14       0.12     0.13   \nCAT_CNT_TD                         0.07     0.04     0.15       1.18     0.17   \nTNAM_CC                           28.12     7.64  3277.60     474.44   334.39   \nTNAM_CC_ATM                       16.27     4.56  2148.14     306.41   202.13   \nTNAM_CC_POS                       12.06     3.22  1131.74     168.22   133.05   \nTNAM_DC                         6087.02  1148.08  2586.33    3587.28  2543.06   \nTNAM_DC_ATM                     4818.46   857.40  2028.25    2835.11  1996.03   \nTNAM_DC_POS                     1275.25   309.48   567.41     766.99   556.97   \nTNAM_LD                         1422.32  2610.26  3851.23  193842.88  3170.94   \nTNAM_LD_ATM                      432.34   371.64   605.64     376.46   298.68   \nTNAM_LD_BRANCH                   702.78  1086.16  1555.10   55566.37  1316.03   \nTNAM_LD_INTERNET                 126.69   433.92   513.82   58053.11   525.70   \nTNAM_LD_OTHER                    653.46   916.57  2042.99  140698.90  1721.70   \nTOTAL_NUTN                        39.20    31.65    63.31      36.58    28.24   \nTOTAL_TNAM                      7378.38  3756.36  9393.23  188158.15  5848.74   \n\n                                  Total  \nBAL_AVG_AL_PROMOTION               6.71  \nBAL_AVG_AL_STANDARD               19.36  \nBAL_AVG_CA_PAYROLL               847.17  \nBAL_AVG_CA_STANDARD             1387.82  \nBAL_AVG_CC_MASTERCARD_GOLD        70.98  \nBAL_AVG_CC_MASTERCARD_PLATINUM   108.58  \nBAL_AVG_CC_MASTERCARD_STANDARD   109.69  \nBAL_AVG_CC_VISA_ELECTRON         142.45  \nBAL_AVG_CC_VISA_GOLD              89.16  \nBAL_AVG_CC_VISA_PLATINUM          81.19  \nBAL_AVG_MG_NEW_HOUSE            3527.01  \nBAL_AVG_MG_RENOVATION            881.53  \nBAL_AVG_OVD                     -511.92  \nBAL_AVG_PL_F_NON_SEC              25.11  \nBAL_AVG_PL_F_SEC                  28.07  \nBAL_AVG_PL_V                      37.93  \nBAL_AVG_SA                       430.59  \nBAL_AVG_TD_LT                    919.99  \nBAL_AVG_TD_ST                   2078.52  \nCAT_CNT_AL                         0.04  \nCAT_CNT_CA                         1.29  \nCAT_CNT_CC                         0.38  \nCAT_CNT_MG                         0.15  \nCAT_CNT_OVD                        0.46  \nCAT_CNT_PL                         0.16  \nCAT_CNT_SA                         0.15  \nCAT_CNT_TD                         0.16  \nTNAM_CC                          535.77  \nTNAM_CC_ATM                      334.75  \nTNAM_CC_POS                      201.68  \nTNAM_DC                         2494.63  \nTNAM_DC_ATM                     1946.03  \nTNAM_DC_POS                      565.39  \nTNAM_LD                         4143.67  \nTNAM_LD_ATM                      324.43  \nTNAM_LD_BRANCH                  1714.93  \nTNAM_LD_INTERNET                 876.07  \nTNAM_LD_OTHER                   2381.47  \nTOTAL_NUTN                        30.56  \nTOTAL_TNAM                      6883.85  ",
            "text/html": "<div>\n<style scoped>\n    .dataframe tbody tr th:only-of-type {\n        vertical-align: middle;\n    }\n\n    .dataframe tbody tr th {\n        vertical-align: top;\n    }\n\n    .dataframe thead th {\n        text-align: right;\n    }\n</style>\n<table border=\"1\" class=\"dataframe\">\n  <thead>\n    <tr style=\"text-align: right;\">\n      <th></th>\n      <th>0</th>\n      <th>1</th>\n      <th>2</th>\n      <th>3</th>\n      <th>4</th>\n      <th>5</th>\n      <th>6</th>\n      <th>7</th>\n      <th>8</th>\n      <th>9</th>\n      <th>10</th>\n      <th>11</th>\n      <th>12</th>\n      <th>13</th>\n      <th>14</th>\n      <th>Total</th>\n    </tr>\n  </thead>\n  <tbody>\n    <tr>\n      <th>BAL_AVG_AL_PROMOTION</th>\n      <td>0.00</td>\n      <td>0.00</td>\n      <td>0.00</td>\n      <td>0.00</td>\n      <td>0.35</td>\n      <td>0.00</td>\n      <td>0.00</td>\n      <td>0.00</td>\n      <td>0.00</td>\n      <td>626.63</td>\n      <td>0.00</td>\n      <td>0.00</td>\n      <td>-0.01</td>\n      <td>0.00</td>\n      <td>0.00</td>\n      <td>6.71</td>\n    </tr>\n    <tr>\n      <th>BAL_AVG_AL_STANDARD</th>\n      <td>0.00</td>\n      <td>0.17</td>\n      <td>0.18</td>\n      <td>3.86</td>\n      <td>1.43</td>\n      <td>0.05</td>\n      <td>0.00</td>\n      <td>0.01</td>\n      <td>0.10</td>\n      <td>12.34</td>\n      <td>0.08</td>\n      <td>0.00</td>\n      <td>5.65</td>\n      <td>24.57</td>\n      <td>660.90</td>\n      <td>19.36</td>\n    </tr>\n    <tr>\n      <th>BAL_AVG_CA_PAYROLL</th>\n      <td>140.33</td>\n      <td>819.49</td>\n      <td>914.36</td>\n      <td>915.28</td>\n      <td>861.59</td>\n      <td>728.01</td>\n      <td>1380.02</td>\n      <td>803.05</td>\n      <td>827.36</td>\n      <td>716.91</td>\n      <td>906.19</td>\n      <td>929.67</td>\n      <td>883.16</td>\n      <td>18765.84</td>\n      <td>839.94</td>\n      <td>847.17</td>\n    </tr>\n    <tr>\n      <th>BAL_AVG_CA_STANDARD</th>\n      <td>230.67</td>\n      <td>875.90</td>\n      <td>1064.99</td>\n      <td>1051.53</td>\n      <td>1076.82</td>\n      <td>897.52</td>\n      <td>2936.90</td>\n      <td>1000.95</td>\n      <td>967.92</td>\n      <td>986.00</td>\n      <td>877.41</td>\n      <td>2115.44</td>\n      <td>1169.36</td>\n      <td>65484.88</td>\n      <td>1058.74</td>\n      <td>1387.82</td>\n    </tr>\n    <tr>\n      <th>BAL_AVG_CC_MASTERCARD_GOLD</th>\n      <td>0.00</td>\n      <td>10.73</td>\n      <td>14.30</td>\n      <td>1980.21</td>\n      <td>19.25</td>\n      <td>0.84</td>\n      <td>2.00</td>\n      <td>13.32</td>\n      <td>0.00</td>\n      <td>71.26</td>\n      <td>0.29</td>\n      <td>0.00</td>\n      <td>0.00</td>\n      <td>83.89</td>\n      <td>33.20</td>\n      <td>70.98</td>\n    </tr>\n    <tr>\n      <th>BAL_AVG_CC_MASTERCARD_PLATINUM</th>\n      <td>0.04</td>\n      <td>7.01</td>\n      <td>10.25</td>\n      <td>0.00</td>\n      <td>5.73</td>\n      <td>0.58</td>\n      <td>2.15</td>\n      <td>6.22</td>\n      <td>0.00</td>\n      <td>86.17</td>\n      <td>0.22</td>\n      <td>0.08</td>\n      <td>3427.61</td>\n      <td>97.32</td>\n      <td>25.77</td>\n      <td>108.58</td>\n    </tr>\n    <tr>\n      <th>BAL_AVG_CC_MASTERCARD_STANDARD</th>\n      <td>0.00</td>\n      <td>57.82</td>\n      <td>56.18</td>\n      <td>0.00</td>\n      <td>374.17</td>\n      <td>9.21</td>\n      <td>19.32</td>\n      <td>60.61</td>\n      <td>709.19</td>\n      <td>96.70</td>\n      <td>6.16</td>\n      <td>1.94</td>\n      <td>0.22</td>\n      <td>78.94</td>\n      <td>76.78</td>\n      <td>109.69</td>\n    </tr>\n    <tr>\n      <th>BAL_AVG_CC_VISA_ELECTRON</th>\n      <td>0.05</td>\n      <td>86.04</td>\n      <td>89.52</td>\n      <td>348.18</td>\n      <td>0.00</td>\n      <td>21.89</td>\n      <td>37.07</td>\n      <td>86.40</td>\n      <td>762.01</td>\n      <td>124.62</td>\n      <td>16.14</td>\n      <td>4.43</td>\n      <td>578.88</td>\n      <td>139.00</td>\n      <td>110.45</td>\n      <td>142.45</td>\n    </tr>\n    <tr>\n      <th>BAL_AVG_CC_VISA_GOLD</th>\n      <td>0.00</td>\n      <td>24.25</td>\n      <td>33.99</td>\n      <td>90.38</td>\n      <td>2031.65</td>\n      <td>0.83</td>\n      <td>3.72</td>\n      <td>23.68</td>\n      <td>0.00</td>\n      <td>65.05</td>\n      <td>0.67</td>\n      <td>0.00</td>\n      <td>354.53</td>\n      <td>65.91</td>\n      <td>61.68</td>\n      <td>89.16</td>\n    </tr>\n    <tr>\n      <th>BAL_AVG_CC_VISA_PLATINUM</th>\n      <td>0.04</td>\n      <td>31.57</td>\n      <td>15.89</td>\n      <td>445.95</td>\n      <td>0.00</td>\n      <td>4.50</td>\n      <td>6.92</td>\n      <td>18.21</td>\n      <td>443.78</td>\n      <td>70.38</td>\n      <td>1.67</td>\n      <td>0.10</td>\n      <td>281.11</td>\n      <td>77.84</td>\n      <td>26.64</td>\n      <td>81.19</td>\n    </tr>\n    <tr>\n      <th>BAL_AVG_MG_NEW_HOUSE</th>\n      <td>0.00</td>\n      <td>38863.45</td>\n      <td>1511.99</td>\n      <td>2380.63</td>\n      <td>1603.70</td>\n      <td>117.21</td>\n      <td>235.98</td>\n      <td>1921.59</td>\n      <td>698.75</td>\n      <td>4091.75</td>\n      <td>70.24</td>\n      <td>7.20</td>\n      <td>3026.12</td>\n      <td>3129.53</td>\n      <td>2772.25</td>\n      <td>3527.01</td>\n    </tr>\n    <tr>\n      <th>BAL_AVG_MG_RENOVATION</th>\n      <td>0.00</td>\n      <td>281.35</td>\n      <td>316.94</td>\n      <td>589.65</td>\n      <td>416.22</td>\n      <td>16.19</td>\n      <td>36.86</td>\n      <td>18564.09</td>\n      <td>172.26</td>\n      <td>684.13</td>\n      <td>6.83</td>\n      <td>0.00</td>\n      <td>581.68</td>\n      <td>440.30</td>\n      <td>711.33</td>\n      <td>881.53</td>\n    </tr>\n    <tr>\n      <th>BAL_AVG_OVD</th>\n      <td>0.00</td>\n      <td>-557.03</td>\n      <td>-597.84</td>\n      <td>-537.41</td>\n      <td>-498.65</td>\n      <td>-327.32</td>\n      <td>-659.37</td>\n      <td>-553.74</td>\n      <td>-441.93</td>\n      <td>-531.02</td>\n      <td>-1383.25</td>\n      <td>-125.99</td>\n      <td>-505.29</td>\n      <td>-818.60</td>\n      <td>-536.71</td>\n      <td>-511.92</td>\n    </tr>\n    <tr>\n      <th>BAL_AVG_PL_F_NON_SEC</th>\n      <td>0.00</td>\n      <td>15.56</td>\n      <td>21.50</td>\n      <td>23.85</td>\n      <td>16.72</td>\n      <td>200.37</td>\n      <td>8.37</td>\n      <td>18.90</td>\n      <td>15.38</td>\n      <td>10.91</td>\n      <td>4.24</td>\n      <td>0.47</td>\n      <td>30.14</td>\n      <td>10.67</td>\n      <td>35.51</td>\n      <td>25.11</td>\n    </tr>\n    <tr>\n      <th>BAL_AVG_PL_F_SEC</th>\n      <td>0.00</td>\n      <td>23.13</td>\n      <td>17.57</td>\n      <td>19.31</td>\n      <td>27.40</td>\n      <td>238.68</td>\n      <td>6.83</td>\n      <td>18.73</td>\n      <td>15.41</td>\n      <td>14.41</td>\n      <td>2.43</td>\n      <td>0.10</td>\n      <td>29.09</td>\n      <td>31.69</td>\n      <td>21.94</td>\n      <td>28.07</td>\n    </tr>\n    <tr>\n      <th>BAL_AVG_PL_V</th>\n      <td>0.00</td>\n      <td>24.99</td>\n      <td>26.29</td>\n      <td>38.50</td>\n      <td>22.55</td>\n      <td>298.59</td>\n      <td>15.45</td>\n      <td>37.13</td>\n      <td>26.83</td>\n      <td>45.70</td>\n      <td>6.48</td>\n      <td>0.57</td>\n      <td>35.75</td>\n      <td>19.66</td>\n      <td>35.85</td>\n      <td>37.93</td>\n    </tr>\n    <tr>\n      <th>BAL_AVG_SA</th>\n      <td>0.06</td>\n      <td>160.94</td>\n      <td>9659.62</td>\n      <td>256.17</td>\n      <td>231.55</td>\n      <td>16.76</td>\n      <td>25.94</td>\n      <td>192.51</td>\n      <td>104.42</td>\n      <td>445.78</td>\n      <td>11.43</td>\n      <td>0.54</td>\n      <td>352.61</td>\n      <td>364.31</td>\n      <td>347.85</td>\n      <td>430.59</td>\n    </tr>\n    <tr>\n      <th>BAL_AVG_TD_LT</th>\n      <td>0.00</td>\n      <td>530.97</td>\n      <td>736.81</td>\n      <td>700.90</td>\n      <td>707.19</td>\n      <td>134.86</td>\n      <td>9070.10</td>\n      <td>602.01</td>\n      <td>449.68</td>\n      <td>506.38</td>\n      <td>126.34</td>\n      <td>5.74</td>\n      <td>969.07</td>\n      <td>13379.69</td>\n      <td>943.16</td>\n      <td>919.99</td>\n    </tr>\n    <tr>\n      <th>BAL_AVG_TD_ST</th>\n      <td>0.00</td>\n      <td>1721.99</td>\n      <td>1946.31</td>\n      <td>2094.75</td>\n      <td>1681.86</td>\n      <td>678.64</td>\n      <td>19127.31</td>\n      <td>1876.82</td>\n      <td>1332.53</td>\n      <td>1848.42</td>\n      <td>424.54</td>\n      <td>59.08</td>\n      <td>2007.35</td>\n      <td>8033.34</td>\n      <td>2294.38</td>\n      <td>2078.52</td>\n    </tr>\n    <tr>\n      <th>CAT_CNT_AL</th>\n      <td>0.00</td>\n      <td>0.01</td>\n      <td>0.01</td>\n      <td>0.02</td>\n      <td>0.01</td>\n      <td>0.00</td>\n      <td>0.00</td>\n      <td>0.01</td>\n      <td>0.00</td>\n      <td>1.02</td>\n      <td>0.00</td>\n      <td>0.00</td>\n      <td>0.02</td>\n      <td>0.05</td>\n      <td>1.00</td>\n      <td>0.04</td>\n    </tr>\n    <tr>\n      <th>CAT_CNT_CA</th>\n      <td>1.22</td>\n      <td>1.29</td>\n      <td>1.29</td>\n      <td>1.27</td>\n      <td>1.29</td>\n      <td>1.23</td>\n      <td>1.24</td>\n      <td>1.29</td>\n      <td>1.26</td>\n      <td>1.27</td>\n      <td>1.48</td>\n      <td>1.24</td>\n      <td>1.28</td>\n      <td>1.28</td>\n      <td>1.29</td>\n      <td>1.29</td>\n    </tr>\n    <tr>\n      <th>CAT_CNT_CC</th>\n      <td>0.01</td>\n      <td>0.19</td>\n      <td>0.20</td>\n      <td>1.52</td>\n      <td>1.39</td>\n      <td>0.06</td>\n      <td>0.08</td>\n      <td>0.20</td>\n      <td>1.39</td>\n      <td>0.34</td>\n      <td>0.05</td>\n      <td>0.02</td>\n      <td>1.82</td>\n      <td>0.37</td>\n      <td>0.27</td>\n      <td>0.38</td>\n    </tr>\n    <tr>\n      <th>CAT_CNT_MG</th>\n      <td>0.00</td>\n      <td>1.02</td>\n      <td>0.09</td>\n      <td>0.13</td>\n      <td>0.10</td>\n      <td>0.01</td>\n      <td>0.02</td>\n      <td>1.08</td>\n      <td>0.05</td>\n      <td>0.15</td>\n      <td>0.01</td>\n      <td>0.00</td>\n      <td>0.13</td>\n      <td>0.11</td>\n      <td>0.15</td>\n      <td>0.15</td>\n    </tr>\n    <tr>\n      <th>CAT_CNT_OVD</th>\n      <td>0.00</td>\n      <td>0.51</td>\n      <td>0.50</td>\n      <td>0.47</td>\n      <td>0.45</td>\n      <td>0.37</td>\n      <td>0.45</td>\n      <td>0.49</td>\n      <td>0.43</td>\n      <td>0.48</td>\n      <td>1.10</td>\n      <td>0.29</td>\n      <td>0.48</td>\n      <td>0.63</td>\n      <td>0.48</td>\n      <td>0.46</td>\n    </tr>\n    <tr>\n      <th>CAT_CNT_PL</th>\n      <td>0.00</td>\n      <td>0.15</td>\n      <td>0.15</td>\n      <td>0.15</td>\n      <td>0.15</td>\n      <td>1.08</td>\n      <td>0.10</td>\n      <td>0.15</td>\n      <td>0.13</td>\n      <td>0.16</td>\n      <td>0.06</td>\n      <td>0.01</td>\n      <td>0.17</td>\n      <td>0.17</td>\n      <td>0.15</td>\n      <td>0.16</td>\n    </tr>\n    <tr>\n      <th>CAT_CNT_SA</th>\n      <td>0.07</td>\n      <td>0.10</td>\n      <td>1.78</td>\n      <td>0.13</td>\n      <td>0.11</td>\n      <td>0.08</td>\n      <td>0.09</td>\n      <td>0.11</td>\n      <td>0.10</td>\n      <td>0.15</td>\n      <td>0.08</td>\n      <td>0.05</td>\n      <td>0.14</td>\n      <td>0.12</td>\n      <td>0.13</td>\n      <td>0.15</td>\n    </tr>\n    <tr>\n      <th>CAT_CNT_TD</th>\n      <td>0.04</td>\n      <td>0.14</td>\n      <td>0.15</td>\n      <td>0.15</td>\n      <td>0.14</td>\n      <td>0.09</td>\n      <td>1.10</td>\n      <td>0.14</td>\n      <td>0.12</td>\n      <td>0.14</td>\n      <td>0.07</td>\n      <td>0.04</td>\n      <td>0.15</td>\n      <td>1.18</td>\n      <td>0.17</td>\n      <td>0.16</td>\n    </tr>\n    <tr>\n      <th>TNAM_CC</th>\n      <td>0.16</td>\n      <td>221.61</td>\n      <td>229.89</td>\n      <td>2356.08</td>\n      <td>2099.53</td>\n      <td>42.76</td>\n      <td>74.57</td>\n      <td>220.03</td>\n      <td>1933.59</td>\n      <td>461.69</td>\n      <td>28.12</td>\n      <td>7.64</td>\n      <td>3277.60</td>\n      <td>474.44</td>\n      <td>334.39</td>\n      <td>535.77</td>\n    </tr>\n    <tr>\n      <th>TNAM_CC_ATM</th>\n      <td>0.08</td>\n      <td>135.73</td>\n      <td>139.49</td>\n      <td>1496.66</td>\n      <td>1319.83</td>\n      <td>24.87</td>\n      <td>44.35</td>\n      <td>132.79</td>\n      <td>1182.73</td>\n      <td>286.09</td>\n      <td>16.27</td>\n      <td>4.56</td>\n      <td>2148.14</td>\n      <td>306.41</td>\n      <td>202.13</td>\n      <td>334.75</td>\n    </tr>\n    <tr>\n      <th>TNAM_CC_POS</th>\n      <td>0.09</td>\n      <td>86.21</td>\n      <td>90.70</td>\n      <td>861.95</td>\n      <td>782.44</td>\n      <td>18.14</td>\n      <td>30.39</td>\n      <td>88.19</td>\n      <td>752.85</td>\n      <td>176.28</td>\n      <td>12.06</td>\n      <td>3.22</td>\n      <td>1131.74</td>\n      <td>168.22</td>\n      <td>133.05</td>\n      <td>201.68</td>\n    </tr>\n    <tr>\n      <th>TNAM_DC</th>\n      <td>624.91</td>\n      <td>2480.44</td>\n      <td>2554.84</td>\n      <td>2601.04</td>\n      <td>2435.42</td>\n      <td>1923.18</td>\n      <td>2045.15</td>\n      <td>2509.17</td>\n      <td>2306.81</td>\n      <td>2620.32</td>\n      <td>6087.02</td>\n      <td>1148.08</td>\n      <td>2586.33</td>\n      <td>3587.28</td>\n      <td>2543.06</td>\n      <td>2494.63</td>\n    </tr>\n    <tr>\n      <th>TNAM_DC_ATM</th>\n      <td>439.57</td>\n      <td>1937.85</td>\n      <td>2003.28</td>\n      <td>2036.50</td>\n      <td>1906.23</td>\n      <td>1494.02</td>\n      <td>1594.92</td>\n      <td>1964.20</td>\n      <td>1798.91</td>\n      <td>2066.11</td>\n      <td>4818.46</td>\n      <td>857.40</td>\n      <td>2028.25</td>\n      <td>2835.11</td>\n      <td>1996.03</td>\n      <td>1946.03</td>\n    </tr>\n    <tr>\n      <th>TNAM_DC_POS</th>\n      <td>230.40</td>\n      <td>552.12</td>\n      <td>564.21</td>\n      <td>575.28</td>\n      <td>539.04</td>\n      <td>440.40</td>\n      <td>461.42</td>\n      <td>554.37</td>\n      <td>516.96</td>\n      <td>561.95</td>\n      <td>1275.25</td>\n      <td>309.48</td>\n      <td>567.41</td>\n      <td>766.99</td>\n      <td>556.97</td>\n      <td>565.39</td>\n    </tr>\n    <tr>\n      <th>TNAM_LD</th>\n      <td>499.27</td>\n      <td>3121.57</td>\n      <td>4232.12</td>\n      <td>3528.28</td>\n      <td>3262.12</td>\n      <td>1557.27</td>\n      <td>19110.29</td>\n      <td>2883.97</td>\n      <td>2801.74</td>\n      <td>3024.04</td>\n      <td>1422.32</td>\n      <td>2610.26</td>\n      <td>3851.23</td>\n      <td>193842.88</td>\n      <td>3170.94</td>\n      <td>4143.67</td>\n    </tr>\n    <tr>\n      <th>TNAM_LD_ATM</th>\n      <td>32.43</td>\n      <td>284.83</td>\n      <td>296.46</td>\n      <td>548.63</td>\n      <td>525.85</td>\n      <td>226.32</td>\n      <td>241.70</td>\n      <td>303.93</td>\n      <td>540.14</td>\n      <td>318.16</td>\n      <td>432.34</td>\n      <td>371.64</td>\n      <td>605.64</td>\n      <td>376.46</td>\n      <td>298.68</td>\n      <td>324.43</td>\n    </tr>\n    <tr>\n      <th>TNAM_LD_BRANCH</th>\n      <td>319.00</td>\n      <td>1308.02</td>\n      <td>1623.69</td>\n      <td>1516.73</td>\n      <td>1381.45</td>\n      <td>660.43</td>\n      <td>8840.44</td>\n      <td>1322.01</td>\n      <td>1262.60</td>\n      <td>1311.25</td>\n      <td>702.78</td>\n      <td>1086.16</td>\n      <td>1555.10</td>\n      <td>55566.37</td>\n      <td>1316.03</td>\n      <td>1714.93</td>\n    </tr>\n    <tr>\n      <th>TNAM_LD_INTERNET</th>\n      <td>161.92</td>\n      <td>729.75</td>\n      <td>621.57</td>\n      <td>745.91</td>\n      <td>520.86</td>\n      <td>241.38</td>\n      <td>4175.26</td>\n      <td>585.11</td>\n      <td>383.04</td>\n      <td>504.19</td>\n      <td>126.69</td>\n      <td>433.92</td>\n      <td>513.82</td>\n      <td>58053.11</td>\n      <td>525.70</td>\n      <td>876.07</td>\n    </tr>\n    <tr>\n      <th>TNAM_LD_OTHER</th>\n      <td>286.05</td>\n      <td>1706.09</td>\n      <td>2020.05</td>\n      <td>1742.07</td>\n      <td>1746.91</td>\n      <td>740.82</td>\n      <td>11919.75</td>\n      <td>1332.45</td>\n      <td>1325.74</td>\n      <td>1590.62</td>\n      <td>653.46</td>\n      <td>916.57</td>\n      <td>2042.99</td>\n      <td>140698.90</td>\n      <td>1721.70</td>\n      <td>2381.47</td>\n    </tr>\n    <tr>\n      <th>TOTAL_NUTN</th>\n      <td>2.86</td>\n      <td>26.45</td>\n      <td>34.91</td>\n      <td>56.19</td>\n      <td>52.39</td>\n      <td>20.25</td>\n      <td>21.11</td>\n      <td>27.27</td>\n      <td>52.89</td>\n      <td>29.96</td>\n      <td>39.20</td>\n      <td>31.65</td>\n      <td>63.31</td>\n      <td>36.58</td>\n      <td>28.24</td>\n      <td>30.56</td>\n    </tr>\n    <tr>\n      <th>TOTAL_TNAM</th>\n      <td>853.32</td>\n      <td>5687.05</td>\n      <td>6874.73</td>\n      <td>8118.87</td>\n      <td>7460.97</td>\n      <td>3408.33</td>\n      <td>20266.97</td>\n      <td>5488.97</td>\n      <td>6701.36</td>\n      <td>5939.04</td>\n      <td>7378.38</td>\n      <td>3756.36</td>\n      <td>9393.23</td>\n      <td>188158.15</td>\n      <td>5848.74</td>\n      <td>6883.85</td>\n    </tr>\n  </tbody>\n</table>\n</div>"
          },
          "metadata": {}
        }
      ]
    },
    {
      "metadata": {
        "trusted": true
      },
      "cell_type": "markdown",
      "source": "### Assign Flag values"
    },
    {
      "metadata": {
        "trusted": true
      },
      "cell_type": "code",
      "source": "df_null[df_null[\"CLUSTER_NR\"].isin([4, 5, 8]) & (df_null[\"CAT_CNT_MG\"]==0)].shape",
      "execution_count": 135,
      "outputs": [
        {
          "output_type": "execute_result",
          "execution_count": 135,
          "data": {
            "text/plain": "(18394, 278)"
          },
          "metadata": {}
        }
      ]
    },
    {
      "metadata": {
        "trusted": true
      },
      "cell_type": "code",
      "source": "mask = df_null[\"CLUSTER_NR\"].isin([4, 5, 8]) & (df_null[\"CAT_CNT_MG\"]==0)",
      "execution_count": 166,
      "outputs": []
    },
    {
      "metadata": {
        "trusted": true
      },
      "cell_type": "code",
      "source": "pd.value_counts(mask)",
      "execution_count": 167,
      "outputs": [
        {
          "output_type": "execute_result",
          "execution_count": 167,
          "data": {
            "text/plain": "False    65908\nTrue     18394\ndtype: int64"
          },
          "metadata": {}
        }
      ]
    },
    {
      "metadata": {
        "trusted": true
      },
      "cell_type": "code",
      "source": "mask13 = df_null[\"CLUSTER_NR\"].isin([13]) & (df_null[\"CAT_CNT_MG\"]==0)",
      "execution_count": 168,
      "outputs": []
    },
    {
      "metadata": {
        "trusted": true
      },
      "cell_type": "code",
      "source": "df_null[df_null[\"CLUSTER_NR\"].isin([13]) & (df_null[\"CAT_CNT_MG\"]==0)].shape",
      "execution_count": 169,
      "outputs": [
        {
          "output_type": "execute_result",
          "execution_count": 169,
          "data": {
            "text/plain": "(349, 278)"
          },
          "metadata": {}
        }
      ]
    },
    {
      "metadata": {
        "trusted": true
      },
      "cell_type": "code",
      "source": "mask_no_mg = ~df_null[\"CLUSTER_NR\"].isin([4, 5, 8, 13]) & (df_null[\"CAT_CNT_MG\"]!=1)",
      "execution_count": 170,
      "outputs": []
    },
    {
      "metadata": {
        "trusted": true
      },
      "cell_type": "code",
      "source": "pd.value_counts(mask_no_mg)",
      "execution_count": 171,
      "outputs": [
        {
          "output_type": "execute_result",
          "execution_count": 171,
          "data": {
            "text/plain": "True     53729\nFalse    30573\ndtype: int64"
          },
          "metadata": {}
        }
      ]
    },
    {
      "metadata": {
        "trusted": true
      },
      "cell_type": "code",
      "source": "#prospects for MG offer\nmask_mg = mask.copy()",
      "execution_count": 172,
      "outputs": []
    },
    {
      "metadata": {
        "trusted": true
      },
      "cell_type": "code",
      "source": "# first 4800 from 4, 5, 8 clusters\nmask_mg[mask_mg[mask_mg==True].iloc[4800:].index] = False",
      "execution_count": 176,
      "outputs": []
    },
    {
      "metadata": {
        "trusted": true
      },
      "cell_type": "code",
      "source": "# first 3000 not from 4, 5, 8 clusters\nmask_mg[mask_no_mg[mask_no_mg==True].iloc[:3000].index] = True",
      "execution_count": 177,
      "outputs": []
    },
    {
      "metadata": {
        "trusted": true
      },
      "cell_type": "code",
      "source": "# firsrt 200 from cluster 13\nmask_mg[mask13[mask13==True].iloc[:200].index] = True",
      "execution_count": 178,
      "outputs": []
    },
    {
      "metadata": {
        "trusted": true
      },
      "cell_type": "code",
      "source": "pd.value_counts(mask_mg)",
      "execution_count": 179,
      "outputs": [
        {
          "output_type": "execute_result",
          "execution_count": 179,
          "data": {
            "text/plain": "False    76302\nTrue      8000\ndtype: int64"
          },
          "metadata": {}
        }
      ]
    },
    {
      "metadata": {
        "trusted": true
      },
      "cell_type": "code",
      "source": "",
      "execution_count": null,
      "outputs": []
    },
    {
      "metadata": {
        "trusted": true
      },
      "cell_type": "code",
      "source": "# MG offer flag\ndf_null['MG_OFFER'] = 0",
      "execution_count": 180,
      "outputs": []
    },
    {
      "metadata": {
        "trusted": true
      },
      "cell_type": "code",
      "source": "df_null['MG_OFFER'][mask_mg] = 1",
      "execution_count": 181,
      "outputs": [
        {
          "output_type": "stream",
          "text": "/home/nbuser/anaconda3_420/lib/python3.5/site-packages/ipykernel/__main__.py:1: SettingWithCopyWarning: \nA value is trying to be set on a copy of a slice from a DataFrame\n\nSee the caveats in the documentation: http://pandas.pydata.org/pandas-docs/stable/indexing.html#indexing-view-versus-copy\n  if __name__ == '__main__':\n",
          "name": "stderr"
        }
      ]
    },
    {
      "metadata": {
        "trusted": true
      },
      "cell_type": "code",
      "source": "pd.value_counts(df_null['MG_OFFER'])",
      "execution_count": 182,
      "outputs": [
        {
          "output_type": "execute_result",
          "execution_count": 182,
          "data": {
            "text/plain": "0    76302\n1     8000\nName: MG_OFFER, dtype: int64"
          },
          "metadata": {}
        }
      ]
    },
    {
      "metadata": {
        "trusted": true
      },
      "cell_type": "code",
      "source": "pd.value_counts(df_null['CLUSTER_NR'][df_null['MG_OFFER']==1])",
      "execution_count": 183,
      "outputs": [
        {
          "output_type": "execute_result",
          "execution_count": 183,
          "data": {
            "text/plain": "8     2439\n5     1696\n0      827\n10     737\n4      665\n11     572\n6      264\n13     200\n2      153\n3      144\n12     139\n14      99\n9       39\n7       17\n1        9\nName: CLUSTER_NR, dtype: int64"
          },
          "metadata": {}
        }
      ]
    },
    {
      "metadata": {
        "trusted": true
      },
      "cell_type": "code",
      "source": "df_null[(df_null['MG_OFFER']==1) & (df_null[\"CAT_CNT_MG\"]==1)]",
      "execution_count": 184,
      "outputs": [
        {
          "output_type": "execute_result",
          "execution_count": 184,
          "data": {
            "text/plain": "Empty DataFrame\nColumns: [Customer_ID, AGE_MONTHS, SECTOR, CUSTOMER_ECO_BRANCH, MARITAL_STATUS, GENDER, CUSTOMER_CATEGORY, CUSTOMER_TYPE, AT_LEAST_ONE_ACTIVE, AVG_DEPOSITS_minus_LOANS, BAL_AVG_AL_PROMOTION, BAL_AVG_AL_STANDARD, BAL_AVG_CA_PAYROLL, BAL_AVG_CA_STANDARD, BAL_AVG_CC_MASTERCARD_GOLD, BAL_AVG_CC_MASTERCARD_PLATINUM, BAL_AVG_CC_MASTERCARD_STANDARD, BAL_AVG_CC_VISA_ELECTRON, BAL_AVG_CC_VISA_GOLD, BAL_AVG_CC_VISA_PLATINUM, BAL_AVG_MG_NEW_HOUSE, BAL_AVG_MG_RENOVATION, BAL_AVG_OVD, BAL_AVG_PL_F_NON_SEC, BAL_AVG_PL_F_SEC, BAL_AVG_PL_V, BAL_AVG_SA, BAL_AVG_TD_LT, BAL_AVG_TD_ST, BAL_CNT_CREDIT, BAL_CNT_DEBIT, BAL_SUM_ACTIVE, BAL_SUM_CREDIT, BAL_SUM_DEBIT, BAL_SUM_NOT_ACTIVE, BAL_SUM_NO_RESTR, BAL_SUM_RESTR, CAT_BAL_AL, CAT_BAL_CA, CAT_BAL_CC, CAT_BAL_MG, CAT_BAL_OVD, CAT_BAL_PL, CAT_BAL_SA, CAT_BAL_TD, CAT_CLT_AL, CAT_CLT_CC, CAT_CLT_MG, CAT_CLT_OVD, CAT_CLT_PL, CAT_CNT_AL, CAT_CNT_CA, CAT_CNT_CC, CAT_CNT_MG, CAT_CNT_OVD, CAT_CNT_PL, CAT_CNT_SA, CAT_CNT_TD, CAT_FLAG_AL, CAT_FLAG_CA, CAT_FLAG_CC, CAT_FLAG_MG, CAT_FLAG_OVD, CAT_FLAG_PL, CAT_FLAG_SA, CAT_FLAG_TD, CC_BAL_SUM_ACTIVE, CC_BAL_SUM_BLOCKED, CC_BAL_SUM_CANCELLED, CC_BAL_SUM_NOT_ACTIVE, CC_CLT_SUM_ACTIVE, CC_CLT_SUM_BLOCKED, CC_CLT_SUM_CANCELLED, CC_CLT_SUM_NOT_ACTIVE, CC_CNT_ACTIVE, CC_CNT_BLOCKED, CC_CNT_CANCELLED, CC_CNT_NOT_ACTIVE, CLT_AL_PROMOTION, CLT_AL_STANDARD, CLT_CC_MASTERCARD_GOLD, CLT_CC_MASTERCARD_PLATINUM, CLT_CC_MASTERCARD_STANDARD, CLT_CC_VISA_ELECTRON, CLT_CC_VISA_GOLD, CLT_CC_VISA_PLATINUM, CLT_MG_NEW_HOUSE, CLT_MG_RENOVATION, CLT_OVD, CLT_PL_F_NON_SEC, CLT_PL_F_SEC, CLT_PL_V, CLT_SUM_NO_RESTR, CLT_SUM_RESTR, CNT_ACTIVE, CNT_AL_PROMOTION, CNT_AL_STANDARD, CNT_CA_PAYROLL, CNT_CA_STANDARD, CNT_CC_MASTERCARD_GOLD, ...]\nIndex: []\n\n[0 rows x 279 columns]",
            "text/html": "<div>\n<style scoped>\n    .dataframe tbody tr th:only-of-type {\n        vertical-align: middle;\n    }\n\n    .dataframe tbody tr th {\n        vertical-align: top;\n    }\n\n    .dataframe thead th {\n        text-align: right;\n    }\n</style>\n<table border=\"1\" class=\"dataframe\">\n  <thead>\n    <tr style=\"text-align: right;\">\n      <th></th>\n      <th>Customer_ID</th>\n      <th>AGE_MONTHS</th>\n      <th>SECTOR</th>\n      <th>CUSTOMER_ECO_BRANCH</th>\n      <th>MARITAL_STATUS</th>\n      <th>GENDER</th>\n      <th>CUSTOMER_CATEGORY</th>\n      <th>CUSTOMER_TYPE</th>\n      <th>AT_LEAST_ONE_ACTIVE</th>\n      <th>AVG_DEPOSITS_minus_LOANS</th>\n      <th>...</th>\n      <th>TOTAL_SAVING_CNT</th>\n      <th>TOTAL_TNAM</th>\n      <th>CLOSED_MONTHS_MIN</th>\n      <th>DC_MATURE_MONTHS_MAX</th>\n      <th>MATURE_MONTHS_MAX</th>\n      <th>MATURE_MONTHS_MIN</th>\n      <th>MONTHS_TILL_EXP_MAX</th>\n      <th>MONTHS_TILL_EXP_MIN</th>\n      <th>CLUSTER_NR</th>\n      <th>MG_OFFER</th>\n    </tr>\n  </thead>\n  <tbody>\n  </tbody>\n</table>\n<p>0 rows × 279 columns</p>\n</div>"
          },
          "metadata": {}
        }
      ]
    },
    {
      "metadata": {
        "trusted": true
      },
      "cell_type": "code",
      "source": "",
      "execution_count": null,
      "outputs": []
    },
    {
      "metadata": {
        "trusted": true
      },
      "cell_type": "code",
      "source": "df_to_blob = df_null[['Customer_ID', 'MG_OFFER']]",
      "execution_count": 185,
      "outputs": []
    },
    {
      "metadata": {
        "trusted": true
      },
      "cell_type": "code",
      "source": "df_to_blob.shape",
      "execution_count": 186,
      "outputs": [
        {
          "output_type": "execute_result",
          "execution_count": 186,
          "data": {
            "text/plain": "(84302, 2)"
          },
          "metadata": {}
        }
      ]
    },
    {
      "metadata": {
        "trusted": true
      },
      "cell_type": "code",
      "source": "def write_pandas_dataframe_to_blob(blob_service, df, container_name, blob_name):\n    \"\"\" Write Pandas dataframe to blob storage \"\"\"\n    buffer = BytesIO()\n    df.to_parquet(buffer)\n    blob_service.create_blob_from_bytes(\n        container_name=container_name, blob_name=blob_name, blob=buffer.getvalue()\n    )",
      "execution_count": 187,
      "outputs": []
    },
    {
      "metadata": {
        "trusted": true
      },
      "cell_type": "code",
      "source": "write_to_blob_parquet = 'ailiev/MG_Offer_6.parquet.gzip'",
      "execution_count": 188,
      "outputs": []
    },
    {
      "metadata": {
        "trusted": true
      },
      "cell_type": "code",
      "source": "# Write to blob using pyarrow\nwrite_pandas_dataframe_to_blob(blob_service, df_to_blob, 'banking-dm', write_to_blob_parquet)",
      "execution_count": 189,
      "outputs": []
    },
    {
      "metadata": {
        "trusted": true
      },
      "cell_type": "code",
      "source": "",
      "execution_count": null,
      "outputs": []
    }
  ],
  "metadata": {
    "kernelspec": {
      "name": "python3",
      "display_name": "Python 3",
      "language": "python"
    },
    "language_info": {
      "mimetype": "text/x-python",
      "nbconvert_exporter": "python",
      "name": "python",
      "pygments_lexer": "ipython3",
      "version": "3.5.4",
      "file_extension": ".py",
      "codemirror_mode": {
        "version": 3,
        "name": "ipython"
      }
    }
  },
  "nbformat": 4,
  "nbformat_minor": 2
}