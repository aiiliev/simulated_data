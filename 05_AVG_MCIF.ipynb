{
  "cells": [
    {
      "metadata": {
        "trusted": true
      },
      "cell_type": "code",
      "source": "!pip install --upgrade pandas",
      "execution_count": 1,
      "outputs": [
        {
          "output_type": "stream",
          "text": "Requirement already up-to-date: pandas in /home/nbuser/anaconda3_420/lib/python3.5/site-packages (0.24.2)\nRequirement already satisfied, skipping upgrade: pytz>=2011k in /home/nbuser/anaconda3_420/lib/python3.5/site-packages (from pandas) (2016.6.1)\nRequirement already satisfied, skipping upgrade: numpy>=1.12.0 in /home/nbuser/anaconda3_420/lib/python3.5/site-packages (from pandas) (1.16.3)\nRequirement already satisfied, skipping upgrade: python-dateutil>=2.5.0 in /home/nbuser/anaconda3_420/lib/python3.5/site-packages (from pandas) (2.7.5)\nRequirement already satisfied, skipping upgrade: six>=1.5 in /home/nbuser/anaconda3_420/lib/python3.5/site-packages (from python-dateutil>=2.5.0->pandas) (1.11.0)\n\u001b[33mWARNING: You are using pip version 19.1, however version 19.1.1 is available.\nYou should consider upgrading via the 'pip install --upgrade pip' command.\u001b[0m\n",
          "name": "stdout"
        }
      ]
    },
    {
      "metadata": {
        "trusted": true
      },
      "cell_type": "code",
      "source": "!pip install pyarrow",
      "execution_count": 2,
      "outputs": [
        {
          "output_type": "stream",
          "text": "Requirement already satisfied: pyarrow in /home/nbuser/anaconda3_420/lib/python3.5/site-packages (0.13.0)\nRequirement already satisfied: numpy>=1.14 in /home/nbuser/anaconda3_420/lib/python3.5/site-packages (from pyarrow) (1.16.3)\nRequirement already satisfied: six>=1.0.0 in /home/nbuser/anaconda3_420/lib/python3.5/site-packages (from pyarrow) (1.11.0)\n\u001b[33mWARNING: You are using pip version 19.1, however version 19.1.1 is available.\nYou should consider upgrading via the 'pip install --upgrade pip' command.\u001b[0m\n",
          "name": "stdout"
        }
      ]
    },
    {
      "metadata": {
        "trusted": true
      },
      "cell_type": "code",
      "source": "import pandas as pd\nimport numpy as np\nfrom numpy import nan as NA\nimport os\nimport gc\nfrom pandas.tseries.offsets import MonthEnd\n\nfrom azure.storage.blob import BlockBlobService\nimport pyarrow.parquet as pq\nfrom io import StringIO\nfrom io import BytesIO",
      "execution_count": 3,
      "outputs": []
    },
    {
      "metadata": {
        "trusted": true
      },
      "cell_type": "code",
      "source": "YearMonth = '2018-06-01'",
      "execution_count": 4,
      "outputs": []
    },
    {
      "metadata": {
        "trusted": true
      },
      "cell_type": "code",
      "source": "",
      "execution_count": null,
      "outputs": []
    },
    {
      "metadata": {
        "trusted": true
      },
      "cell_type": "code",
      "source": "#Azure account credentials\nazure_storage_account_name = \"agedatasciencecocstorage\"\nazure_storage_account_key = \"V/FXG+lIWtYc854wbRA8BxGCLGJijS0NDwLvNHfmAxqRopAL3WHWGIQoHxpArG9lZoX+iY+dvtPYoB379w4MIw==\"\n\nif azure_storage_account_name is None or azure_storage_account_key is None:\n    raise Exception(\"You must provide a name and key for an Azure Storage account\")",
      "execution_count": 5,
      "outputs": []
    },
    {
      "metadata": {
        "trusted": true
      },
      "cell_type": "code",
      "source": "# First, we need to connect to our blob via the BlobService\nblob_service = BlockBlobService(azure_storage_account_name, azure_storage_account_key)\n# There are also methods to list containers and blobs\n#containers = blob_service.list_containers()\nblobs = blob_service.list_blobs('banking-dm')",
      "execution_count": 6,
      "outputs": []
    },
    {
      "metadata": {
        "trusted": true
      },
      "cell_type": "code",
      "source": "# List the blobs in the container.\nprint(\"\\nList blobs in the container\")\n#generator = block_blob_service.list_blobs(container_name)\nfor blob in blobs:\n    print(\"\\t Blob name: \" + blob.name)",
      "execution_count": 7,
      "outputs": [
        {
          "output_type": "stream",
          "text": "\nList blobs in the container\n\t Blob name: ailiev/Balances_Master_2018-01-01.parquet.gzip\n\t Blob name: ailiev/Balances_Master_2018-02-01.parquet.gzip\n\t Blob name: ailiev/Balances_Master_2018-03-01.parquet.gzip\n\t Blob name: ailiev/Balances_Master_2018-04-01.parquet.gzip\n\t Blob name: ailiev/Balances_Master_2018-05-01.parquet.gzip\n\t Blob name: ailiev/Balances_Master_2018-06-01.parquet.gzip\n\t Blob name: ailiev/MCIF_2018-01-01.parquet.gzip\n\t Blob name: ailiev/MCIF_2018-02-01.parquet.gzip\n\t Blob name: ailiev/MCIF_2018-03-01.parquet.gzip\n\t Blob name: ailiev/MCIF_2018-04-01.parquet.gzip\n\t Blob name: ailiev/MCIF_2018-05-01.parquet.gzip\n\t Blob name: ailiev/MCIF_2018-06-01.parquet.gzip\n\t Blob name: ailiev/Transactions_Master_2018-01-01.parquet.gzip\n\t Blob name: ailiev/Transactions_Master_2018-02-01.parquet.gzip\n\t Blob name: ailiev/Transactions_Master_2018-03-01.parquet.gzip\n\t Blob name: ailiev/Transactions_Master_2018-04-01.parquet.gzip\n\t Blob name: ailiev/Transactions_Master_2018-05-01.parquet.gzip\n\t Blob name: ailiev/Transactions_Master_2018-06-01.parquet.gzip\n\t Blob name: ailiev/sample.csv\n\t Blob name: ailiev/sample.txt\n\t Blob name: data/Customer_economic_sector_lookup.csv\n\t Blob name: data/Customer_information_2018-01-01.parquet.gzip\n\t Blob name: data/Customer_information_2018-02-01.parquet.gzip\n\t Blob name: data/Customer_information_2018-03-01.parquet.gzip\n\t Blob name: data/Customer_information_2018-04-01.parquet.gzip\n\t Blob name: data/Customer_information_2018-05-01.parquet.gzip\n\t Blob name: data/Customer_information_2018-06-01.parquet.gzip\n\t Blob name: data/Monthly_Balance_2018-01-01.parquet.gzip\n\t Blob name: data/Monthly_Balance_2018-02-01.parquet.gzip\n\t Blob name: data/Monthly_Balance_2018-03-01.parquet.gzip\n\t Blob name: data/Monthly_Balance_2018-04-01.parquet.gzip\n\t Blob name: data/Monthly_Balance_2018-05-01.parquet.gzip\n\t Blob name: data/Monthly_Balance_2018-06-01.parquet.gzip\n\t Blob name: data/Ownership_2018-01-01.parquet.gzip\n\t Blob name: data/Ownership_2018-02-01.parquet.gzip\n\t Blob name: data/Ownership_2018-03-01.parquet.gzip\n\t Blob name: data/Ownership_2018-04-01.parquet.gzip\n\t Blob name: data/Ownership_2018-05-01.parquet.gzip\n\t Blob name: data/Ownership_2018-06-01.parquet.gzip\n\t Blob name: data/Product_lookup.csv\n\t Blob name: data/Transactions_2018-01-01.parquet.gzip\n\t Blob name: data/Transactions_2018-02-01.parquet.gzip\n\t Blob name: data/Transactions_2018-03-01.parquet.gzip\n\t Blob name: data/Transactions_2018-04-01.parquet.gzip\n\t Blob name: data/Transactions_2018-05-01.parquet.gzip\n\t Blob name: data/Transactions_2018-06-01.parquet.gzip\n\t Blob name: data/transaction_codes_lookup.csv\n\t Blob name: testdata/Loans2015.csv\n\t Blob name: testdata/Loans2015.parquet.gzip\n",
          "name": "stdout"
        }
      ]
    },
    {
      "metadata": {},
      "cell_type": "markdown",
      "source": "### Read Data"
    },
    {
      "metadata": {
        "trusted": true
      },
      "cell_type": "code",
      "source": "container_name = \"banking-dm\"\n# blob_name_parquet = 'data/Customer_information_' + YearMonth + '.parquet.gzip'",
      "execution_count": 8,
      "outputs": []
    },
    {
      "metadata": {
        "trusted": true
      },
      "cell_type": "code",
      "source": "for i in range(1, 4):\n    print(i)\n    blob_name_parquet = 'ailiev/MCIF_2018-0' + str(i) + '-01.parquet.gzip'\n    byte_stream = BytesIO()\n    try:\n       blob_service.get_blob_to_stream(container_name=container_name, blob_name=blob_name_parquet, stream=byte_stream)\n       file = pq.read_table(source=byte_stream).to_pandas()\n       # Do work on df ...\n    finally:\n       # Add finally block to ensure closure of the stream\n       byte_stream.close()\n    if i==1:\n        df = file\n    else:\n        df = pd.concat([df, file], ignore_index=True)\n    del file\n    gc.collect()",
      "execution_count": 9,
      "outputs": [
        {
          "output_type": "stream",
          "text": "1\n2\n3\n",
          "name": "stdout"
        }
      ]
    },
    {
      "metadata": {
        "trusted": true
      },
      "cell_type": "code",
      "source": "df.shape",
      "execution_count": 10,
      "outputs": [
        {
          "output_type": "execute_result",
          "execution_count": 10,
          "data": {
            "text/plain": "(300358, 278)"
          },
          "metadata": {}
        }
      ]
    },
    {
      "metadata": {
        "trusted": true
      },
      "cell_type": "code",
      "source": "df.size",
      "execution_count": 11,
      "outputs": [
        {
          "output_type": "execute_result",
          "execution_count": 11,
          "data": {
            "text/plain": "83499524"
          },
          "metadata": {}
        }
      ]
    },
    {
      "metadata": {
        "trusted": true
      },
      "cell_type": "code",
      "source": "df.head()",
      "execution_count": 12,
      "outputs": [
        {
          "output_type": "execute_result",
          "execution_count": 12,
          "data": {
            "text/html": "<div>\n<style scoped>\n    .dataframe tbody tr th:only-of-type {\n        vertical-align: middle;\n    }\n\n    .dataframe tbody tr th {\n        vertical-align: top;\n    }\n\n    .dataframe thead th {\n        text-align: right;\n    }\n</style>\n<table border=\"1\" class=\"dataframe\">\n  <thead>\n    <tr style=\"text-align: right;\">\n      <th></th>\n      <th>YearMonth</th>\n      <th>Customer_ID</th>\n      <th>CUSTOMER_TYPE</th>\n      <th>CUSTOMER_CATEGORY</th>\n      <th>GENDER</th>\n      <th>MARITAL_STATUS</th>\n      <th>CUSTOMER_ECO_BRANCH</th>\n      <th>SECTOR</th>\n      <th>AGE_MONTHS</th>\n      <th>CNT_AL_PROMOTION</th>\n      <th>...</th>\n      <th>PCT_TNAM_DT</th>\n      <th>PCT_NUTN_CC</th>\n      <th>PCT_NUTN_DC</th>\n      <th>PCT_NUTN_LD</th>\n      <th>PCT_TNAM_CC</th>\n      <th>PCT_TNAM_DC</th>\n      <th>PCT_TNAM_LD</th>\n      <th>PCT_DAYS_TR_CC</th>\n      <th>PCT_DAYS_TR_DC</th>\n      <th>PCT_DAYS_TR_LD</th>\n    </tr>\n  </thead>\n  <tbody>\n    <tr>\n      <th>0</th>\n      <td>2018-01-01</td>\n      <td>1</td>\n      <td>Individual</td>\n      <td>None</td>\n      <td>F</td>\n      <td>Divorced</td>\n      <td>BR160</td>\n      <td>Arts and Communications</td>\n      <td>556</td>\n      <td>NaN</td>\n      <td>...</td>\n      <td>1.000000</td>\n      <td>NaN</td>\n      <td>0.320000</td>\n      <td>0.680000</td>\n      <td>NaN</td>\n      <td>0.332096</td>\n      <td>0.667904</td>\n      <td>NaN</td>\n      <td>0.333333</td>\n      <td>0.833333</td>\n    </tr>\n    <tr>\n      <th>1</th>\n      <td>2018-01-01</td>\n      <td>2</td>\n      <td>Professional</td>\n      <td>None</td>\n      <td>M</td>\n      <td>Married</td>\n      <td>BR09</td>\n      <td>Finance</td>\n      <td>518</td>\n      <td>NaN</td>\n      <td>...</td>\n      <td>1.000000</td>\n      <td>NaN</td>\n      <td>1.000000</td>\n      <td>NaN</td>\n      <td>NaN</td>\n      <td>1.000000</td>\n      <td>NaN</td>\n      <td>NaN</td>\n      <td>1.000000</td>\n      <td>NaN</td>\n    </tr>\n    <tr>\n      <th>2</th>\n      <td>2018-01-01</td>\n      <td>3</td>\n      <td>Individual</td>\n      <td>None</td>\n      <td>M</td>\n      <td>Married</td>\n      <td>BR145</td>\n      <td>Manufacturing</td>\n      <td>308</td>\n      <td>NaN</td>\n      <td>...</td>\n      <td>0.678937</td>\n      <td>NaN</td>\n      <td>0.387097</td>\n      <td>0.612903</td>\n      <td>NaN</td>\n      <td>0.220054</td>\n      <td>0.779946</td>\n      <td>NaN</td>\n      <td>0.476190</td>\n      <td>0.714286</td>\n    </tr>\n    <tr>\n      <th>3</th>\n      <td>2018-01-01</td>\n      <td>4</td>\n      <td>Small Business</td>\n      <td>Retail</td>\n      <td>None</td>\n      <td>None</td>\n      <td>BR14</td>\n      <td>Health and Science</td>\n      <td>482</td>\n      <td>NaN</td>\n      <td>...</td>\n      <td>0.870951</td>\n      <td>NaN</td>\n      <td>0.968750</td>\n      <td>0.031250</td>\n      <td>NaN</td>\n      <td>0.870951</td>\n      <td>0.129049</td>\n      <td>NaN</td>\n      <td>1.000000</td>\n      <td>0.050000</td>\n    </tr>\n    <tr>\n      <th>4</th>\n      <td>2018-01-01</td>\n      <td>5</td>\n      <td>Individual</td>\n      <td>None</td>\n      <td>M</td>\n      <td>Single</td>\n      <td>BR171</td>\n      <td>Agriculture and Food</td>\n      <td>475</td>\n      <td>NaN</td>\n      <td>...</td>\n      <td>1.000000</td>\n      <td>1.0</td>\n      <td>NaN</td>\n      <td>NaN</td>\n      <td>1.0</td>\n      <td>NaN</td>\n      <td>NaN</td>\n      <td>1.0</td>\n      <td>NaN</td>\n      <td>NaN</td>\n    </tr>\n  </tbody>\n</table>\n<p>5 rows × 278 columns</p>\n</div>",
            "text/plain": "    YearMonth  Customer_ID   CUSTOMER_TYPE CUSTOMER_CATEGORY GENDER  \\\n0  2018-01-01            1      Individual              None      F   \n1  2018-01-01            2    Professional              None      M   \n2  2018-01-01            3      Individual              None      M   \n3  2018-01-01            4  Small Business            Retail   None   \n4  2018-01-01            5      Individual              None      M   \n\n  MARITAL_STATUS CUSTOMER_ECO_BRANCH                   SECTOR  AGE_MONTHS  \\\n0       Divorced               BR160  Arts and Communications         556   \n1        Married                BR09                  Finance         518   \n2        Married               BR145            Manufacturing         308   \n3           None                BR14       Health and Science         482   \n4         Single               BR171     Agriculture and Food         475   \n\n   CNT_AL_PROMOTION  ...  PCT_TNAM_DT  PCT_NUTN_CC  PCT_NUTN_DC  PCT_NUTN_LD  \\\n0               NaN  ...     1.000000          NaN     0.320000     0.680000   \n1               NaN  ...     1.000000          NaN     1.000000          NaN   \n2               NaN  ...     0.678937          NaN     0.387097     0.612903   \n3               NaN  ...     0.870951          NaN     0.968750     0.031250   \n4               NaN  ...     1.000000          1.0          NaN          NaN   \n\n   PCT_TNAM_CC  PCT_TNAM_DC  PCT_TNAM_LD  PCT_DAYS_TR_CC  PCT_DAYS_TR_DC  \\\n0          NaN     0.332096     0.667904             NaN        0.333333   \n1          NaN     1.000000          NaN             NaN        1.000000   \n2          NaN     0.220054     0.779946             NaN        0.476190   \n3          NaN     0.870951     0.129049             NaN        1.000000   \n4          1.0          NaN          NaN             1.0             NaN   \n\n   PCT_DAYS_TR_LD  \n0        0.833333  \n1             NaN  \n2        0.714286  \n3        0.050000  \n4             NaN  \n\n[5 rows x 278 columns]"
          },
          "metadata": {}
        }
      ]
    },
    {
      "metadata": {
        "trusted": true
      },
      "cell_type": "code",
      "source": "# df[df['YearMonth']=='2018-02-01'].head()",
      "execution_count": 13,
      "outputs": []
    },
    {
      "metadata": {
        "trusted": true
      },
      "cell_type": "code",
      "source": "#aggreg_prod = pd.pivot_table(df, index=['Customer_ID'])",
      "execution_count": 14,
      "outputs": []
    },
    {
      "metadata": {
        "trusted": true
      },
      "cell_type": "code",
      "source": "#aggreg_prod.head()",
      "execution_count": 15,
      "outputs": []
    },
    {
      "metadata": {
        "trusted": true
      },
      "cell_type": "code",
      "source": "#aggreg_prod.shape",
      "execution_count": 16,
      "outputs": []
    },
    {
      "metadata": {
        "trusted": true
      },
      "cell_type": "code",
      "source": "#sample= df[(df['Customer_ID']<=5) | (df['Customer_ID']>=100140)]",
      "execution_count": 17,
      "outputs": []
    },
    {
      "metadata": {
        "trusted": true
      },
      "cell_type": "code",
      "source": "# output = StringIO()\n# output = sample.to_csv (index_label=\"idx\", encoding = \"utf-8\")\n# blob_service.create_blob_from_text('banking-dm', 'ailiev/sample.csv', output)",
      "execution_count": 18,
      "outputs": []
    },
    {
      "metadata": {
        "trusted": true
      },
      "cell_type": "code",
      "source": "",
      "execution_count": null,
      "outputs": []
    },
    {
      "metadata": {
        "trusted": true
      },
      "cell_type": "code",
      "source": "",
      "execution_count": null,
      "outputs": []
    },
    {
      "metadata": {},
      "cell_type": "markdown",
      "source": "### Aggregation"
    },
    {
      "metadata": {
        "trusted": true
      },
      "cell_type": "code",
      "source": "demographic_columns = ['YearMonth', 'CUSTOMER_TYPE', 'CUSTOMER_CATEGORY', 'GENDER', 'MARITAL_STATUS', 'CUSTOMER_ECO_BRANCH', 'SECTOR', 'AGE_MONTHS']",
      "execution_count": 19,
      "outputs": []
    },
    {
      "metadata": {
        "trusted": true
      },
      "cell_type": "code",
      "source": "columns_to_aggregate = [col for col in df.columns if col not in demographic_columns]",
      "execution_count": 20,
      "outputs": []
    },
    {
      "metadata": {
        "trusted": true
      },
      "cell_type": "code",
      "source": "#columns_to_aggregate",
      "execution_count": 21,
      "outputs": []
    },
    {
      "metadata": {
        "trusted": true
      },
      "cell_type": "code",
      "source": "not_avg_cols = ['CLOSED_MONTHS_MIN', 'DC_MATURE_MONTHS_MAX', 'MATURE_MONTHS_MAX', 'MATURE_MONTHS_MIN', 'MONTHS_TILL_EXP_MAX', 'MONTHS_TILL_EXP_MIN']",
      "execution_count": 22,
      "outputs": []
    },
    {
      "metadata": {
        "trusted": true
      },
      "cell_type": "code",
      "source": "avg_cols = [col for col in columns_to_aggregate if col not in not_avg_cols]",
      "execution_count": 23,
      "outputs": []
    },
    {
      "metadata": {
        "trusted": true
      },
      "cell_type": "code",
      "source": "len(avg_cols)",
      "execution_count": 24,
      "outputs": [
        {
          "output_type": "execute_result",
          "execution_count": 24,
          "data": {
            "text/plain": "264"
          },
          "metadata": {}
        }
      ]
    },
    {
      "metadata": {
        "trusted": true
      },
      "cell_type": "code",
      "source": "len(columns_to_aggregate)",
      "execution_count": 25,
      "outputs": [
        {
          "output_type": "execute_result",
          "execution_count": 25,
          "data": {
            "text/plain": "270"
          },
          "metadata": {}
        }
      ]
    },
    {
      "metadata": {
        "trusted": true
      },
      "cell_type": "code",
      "source": "# df = df[columns_to_aggregate]",
      "execution_count": 26,
      "outputs": []
    },
    {
      "metadata": {
        "trusted": true
      },
      "cell_type": "code",
      "source": "df.shape",
      "execution_count": 27,
      "outputs": [
        {
          "output_type": "execute_result",
          "execution_count": 27,
          "data": {
            "text/plain": "(300358, 278)"
          },
          "metadata": {}
        }
      ]
    },
    {
      "metadata": {
        "trusted": true
      },
      "cell_type": "code",
      "source": "# [avg_cols]: [np.mean]",
      "execution_count": 28,
      "outputs": []
    },
    {
      "metadata": {
        "trusted": true
      },
      "cell_type": "code",
      "source": "aggregated_avg = pd.pivot_table(df[avg_cols], index=['Customer_ID'])",
      "execution_count": 29,
      "outputs": []
    },
    {
      "metadata": {
        "trusted": true
      },
      "cell_type": "code",
      "source": "aggregated_avg.reset_index(inplace=True)\naggregated_avg.head()",
      "execution_count": 30,
      "outputs": [
        {
          "output_type": "execute_result",
          "execution_count": 30,
          "data": {
            "text/html": "<div>\n<style scoped>\n    .dataframe tbody tr th:only-of-type {\n        vertical-align: middle;\n    }\n\n    .dataframe tbody tr th {\n        vertical-align: top;\n    }\n\n    .dataframe thead th {\n        text-align: right;\n    }\n</style>\n<table border=\"1\" class=\"dataframe\">\n  <thead>\n    <tr style=\"text-align: right;\">\n      <th></th>\n      <th>Customer_ID</th>\n      <th>AT_LEAST_ONE_ACTIVE</th>\n      <th>AVG_DEPOSITS_minus_LOANS</th>\n      <th>BAL_AVG_AL_PROMOTION</th>\n      <th>BAL_AVG_AL_STANDARD</th>\n      <th>BAL_AVG_CA_PAYROLL</th>\n      <th>BAL_AVG_CA_STANDARD</th>\n      <th>BAL_AVG_CC_MASTERCARD_GOLD</th>\n      <th>BAL_AVG_CC_MASTERCARD_PLATINUM</th>\n      <th>BAL_AVG_CC_MASTERCARD_STANDARD</th>\n      <th>...</th>\n      <th>TNAM_LD_TRANSFERS</th>\n      <th>TNAM_LD_WITHDRAWALS</th>\n      <th>TOTAL_DIFF_CAT</th>\n      <th>TOTAL_LOANS_BAL</th>\n      <th>TOTAL_LOANS_CNT</th>\n      <th>TOTAL_NUTN</th>\n      <th>TOTAL_PRODUCTS</th>\n      <th>TOTAL_SAVING_BAL</th>\n      <th>TOTAL_SAVING_CNT</th>\n      <th>TOTAL_TNAM</th>\n    </tr>\n  </thead>\n  <tbody>\n    <tr>\n      <th>0</th>\n      <td>1</td>\n      <td>0.666667</td>\n      <td>157.725083</td>\n      <td>NaN</td>\n      <td>NaN</td>\n      <td>NaN</td>\n      <td>56.707875</td>\n      <td>NaN</td>\n      <td>NaN</td>\n      <td>NaN</td>\n      <td>...</td>\n      <td>337.517500</td>\n      <td>374.835</td>\n      <td>2.0</td>\n      <td>-119.919833</td>\n      <td>1.0</td>\n      <td>24.000000</td>\n      <td>2.0</td>\n      <td>37.805250</td>\n      <td>1.0</td>\n      <td>1026.335000</td>\n    </tr>\n    <tr>\n      <th>1</th>\n      <td>2</td>\n      <td>1.000000</td>\n      <td>0.000000</td>\n      <td>NaN</td>\n      <td>NaN</td>\n      <td>0.00000</td>\n      <td>NaN</td>\n      <td>NaN</td>\n      <td>NaN</td>\n      <td>NaN</td>\n      <td>...</td>\n      <td>0.000000</td>\n      <td>NaN</td>\n      <td>1.0</td>\n      <td>0.000000</td>\n      <td>0.0</td>\n      <td>1.000000</td>\n      <td>1.0</td>\n      <td>0.000000</td>\n      <td>1.0</td>\n      <td>161.413333</td>\n    </tr>\n    <tr>\n      <th>2</th>\n      <td>3</td>\n      <td>1.000000</td>\n      <td>1616.158533</td>\n      <td>NaN</td>\n      <td>NaN</td>\n      <td>NaN</td>\n      <td>1616.158533</td>\n      <td>NaN</td>\n      <td>NaN</td>\n      <td>NaN</td>\n      <td>...</td>\n      <td>880.588333</td>\n      <td>1154.880</td>\n      <td>1.0</td>\n      <td>0.000000</td>\n      <td>0.0</td>\n      <td>36.666667</td>\n      <td>1.0</td>\n      <td>1616.158533</td>\n      <td>1.0</td>\n      <td>3606.596667</td>\n    </tr>\n    <tr>\n      <th>3</th>\n      <td>4</td>\n      <td>1.000000</td>\n      <td>-271.317717</td>\n      <td>NaN</td>\n      <td>NaN</td>\n      <td>312.92835</td>\n      <td>NaN</td>\n      <td>NaN</td>\n      <td>NaN</td>\n      <td>NaN</td>\n      <td>...</td>\n      <td>NaN</td>\n      <td>NaN</td>\n      <td>3.0</td>\n      <td>479.936617</td>\n      <td>3.0</td>\n      <td>38.000000</td>\n      <td>4.0</td>\n      <td>208.618900</td>\n      <td>1.0</td>\n      <td>3869.115000</td>\n    </tr>\n    <tr>\n      <th>4</th>\n      <td>5</td>\n      <td>1.000000</td>\n      <td>-836.073333</td>\n      <td>NaN</td>\n      <td>NaN</td>\n      <td>NaN</td>\n      <td>NaN</td>\n      <td>NaN</td>\n      <td>NaN</td>\n      <td>NaN</td>\n      <td>...</td>\n      <td>NaN</td>\n      <td>NaN</td>\n      <td>2.0</td>\n      <td>836.073333</td>\n      <td>1.0</td>\n      <td>31.333333</td>\n      <td>2.0</td>\n      <td>0.000000</td>\n      <td>1.0</td>\n      <td>1923.821667</td>\n    </tr>\n  </tbody>\n</table>\n<p>5 rows × 264 columns</p>\n</div>",
            "text/plain": "   Customer_ID  AT_LEAST_ONE_ACTIVE  AVG_DEPOSITS_minus_LOANS  \\\n0            1             0.666667                157.725083   \n1            2             1.000000                  0.000000   \n2            3             1.000000               1616.158533   \n3            4             1.000000               -271.317717   \n4            5             1.000000               -836.073333   \n\n   BAL_AVG_AL_PROMOTION  BAL_AVG_AL_STANDARD  BAL_AVG_CA_PAYROLL  \\\n0                   NaN                  NaN                 NaN   \n1                   NaN                  NaN             0.00000   \n2                   NaN                  NaN                 NaN   \n3                   NaN                  NaN           312.92835   \n4                   NaN                  NaN                 NaN   \n\n   BAL_AVG_CA_STANDARD  BAL_AVG_CC_MASTERCARD_GOLD  \\\n0            56.707875                         NaN   \n1                  NaN                         NaN   \n2          1616.158533                         NaN   \n3                  NaN                         NaN   \n4                  NaN                         NaN   \n\n   BAL_AVG_CC_MASTERCARD_PLATINUM  BAL_AVG_CC_MASTERCARD_STANDARD  ...  \\\n0                             NaN                             NaN  ...   \n1                             NaN                             NaN  ...   \n2                             NaN                             NaN  ...   \n3                             NaN                             NaN  ...   \n4                             NaN                             NaN  ...   \n\n   TNAM_LD_TRANSFERS  TNAM_LD_WITHDRAWALS  TOTAL_DIFF_CAT  TOTAL_LOANS_BAL  \\\n0         337.517500              374.835             2.0      -119.919833   \n1           0.000000                  NaN             1.0         0.000000   \n2         880.588333             1154.880             1.0         0.000000   \n3                NaN                  NaN             3.0       479.936617   \n4                NaN                  NaN             2.0       836.073333   \n\n   TOTAL_LOANS_CNT  TOTAL_NUTN  TOTAL_PRODUCTS  TOTAL_SAVING_BAL  \\\n0              1.0   24.000000             2.0         37.805250   \n1              0.0    1.000000             1.0          0.000000   \n2              0.0   36.666667             1.0       1616.158533   \n3              3.0   38.000000             4.0        208.618900   \n4              1.0   31.333333             2.0          0.000000   \n\n   TOTAL_SAVING_CNT   TOTAL_TNAM  \n0               1.0  1026.335000  \n1               1.0   161.413333  \n2               1.0  3606.596667  \n3               1.0  3869.115000  \n4               1.0  1923.821667  \n\n[5 rows x 264 columns]"
          },
          "metadata": {}
        }
      ]
    },
    {
      "metadata": {
        "trusted": true
      },
      "cell_type": "code",
      "source": "aggregated_avg.shape",
      "execution_count": 31,
      "outputs": [
        {
          "output_type": "execute_result",
          "execution_count": 31,
          "data": {
            "text/plain": "(100215, 264)"
          },
          "metadata": {}
        }
      ]
    },
    {
      "metadata": {
        "trusted": true
      },
      "cell_type": "code",
      "source": "aggregated_min_max = pd.pivot_table(df, index=['Customer_ID'], \n                             aggfunc={'CLOSED_MONTHS_MIN': min, \n                                      'MATURE_MONTHS_MIN': min, \n                                      'MONTHS_TILL_EXP_MIN': min,\n                                      'DC_MATURE_MONTHS_MAX': max, \n                                      'MATURE_MONTHS_MAX': max, \n                                      'MONTHS_TILL_EXP_MAX': max})",
      "execution_count": 32,
      "outputs": []
    },
    {
      "metadata": {
        "trusted": true
      },
      "cell_type": "code",
      "source": "aggregated_min_max.reset_index(inplace=True)\naggregated_min_max.head()",
      "execution_count": 33,
      "outputs": [
        {
          "output_type": "execute_result",
          "execution_count": 33,
          "data": {
            "text/html": "<div>\n<style scoped>\n    .dataframe tbody tr th:only-of-type {\n        vertical-align: middle;\n    }\n\n    .dataframe tbody tr th {\n        vertical-align: top;\n    }\n\n    .dataframe thead th {\n        text-align: right;\n    }\n</style>\n<table border=\"1\" class=\"dataframe\">\n  <thead>\n    <tr style=\"text-align: right;\">\n      <th></th>\n      <th>Customer_ID</th>\n      <th>CLOSED_MONTHS_MIN</th>\n      <th>DC_MATURE_MONTHS_MAX</th>\n      <th>MATURE_MONTHS_MAX</th>\n      <th>MATURE_MONTHS_MIN</th>\n      <th>MONTHS_TILL_EXP_MAX</th>\n      <th>MONTHS_TILL_EXP_MIN</th>\n    </tr>\n  </thead>\n  <tbody>\n    <tr>\n      <th>0</th>\n      <td>1</td>\n      <td>-1</td>\n      <td>-1</td>\n      <td>54</td>\n      <td>0</td>\n      <td>-1</td>\n      <td>-1</td>\n    </tr>\n    <tr>\n      <th>1</th>\n      <td>2</td>\n      <td>-1</td>\n      <td>59</td>\n      <td>215</td>\n      <td>213</td>\n      <td>-1</td>\n      <td>-1</td>\n    </tr>\n    <tr>\n      <th>2</th>\n      <td>3</td>\n      <td>-1</td>\n      <td>-1</td>\n      <td>229</td>\n      <td>227</td>\n      <td>-1</td>\n      <td>-1</td>\n    </tr>\n    <tr>\n      <th>3</th>\n      <td>4</td>\n      <td>-1</td>\n      <td>93</td>\n      <td>120</td>\n      <td>0</td>\n      <td>17</td>\n      <td>-18</td>\n    </tr>\n    <tr>\n      <th>4</th>\n      <td>5</td>\n      <td>-1</td>\n      <td>-1</td>\n      <td>171</td>\n      <td>68</td>\n      <td>2</td>\n      <td>-1</td>\n    </tr>\n  </tbody>\n</table>\n</div>",
            "text/plain": "   Customer_ID  CLOSED_MONTHS_MIN  DC_MATURE_MONTHS_MAX  MATURE_MONTHS_MAX  \\\n0            1                 -1                    -1                 54   \n1            2                 -1                    59                215   \n2            3                 -1                    -1                229   \n3            4                 -1                    93                120   \n4            5                 -1                    -1                171   \n\n   MATURE_MONTHS_MIN  MONTHS_TILL_EXP_MAX  MONTHS_TILL_EXP_MIN  \n0                  0                   -1                   -1  \n1                213                   -1                   -1  \n2                227                   -1                   -1  \n3                  0                   17                  -18  \n4                 68                    2                   -1  "
          },
          "metadata": {}
        }
      ]
    },
    {
      "metadata": {
        "trusted": true
      },
      "cell_type": "code",
      "source": "aggregated_min_max.shape",
      "execution_count": 34,
      "outputs": [
        {
          "output_type": "execute_result",
          "execution_count": 34,
          "data": {
            "text/plain": "(100215, 7)"
          },
          "metadata": {}
        }
      ]
    },
    {
      "metadata": {
        "trusted": true
      },
      "cell_type": "code",
      "source": "demographic_columns.append('Customer_ID')",
      "execution_count": 35,
      "outputs": []
    },
    {
      "metadata": {
        "trusted": true
      },
      "cell_type": "code",
      "source": "demographic_columns.reverse()",
      "execution_count": 36,
      "outputs": []
    },
    {
      "metadata": {
        "trusted": true
      },
      "cell_type": "code",
      "source": "#df[df['YearMonth']=='2018-02-01'][demographic_columns].head()",
      "execution_count": 37,
      "outputs": []
    },
    {
      "metadata": {
        "trusted": true
      },
      "cell_type": "code",
      "source": "avg_mcif = df[df['YearMonth']=='2018-03-01'][demographic_columns]",
      "execution_count": 38,
      "outputs": []
    },
    {
      "metadata": {
        "trusted": true
      },
      "cell_type": "code",
      "source": "del avg_mcif['YearMonth']",
      "execution_count": 39,
      "outputs": []
    },
    {
      "metadata": {
        "trusted": true
      },
      "cell_type": "code",
      "source": "avg_mcif.head()",
      "execution_count": 40,
      "outputs": [
        {
          "output_type": "execute_result",
          "execution_count": 40,
          "data": {
            "text/html": "<div>\n<style scoped>\n    .dataframe tbody tr th:only-of-type {\n        vertical-align: middle;\n    }\n\n    .dataframe tbody tr th {\n        vertical-align: top;\n    }\n\n    .dataframe thead th {\n        text-align: right;\n    }\n</style>\n<table border=\"1\" class=\"dataframe\">\n  <thead>\n    <tr style=\"text-align: right;\">\n      <th></th>\n      <th>Customer_ID</th>\n      <th>AGE_MONTHS</th>\n      <th>SECTOR</th>\n      <th>CUSTOMER_ECO_BRANCH</th>\n      <th>MARITAL_STATUS</th>\n      <th>GENDER</th>\n      <th>CUSTOMER_CATEGORY</th>\n      <th>CUSTOMER_TYPE</th>\n    </tr>\n  </thead>\n  <tbody>\n    <tr>\n      <th>200143</th>\n      <td>1</td>\n      <td>558</td>\n      <td>Arts and Communications</td>\n      <td>BR160</td>\n      <td>Divorced</td>\n      <td>F</td>\n      <td>None</td>\n      <td>Individual</td>\n    </tr>\n    <tr>\n      <th>200144</th>\n      <td>2</td>\n      <td>519</td>\n      <td>Finance</td>\n      <td>BR09</td>\n      <td>Married</td>\n      <td>M</td>\n      <td>None</td>\n      <td>Professional</td>\n    </tr>\n    <tr>\n      <th>200145</th>\n      <td>3</td>\n      <td>310</td>\n      <td>Manufacturing</td>\n      <td>BR145</td>\n      <td>Married</td>\n      <td>M</td>\n      <td>None</td>\n      <td>Individual</td>\n    </tr>\n    <tr>\n      <th>200146</th>\n      <td>4</td>\n      <td>484</td>\n      <td>Health and Science</td>\n      <td>BR14</td>\n      <td>None</td>\n      <td>None</td>\n      <td>Retail</td>\n      <td>Small Business</td>\n    </tr>\n    <tr>\n      <th>200147</th>\n      <td>5</td>\n      <td>477</td>\n      <td>Agriculture and Food</td>\n      <td>BR171</td>\n      <td>Single</td>\n      <td>M</td>\n      <td>None</td>\n      <td>Individual</td>\n    </tr>\n  </tbody>\n</table>\n</div>",
            "text/plain": "        Customer_ID  AGE_MONTHS                   SECTOR CUSTOMER_ECO_BRANCH  \\\n200143            1         558  Arts and Communications               BR160   \n200144            2         519                  Finance                BR09   \n200145            3         310            Manufacturing               BR145   \n200146            4         484       Health and Science                BR14   \n200147            5         477     Agriculture and Food               BR171   \n\n       MARITAL_STATUS GENDER CUSTOMER_CATEGORY   CUSTOMER_TYPE  \n200143       Divorced      F              None      Individual  \n200144        Married      M              None    Professional  \n200145        Married      M              None      Individual  \n200146           None   None            Retail  Small Business  \n200147         Single      M              None      Individual  "
          },
          "metadata": {}
        }
      ]
    },
    {
      "metadata": {
        "trusted": true
      },
      "cell_type": "code",
      "source": "avg_mcif = avg_mcif.merge(aggregated_avg, on='Customer_ID')",
      "execution_count": 41,
      "outputs": []
    },
    {
      "metadata": {
        "trusted": true
      },
      "cell_type": "code",
      "source": "avg_mcif = avg_mcif.merge(aggregated_min_max, on='Customer_ID')",
      "execution_count": 42,
      "outputs": []
    },
    {
      "metadata": {
        "trusted": true
      },
      "cell_type": "code",
      "source": "avg_mcif.shape",
      "execution_count": 43,
      "outputs": [
        {
          "output_type": "execute_result",
          "execution_count": 43,
          "data": {
            "text/plain": "(100215, 277)"
          },
          "metadata": {}
        }
      ]
    },
    {
      "metadata": {
        "trusted": true
      },
      "cell_type": "code",
      "source": "avg_mcif['AVG_PERIOD'] = '2018-01--2018-03'",
      "execution_count": 44,
      "outputs": []
    },
    {
      "metadata": {
        "trusted": true
      },
      "cell_type": "code",
      "source": "avg_mcif.head()",
      "execution_count": 45,
      "outputs": [
        {
          "output_type": "execute_result",
          "execution_count": 45,
          "data": {
            "text/html": "<div>\n<style scoped>\n    .dataframe tbody tr th:only-of-type {\n        vertical-align: middle;\n    }\n\n    .dataframe tbody tr th {\n        vertical-align: top;\n    }\n\n    .dataframe thead th {\n        text-align: right;\n    }\n</style>\n<table border=\"1\" class=\"dataframe\">\n  <thead>\n    <tr style=\"text-align: right;\">\n      <th></th>\n      <th>Customer_ID</th>\n      <th>AGE_MONTHS</th>\n      <th>SECTOR</th>\n      <th>CUSTOMER_ECO_BRANCH</th>\n      <th>MARITAL_STATUS</th>\n      <th>GENDER</th>\n      <th>CUSTOMER_CATEGORY</th>\n      <th>CUSTOMER_TYPE</th>\n      <th>AT_LEAST_ONE_ACTIVE</th>\n      <th>AVG_DEPOSITS_minus_LOANS</th>\n      <th>...</th>\n      <th>TOTAL_SAVING_BAL</th>\n      <th>TOTAL_SAVING_CNT</th>\n      <th>TOTAL_TNAM</th>\n      <th>CLOSED_MONTHS_MIN</th>\n      <th>DC_MATURE_MONTHS_MAX</th>\n      <th>MATURE_MONTHS_MAX</th>\n      <th>MATURE_MONTHS_MIN</th>\n      <th>MONTHS_TILL_EXP_MAX</th>\n      <th>MONTHS_TILL_EXP_MIN</th>\n      <th>AVG_PERIOD</th>\n    </tr>\n  </thead>\n  <tbody>\n    <tr>\n      <th>0</th>\n      <td>1</td>\n      <td>558</td>\n      <td>Arts and Communications</td>\n      <td>BR160</td>\n      <td>Divorced</td>\n      <td>F</td>\n      <td>None</td>\n      <td>Individual</td>\n      <td>0.666667</td>\n      <td>157.725083</td>\n      <td>...</td>\n      <td>37.805250</td>\n      <td>1.0</td>\n      <td>1026.335000</td>\n      <td>-1</td>\n      <td>-1</td>\n      <td>54</td>\n      <td>0</td>\n      <td>-1</td>\n      <td>-1</td>\n      <td>2018-01--2018-03</td>\n    </tr>\n    <tr>\n      <th>1</th>\n      <td>2</td>\n      <td>519</td>\n      <td>Finance</td>\n      <td>BR09</td>\n      <td>Married</td>\n      <td>M</td>\n      <td>None</td>\n      <td>Professional</td>\n      <td>1.000000</td>\n      <td>0.000000</td>\n      <td>...</td>\n      <td>0.000000</td>\n      <td>1.0</td>\n      <td>161.413333</td>\n      <td>-1</td>\n      <td>59</td>\n      <td>215</td>\n      <td>213</td>\n      <td>-1</td>\n      <td>-1</td>\n      <td>2018-01--2018-03</td>\n    </tr>\n    <tr>\n      <th>2</th>\n      <td>3</td>\n      <td>310</td>\n      <td>Manufacturing</td>\n      <td>BR145</td>\n      <td>Married</td>\n      <td>M</td>\n      <td>None</td>\n      <td>Individual</td>\n      <td>1.000000</td>\n      <td>1616.158533</td>\n      <td>...</td>\n      <td>1616.158533</td>\n      <td>1.0</td>\n      <td>3606.596667</td>\n      <td>-1</td>\n      <td>-1</td>\n      <td>229</td>\n      <td>227</td>\n      <td>-1</td>\n      <td>-1</td>\n      <td>2018-01--2018-03</td>\n    </tr>\n    <tr>\n      <th>3</th>\n      <td>4</td>\n      <td>484</td>\n      <td>Health and Science</td>\n      <td>BR14</td>\n      <td>None</td>\n      <td>None</td>\n      <td>Retail</td>\n      <td>Small Business</td>\n      <td>1.000000</td>\n      <td>-271.317717</td>\n      <td>...</td>\n      <td>208.618900</td>\n      <td>1.0</td>\n      <td>3869.115000</td>\n      <td>-1</td>\n      <td>93</td>\n      <td>120</td>\n      <td>0</td>\n      <td>17</td>\n      <td>-18</td>\n      <td>2018-01--2018-03</td>\n    </tr>\n    <tr>\n      <th>4</th>\n      <td>5</td>\n      <td>477</td>\n      <td>Agriculture and Food</td>\n      <td>BR171</td>\n      <td>Single</td>\n      <td>M</td>\n      <td>None</td>\n      <td>Individual</td>\n      <td>1.000000</td>\n      <td>-836.073333</td>\n      <td>...</td>\n      <td>0.000000</td>\n      <td>1.0</td>\n      <td>1923.821667</td>\n      <td>-1</td>\n      <td>-1</td>\n      <td>171</td>\n      <td>68</td>\n      <td>2</td>\n      <td>-1</td>\n      <td>2018-01--2018-03</td>\n    </tr>\n  </tbody>\n</table>\n<p>5 rows × 278 columns</p>\n</div>",
            "text/plain": "   Customer_ID  AGE_MONTHS                   SECTOR CUSTOMER_ECO_BRANCH  \\\n0            1         558  Arts and Communications               BR160   \n1            2         519                  Finance                BR09   \n2            3         310            Manufacturing               BR145   \n3            4         484       Health and Science                BR14   \n4            5         477     Agriculture and Food               BR171   \n\n  MARITAL_STATUS GENDER CUSTOMER_CATEGORY   CUSTOMER_TYPE  \\\n0       Divorced      F              None      Individual   \n1        Married      M              None    Professional   \n2        Married      M              None      Individual   \n3           None   None            Retail  Small Business   \n4         Single      M              None      Individual   \n\n   AT_LEAST_ONE_ACTIVE  AVG_DEPOSITS_minus_LOANS  ...  TOTAL_SAVING_BAL  \\\n0             0.666667                157.725083  ...         37.805250   \n1             1.000000                  0.000000  ...          0.000000   \n2             1.000000               1616.158533  ...       1616.158533   \n3             1.000000               -271.317717  ...        208.618900   \n4             1.000000               -836.073333  ...          0.000000   \n\n   TOTAL_SAVING_CNT   TOTAL_TNAM  CLOSED_MONTHS_MIN  DC_MATURE_MONTHS_MAX  \\\n0               1.0  1026.335000                 -1                    -1   \n1               1.0   161.413333                 -1                    59   \n2               1.0  3606.596667                 -1                    -1   \n3               1.0  3869.115000                 -1                    93   \n4               1.0  1923.821667                 -1                    -1   \n\n   MATURE_MONTHS_MAX  MATURE_MONTHS_MIN  MONTHS_TILL_EXP_MAX  \\\n0                 54                  0                   -1   \n1                215                213                   -1   \n2                229                227                   -1   \n3                120                  0                   17   \n4                171                 68                    2   \n\n   MONTHS_TILL_EXP_MIN        AVG_PERIOD  \n0                   -1  2018-01--2018-03  \n1                   -1  2018-01--2018-03  \n2                   -1  2018-01--2018-03  \n3                  -18  2018-01--2018-03  \n4                   -1  2018-01--2018-03  \n\n[5 rows x 278 columns]"
          },
          "metadata": {}
        }
      ]
    },
    {
      "metadata": {
        "trusted": true
      },
      "cell_type": "code",
      "source": "def write_pandas_dataframe_to_blob(blob_service, df, container_name, blob_name):\n    \"\"\" Write Pandas dataframe to blob storage \"\"\"\n    buffer = BytesIO()\n    df.to_parquet(buffer)\n    blob_service.create_blob_from_bytes(\n        container_name=container_name, blob_name=blob_name, blob=buffer.getvalue()\n    )",
      "execution_count": 46,
      "outputs": []
    },
    {
      "metadata": {
        "trusted": true
      },
      "cell_type": "code",
      "source": "write_to_blob_parquet = 'ailiev/3M_AVG_MCIF_2018-01__2018-03.parquet.gzip'",
      "execution_count": 47,
      "outputs": []
    },
    {
      "metadata": {
        "trusted": true
      },
      "cell_type": "code",
      "source": "# Write to blob using pyarrow\nwrite_pandas_dataframe_to_blob(blob_service, avg_mcif, 'banking-dm', write_to_blob_parquet)",
      "execution_count": 48,
      "outputs": []
    },
    {
      "metadata": {
        "trusted": true
      },
      "cell_type": "code",
      "source": "del avg_mcif\ngc.collect()",
      "execution_count": 49,
      "outputs": [
        {
          "output_type": "execute_result",
          "execution_count": 49,
          "data": {
            "text/plain": "29"
          },
          "metadata": {}
        }
      ]
    },
    {
      "metadata": {
        "trusted": true
      },
      "cell_type": "code",
      "source": "",
      "execution_count": null,
      "outputs": []
    }
  ],
  "metadata": {
    "kernelspec": {
      "name": "python3",
      "display_name": "Python 3",
      "language": "python"
    },
    "language_info": {
      "mimetype": "text/x-python",
      "nbconvert_exporter": "python",
      "name": "python",
      "file_extension": ".py",
      "version": "3.5.4",
      "pygments_lexer": "ipython3",
      "codemirror_mode": {
        "version": 3,
        "name": "ipython"
      }
    }
  },
  "nbformat": 4,
  "nbformat_minor": 2
}